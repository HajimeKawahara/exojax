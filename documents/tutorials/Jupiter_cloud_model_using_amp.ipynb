{
 "cells": [
  {
   "cell_type": "markdown",
   "metadata": {},
   "source": [
    "# Jupiter-like Cloud Model and Reflection Spectrum "
   ]
  },
  {
   "cell_type": "code",
   "execution_count": 1,
   "metadata": {},
   "outputs": [],
   "source": [
    "import jax.numpy as jnp\n",
    "import matplotlib.pyplot as plt\n",
    "import numpy as np"
   ]
  },
  {
   "cell_type": "code",
   "execution_count": 2,
   "metadata": {},
   "outputs": [],
   "source": [
    "from exojax.utils.constants import kB, m_u\n",
    "from exojax.atm.atmprof import pressure_layer_logspace\n",
    "\n",
    "Parr, dParr, k = pressure_layer_logspace(log_pressure_top=-5., log_pressure_btm=4.0, nlayer=100)\n",
    "alpha = 0.097\n",
    "T0 = 200.\n",
    "Tarr = T0 * (Parr)**alpha\n",
    "\n",
    "mu = 2.0  # mean molecular weight\n",
    "R = kB / (mu * m_u)\n",
    "rho = Parr / (R * Tarr)\n",
    "\n",
    "g=1.e5\n"
   ]
  },
  {
   "cell_type": "code",
   "execution_count": 3,
   "metadata": {},
   "outputs": [],
   "source": [
    "from exojax.spec.pardb import PdbCloud\n",
    "from exojax.atm.atmphys import AmpAmcloud"
   ]
  },
  {
   "cell_type": "code",
   "execution_count": 4,
   "metadata": {},
   "outputs": [
    {
     "name": "stdout",
     "output_type": "stream",
     "text": [
      ".database/particulates/virga/virga.zip  exists. Remove it if you wanna re-download and unzip.\n",
      "Refractive index file found:  .database/particulates/virga/NH3.refrind\n"
     ]
    },
    {
     "name": "stderr",
     "output_type": "stream",
     "text": [
      "/home/kawahara/exojax/src/exojax/atm/atmphys.py:51: UserWarning: min temperature 65.4681396484375 K is smaller than min(vfactor t range) 179.10000610351562 K\n",
      "  warnings.warn(\n"
     ]
    }
   ],
   "source": [
    "pdb_nh3 = PdbCloud(\"NH3\")\n",
    "amp_nh3 = AmpAmcloud(pdb_nh3,bkgatm=\"H2\")\n",
    "amp_nh3.check_temperature_range(Tarr)"
   ]
  },
  {
   "cell_type": "code",
   "execution_count": 5,
   "metadata": {},
   "outputs": [
    {
     "name": "stdout",
     "output_type": "stream",
     "text": [
      "[9.99999975e-06 1.23284653e-05 1.51991208e-05 1.87381611e-05\n",
      " 2.31013037e-05 2.84803627e-05 3.51119561e-05 4.32876477e-05\n",
      " 5.33669663e-05 6.57933415e-05 8.11130958e-05 9.99999975e-05\n",
      " 1.23284641e-04 1.51991131e-04 1.87381840e-04 2.31012789e-04\n",
      " 2.84803449e-04 3.51119117e-04 4.32876259e-04 5.33670303e-04\n",
      " 6.57932775e-04 8.11130973e-04 1.00000005e-03 1.23284641e-03\n",
      " 1.51991134e-03 1.87381625e-03 2.31013051e-03 2.84803612e-03\n",
      " 3.51119135e-03 4.32875985e-03 5.33669908e-03 6.57933485e-03\n",
      " 8.11130088e-03 1.00000082e-02 1.23284655e-02 1.51991127e-02\n",
      " 1.87381841e-02 2.31012851e-02 2.84803677e-02 3.51119190e-02\n",
      " 4.32875976e-02 5.33669926e-02 6.57933429e-02 8.11130777e-02\n",
      " 9.99999791e-02 1.23284742e-01 1.51991040e-01 1.87381729e-01\n",
      " 2.31013045e-01 2.84803361e-01 3.51118922e-01 4.32875961e-01\n",
      " 5.33669889e-01 6.57933474e-01 8.11131001e-01 1.00000060e+00\n",
      " 1.23284650e+00 1.51991045e+00 1.87381732e+00 2.31013060e+00\n",
      " 2.84803700e+00 3.51119328e+00 4.32876015e+00 5.33669853e+00\n",
      " 6.57933140e+00 8.11130905e+00 1.00000048e+01 1.23284578e+01\n",
      " 1.51991043e+01 1.87381725e+01 2.31012955e+01 2.84803619e+01\n",
      " 3.51119308e+01 4.32875900e+01 5.33669624e+01 6.57933121e+01\n",
      " 8.11130981e+01 9.99999924e+01 1.23284714e+02 1.51991058e+02\n",
      " 1.87381622e+02 2.31012909e+02 2.84803619e+02 3.51119324e+02\n",
      " 4.32876465e+02 5.33669678e+02 6.57933105e+02 8.11131042e+02\n",
      " 9.99999939e+02 1.23284705e+03 1.51991223e+03 1.87381628e+03\n",
      " 2.31012915e+03 2.84803613e+03 3.51119141e+03 4.32876221e+03\n",
      " 5.33670264e+03 6.57932812e+03 8.11130518e+03 1.00000010e+04]\n",
      "[2.90567999e-19 1.26059161e-18 5.22652168e-18 2.07411204e-17\n",
      " 7.89003316e-17 2.88121407e-16 1.01139800e-15 3.41736713e-15\n",
      " 1.11284815e-14 3.49707480e-14 1.06171555e-13 3.11776538e-13\n",
      " 8.86537154e-13 2.44356250e-12 6.53550955e-12 1.69779329e-11\n",
      " 4.28811361e-11 1.05394721e-10 2.52308535e-10 5.88811833e-10\n",
      " 1.34062494e-09 2.98044522e-09 6.47475984e-09 1.37551517e-08\n",
      " 2.85967658e-08 5.82201274e-08 1.16152506e-07 2.27230188e-07\n",
      " 4.36165266e-07 8.21948504e-07 1.52161169e-06 2.76865308e-06\n",
      " 4.95418135e-06 8.72263172e-06 1.51183294e-05 2.58084929e-05\n",
      " 4.34133108e-05 7.19917152e-05 1.17742849e-04 1.90002422e-04\n",
      " 3.02648725e-04 4.76039306e-04 7.39667681e-04 1.13575079e-03\n",
      " 1.72400230e-03 2.58790329e-03 3.84291727e-03 5.64699387e-03\n",
      " 8.21392611e-03 1.18302368e-02 1.68760940e-02 2.38511842e-02\n",
      " 3.34061049e-02 4.63802665e-02 6.38474375e-02 8.71695951e-02\n",
      " 1.18059233e-01 1.58654079e-01 2.11599737e-01 2.80146748e-01\n",
      " 3.68259430e-01 4.80737895e-01 6.23353899e-01 8.03000033e-01\n",
      " 1.02785385e+00 1.30755508e+00 1.65339160e+00 2.07850766e+00\n",
      " 2.59811926e+00 3.22973084e+00 3.99336982e+00 4.91182137e+00\n",
      " 6.01087332e+00 7.31955099e+00 8.87040615e+00 1.06996460e+01\n",
      " 1.28474941e+01 1.53582973e+01 1.82808399e+01 2.16683712e+01\n",
      " 2.55789452e+01 3.00755348e+01 3.52259789e+01 4.11032829e+01\n",
      " 4.77855606e+01 5.53560982e+01 6.39033623e+01 7.35209045e+01\n",
      " 8.43071671e+01 9.63656693e+01 1.09804535e+02 1.24736542e+02\n",
      " 1.41278381e+02 1.59551346e+02 1.79679550e+02 2.01791351e+02\n",
      " 2.26017685e+02 2.52491440e+02 2.81348877e+02 3.12726776e+02]\n",
      "0.01\n"
     ]
    },
    {
     "ename": "AttributeError",
     "evalue": "'AmpAmcloud' object has no attribute 'rcond_arr'",
     "output_type": "error",
     "traceback": [
      "\u001b[0;31m---------------------------------------------------------------------------\u001b[0m",
      "\u001b[0;31mAttributeError\u001b[0m                            Traceback (most recent call last)",
      "\u001b[1;32m/home/kawahara/exojax/documents/tutorials/Jupiter_cloud_model_using_amp.ipynb Cell 6\u001b[0m line \u001b[0;36m1\n\u001b[0;32m----> <a href='vscode-notebook-cell:/home/kawahara/exojax/documents/tutorials/Jupiter_cloud_model_using_amp.ipynb#W5sZmlsZQ%3D%3D?line=0'>1</a>\u001b[0m amp_nh3\u001b[39m.\u001b[39;49mcalc_ammodel(Parr, Tarr, mu, g, fsed\u001b[39m=\u001b[39;49m\u001b[39m3.0\u001b[39;49m, sigmag\u001b[39m=\u001b[39;49m\u001b[39m2.0\u001b[39;49m, Kzz\u001b[39m=\u001b[39;49m\u001b[39m1.0e5\u001b[39;49m, VMR\u001b[39m=\u001b[39;49m\u001b[39m0.01\u001b[39;49m)\n",
      "File \u001b[0;32m~/exojax/src/exojax/atm/atmphys.py:108\u001b[0m, in \u001b[0;36mAmpAmcloud.calc_ammodel\u001b[0;34m(self, pressures, temperatures, mean_molecular_weight, gravity, fsed, sigmag, Kzz, VMR, alphav)\u001b[0m\n\u001b[1;32m    106\u001b[0m \u001b[39m# terminal velocity\u001b[39;00m\n\u001b[1;32m    107\u001b[0m vf_vmap \u001b[39m=\u001b[39m vmap(terminal_velocity, (\u001b[39mNone\u001b[39;00m, \u001b[39mNone\u001b[39;00m, \u001b[39m0\u001b[39m, \u001b[39m0\u001b[39m, \u001b[39m0\u001b[39m))\n\u001b[0;32m--> 108\u001b[0m vterminal \u001b[39m=\u001b[39m vf_vmap(\u001b[39mself\u001b[39;49m\u001b[39m.\u001b[39;49mrcond_arr, gravity, eta_dvisc, drho, rho)\n\u001b[1;32m    110\u001b[0m \u001b[39m# condensate size\u001b[39;00m\n\u001b[1;32m    111\u001b[0m vfind_rw \u001b[39m=\u001b[39m vmap(find_rw, (\u001b[39mNone\u001b[39;00m, \u001b[39m0\u001b[39m, \u001b[39mNone\u001b[39;00m), \u001b[39m0\u001b[39m)\n",
      "\u001b[0;31mAttributeError\u001b[0m: 'AmpAmcloud' object has no attribute 'rcond_arr'"
     ]
    }
   ],
   "source": [
    "amp_nh3.calc_ammodel(Parr, Tarr, mu, g, fsed=3.0, sigmag=2.0, Kzz=1.0e5, VMR=0.01)"
   ]
  },
  {
   "cell_type": "code",
   "execution_count": null,
   "metadata": {},
   "outputs": [],
   "source": []
  }
 ],
 "metadata": {
  "kernelspec": {
   "display_name": "base",
   "language": "python",
   "name": "python3"
  },
  "language_info": {
   "codemirror_mode": {
    "name": "ipython",
    "version": 3
   },
   "file_extension": ".py",
   "mimetype": "text/x-python",
   "name": "python",
   "nbconvert_exporter": "python",
   "pygments_lexer": "ipython3",
   "version": "3.10.9"
  }
 },
 "nbformat": 4,
 "nbformat_minor": 2
}
