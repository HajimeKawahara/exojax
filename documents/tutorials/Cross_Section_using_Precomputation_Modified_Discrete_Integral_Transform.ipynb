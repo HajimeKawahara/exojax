{
 "cells": [
  {
   "cell_type": "markdown",
   "id": "8c215975",
   "metadata": {},
   "source": [
    "# Cross Section for Many Lines using PreMODIT\n",
    "\n",
    "Update: October 30/2022, Hajime Kawahara\n",
    "\n",
    "We demonstarte the Precomputation of opacity version of Modified Discrete Integral Transform (PreMODIT), which is the modified version of MODIT for exojax. PreMODIT uses the evenly-spaced logarithm grid (ESLOG) as a wavenumber dimension. PreMODIT takes advantage especially for the case that the number of the molecular line is large (typically > 100,000). "
   ]
  },
  {
   "cell_type": "markdown",
   "id": "7fa8b651",
   "metadata": {},
   "source": [
    "Here, we use FP64, but if you want you can use FP32 (but slightly large errors):"
   ]
  },
  {
   "cell_type": "code",
   "execution_count": 1,
   "id": "dcaaed7e",
   "metadata": {
    "execution": {
     "iopub.execute_input": "2022-10-30T01:15:22.050366Z",
     "iopub.status.busy": "2022-10-30T01:15:22.044658Z",
     "iopub.status.idle": "2022-10-30T01:15:22.492354Z",
     "shell.execute_reply": "2022-10-30T01:15:22.492000Z"
    }
   },
   "outputs": [],
   "source": [
    "from jax.config import config\n",
    "config.update(\"jax_enable_x64\", True)"
   ]
  },
  {
   "cell_type": "code",
   "execution_count": 2,
   "id": "6fbc7d76",
   "metadata": {
    "execution": {
     "iopub.execute_input": "2022-10-30T01:15:22.847725Z",
     "iopub.status.busy": "2022-10-30T01:15:22.846654Z",
     "iopub.status.idle": "2022-10-30T01:15:25.172094Z",
     "shell.execute_reply": "2022-10-30T01:15:25.171825Z"
    }
   },
   "outputs": [
    {
     "name": "stderr",
     "output_type": "stream",
     "text": [
      "2023-03-15 08:31:41.511257: E external/org_tensorflow/tensorflow/stream_executor/cuda/cuda_driver.cc:265] failed call to cuInit: CUDA_ERROR_UNKNOWN: unknown error\n",
      "WARNING:absl:No GPU/TPU found, falling back to CPU. (Set TF_CPP_MIN_LOG_LEVEL=0 and rerun for more info.)\n"
     ]
    },
    {
     "name": "stdout",
     "output_type": "stream",
     "text": [
      "xsmode =  premodit\n",
      "xsmode assumes ESLOG in wavenumber space: mode=premodit\n"
     ]
    }
   ],
   "source": [
    "import matplotlib.pyplot as plt\n",
    "from exojax.spec.hitran import line_strength, doppler_sigma, gamma_hitran, gamma_natural\n",
    "from exojax.spec import api\n",
    "from exojax.utils.grids import wavenumber_grid\n",
    "\n",
    "# Setting wavenumber bins and loading HITRAN database\n",
    "nu_grid, wav, R = wavenumber_grid(1900.0,\n",
    "                              2300.0,\n",
    "                              350000,\n",
    "                              unit=\"cm-1\",\n",
    "                              xsmode=\"premodit\")\n",
    "isotope=1\n",
    "mdbCO = api.MdbHitran('CO', nu_grid, isotope=isotope)\n",
    "\n",
    "# set T, P and partition function\n",
    "Mmol = 28.01  # molecular weight\n",
    "Tfix = 1000.0  # we assume T=1000K\n",
    "Pfix = 1.e-3  # we compute P=1.e-3 bar\n",
    "Ppart = Pfix  #partial pressure of CO. here we assume a 100% CO atmosphere.\n"
   ]
  },
  {
   "cell_type": "markdown",
   "id": "d8a9c52a",
   "metadata": {},
   "source": [
    "We need to precompute some quantities. These can be computed using initspec.init_premodit. \n",
    "In PreMODIT, we need to specify (Twt and Tref). You might need to change dE to ensure the precision of the cross section.  "
   ]
  },
  {
   "cell_type": "code",
   "execution_count": 3,
   "id": "87f63886",
   "metadata": {
    "execution": {
     "iopub.execute_input": "2022-10-30T01:15:26.261031Z",
     "iopub.status.busy": "2022-10-30T01:15:26.260719Z",
     "iopub.status.idle": "2022-10-30T01:15:26.302138Z",
     "shell.execute_reply": "2022-10-30T01:15:26.302418Z"
    }
   },
   "outputs": [
    {
     "name": "stderr",
     "output_type": "stream",
     "text": [
      "uniqidx: 100%|██████████| 4/4 [00:00<00:00, 21236.98it/s]\n"
     ]
    },
    {
     "name": "stdout",
     "output_type": "stream",
     "text": [
      "Premodit: Twt= 1000.0 K Tref= 400.0 K\n",
      "Making LSD:|####################| 100%\n"
     ]
    }
   ],
   "source": [
    "from exojax.spec import initspec\n",
    "\n",
    "Twt = 1000.0\n",
    "Tref = 400.0\n",
    "dit_grid_resolution = 0.2\n",
    "lbd, multi_index_uniqgrid, elower_grid, ngamma_ref_grid, n_Texp_grid, R, pmarray = initspec.init_premodit(\n",
    "    mdbCO.nu_lines,\n",
    "    nu_grid,\n",
    "    mdbCO.elower,\n",
    "    mdbCO.gamma_air,\n",
    "    mdbCO.n_air,\n",
    "    mdbCO.line_strength_ref,\n",
    "    Twt=Twt,\n",
    "    Tref=Tref,\n",
    "    dit_grid_resolution=dit_grid_resolution,\n",
    "    diffmode=0,\n",
    "    warning=False)\n"
   ]
  },
  {
   "cell_type": "markdown",
   "id": "85bd5d53",
   "metadata": {},
   "source": [
    "Precompute the normalized Dopper width and the partition function ratio:"
   ]
  },
  {
   "cell_type": "code",
   "execution_count": 4,
   "id": "08c80693",
   "metadata": {},
   "outputs": [],
   "source": [
    "from exojax.spec import normalized_doppler_sigma\n",
    "\n",
    "molecular_mass = mdbCO.molmass\n",
    "nsigmaD = normalized_doppler_sigma(Tfix, molecular_mass, R)\n",
    "qt = mdbCO.qr_interp(isotope, Tfix)\n",
    "    "
   ]
  },
  {
   "cell_type": "markdown",
   "id": "e60eb1cb",
   "metadata": {},
   "source": [
    "Let's compute the cross section! The current PreMODIT has three different diffmode. We initialized PreMODIT with diffmode=0. Then, we should use xsvector_zeroth."
   ]
  },
  {
   "cell_type": "code",
   "execution_count": 5,
   "id": "48675923",
   "metadata": {
    "execution": {
     "iopub.execute_input": "2022-10-30T01:15:26.319340Z",
     "iopub.status.busy": "2022-10-30T01:15:26.314371Z",
     "iopub.status.idle": "2022-10-30T01:15:27.770011Z",
     "shell.execute_reply": "2022-10-30T01:15:27.770301Z"
    }
   },
   "outputs": [],
   "source": [
    "from exojax.spec.premodit import xsvector_zeroth\n",
    "\n",
    "xs = xsvector_zeroth(Tfix, Pfix, nsigmaD, lbd, Tref, R, pmarray, nu_grid,\n",
    "                   elower_grid, multi_index_uniqgrid, ngamma_ref_grid,\n",
    "                   n_Texp_grid, qt)\n",
    "    \n"
   ]
  },
  {
   "cell_type": "code",
   "execution_count": 6,
   "id": "8169def7",
   "metadata": {
    "execution": {
     "iopub.execute_input": "2022-10-30T01:15:36.227658Z",
     "iopub.status.busy": "2022-10-30T01:15:36.225225Z",
     "iopub.status.idle": "2022-10-30T01:15:36.616937Z",
     "shell.execute_reply": "2022-10-30T01:15:36.617280Z"
    }
   },
   "outputs": [
    {
     "data": {
      "image/png": "[encoded data removed]",
      "text/plain": [
       "<Figure size 720x360 with 1 Axes>"
      ]
     },
     "metadata": {
      "needs_background": "light"
     },
     "output_type": "display_data"
    }
   ],
   "source": [
    "fig=plt.figure(figsize=(10,5))\n",
    "ax=fig.add_subplot(111)\n",
    "plt.plot(nu_grid,xs,lw=1,alpha=0.5,label=\"PreMODIT\")\n",
    "plt.legend(loc=\"upper right\")\n",
    "plt.xlabel(\"wavenumber (cm-1)\")\n",
    "plt.ylabel(\"cross section (cm2)\")\n",
    "plt.show()"
   ]
  },
  {
   "cell_type": "code",
   "execution_count": null,
   "id": "785f3acf",
   "metadata": {},
   "outputs": [],
   "source": []
  }
 ],
 "metadata": {
  "kernelspec": {
   "display_name": "Python 3.8.8 ('base')",
   "language": "python",
   "name": "python3"
  },
  "language_info": {
   "codemirror_mode": {
    "name": "ipython",
    "version": 3
   },
   "file_extension": ".py",
   "mimetype": "text/x-python",
   "name": "python",
   "nbconvert_exporter": "python",
   "pygments_lexer": "ipython3",
   "version": "3.8.8"
  },
  "vscode": {
   "interpreter": {
    "hash": "72bc7f8b1808a6f5ada3c6a20601509b8b1843160436d276d47f2ba819b3753b"
   }
  }
 },
 "nbformat": 4,
 "nbformat_minor": 5
}
