{
 "cells": [
  {
   "cell_type": "markdown",
   "metadata": {},
   "source": [
    "# PreMODIT: The robust range of temperature as a function of dE  "
   ]
  },
  {
   "cell_type": "code",
   "execution_count": null,
   "metadata": {},
   "outputs": [],
   "source": [
    "from exojax.spec.lbderror import default_elower_grid_trange_file\n",
    "\n",
    "\n",
    "filename = default_elower_grid_trange_file()\n",
    "dat = np.load(filename)\n",
    "arr = dat[\"arr_0\"]\n",
    "Tarr = dat[\"arr_1\"]\n",
    "Twtarr = dat[\"arr_2\"]\n",
    "Trefarr = dat[\"arr_3\"]\n",
    "dEarr = dat[\"arr_4\"]\n"
   ]
  },
  {
   "cell_type": "code",
   "execution_count": null,
   "metadata": {},
   "outputs": [],
   "source": []
  },
  {
   "cell_type": "code",
   "execution_count": null,
   "metadata": {},
   "outputs": [],
   "source": []
  }
 ],
 "metadata": {
  "language_info": {
   "name": "python"
  }
 },
 "nbformat": 4,
 "nbformat_minor": 2
}
