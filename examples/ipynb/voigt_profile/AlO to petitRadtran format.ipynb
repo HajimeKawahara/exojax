{
 "cells": [
  {
   "cell_type": "code",
   "execution_count": 1,
   "metadata": {},
   "outputs": [],
   "source": [
    "import pandas as pd\n",
    "import numpy as np\n",
    "from tqdm import tqdm\n",
    "import glob\n",
    "outdir=\"/home/kawahara/petitRADTRANS/petitRADTRANS/input_data/opacities/lines/line_by_line/AlO_vis/\"\n",
    "indir=\"/home/kawahara/petitRADTRANS/petitRADTRANS/input_data/opacities/lines/line_by_line/AlO_vis/xsec/\"\n",
    "\n",
    "siglist=glob.glob(indir+'*.xsec')"
   ]
  },
  {
   "cell_type": "code",
   "execution_count": 3,
   "metadata": {},
   "outputs": [],
   "source": [
    "molmass=26.9815386+15.9994"
   ]
  },
  {
   "cell_type": "code",
   "execution_count": 4,
   "metadata": {},
   "outputs": [
    {
     "name": "stderr",
     "output_type": "stream",
     "text": [
      "  0%|          | 0/132 [00:00<?, ?it/s]/home/kawahara/anaconda3/lib/python3.7/site-packages/ipykernel_launcher.py:18: ParserWarning: Falling back to the 'python' engine because the 'c' engine does not support regex separators (separators > 1 char and different from '\\s+' are interpreted as regex); you can avoid this warning by specifying engine='python'.\n",
      "100%|██████████| 132/132 [04:02<00:00,  1.82s/it]\n"
     ]
    }
   ],
   "source": [
    "Tarr=[]\n",
    "Parr=[]\n",
    "f=open(outdir+\"PTpaths.ls\",\"w\")\n",
    "for i,fpath in enumerate(tqdm(siglist)):\n",
    "    tag=fpath.split(\"/\")[-1].split(\"_\")\n",
    "    T=tag[1].replace(\"T\",\"\")\n",
    "    Tval=float(tag[1].replace(\"T\",\"\"))\n",
    "    Tarr.append(Tval)\n",
    "    Pval=float(tag[2].replace(\"P\",\"\").replace(\".xsec\",\"\"))\n",
    "    Parr.append(Pval)\n",
    "    Pval=\"{:.6f}\".format(Pval)\n",
    "    P=str(Pval)+\"bar\"\n",
    "    out=\"AlO_\"+T+\".K_\"+P+\".dat\"\n",
    "    f.write(str(Pval)+\" \"+str(Tval)+\" \"+out+\"\\n\")  \n",
    "    \n",
    "    dat=pd.read_csv(fpath,names=(\"nu\",\"xsec\"),delimiter=\"  \")\n",
    "    if i==0: \n",
    "        nu=dat[\"nu\"].values\n",
    "        np.array(1.0/nu[::-1],dtype=np.float64).tofile(outdir+\"wlen.dat\")\n",
    "    \n",
    "    op=np.array(dat[\"xsec\"].values[::-1],dtype=np.float64)/(molmass*1.66053892e-24)\n",
    "    op.tofile(outdir+out)\n",
    "    \n",
    "Tarr=np.unique(np.array(Tarr))\n",
    "Parr=np.unique(np.array(Parr))\n",
    "f.close()"
   ]
  },
  {
   "cell_type": "code",
   "execution_count": null,
   "metadata": {},
   "outputs": [],
   "source": []
  }
 ],
 "metadata": {
  "kernelspec": {
   "display_name": "Python 3",
   "language": "python",
   "name": "python3"
  },
  "language_info": {
   "codemirror_mode": {
    "name": "ipython",
    "version": 3
   },
   "file_extension": ".py",
   "mimetype": "text/x-python",
   "name": "python",
   "nbconvert_exporter": "python",
   "pygments_lexer": "ipython3",
   "version": "3.7.3"
  }
 },
 "nbformat": 4,
 "nbformat_minor": 2
}
