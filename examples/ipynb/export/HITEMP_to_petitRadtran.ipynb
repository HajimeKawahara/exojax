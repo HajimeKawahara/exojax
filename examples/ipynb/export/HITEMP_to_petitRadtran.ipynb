{
 "cells": [
  {
   "cell_type": "markdown",
   "metadata": {},
   "source": [
    "## Computing CO cross section using HITEMP\n",
    "and covert to petitRadtran form"
   ]
  },
  {
   "cell_type": "markdown",
   "metadata": {},
   "source": [
    "This tutorial demonstrates how to compute the opacity of CO using HITEMP step by step."
   ]
  },
  {
   "cell_type": "code",
   "execution_count": 1,
   "metadata": {},
   "outputs": [
    {
     "name": "stderr",
     "output_type": "stream",
     "text": [
      "/home/kawahara/anaconda3/lib/python3.7/site-packages/statsmodels/tools/_testing.py:19: FutureWarning: pandas.util.testing is deprecated. Use the functions in the public API at pandas.testing instead.\n",
      "  import pandas.util.testing as tm\n"
     ]
    }
   ],
   "source": [
    "from exojax.spec import xsection\n",
    "from exojax.spec.hitran import SijT, doppler_sigma, gamma_hitran, gamma_natural\n",
    "from exojax.spec import moldb\n",
    "import numpy as np\n",
    "import seaborn as sns\n",
    "import matplotlib.pyplot as plt\n",
    "plt.style.use('bmh')"
   ]
  },
  {
   "cell_type": "markdown",
   "metadata": {},
   "source": [
    "First of all, set a wavenumber bin in the unit of wavenumber (cm-1).\n",
    "Here we set the wavenumber range as $1000 \\le \\nu \\le 10000$ (1/cm) with the resolution of 0.01 (1/cm). \n",
    "\n",
    "We call moldb instance with the path of par file.\n",
    "If the par file does not exist, moldb will try to download it from HITRAN website."
   ]
  },
  {
   "cell_type": "code",
   "execution_count": 2,
   "metadata": {},
   "outputs": [],
   "source": [
    "# Setting wavenumber bins and loading HITRAN database\n",
    "#nus=np.linspace(1000.0,10000.0,900000,dtype=np.float64) #cm-1\n",
    "ne=1.e8/22500.0\n",
    "ns=1.e8/24500.0\n",
    "nus=np.linspace(ns,ne,40000,dtype=np.float64)\n",
    "mdbCO=moldb.MdbHit('/home/kawahara/exojax/data/hitemp/CO/05_HITEMP2019.par',nus)"
   ]
  },
  {
   "cell_type": "markdown",
   "metadata": {},
   "source": [
    "Define molecular weight of CO ($\\sim 12+16=28$), temperature (K), and pressure (bar).\n",
    "Also, we here assume the 100 % CO atmosphere, i.e. the partial pressure = pressure.  "
   ]
  },
  {
   "cell_type": "code",
   "execution_count": 3,
   "metadata": {},
   "outputs": [
    {
     "name": "stderr",
     "output_type": "stream",
     "text": [
      "100%|██████████| 205/205 [00:02<00:00, 71.69it/s]\n",
      "100%|██████████| 205/205 [00:01<00:00, 113.24it/s]\n",
      "100%|██████████| 205/205 [00:01<00:00, 107.02it/s]\n",
      "100%|██████████| 205/205 [00:01<00:00, 104.86it/s]\n",
      "100%|██████████| 205/205 [00:01<00:00, 104.56it/s]\n",
      "100%|██████████| 205/205 [00:01<00:00, 103.89it/s]\n",
      "100%|██████████| 205/205 [00:01<00:00, 103.85it/s]\n",
      "100%|██████████| 205/205 [00:01<00:00, 103.97it/s]\n",
      "100%|██████████| 205/205 [00:01<00:00, 103.45it/s]\n",
      "100%|██████████| 205/205 [00:02<00:00, 95.38it/s]\n",
      "100%|██████████| 205/205 [00:02<00:00, 94.47it/s]\n",
      "100%|██████████| 205/205 [00:02<00:00, 94.33it/s]\n",
      "100%|██████████| 205/205 [00:02<00:00, 93.92it/s]\n",
      "100%|██████████| 205/205 [00:01<00:00, 103.89it/s]\n",
      "100%|██████████| 205/205 [00:01<00:00, 103.69it/s]\n",
      "100%|██████████| 205/205 [00:01<00:00, 103.37it/s]\n",
      "100%|██████████| 205/205 [00:01<00:00, 103.32it/s]\n",
      "100%|██████████| 205/205 [00:01<00:00, 103.93it/s]\n",
      "100%|██████████| 205/205 [00:01<00:00, 102.95it/s]\n",
      "100%|██████████| 205/205 [00:01<00:00, 103.62it/s]\n",
      "100%|██████████| 205/205 [00:01<00:00, 103.66it/s]\n",
      "100%|██████████| 205/205 [00:02<00:00, 102.06it/s]\n",
      "100%|██████████| 205/205 [00:02<00:00, 96.10it/s]\n",
      "100%|██████████| 205/205 [00:02<00:00, 93.89it/s]\n",
      "100%|██████████| 205/205 [00:02<00:00, 93.57it/s]\n",
      "100%|██████████| 205/205 [00:02<00:00, 93.84it/s]\n",
      "100%|██████████| 205/205 [00:01<00:00, 103.40it/s]\n",
      "100%|██████████| 205/205 [00:01<00:00, 102.86it/s]\n",
      "100%|██████████| 205/205 [00:01<00:00, 102.80it/s]\n",
      "100%|██████████| 205/205 [00:01<00:00, 103.10it/s]\n",
      "100%|██████████| 205/205 [00:01<00:00, 103.10it/s]\n",
      "100%|██████████| 205/205 [00:01<00:00, 103.44it/s]\n",
      "100%|██████████| 205/205 [00:01<00:00, 103.14it/s]\n",
      "100%|██████████| 205/205 [00:01<00:00, 102.95it/s]\n",
      "100%|██████████| 205/205 [00:01<00:00, 102.67it/s]\n",
      "100%|██████████| 205/205 [00:02<00:00, 99.01it/s]\n",
      "100%|██████████| 205/205 [00:02<00:00, 93.07it/s]\n",
      "100%|██████████| 205/205 [00:02<00:00, 93.17it/s]\n",
      "100%|██████████| 205/205 [00:02<00:00, 93.33it/s]\n",
      "100%|██████████| 205/205 [00:01<00:00, 102.54it/s]\n",
      "100%|██████████| 205/205 [00:02<00:00, 102.21it/s]\n",
      "100%|██████████| 205/205 [00:01<00:00, 103.13it/s]\n",
      "100%|██████████| 205/205 [00:01<00:00, 102.87it/s]\n",
      "100%|██████████| 205/205 [00:01<00:00, 102.76it/s]\n",
      "100%|██████████| 205/205 [00:01<00:00, 102.86it/s]\n",
      "100%|██████████| 205/205 [00:01<00:00, 102.73it/s]\n",
      "100%|██████████| 205/205 [00:01<00:00, 103.16it/s]\n",
      "100%|██████████| 205/205 [00:01<00:00, 103.09it/s]\n",
      "100%|██████████| 205/205 [00:02<00:00, 100.44it/s]\n",
      "100%|██████████| 205/205 [00:02<00:00, 93.57it/s]\n",
      "100%|██████████| 205/205 [00:02<00:00, 93.52it/s]\n",
      "100%|██████████| 205/205 [00:02<00:00, 92.49it/s]\n",
      "100%|██████████| 205/205 [00:02<00:00, 102.50it/s]\n",
      "100%|██████████| 205/205 [00:01<00:00, 103.39it/s]\n",
      "100%|██████████| 205/205 [00:02<00:00, 101.86it/s]\n",
      "100%|██████████| 205/205 [00:01<00:00, 103.11it/s]\n",
      "100%|██████████| 205/205 [00:01<00:00, 103.05it/s]\n",
      "100%|██████████| 205/205 [00:02<00:00, 102.05it/s]\n",
      "100%|██████████| 205/205 [00:02<00:00, 101.99it/s]\n",
      "100%|██████████| 205/205 [00:02<00:00, 102.39it/s]\n",
      "100%|██████████| 205/205 [00:02<00:00, 102.26it/s]\n",
      "100%|██████████| 205/205 [00:01<00:00, 102.71it/s]\n",
      "100%|██████████| 205/205 [00:02<00:00, 95.28it/s]\n",
      "100%|██████████| 205/205 [00:02<00:00, 92.64it/s]\n",
      "100%|██████████| 205/205 [00:02<00:00, 92.74it/s]\n",
      "100%|██████████| 205/205 [00:01<00:00, 102.78it/s]\n",
      "100%|██████████| 205/205 [00:02<00:00, 102.50it/s]\n",
      "100%|██████████| 205/205 [00:01<00:00, 102.76it/s]\n",
      "100%|██████████| 205/205 [00:01<00:00, 102.68it/s]\n",
      "100%|██████████| 205/205 [00:02<00:00, 102.36it/s]\n",
      "100%|██████████| 205/205 [00:01<00:00, 103.15it/s]\n",
      "100%|██████████| 205/205 [00:01<00:00, 102.61it/s]\n",
      "100%|██████████| 205/205 [00:01<00:00, 103.83it/s]\n",
      "100%|██████████| 205/205 [00:01<00:00, 103.01it/s]\n",
      "100%|██████████| 205/205 [00:01<00:00, 102.98it/s]\n",
      "100%|██████████| 205/205 [00:02<00:00, 96.70it/s]\n",
      "100%|██████████| 205/205 [00:02<00:00, 93.17it/s]\n",
      "100%|██████████| 205/205 [00:02<00:00, 92.36it/s]\n",
      "100%|██████████| 205/205 [00:02<00:00, 101.63it/s]\n",
      "100%|██████████| 205/205 [00:01<00:00, 102.62it/s]\n",
      "100%|██████████| 205/205 [00:02<00:00, 101.56it/s]\n",
      "100%|██████████| 205/205 [00:01<00:00, 102.50it/s]\n",
      "100%|██████████| 205/205 [00:02<00:00, 101.62it/s]\n",
      "100%|██████████| 205/205 [00:01<00:00, 102.70it/s]\n",
      "100%|██████████| 205/205 [00:02<00:00, 101.52it/s]\n",
      "100%|██████████| 205/205 [00:01<00:00, 102.51it/s]\n",
      "100%|██████████| 205/205 [00:02<00:00, 101.19it/s]\n",
      "100%|██████████| 205/205 [00:02<00:00, 102.39it/s]\n",
      "100%|██████████| 205/205 [00:02<00:00, 98.44it/s]\n",
      "100%|██████████| 205/205 [00:02<00:00, 92.98it/s]\n",
      "100%|██████████| 205/205 [00:02<00:00, 92.19it/s]\n",
      "100%|██████████| 205/205 [00:01<00:00, 103.23it/s]\n",
      "100%|██████████| 205/205 [00:02<00:00, 102.45it/s]\n",
      "100%|██████████| 205/205 [00:02<00:00, 101.23it/s]\n",
      "100%|██████████| 205/205 [00:01<00:00, 102.64it/s]\n",
      "100%|██████████| 205/205 [00:02<00:00, 101.90it/s]\n",
      "100%|██████████| 205/205 [00:02<00:00, 102.98it/s]\n",
      "100%|██████████| 205/205 [00:01<00:00, 102.75it/s]\n",
      "100%|██████████| 205/205 [00:02<00:00, 102.27it/s]\n",
      "100%|██████████| 205/205 [00:02<00:00, 101.09it/s]\n",
      "100%|██████████| 205/205 [00:01<00:00, 102.78it/s]\n",
      "100%|██████████| 205/205 [00:02<00:00, 101.09it/s]\n",
      "100%|██████████| 205/205 [00:02<00:00, 92.94it/s]\n",
      "100%|██████████| 205/205 [00:02<00:00, 92.69it/s]\n",
      "100%|██████████| 205/205 [00:01<00:00, 102.56it/s]\n",
      "100%|██████████| 205/205 [00:01<00:00, 102.54it/s]\n",
      "100%|██████████| 205/205 [00:01<00:00, 102.50it/s]\n",
      "100%|██████████| 205/205 [00:02<00:00, 102.31it/s]\n",
      "100%|██████████| 205/205 [00:01<00:00, 102.55it/s]\n",
      "100%|██████████| 205/205 [00:01<00:00, 102.57it/s]\n",
      "100%|██████████| 205/205 [00:02<00:00, 102.32it/s]\n",
      "100%|██████████| 205/205 [00:01<00:00, 102.63it/s]\n",
      "100%|██████████| 205/205 [00:01<00:00, 102.60it/s]\n",
      "100%|██████████| 205/205 [00:02<00:00, 101.98it/s]\n",
      "100%|██████████| 205/205 [00:02<00:00, 101.65it/s]\n",
      "100%|██████████| 205/205 [00:02<00:00, 95.35it/s]\n",
      "100%|██████████| 205/205 [00:02<00:00, 92.27it/s]\n",
      "100%|██████████| 205/205 [00:01<00:00, 102.59it/s]\n",
      "100%|██████████| 205/205 [00:02<00:00, 102.35it/s]\n",
      "100%|██████████| 205/205 [00:02<00:00, 102.24it/s]\n",
      "100%|██████████| 205/205 [00:02<00:00, 102.27it/s]\n",
      "100%|██████████| 205/205 [00:02<00:00, 102.19it/s]\n",
      "100%|██████████| 205/205 [00:02<00:00, 101.50it/s]\n",
      "100%|██████████| 205/205 [00:02<00:00, 102.49it/s]\n",
      "100%|██████████| 205/205 [00:01<00:00, 102.68it/s]\n",
      "100%|██████████| 205/205 [00:02<00:00, 101.97it/s]\n",
      "100%|██████████| 205/205 [00:02<00:00, 102.36it/s]\n",
      "100%|██████████| 205/205 [00:02<00:00, 102.06it/s]\n",
      "100%|██████████| 205/205 [00:02<00:00, 97.20it/s]\n",
      "100%|██████████| 205/205 [00:02<00:00, 92.76it/s]\n"
     ]
    }
   ],
   "source": [
    "outdir=\"/home/kawahara/petitRADTRANS/petitRADTRANS/input_data/opacities/lines/line_by_line/COej_HITEMP19/\"\n",
    "np.array(1.0/nus[::-1],dtype=np.float64).tofile(outdir+\"wlen.dat\")\n",
    "Mmol=28.010446441149536 # molecular weight\n",
    "\n",
    "Tarr=np.logspace(2,3.5,10)\n",
    "Parr=np.logspace(-10,2,13)\n",
    "nu0=mdbCO.nu_lines\n",
    "\n",
    "f=open(outdir+\"PTpaths.ls\",\"w\")\n",
    "for Tfix in Tarr:\n",
    "    qt=mdbCO.Qr_line(Tfix)\n",
    "    sigmaD=doppler_sigma(mdbCO.nu_lines,Tfix,Mmol)\n",
    "    for Pfix in Parr:\n",
    "        Ppart=Pfix #partial pressure of CO. here we assume a 100% CO atmosphere. \n",
    "\n",
    "        Sij=SijT(Tfix,mdbCO.logsij0,mdbCO.nu_lines,mdbCO.elower,qt)\n",
    "        gammaL = gamma_hitran(Pfix,Tfix, Ppart, mdbCO.n_air, \\\n",
    "                      mdbCO.gamma_air, mdbCO.gamma_self) + gamma_natural(mdbCO.A) \n",
    "        # thermal doppler sigma\n",
    "        xsv=xsection(nus,nu0,sigmaD,gammaL,Sij,memory_size=30)\n",
    "        Pval=\"{:.6f}\".format(Pfix)\n",
    "        P=str(Pval)+\"bar\"\n",
    "        out=\"sigma_05_\"+str(Tfix)+\".K_\"+P+\".dat\"\n",
    "        f.write(str(Pval)+\" \"+str(Tfix)+\" \"+out+\"\\n\")    \n",
    "        op=np.array(xsv[::-1],dtype=np.float64)/(Mmol*1.66053892e-24)\n",
    "        op.tofile(outdir+out)\n",
    "f.close()"
   ]
  },
  {
   "cell_type": "code",
   "execution_count": 30,
   "metadata": {},
   "outputs": [
    {
     "data": {
      "image/png": "[encoded data removed]",
      "text/plain": [
       "<Figure size 432x288 with 1 Axes>"
      ]
     },
     "metadata": {
      "needs_background": "light"
     },
     "output_type": "display_data"
    }
   ],
   "source": [
    "plt.plot(1.e7/nus,op)\n",
    "plt.yscale(\"log\")\n",
    "plt.xscale(\"log\")"
   ]
  },
  {
   "cell_type": "code",
   "execution_count": 20,
   "metadata": {},
   "outputs": [
    {
     "data": {
      "text/plain": [
       "array([1.e-10, 1.e-09, 1.e-08, 1.e-07, 1.e-06, 1.e-05, 1.e-04, 1.e-03,\n",
       "       1.e-02, 1.e-01, 1.e+00, 1.e+01, 1.e+02])"
      ]
     },
     "execution_count": 20,
     "metadata": {},
     "output_type": "execute_result"
    }
   ],
   "source": [
    "Parr"
   ]
  },
  {
   "cell_type": "code",
   "execution_count": 34,
   "metadata": {},
   "outputs": [
    {
     "data": {
      "text/plain": [
       "array([0.00011814, 0.00011814, 0.00011814, ..., 0.00055869, 0.00056027,\n",
       "       0.00056188])"
      ]
     },
     "execution_count": 34,
     "metadata": {},
     "output_type": "execute_result"
    }
   ],
   "source": [
    "1/nu0[::-1]"
   ]
  },
  {
   "cell_type": "code",
   "execution_count": 35,
   "metadata": {},
   "outputs": [
    {
     "data": {
      "text/plain": [
       "array([1779.7496  , 1784.8403  , 1789.9077  , ..., 8464.751378,\n",
       "       8464.86859 , 8464.881965])"
      ]
     },
     "execution_count": 35,
     "metadata": {},
     "output_type": "execute_result"
    }
   ],
   "source": [
    "nu0"
   ]
  },
  {
   "cell_type": "code",
   "execution_count": null,
   "metadata": {},
   "outputs": [],
   "source": []
  }
 ],
 "metadata": {
  "kernelspec": {
   "display_name": "Python 3",
   "language": "python",
   "name": "python3"
  },
  "language_info": {
   "codemirror_mode": {
    "name": "ipython",
    "version": 3
   },
   "file_extension": ".py",
   "mimetype": "text/x-python",
   "name": "python",
   "nbconvert_exporter": "python",
   "pygments_lexer": "ipython3",
   "version": "3.7.3"
  }
 },
 "nbformat": 4,
 "nbformat_minor": 2
}
