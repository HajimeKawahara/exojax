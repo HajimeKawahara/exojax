{
 "cells": [
  {
   "attachments": {},
   "cell_type": "markdown",
   "metadata": {},
   "source": [
    "# Computes Transmission Spectra (beta release)"
   ]
  },
  {
   "attachments": {},
   "cell_type": "markdown",
   "metadata": {},
   "source": []
  },
  {
   "cell_type": "code",
   "execution_count": null,
   "metadata": {},
   "outputs": [],
   "source": [
    "from jax.config import config\n",
    "import pandas as pd\n",
    "import numpy as np\n",
    "import jax.numpy as jnp\n",
    "from exojax.utils.grids import wavenumber_grid\n",
    "from exojax.spec.opacalc import OpaModit\n",
    "from exojax.spec.atmrt import ArtTransPure\n",
    "from exojax.utils.constants import RJ, Rs\n",
    "from exojax.spec.api import MdbHitran\n",
    "from exojax.spec.api import MdbHitemp\n",
    "from exojax.utils.astrofunc import gravity_jupiter\n",
    "    \n",
    "config.update(\"jax_enable_x64\", True)"
   ]
  },
  {
   "cell_type": "code",
   "execution_count": 1,
   "metadata": {},
   "outputs": [],
   "source": [
    "def read_kawashima_data(filename):\n",
    "    dat = pd.read_csv(filename, delimiter=\"   \")\n",
    "    wav = dat[\"Wavelength[um]\"]\n",
    "    mask = (wav > 2.25) & (wav < 2.6)\n",
    "    return wav[mask], dat[\"Rp/Rs\"][mask]\n"
   ]
  },
  {
   "cell_type": "code",
   "execution_count": null,
   "metadata": {},
   "outputs": [],
   "source": [
    "filename = \"/home/kawahara/exojax/tests/integration/comparison/transmission/spectrum/CO100percent_500K.dat\""
   ]
  }
 ],
 "metadata": {
  "kernelspec": {
   "display_name": "base",
   "language": "python",
   "name": "python3"
  },
  "language_info": {
   "codemirror_mode": {
    "name": "ipython",
    "version": 3
   },
   "file_extension": ".py",
   "mimetype": "text/x-python",
   "name": "python",
   "nbconvert_exporter": "python",
   "pygments_lexer": "ipython3",
   "version": "3.10.9"
  },
  "orig_nbformat": 4
 },
 "nbformat": 4,
 "nbformat_minor": 2
}
