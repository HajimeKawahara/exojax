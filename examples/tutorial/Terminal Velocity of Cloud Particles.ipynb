{
 "cells": [
  {
   "cell_type": "markdown",
   "metadata": {},
   "source": [
    "# Terminal velocity of Cloud particles"
   ]
  },
  {
   "cell_type": "markdown",
   "metadata": {},
   "source": [
    "Here, we compute a terminal velocity as a function of the condensate (cloud) radius."
   ]
  },
  {
   "cell_type": "code",
   "execution_count": 1,
   "metadata": {},
   "outputs": [],
   "source": [
    "import numpy as np\n",
    "import pandas as pd\n",
    "import matplotlib.pyplot as plt"
   ]
  },
  {
   "cell_type": "code",
   "execution_count": 2,
   "metadata": {},
   "outputs": [],
   "source": [
    "import exojax.atm.viscosity as vc\n",
    "import jax.numpy as jnp\n",
    "\n",
    "g=980.0 #gravity cm/s2\n",
    "drho=1.0 #condensate density g/cm3\n",
    "rho=1.29*1.e-3 #atmosphere density g/cm3\n",
    "vfactor,Tr=vc.calc_vfactor(atm=\"Air\") #we use Air\n",
    "eta=vc.eta_Rosner(300.0,vfactor) #dynamic viscosity at 300K\n",
    "r=jnp.logspace(-5,0,70) # radius array (cm)"
   ]
  },
  {
   "cell_type": "markdown",
   "metadata": {},
   "source": [
    "The terminal velocity of the cloud particle can be computed using atm.vterm.vf"
   ]
  },
  {
   "cell_type": "code",
   "execution_count": 3,
   "metadata": {},
   "outputs": [],
   "source": [
    "from exojax.atm.vterm import vf\n",
    "vterminal=vf(r,g,eta,drho,rho)"
   ]
  },
  {
   "cell_type": "code",
   "execution_count": 5,
   "metadata": {},
   "outputs": [
    {
     "data": {
      "image/png": "[encoded data removed]",
      "text/plain": [
       "<Figure size 432x288 with 1 Axes>"
      ]
     },
     "metadata": {
      "needs_background": "light"
     },
     "output_type": "display_data"
    }
   ],
   "source": [
    "plt.plot(r*1e4,vterminal)\n",
    "plt.xscale(\"log\")\n",
    "plt.yscale(\"log\")\n",
    "\n",
    "plt.xlabel(\"r (micron)\")\n",
    "plt.ylabel(\"terminal velocity (cm/s)\")\n",
    "plt.savefig(\"vterm.pdf\", bbox_inches=\"tight\", pad_inches=0.0)\n",
    "plt.savefig(\"vterm.png\", bbox_inches=\"tight\", pad_inches=0.0)\n",
    "plt.show()"
   ]
  },
  {
   "cell_type": "markdown",
   "metadata": {},
   "source": [
    "In the above figure, you see three regimes of the r dependence on the terminal velocity.\n",
    "For small r, the terminal velocity obeys the Stokes flow.\n",
    "In the mid - large r (i.e. medium and large Reynolds number Nre), exojax uses a phenomenological modeling as explained below."
   ]
  },
  {
   "cell_type": "markdown",
   "metadata": {},
   "source": [
    "We start from importing the the drag coefficients as Nre from Table 10.1 p381 in Pruppacher and Klett\n",
    " "
   ]
  },
  {
   "cell_type": "code",
   "execution_count": 6,
   "metadata": {},
   "outputs": [],
   "source": [
    "data = pd.read_csv(\"~/exojax/data/clouds/drag_force.txt\",comment=\"#\",delimiter=\",\")"
   ]
  },
  {
   "cell_type": "markdown",
   "metadata": {},
   "source": [
    "Let's fit logarithms of Davies number $N_D = C_d N_{re}^2$ and Reynolds number $N_{re}$ by a polynomial equation."
   ]
  },
  {
   "cell_type": "code",
   "execution_count": 7,
   "metadata": {},
   "outputs": [],
   "source": [
    "Nre=data[\"Nre\"].values\n",
    "logNre=np.log(Nre) #Reynolds number\n",
    "Cd=(data[\"Cd_rigid\"].values)\n",
    "logNd=np.log(Nre**2*Cd)\n",
    "\n",
    "Cdinf=0.45\n",
    "Nreinf=np.logspace(3,5,30)\n",
    "logNreinf=np.log(Nreinf)\n",
    "logNdinf=np.log(Nreinf**2*Cdinf)"
   ]
  },
  {
   "cell_type": "code",
   "execution_count": 8,
   "metadata": {},
   "outputs": [
    {
     "data": {
      "text/plain": [
       "array([-0.00883374,  0.84514511, -2.49105354])"
      ]
     },
     "execution_count": 8,
     "metadata": {},
     "output_type": "execute_result"
    }
   ],
   "source": [
    "coeff=np.polyfit(logNd,logNre,2)\n",
    "coeff"
   ]
  },
  {
   "cell_type": "markdown",
   "metadata": {},
   "source": [
    "These are the coefficient we use in exojax in the mid Nre regime.\n",
    "\n",
    "i.e.\n",
    "\n",
    "$\\log{N_{re}} = 0.0088 \\log^2{N_{D}} + 0.85 \\log{N_{D}} + 2.49$\n",
    "\n",
    "Davies number can be computed using the following function."
   ]
  },
  {
   "cell_type": "code",
   "execution_count": 17,
   "metadata": {},
   "outputs": [
    {
     "name": "stdout",
     "output_type": "stream",
     "text": [
      "Davies number= 400.34301797889896\n"
     ]
    }
   ],
   "source": [
    "from exojax.atm.vterm import Ndavies\n",
    "\n",
    "g=980.0 #gravity cm/s2\n",
    "drho=1.0 #condensate density g/cm3\n",
    "rho=1.29*1.e-3 #atmosphere density g/cm3\n",
    "vfactor,Tr=vc.calc_vfactor(atm=\"Air\") #we use Air\n",
    "eta=vc.eta_Rosner(300.0,vfactor) #dynamic viscosity at 300K\n",
    "r=0.01 #cm\n",
    "print(\"Davies number=\",Ndavies(r,g,eta,drho,rho))"
   ]
  },
  {
   "cell_type": "markdown",
   "metadata": {},
   "source": [
    "We would obtain a boundary  between the mid Nre regime and the Stokes flow."
   ]
  },
  {
   "cell_type": "code",
   "execution_count": 18,
   "metadata": {},
   "outputs": [],
   "source": [
    "#boundary between the Stokes flow and the mid Nre regime\n",
    "#-0.00883374*xarr**2+(0.84514511-1)*xarr-2.49105354 +log(24) = 0\n",
    "a=-0.0088 #coeff[0]\n",
    "b=0.85-1 #coeff[1]-1\n",
    "c=-2.49+np.log(24.) #coeff[2]+np.log(24.)\n",
    "logNdc=(-b-np.sqrt(b*b-4*a*c))/(2*a)\n",
    "Ndc=np.exp(logNdc)   #boundary for Davies number\n",
    "Nrec=np.exp(logNdc-np.log(24.)) #boundary for Reynolds number"
   ]
  },
  {
   "cell_type": "code",
   "execution_count": 19,
   "metadata": {},
   "outputs": [
    {
     "data": {
      "text/plain": [
       "(3.7583482270854875, 42.87754348901474, 1.7865643120422807)"
      ]
     },
     "execution_count": 19,
     "metadata": {},
     "output_type": "execute_result"
    }
   ],
   "source": [
    "logNdc, Ndc, Nrec"
   ]
  },
  {
   "cell_type": "markdown",
   "metadata": {},
   "source": [
    "Also, for large Nre, we assume Cd=0.45 following Akerman and Marley 2001. "
   ]
  },
  {
   "cell_type": "code",
   "execution_count": 12,
   "metadata": {},
   "outputs": [],
   "source": [
    "#boundary between the mid and large Nre regime\n",
    "#-0.00883374*xarr**2+(0.84514511-0.5)*xarr-2.49105354 +0.5*log(0.45) = 0\n",
    "a=-0.0088 #coeff[0]\n",
    "b=0.85-0.5 #coeff[1]-0.5\n",
    "c=-2.49+0.5*np.log(0.45) #coeff[2]+0.5*np.log(0.45)\n",
    "logNde=(-b+np.sqrt(b*b-4*a*c))/(2*a)\n",
    "Nde=np.exp(logNde)\n",
    "Nree=np.exp(0.5*logNde-0.5*np.log(0.45))"
   ]
  },
  {
   "cell_type": "code",
   "execution_count": 13,
   "metadata": {},
   "outputs": [
    {
     "data": {
      "text/plain": [
       "(11.692270778931425, 119643.38181447262, 515.629888398587)"
      ]
     },
     "execution_count": 13,
     "metadata": {},
     "output_type": "execute_result"
    }
   ],
   "source": [
    "logNde, Nde, Nree"
   ]
  },
  {
   "cell_type": "markdown",
   "metadata": {},
   "source": [
    "The following figure shows Davies number - Reynolds number relation we assume in exojax."
   ]
  },
  {
   "cell_type": "code",
   "execution_count": 22,
   "metadata": {},
   "outputs": [
    {
     "data": {
      "image/png": "[encoded data removed]",
      "text/plain": [
       "<Figure size 504x288 with 1 Axes>"
      ]
     },
     "metadata": {
      "needs_background": "light"
     },
     "output_type": "display_data"
    }
   ],
   "source": [
    "plt.figure(figsize=(7,4))\n",
    "plt.plot(logNd,logNre,\".\",label=\"Table 10.1 in Pruppacher and Klett\")\n",
    "\n",
    "xarr=np.linspace(1,logNdc,100)\n",
    "plt.plot(xarr,xarr - np.log(24.),alpha=0.5,label=\"Stokes flow: $f(x)=x-\\log{24}$\")\n",
    "xarr=np.linspace(logNdc,logNde,100)\n",
    "plt.plot(xarr,-0.0088*xarr**2+0.85*xarr-2.49,alpha=0.5,label=\"$f(x)=-0.0088 x^2+0.85 x-2.49$\")\n",
    "plt.plot(xarr,-2.7905+0.9209*xarr-0.0135*xarr**2,label=\"petitRadtrans\",ls=\"dotted\",alpha=0.5)\n",
    "plt.plot(xarr,0.8*xarr-0.01*xarr**2,label=\"$y=0.8x-0.01x^2$ (AM01)\",alpha=0.5)\n",
    "\n",
    "xarr=np.linspace(logNde,15,100)\n",
    "plt.plot(xarr,0.5*(xarr-np.log(0.45)) ,alpha=0.5,label=\"$f(x)=0.5(x+\\\\log{0.45})$  \")\n",
    "plt.xlabel(\"$\\\\log{N_d}$\",fontsize=13)\n",
    "plt.ylabel(\"$\\\\log{N_{re}}$\",fontsize=13)\n",
    "plt.legend(loc=\"lower right\")\n",
    "plt.savefig(\"davies_reynolds.png\")"
   ]
  },
  {
   "cell_type": "markdown",
   "metadata": {},
   "source": [
    "Notice that there is a typo (?) in Akerman and Marley (2001), tagged by \"AM01\". \n",
    "\n",
    "Using this relation, we can compute the Reynolds number, then we can also compute the terminal velocity using\n",
    "\n",
    "$v_f(r) = \\frac{2}{9 \\eta}  g r^2 (\\rho_c - \\rho) \\left( \\frac{C_d N_{re}}{24} \\right)^{-1}$. \n"
   ]
  },
  {
   "cell_type": "markdown",
   "metadata": {},
   "source": [
    "That's how exojax compute the terminal velocity in exojax.atm.vterm "
   ]
  },
  {
   "cell_type": "code",
   "execution_count": null,
   "metadata": {},
   "outputs": [],
   "source": []
  }
 ],
 "metadata": {
  "kernelspec": {
   "display_name": "Python 3 (ipykernel)",
   "language": "python",
   "name": "python3"
  },
  "language_info": {
   "codemirror_mode": {
    "name": "ipython",
    "version": 3
   },
   "file_extension": ".py",
   "mimetype": "text/x-python",
   "name": "python",
   "nbconvert_exporter": "python",
   "pygments_lexer": "ipython3",
   "version": "3.8.8"
  }
 },
 "nbformat": 4,
 "nbformat_minor": 2
}
