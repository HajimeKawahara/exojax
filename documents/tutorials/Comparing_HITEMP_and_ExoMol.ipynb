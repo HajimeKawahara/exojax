{
 "cells": [
  {
   "cell_type": "markdown",
   "metadata": {},
   "source": [
    "## Comparing HITEMP and ExoMol"
   ]
  },
  {
   "cell_type": "code",
   "execution_count": 1,
   "metadata": {
    "execution": {
     "iopub.execute_input": "2024-01-16T23:36:28.880050Z",
     "iopub.status.busy": "2024-01-16T23:36:28.879445Z",
     "iopub.status.idle": "2024-01-16T23:36:31.047742Z",
     "shell.execute_reply": "2024-01-16T23:36:31.047085Z"
    }
   },
   "outputs": [],
   "source": [
    "from exojax.spec.lpf import auto_xsection\n",
    "from exojax.spec.hitran import line_strength, doppler_sigma, gamma_hitran, gamma_natural\n",
    "from exojax.spec.exomol import gamma_exomol\n",
    "from exojax.spec import api \n",
    "import numpy as np\n",
    "import matplotlib.pyplot as plt"
   ]
  },
  {
   "cell_type": "markdown",
   "metadata": {},
   "source": [
    "First of all, set a wavenumber bin in the unit of wavenumber (cm-1).\n",
    "Here we set the wavenumber range as $1000 \\le \\nu \\le 10000$ (1/cm) with the resolution of 0.01 (1/cm). \n",
    "\n",
    "We call moldb instance with the path of par file.\n",
    "If the par file does not exist, moldb will try to download it from HITRAN website."
   ]
  },
  {
   "cell_type": "code",
   "execution_count": 2,
   "metadata": {
    "execution": {
     "iopub.execute_input": "2024-01-16T23:36:31.049585Z",
     "iopub.status.busy": "2024-01-16T23:36:31.049459Z",
     "iopub.status.idle": "2024-01-16T23:36:31.051818Z",
     "shell.execute_reply": "2024-01-16T23:36:31.051536Z"
    }
   },
   "outputs": [],
   "source": [
    "# Setting wavenumber bins and loading HITEMP database\n",
    "wav=np.linspace(22930.0,23000.0,4000,dtype=np.float64) #AA\n",
    "nus=1.e8/wav[::-1] #cm-1"
   ]
  },
  {
   "cell_type": "code",
   "execution_count": 3,
   "metadata": {
    "execution": {
     "iopub.execute_input": "2024-01-16T23:36:31.053272Z",
     "iopub.status.busy": "2024-01-16T23:36:31.053158Z",
     "iopub.status.idle": "2024-01-16T23:36:32.624945Z",
     "shell.execute_reply": "2024-01-16T23:36:32.624298Z"
    }
   },
   "outputs": [],
   "source": [
    "mdbCO_HITEMP=api.MdbHitemp('CO',nus, isotope=1, gpu_transfer=True) # we use istope=1 for comparison"
   ]
  },
  {
   "cell_type": "code",
   "execution_count": 4,
   "metadata": {
    "execution": {
     "iopub.execute_input": "2024-01-16T23:36:32.626790Z",
     "iopub.status.busy": "2024-01-16T23:36:32.626628Z",
     "iopub.status.idle": "2024-01-16T23:36:33.569069Z",
     "shell.execute_reply": "2024-01-16T23:36:33.568614Z"
    }
   },
   "outputs": [
    {
     "name": "stderr",
     "output_type": "stream",
     "text": [
      "/home/kawahara/exojax/src/exojax/utils/molname.py:178: FutureWarning: e2s will be replaced to exact_molname_exomol_to_simple_molname.\n",
      "  warnings.warn(\n"
     ]
    },
    {
     "name": "stdout",
     "output_type": "stream",
     "text": [
      "HITRAN exact name= (12C)(16O)\n",
      "Molecule:  CO\n",
      "Isotopologue:  12C-16O\n",
      "Background atmosphere:  H2\n",
      "ExoMol database:  None\n",
      "Local folder:  CO/12C-16O/Li2015\n",
      "Transition files: \n",
      "\t => File 12C-16O__Li2015.trans\n",
      "#        i_upper    i_lower    A          nu_lines      gup    jlower    jupper    elower      Sij0\n",
      "0        84         42         1.155e-06  2.405586      3      0         1         66960.7124  3.811968898414225e-164\n",
      "1        83         41         1.161e-06  2.441775      3      0         1         65819.903   9.663028103692631e-162\n",
      "2        82         40         1.162e-06  2.477774      3      0         1         64654.9206  2.7438392479197905e-159\n",
      "3        81         39         1.159e-06  2.513606      3      0         1         63465.8042  8.73322833971394e-157\n",
      "4        80         38         1.152e-06  2.549292      3      0         1         62252.5793  3.115220404216648e-154\n",
      "...      ...        ...        ...        ...           ...    ...       ...       ...         ...\n",
      "125,491  306        253        7.164e-10  22147.135424  15     6         7         80.7354     1.8282485593637477e-31\n",
      "125,492  474        421        9.852e-10  22147.86595   23     10        11        211.4041    2.0425455665383687e-31\n",
      "125,493  348        295        7.72e-10   22147.897299  17     7         8         107.6424    1.9589545250222689e-31\n",
      "125,494  432        379        9.056e-10  22148.262711  21     9         10        172.978     2.0662209116961706e-31\n",
      "125,495  390        337        8.348e-10  22148.273111  19     8         9         138.3903    2.0387827253771594e-31\n",
      "Broadening code level: a0\n"
     ]
    },
    {
     "name": "stderr",
     "output_type": "stream",
     "text": [
      "/home/kawahara/anaconda3/lib/python3.10/site-packages/radis-0.15-py3.10-linux-x86_64.egg/radis/api/exomolapi.py:607: AccuracyWarning: The default broadening parameter (alpha = 0.07 cm^-1 and n = 0.5) are used for J'' > 80 up to J'' = 152\n",
      "  warnings.warn(\n"
     ]
    }
   ],
   "source": [
    "emf='CO/12C-16O/Li2015' #this is isotope=1 12C-16O\n",
    "mdbCO_Li2015=api.MdbExomol(emf,nus, gpu_transfer = True)"
   ]
  },
  {
   "cell_type": "markdown",
   "metadata": {},
   "source": [
    "Define molecular weight of CO ($\\sim 12+16=28$), temperature (K), and pressure (bar).\n",
    "Also, we here assume the 100 % CO atmosphere, i.e. the partial pressure = pressure.  "
   ]
  },
  {
   "cell_type": "code",
   "execution_count": 5,
   "metadata": {
    "execution": {
     "iopub.execute_input": "2024-01-16T23:36:33.570868Z",
     "iopub.status.busy": "2024-01-16T23:36:33.570719Z",
     "iopub.status.idle": "2024-01-16T23:36:33.579479Z",
     "shell.execute_reply": "2024-01-16T23:36:33.578884Z"
    }
   },
   "outputs": [],
   "source": [
    "from exojax.spec import molinfo\n",
    "molecular_mass=molinfo.molmass(\"CO\") # molecular weight\n",
    "Tfix=1300.0 # we assume T=1300K\n",
    "Pfix=0.99 # we compute P=1 bar=0.99+0.1\n",
    "Ppart=0.01 #partial pressure of CO. here we assume a 1% CO atmosphere (very few). "
   ]
  },
  {
   "cell_type": "markdown",
   "metadata": {},
   "source": [
    "partition function ratio $q(T)$ is defined by \n",
    "\n",
    "$q(T) = Q(T)/Q(T_{ref})$; $T_{ref}$=296 K\n",
    "\n",
    "Here, we use the partition function from HAPI"
   ]
  },
  {
   "cell_type": "code",
   "execution_count": 6,
   "metadata": {
    "execution": {
     "iopub.execute_input": "2024-01-16T23:36:33.581042Z",
     "iopub.status.busy": "2024-01-16T23:36:33.580917Z",
     "iopub.status.idle": "2024-01-16T23:36:33.880949Z",
     "shell.execute_reply": "2024-01-16T23:36:33.880284Z"
    }
   },
   "outputs": [],
   "source": [
    "#mdbCO_HITEMP.ExomolQT(emf) #use Q(T) from Exomol/Li2015\n",
    "qt_HITEMP=mdbCO_HITEMP.qr_interp(1,Tfix)\n",
    "qt_Li2015=mdbCO_Li2015.qr_interp(Tfix)"
   ]
  },
  {
   "cell_type": "markdown",
   "metadata": {},
   "source": [
    "Let us compute the line strength S(T) at temperature of Tfix.\n",
    "\n",
    "$S (T;s_0,\\nu_0,E_l,q(T)) = S_0 \\frac{Q(T_{ref})}{Q(T)} \\frac{e^{- h c E_l /k_B T}}{e^{- h c E_l /k_B T_{ref}}} \\frac{1- e^{- h c \\nu /k_B T}}{1-e^{- h c \\nu /k_B T_{ref}}}= q_r(T)^{-1} e^{ s_0 - c_2 E_l (T^{-1} - T_{ref}^{-1})}  \\frac{1- e^{- c_2 \\nu_0/ T}}{1-e^{- c_2 \\nu_0/T_{ref}}}$\n",
    "\n",
    "$s_0=\\log_{e} S_0$ : logsij0\n",
    "\n",
    "$\\nu_0$: nu_lines\n",
    "\n",
    "$E_l$ : elower\n",
    "\n",
    "Why the input is $s_0 = \\log_{e} S_0$ instead of $S_0$ in SijT? This is because the direct value of $S_0$ is quite small and we need to use float32 for jax.  "
   ]
  },
  {
   "cell_type": "code",
   "execution_count": 7,
   "metadata": {
    "execution": {
     "iopub.execute_input": "2024-01-16T23:36:33.882875Z",
     "iopub.status.busy": "2024-01-16T23:36:33.882739Z",
     "iopub.status.idle": "2024-01-16T23:36:33.941035Z",
     "shell.execute_reply": "2024-01-16T23:36:33.940527Z"
    }
   },
   "outputs": [],
   "source": [
    "Sij_HITEMP=line_strength(Tfix,mdbCO_HITEMP.logsij0,mdbCO_HITEMP.nu_lines,\\\n",
    "         mdbCO_HITEMP.elower,qt_HITEMP,mdbCO_HITEMP.Tref)\n",
    "Sij_Li2015=line_strength(Tfix,mdbCO_Li2015.logsij0,mdbCO_Li2015.nu_lines,\\\n",
    "                mdbCO_Li2015.elower,qt_Li2015,mdbCO_Li2015.Tref)"
   ]
  },
  {
   "cell_type": "markdown",
   "metadata": {},
   "source": [
    "Then, compute the Lorentz gamma factor (pressure+natural broadening)\n",
    "\n",
    "$\\gamma_L = \\gamma^p_L + \\gamma^n_L$\n",
    "\n",
    "where the pressure broadning (HITEMP)\n",
    "\n",
    "$\\gamma^p_L = (T/296K)^{-n_{air}} [ \\alpha_{air} ( P - P_{part})/P_{atm} + \\alpha_{self} P_{part}/P_{atm}]$\n",
    "\n",
    "$P_{atm}$: 1 atm in the unit of bar (i.e. = 1.01325)\n",
    "\n",
    "or \n",
    "\n",
    "the pressure broadning (ExoMol)\n",
    "\n",
    "$\\gamma^p_L = \\alpha_{ref}  ( T/T_{ref} )^{-n_{texp}} ( P/P_{ref}), $\n",
    "\n",
    "\n",
    "and the natural broadening\n",
    "\n",
    "$\\gamma^n_L = \\frac{A}{4 \\pi c}$"
   ]
  },
  {
   "cell_type": "code",
   "execution_count": 8,
   "metadata": {
    "execution": {
     "iopub.execute_input": "2024-01-16T23:36:33.942835Z",
     "iopub.status.busy": "2024-01-16T23:36:33.942699Z",
     "iopub.status.idle": "2024-01-16T23:36:34.161350Z",
     "shell.execute_reply": "2024-01-16T23:36:34.160719Z"
    }
   },
   "outputs": [],
   "source": [
    "gammaL_HITEMP = gamma_hitran(Pfix,Tfix, Ppart, mdbCO_HITEMP.n_air, \\\n",
    "                      mdbCO_HITEMP.gamma_air, mdbCO_HITEMP.gamma_self) \\\n",
    "+ gamma_natural(mdbCO_HITEMP.A) \n",
    "\n",
    "gammaL_Li2015 = gamma_exomol(Pfix,Tfix,mdbCO_Li2015.n_Texp,mdbCO_Li2015.alpha_ref)\\\n",
    "+ gamma_natural(mdbCO_Li2015.A) "
   ]
  },
  {
   "cell_type": "markdown",
   "metadata": {},
   "source": [
    "Thermal broadening\n",
    "\n",
    "$\\sigma_D^{t} = \\sqrt{\\frac{k_B T}{M m_u}} \\frac{\\nu_0}{c}$"
   ]
  },
  {
   "cell_type": "code",
   "execution_count": 9,
   "metadata": {
    "execution": {
     "iopub.execute_input": "2024-01-16T23:36:34.163292Z",
     "iopub.status.busy": "2024-01-16T23:36:34.163153Z",
     "iopub.status.idle": "2024-01-16T23:36:34.209319Z",
     "shell.execute_reply": "2024-01-16T23:36:34.208664Z"
    }
   },
   "outputs": [],
   "source": [
    "# thermal doppler sigma\n",
    "sigmaD_HITEMP=doppler_sigma(mdbCO_HITEMP.nu_lines,Tfix,molecular_mass)\n",
    "sigmaD_Li2015=doppler_sigma(mdbCO_Li2015.nu_lines,Tfix,molecular_mass)"
   ]
  },
  {
   "cell_type": "markdown",
   "metadata": {},
   "source": [
    "Then, the line center...\n",
    "\n",
    "In HITRAN database, a slight pressure shift can be included using $\\delta_{air}$:\n",
    "$\\nu_0(P) = \\nu_0 + \\delta_{air} P$. But this shift is quite a bit. "
   ]
  },
  {
   "cell_type": "code",
   "execution_count": 10,
   "metadata": {
    "execution": {
     "iopub.execute_input": "2024-01-16T23:36:34.211118Z",
     "iopub.status.busy": "2024-01-16T23:36:34.210987Z",
     "iopub.status.idle": "2024-01-16T23:36:34.213095Z",
     "shell.execute_reply": "2024-01-16T23:36:34.212803Z"
    }
   },
   "outputs": [],
   "source": [
    "#line center\n",
    "nu0_HITEMP=mdbCO_HITEMP.nu_lines\n",
    "nu0_Li2015=mdbCO_Li2015.nu_lines"
   ]
  },
  {
   "cell_type": "markdown",
   "metadata": {},
   "source": [
    "We use Direct LFP."
   ]
  },
  {
   "cell_type": "code",
   "execution_count": 11,
   "metadata": {
    "execution": {
     "iopub.execute_input": "2024-01-16T23:36:34.214579Z",
     "iopub.status.busy": "2024-01-16T23:36:34.214457Z",
     "iopub.status.idle": "2024-01-16T23:36:34.477344Z",
     "shell.execute_reply": "2024-01-16T23:36:34.476657Z"
    }
   },
   "outputs": [],
   "source": [
    "from exojax.spec.initspec import init_lpf\n",
    "from exojax.spec.lpf import xsvector\n",
    "\n",
    "numatrix_HITEMP = init_lpf(mdbCO_HITEMP.nu_lines, nus)\n",
    "xsv_HITEMP=xsvector(numatrix_HITEMP, sigmaD_HITEMP, gammaL_HITEMP, Sij_HITEMP)\n",
    "\n",
    "numatrix_Li2015 = init_lpf(mdbCO_Li2015.nu_lines, nus)\n",
    "xsv_Li2015=xsvector(numatrix_Li2015, sigmaD_Li2015, gammaL_Li2015, Sij_Li2015)\n"
   ]
  },
  {
   "cell_type": "code",
   "execution_count": 12,
   "metadata": {
    "execution": {
     "iopub.execute_input": "2024-01-16T23:36:34.479190Z",
     "iopub.status.busy": "2024-01-16T23:36:34.479058Z",
     "iopub.status.idle": "2024-01-16T23:36:35.371241Z",
     "shell.execute_reply": "2024-01-16T23:36:35.370783Z"
    }
   },
   "outputs": [
    {
     "data": {
      "image/png": "[encoded data removed]",
      "text/plain": [
       "<Figure size 1000x400 with 1 Axes>"
      ]
     },
     "metadata": {},
     "output_type": "display_data"
    }
   ],
   "source": [
    "fig=plt.figure(figsize=(10,4))\n",
    "ax=fig.add_subplot(111)\n",
    "plt.plot(wav[::-1],xsv_HITEMP,lw=2,label=\"HITEMP2019\")\n",
    "plt.plot(wav[::-1],xsv_Li2015,lw=2,ls=\"dashed\",label=\"Exomol w/ .broad\")\n",
    "plt.xlim(22970,22976)\n",
    "plt.xlabel(\"wavelength ($\\AA$)\",fontsize=14)\n",
    "plt.ylabel(\"cross section ($cm^{2}$)\",fontsize=14)\n",
    "plt.legend(loc=\"upper left\",fontsize=14)\n",
    "plt.tick_params(labelsize=12)\n",
    "plt.savefig(\"co_comparison.pdf\", bbox_inches=\"tight\", pad_inches=0.0)\n",
    "plt.savefig(\"co_comparison.png\", bbox_inches=\"tight\", pad_inches=0.0)\n",
    "plt.title(\"T=1300K,P=1bar\")\n",
    "plt.show()"
   ]
  },
  {
   "cell_type": "code",
   "execution_count": null,
   "metadata": {},
   "outputs": [],
   "source": []
  }
 ],
 "metadata": {
  "kernelspec": {
   "display_name": "Python 3.8.8 ('base')",
   "language": "python",
   "name": "python3"
  },
  "language_info": {
   "codemirror_mode": {
    "name": "ipython",
    "version": 3
   },
   "file_extension": ".py",
   "mimetype": "text/x-python",
   "name": "python",
   "nbconvert_exporter": "python",
   "pygments_lexer": "ipython3",
   "version": "3.10.9"
  },
  "vscode": {
   "interpreter": {
    "hash": "72bc7f8b1808a6f5ada3c6a20601509b8b1843160436d276d47f2ba819b3753b"
   }
  }
 },
 "nbformat": 4,
 "nbformat_minor": 2
}
