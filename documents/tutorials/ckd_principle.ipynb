{
 "cells": [
  {
   "cell_type": "markdown",
   "id": "f4a9cdff",
   "metadata": {},
   "source": [
    "# Correlated-k Distribution"
   ]
  },
  {
   "cell_type": "code",
   "id": "c2646627",
   "metadata": {},
   "outputs": [],
   "source": "from exojax.test.emulate_mdb import mock_mdbExomol, mock_wavenumber_grid\nfrom exojax.opacity.premodit.api import OpaPremodit\nfrom exojax.opacity.ckd.api import OpaCKD\nfrom exojax.opacity.ckd.core import compute_g_ordinates\nimport jax.numpy as jnp\nimport matplotlib.pyplot as plt\nfrom jax import config\n\nconfig.update(\"jax_enable_x64\", True)\n\nnus, wav, res = mock_wavenumber_grid(lambda0=22930.0, lambda1=22940.0, Nx=20000)\nmdb = mock_mdbExomol(\"H2O\")\nopa = OpaPremodit(mdb, nus, auto_trange=[500.0, 1500.0])"
  },
  {
   "cell_type": "code",
   "id": "76b5a0d9",
   "metadata": {},
   "outputs": [],
   "source": "def sample_g(nus, xsv, j_pickup, Ng=10):\n    idx, k_g, g = compute_g_ordinates(xsv)\n    \n    edges = jnp.linspace(0.0, 1.0, Ng + 1)\n    cut_idx = jnp.searchsorted(g, edges)\n    \n    nus_segments = [nus[idx[cut_idx[i]:cut_idx[i+1]]] for i in range(Ng)]\n    xsv_segments = [xsv[idx[cut_idx[i]:cut_idx[i+1]]] for i in range(Ng)]\n    \n    k_low = k_g[cut_idx[j_pickup]]\n    k_high = k_g[cut_idx[j_pickup+1]-1]\n    k_med = (k_low + k_high) * 0.5\n    mask = (xsv >= k_low) & (xsv < k_high)\n    \n    return {\n        'k_g': k_g, 'g': g, 'edges': edges, 'cut_idx': cut_idx,\n        'nus_segments': nus_segments, 'xsv_segments': xsv_segments,\n        'k_med': k_med, 'mask': mask\n    }"
  },
  {
   "cell_type": "code",
   "id": "dbddd404",
   "metadata": {},
   "outputs": [],
   "source": "def plot_xsv(nus, xsv, nus_segments, xsv_segments, j, k_med, mask):\n    plt.plot(nus, xsv, alpha=0.7)\n    plt.fill_between(nus, xsv.min()*0.1, k_med, where=mask, alpha=0.3, color='orange')\n    plt.plot(nus_segments[j], xsv_segments[j], '.', markersize=2)\n    plt.yscale('log')\n    plt.ylabel('σ(ν) (cm²)')\n    plt.ylim(xsv.min()*0.1, xsv.max()*2)\n\nT, P, j_pickup = 1000.0, 0.01, 6\nxsv = opa.xsvector(T, P)\nk_g, g, edges, cut_idx, nus_segments, xsv_segments, k_med, mask = sample_g(nus, xsv, j_pickup)\n\nfig, (ax1, ax2) = plt.subplots(1, 2, figsize=(12, 4))\n\nplt.sca(ax1)\nplot_xsv(nus, xsv, nus_segments, xsv_segments, j_pickup, k_med, mask)\nplt.xlabel('ν (cm⁻¹)')\n\nplt.sca(ax2)\nplt.plot(g, k_g)\nplt.plot(g[cut_idx[j_pickup]:cut_idx[j_pickup+1]], xsv_segments[j_pickup], '.', markersize=2)\nplt.axhline(xsv_segments[j_pickup].max(), alpha=0.3, color=\"gray\")\nplt.axhline(xsv_segments[j_pickup].min(), alpha=0.3, color=\"gray\")\nplt.axvline(edges[j_pickup], alpha=0.3, color=\"gray\")\nplt.axvline(edges[j_pickup + 1], alpha=0.3, color=\"gray\")\nplt.text((edges[j_pickup] + edges[j_pickup + 1]) / 2, xsv.min()*0.1, \"$\\\\Delta g_j$\", \n         horizontalalignment=\"center\", verticalalignment=\"bottom\", fontsize=12)\nplt.yscale('log')\nplt.xlabel('g')\nplt.ylabel('σ(g) (cm²)')\nplt.ylim(xsv.min()*0.1, xsv.max()*2)\n\nplt.tight_layout()\nplt.show()"
  },
  {
   "cell_type": "code",
   "id": "d0b0832a",
   "metadata": {},
   "outputs": [],
   "source": "conditions = [(700, 0.1), (1000, 0.01), (1000, 0.1), (1300, 0.1), (1000, 1.0)]\n\nfig, axes = plt.subplots(2, 3, figsize=(12, 6))\naxes = axes.flatten()\n\nfor i, (T, P) in enumerate(conditions):\n    if i >= 5: break\n    plt.sca(axes[i])\n    xsv = opa.xsvector(T, P)\n    k_g, g, edges, cut_idx, nus_segments, xsv_segments, k_med, mask = sample_g(nus, xsv, 6)\n    plot_xsv(nus, xsv, nus_segments, xsv_segments, 6, k_med, mask)\n    plt.title(f'T={T}K, P={P}bar', fontsize=10)\n    \n    if i >= 2:\n        plt.xlabel('ν (cm⁻¹)')\n\naxes[5].axis('off')\nplt.tight_layout()\nplt.show()"
  },
  {
   "cell_type": "code",
   "id": "e3303b14",
   "metadata": {},
   "outputs": [],
   "source": "opa_ckd = OpaCKD(opa, Ng=16)\nT_grid = jnp.array([700.0, 1000.0, 1300.0])\nP_grid = jnp.array([0.01, 0.1, 1.0])\nopa_ckd.precompute_tables(T_grid, P_grid)"
  }
 ],
 "metadata": {
  "kernelspec": {
   "display_name": "base",
   "language": "python",
   "name": "python3"
  },
  "language_info": {
   "codemirror_mode": {
    "name": "ipython",
    "version": 3
   },
   "file_extension": ".py",
   "mimetype": "text/x-python",
   "name": "python",
   "nbconvert_exporter": "python",
   "pygments_lexer": "ipython3",
   "version": "3.10.9"
  }
 },
 "nbformat": 4,
 "nbformat_minor": 5
}