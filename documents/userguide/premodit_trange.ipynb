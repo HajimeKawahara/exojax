{
 "cells": [
  {
   "cell_type": "markdown",
   "metadata": {},
   "source": [
    "# PreMODIT: The robust range of temperature as a function of dE  "
   ]
  },
  {
   "cell_type": "code",
   "execution_count": 3,
   "metadata": {},
   "outputs": [
    {
     "name": "stdout",
     "output_type": "stream",
     "text": [
      "(2, 50, 50, 29, 3)\n",
      "(2, 50, 50, 29, 3)\n"
     ]
    }
   ],
   "source": [
    "from exojax.spec.lbderror import default_elower_grid_trange_file\n",
    "import numpy as np\n",
    "\n",
    "filename = default_elower_grid_trange_file()\n",
    "dat = np.load(filename)\n",
    "arr = dat[\"arr_0\"]\n",
    "Tarr = dat[\"arr_1\"] # np.logspace(np.log10(100),np.log10(5000),120)\n",
    "Twtarr = dat[\"arr_2\"] #np.logspace(np.log10(100.1),np.log10(2000.1),50)\n",
    "Trefarr = dat[\"arr_3\"] #Trefarr - np.logspace(np.log10(100),np.log10(2000),50)\n",
    "dEarr = dat[\"arr_4\"] #dEarr - np.linspace(100,1500,29)\n",
    "\n",
    "print(np.shape(arr)) # (tl/th, len(Tarr), len(Twtarr), len(Trefarr), len(dEarr), diffmode0,1,2)\n",
    "print((2, len(Twtarr), len(Trefarr), len(dEarr),3))"
   ]
  },
  {
   "cell_type": "code",
   "execution_count": 13,
   "metadata": {},
   "outputs": [
    {
     "name": "stdout",
     "output_type": "stream",
     "text": [
      "[0. 0. 0. 0. 0. 0. 0. 0. 0. 0. 0. 0. 0. 0. 0. 0. 0. 0. 0. 0. 0. 0. 0. 0.\n",
      " 0. 0. 0. 0. 0.]\n"
     ]
    }
   ],
   "source": [
    "#print(Tarr - np.logspace(np.log10(100),np.log10(5000),120))\n",
    "#print(Twtarr - np.logspace(np.log10(100.1),np.log10(2000.1),50))\n",
    "#print(Trefarr - np.logspace(np.log10(100),np.log10(2000),50))\n",
    "#print(dEarr - np.linspace(100,1500,29))"
   ]
  },
  {
   "cell_type": "code",
   "execution_count": null,
   "metadata": {},
   "outputs": [],
   "source": []
  }
 ],
 "metadata": {
  "kernelspec": {
   "display_name": "base",
   "language": "python",
   "name": "python3"
  },
  "language_info": {
   "codemirror_mode": {
    "name": "ipython",
    "version": 3
   },
   "file_extension": ".py",
   "mimetype": "text/x-python",
   "name": "python",
   "nbconvert_exporter": "python",
   "pygments_lexer": "ipython3",
   "version": "3.10.9"
  }
 },
 "nbformat": 4,
 "nbformat_minor": 2
}
