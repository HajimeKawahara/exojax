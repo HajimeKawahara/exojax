{
 "cells": [
  {
   "cell_type": "code",
   "execution_count": 2,
   "metadata": {},
   "outputs": [],
   "source": [
    "import pandas as pd\n",
    "import numpy as np\n",
    "from scipy.io import FortranFile\n",
    "#petit\n",
    "outdir=\"/home/kawahara/petitRADTRANS/petitRADTRANS/input_data/opacities/lines/line_by_line/COcopy/\"\n",
    "petitdir=\"/home/kawahara/petitRADTRANS/petitRADTRANS/input_data/opacities/lines/line_by_line/CO_all_iso/\"\n",
    "#f = FortranFile(petitdir+\"sigma_05_900.K_0.100000bar.dat\",\"r\")\n",
    "with open(petitdir+\"wlen.dat\", 'rb') as w:\n",
    "    contentw = np.fromfile(w, dtype=np.float64)\n",
    "contentw.tofile(outdir+\"wlen.dat\")"
   ]
  },
  {
   "cell_type": "code",
   "execution_count": 3,
   "metadata": {},
   "outputs": [],
   "source": [
    "import os\n",
    "files = os.listdir(petitdir)"
   ]
  },
  {
   "cell_type": "code",
   "execution_count": 6,
   "metadata": {},
   "outputs": [],
   "source": [
    "import glob\n",
    "siglist=glob.glob(petitdir+'sigma*.dat')"
   ]
  },
  {
   "cell_type": "code",
   "execution_count": 11,
   "metadata": {},
   "outputs": [],
   "source": [
    "for fpath in siglist:\n",
    "    name=fpath.split(\"/\")[-1]\n",
    "    with open(fpath, 'rb') as w:\n",
    "        contentw = np.fromfile(w, dtype=np.float64)\n",
    "    contentw.tofile(outdir+name)"
   ]
  },
  {
   "cell_type": "code",
   "execution_count": null,
   "metadata": {},
   "outputs": [],
   "source": []
  }
 ],
 "metadata": {
  "kernelspec": {
   "display_name": "Python 3",
   "language": "python",
   "name": "python3"
  },
  "language_info": {
   "codemirror_mode": {
    "name": "ipython",
    "version": 3
   },
   "file_extension": ".py",
   "mimetype": "text/x-python",
   "name": "python",
   "nbconvert_exporter": "python",
   "pygments_lexer": "ipython3",
   "version": "3.7.3"
  }
 },
 "nbformat": 4,
 "nbformat_minor": 2
}
