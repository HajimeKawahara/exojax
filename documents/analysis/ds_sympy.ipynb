{
 "cells": [
  {
   "cell_type": "code",
   "execution_count": 1,
   "metadata": {},
   "outputs": [],
   "source": [
    "import numpy as np\n",
    "import matplotlib.pyplot as plt"
   ]
  },
  {
   "cell_type": "code",
   "execution_count": 2,
   "id": "efd6143b",
   "metadata": {},
   "outputs": [],
   "source": [
    "import numpy as np\n",
    "import sympy\n",
    "from sympy import exp\n",
    "\n",
    "t = sympy.Symbol('t')\n",
    "twp = sympy.Symbol('twp')\n",
    "tref = sympy.Symbol('tref')\n",
    "E = sympy.Symbol('E')\n",
    "c2 = sympy.Symbol('c2')\n",
    "p = sympy.Symbol('p')\n",
    "dE = sympy.Symbol('dE')\n",
    "El = sympy.Symbol('El')\n",
    "\n"
   ]
  },
  {
   "cell_type": "code",
   "execution_count": 3,
   "id": "515e621e",
   "metadata": {},
   "outputs": [],
   "source": [
    "def f(E,t):\n",
    "    return exp(- c2*E*(t-tref))"
   ]
  },
  {
   "cell_type": "code",
   "execution_count": 4,
   "id": "c6e796f9",
   "metadata": {},
   "outputs": [],
   "source": [
    "E1 = El - p*dE\n",
    "E2 = El + (1-p)*dE\n",
    "xl = f(El, twp)\n",
    "x1 = f(E1, twp)\n",
    "x2 = f(E2, twp)"
   ]
  },
  {
   "cell_type": "code",
   "execution_count": 5,
   "id": "ada4205a",
   "metadata": {},
   "outputs": [],
   "source": [
    "xpl = sympy.diff(xl,twp)\n",
    "xp1 = sympy.diff(x1,twp)\n",
    "xp2 = sympy.diff(x2,twp)\n"
   ]
  },
  {
   "cell_type": "code",
   "execution_count": 6,
   "id": "a3a0dc8a",
   "metadata": {},
   "outputs": [],
   "source": [
    "w1 = (x2 - xl)/(x2 - x1)\n",
    "w2 = (xl - x1)/(x2 - x1)"
   ]
  },
  {
   "cell_type": "code",
   "execution_count": 7,
   "id": "f24f64f6",
   "metadata": {},
   "outputs": [],
   "source": [
    "wp1 = sympy.diff(w1,twp)\n",
    "wp2 = sympy.diff(w2,twp)"
   ]
  },
  {
   "cell_type": "code",
   "execution_count": 8,
   "id": "ba18354c",
   "metadata": {},
   "outputs": [],
   "source": [
    "Stilde = w1*f(E1,t)+w2*f(E2,t) #+ wp2*(t - tref)\n",
    "S = f(El,t)"
   ]
  },
  {
   "cell_type": "code",
   "execution_count": 9,
   "id": "dce54f7a",
   "metadata": {},
   "outputs": [],
   "source": [
    "dq=sympy.simplify(sympy.diff(Stilde - S,p))"
   ]
  },
  {
   "cell_type": "code",
   "execution_count": 10,
   "id": "c20e358c",
   "metadata": {},
   "outputs": [
    {
     "data": {
      "text/latex": [
       "$\\displaystyle \\frac{c_{2} dE \\left(t e^{c_{2} dE \\left(p tref + t + twp\\right)} - t e^{c_{2} dE \\left(p tref + tref + twp\\right)} - t e^{c_{2} dE \\left(p twp + t + tref\\right)} + t e^{c_{2} dE \\left(p twp + tref + twp\\right)} + tref e^{c_{2} dE \\left(p twp + t + tref\\right)} - tref e^{c_{2} dE \\left(p twp + tref + twp\\right)} - twp e^{c_{2} dE \\left(p tref + t + twp\\right)} + twp e^{c_{2} dE \\left(p tref + tref + twp\\right)}\\right) e^{c_{2} \\left(- El t + El tref + dE p t - dE p tref - dE p twp - dE t\\right)}}{- e^{c_{2} dE tref} + e^{c_{2} dE twp}}$"
      ],
      "text/plain": [
       "c2*dE*(t*exp(c2*dE*(p*tref + t + twp)) - t*exp(c2*dE*(p*tref + tref + twp)) - t*exp(c2*dE*(p*twp + t + tref)) + t*exp(c2*dE*(p*twp + tref + twp)) + tref*exp(c2*dE*(p*twp + t + tref)) - tref*exp(c2*dE*(p*twp + tref + twp)) - twp*exp(c2*dE*(p*tref + t + twp)) + twp*exp(c2*dE*(p*tref + tref + twp)))*exp(c2*(-El*t + El*tref + dE*p*t - dE*p*tref - dE*p*twp - dE*t))/(-exp(c2*dE*tref) + exp(c2*dE*twp))"
      ]
     },
     "execution_count": 10,
     "metadata": {},
     "output_type": "execute_result"
    }
   ],
   "source": [
    "dq"
   ]
  },
  {
   "cell_type": "code",
   "execution_count": 11,
   "id": "be786709",
   "metadata": {},
   "outputs": [
    {
     "data": {
      "text/latex": [
       "$\\displaystyle - \\frac{c_{2} dE \\left(t e^{c_{2} dE \\left(p tref + t + twp\\right)} - t e^{c_{2} dE \\left(p tref + tref + twp\\right)} - t e^{c_{2} dE \\left(p twp + t + tref\\right)} + t e^{c_{2} dE \\left(p twp + tref + twp\\right)} + tref e^{c_{2} dE \\left(p twp + t + tref\\right)} - tref e^{c_{2} dE \\left(p twp + tref + twp\\right)} - twp e^{c_{2} dE \\left(p tref + t + twp\\right)} + twp e^{c_{2} dE \\left(p tref + tref + twp\\right)}\\right) e^{- c_{2} \\left(El t - El tref - dE p t + dE p tref + dE p twp + dE t\\right)}}{e^{c_{2} dE tref} - e^{c_{2} dE twp}}$"
      ],
      "text/plain": [
       "-c2*dE*(t*exp(c2*dE*(p*tref + t + twp)) - t*exp(c2*dE*(p*tref + tref + twp)) - t*exp(c2*dE*(p*twp + t + tref)) + t*exp(c2*dE*(p*twp + tref + twp)) + tref*exp(c2*dE*(p*twp + t + tref)) - tref*exp(c2*dE*(p*twp + tref + twp)) - twp*exp(c2*dE*(p*tref + t + twp)) + twp*exp(c2*dE*(p*tref + tref + twp)))*exp(-c2*(El*t - El*tref - dE*p*t + dE*p*tref + dE*p*twp + dE*t))/(exp(c2*dE*tref) - exp(c2*dE*twp))"
      ]
     },
     "execution_count": 11,
     "metadata": {},
     "output_type": "execute_result"
    }
   ],
   "source": [
    "\n",
    "ww= sympy.simplify(dq)\n",
    "ww"
   ]
  },
  {
   "cell_type": "code",
   "execution_count": 12,
   "id": "135dd1f7",
   "metadata": {},
   "outputs": [
    {
     "data": {
      "text/latex": [
       "$\\displaystyle - \\frac{c_{2} dE \\left(t e^{c_{2} dE \\left(tref + 1.5 twp\\right)} - t e^{c_{2} dE \\left(1.5 tref + twp\\right)} + t e^{c_{2} dE \\left(t + 0.5 tref + twp\\right)} - t e^{c_{2} dE \\left(t + tref + 0.5 twp\\right)} - tref e^{c_{2} dE \\left(tref + 1.5 twp\\right)} + tref e^{c_{2} dE \\left(t + tref + 0.5 twp\\right)} + twp e^{c_{2} dE \\left(1.5 tref + twp\\right)} - twp e^{c_{2} dE \\left(t + 0.5 tref + twp\\right)}\\right) e^{- c_{2} \\left(El t - El tref + 0.5 dE t + 0.5 dE tref + 0.5 dE twp\\right)}}{e^{c_{2} dE tref} - e^{c_{2} dE twp}}$"
      ],
      "text/plain": [
       "-c2*dE*(t*exp(c2*dE*(tref + 1.5*twp)) - t*exp(c2*dE*(1.5*tref + twp)) + t*exp(c2*dE*(t + 0.5*tref + twp)) - t*exp(c2*dE*(t + tref + 0.5*twp)) - tref*exp(c2*dE*(tref + 1.5*twp)) + tref*exp(c2*dE*(t + tref + 0.5*twp)) + twp*exp(c2*dE*(1.5*tref + twp)) - twp*exp(c2*dE*(t + 0.5*tref + twp)))*exp(-c2*(El*t - El*tref + 0.5*dE*t + 0.5*dE*tref + 0.5*dE*twp))/(exp(c2*dE*tref) - exp(c2*dE*twp))"
      ]
     },
     "execution_count": 12,
     "metadata": {},
     "output_type": "execute_result"
    }
   ],
   "source": [
    "sympy.simplify(ww.subs([(p,1/2)]))"
   ]
  },
  {
   "cell_type": "code",
   "execution_count": 13,
   "id": "bffe59dd",
   "metadata": {},
   "outputs": [],
   "source": [
    "ans = sympy.solve(sympy.Eq(ww,0),p)"
   ]
  },
  {
   "cell_type": "code",
   "execution_count": 16,
   "id": "fac86abd",
   "metadata": {},
   "outputs": [
    {
     "data": {
      "text/plain": [
       "[(c2*dE*tref - c2*dE*twp - log((t*exp(c2*dE*t) - t*exp(c2*dE*tref) - twp*exp(c2*dE*t) + twp*exp(c2*dE*tref))/(t*exp(c2*dE*t) - t*exp(c2*dE*twp) - tref*exp(c2*dE*t) + tref*exp(c2*dE*twp))))/(c2*dE*(tref - twp))]"
      ]
     },
     "execution_count": 16,
     "metadata": {},
     "output_type": "execute_result"
    }
   ],
   "source": [
    "ans"
   ]
  },
  {
   "cell_type": "code",
   "execution_count": 15,
   "id": "a36a4594",
   "metadata": {},
   "outputs": [
    {
     "data": {
      "text/latex": [
       "$\\displaystyle - \\frac{c_{2} dE \\left(t e^{c_{2} dE \\left(p tref + t + twp\\right)} - t e^{c_{2} dE \\left(p tref + tref + twp\\right)} - t e^{c_{2} dE \\left(p twp + t + tref\\right)} + t e^{c_{2} dE \\left(p twp + tref + twp\\right)} + tref e^{c_{2} dE \\left(p twp + t + tref\\right)} - tref e^{c_{2} dE \\left(p twp + tref + twp\\right)} - twp e^{c_{2} dE \\left(p tref + t + twp\\right)} + twp e^{c_{2} dE \\left(p tref + tref + twp\\right)}\\right) e^{- c_{2} \\left(El t - El tref - dE p t + dE p tref + dE p twp + dE t\\right)}}{e^{c_{2} dE tref} - e^{c_{2} dE twp}}$"
      ],
      "text/plain": [
       "-c2*dE*(t*exp(c2*dE*(p*tref + t + twp)) - t*exp(c2*dE*(p*tref + tref + twp)) - t*exp(c2*dE*(p*twp + t + tref)) + t*exp(c2*dE*(p*twp + tref + twp)) + tref*exp(c2*dE*(p*twp + t + tref)) - tref*exp(c2*dE*(p*twp + tref + twp)) - twp*exp(c2*dE*(p*tref + t + twp)) + twp*exp(c2*dE*(p*tref + tref + twp)))*exp(-c2*(El*t - El*tref - dE*p*t + dE*p*tref + dE*p*twp + dE*t))/(exp(c2*dE*tref) - exp(c2*dE*twp))"
      ]
     },
     "execution_count": 15,
     "metadata": {},
     "output_type": "execute_result"
    }
   ],
   "source": [
    "ww"
   ]
  },
  {
   "cell_type": "code",
   "execution_count": null,
   "id": "03631072",
   "metadata": {},
   "outputs": [],
   "source": []
  }
 ],
 "metadata": {
  "kernelspec": {
   "display_name": "Python 3.8.5 ('base')",
   "language": "python",
   "name": "python3"
  },
  "language_info": {
   "codemirror_mode": {
    "name": "ipython",
    "version": 3
   },
   "file_extension": ".py",
   "mimetype": "text/x-python",
   "name": "python",
   "nbconvert_exporter": "python",
   "pygments_lexer": "ipython3",
   "version": "3.8.8"
  },
  "vscode": {
   "interpreter": {
    "hash": "72bc7f8b1808a6f5ada3c6a20601509b8b1843160436d276d47f2ba819b3753b"
   }
  }
 },
 "nbformat": 4,
 "nbformat_minor": 5
}
