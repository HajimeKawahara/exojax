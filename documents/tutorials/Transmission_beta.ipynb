{
 "cells": [
  {
   "attachments": {},
   "cell_type": "markdown",
   "metadata": {},
   "source": [
    "# Computes Transmission Spectra (beta release)"
   ]
  },
  {
   "attachments": {},
   "cell_type": "markdown",
   "metadata": {},
   "source": [
    "We compute a high-resolution transmission spectrum using HITRAN CO and compare it with the results by the different method (by Yui Kawashima).\n",
    "Note that `ArtTransPure` is `art` for the transmission spectrum."
   ]
  },
  {
   "cell_type": "code",
   "execution_count": 1,
   "metadata": {
    "execution": {
     "iopub.execute_input": "2024-01-16T23:33:37.938847Z",
     "iopub.status.busy": "2024-01-16T23:33:37.938180Z",
     "iopub.status.idle": "2024-01-16T23:33:40.119321Z",
     "shell.execute_reply": "2024-01-16T23:33:40.118073Z"
    }
   },
   "outputs": [
    {
     "name": "stderr",
     "output_type": "stream",
     "text": [
      "/home/kawahara/exojax/src/exojax/spec/dtau_mmwl.py:14: FutureWarning: dtau_mmwl might be removed in future.\n",
      "  warnings.warn(\"dtau_mmwl might be removed in future.\", FutureWarning)\n"
     ]
    }
   ],
   "source": [
    "from jax import config\n",
    "import pandas as pd\n",
    "import numpy as np\n",
    "from exojax.utils.grids import wavenumber_grid\n",
    "from exojax.spec.opacalc import OpaModit\n",
    "from exojax.spec.atmrt import ArtTransPure\n",
    "from exojax.utils.constants import RJ, Rs\n",
    "from exojax.spec.api import MdbHitran\n",
    "from exojax.utils.astrofunc import gravity_jupiter\n",
    "    \n",
    "config.update(\"jax_enable_x64\", True)"
   ]
  },
  {
   "attachments": {},
   "cell_type": "markdown",
   "metadata": {},
   "source": [
    "To load a reference spectrum, we make the following method."
   ]
  },
  {
   "cell_type": "code",
   "execution_count": 2,
   "metadata": {
    "execution": {
     "iopub.execute_input": "2024-01-16T23:33:40.123595Z",
     "iopub.status.busy": "2024-01-16T23:33:40.123296Z",
     "iopub.status.idle": "2024-01-16T23:33:40.127685Z",
     "shell.execute_reply": "2024-01-16T23:33:40.127125Z"
    }
   },
   "outputs": [],
   "source": [
    "def read_kawashima_data(filename):\n",
    "    dat = pd.read_csv(filename, delimiter=\"   \")\n",
    "    wav = dat[\"Wavelength[um]\"]\n",
    "    mask = (wav > 2.25) & (wav < 2.6)\n",
    "    return wav[mask], dat[\"Rp/Rs\"][mask]\n"
   ]
  },
  {
   "attachments": {},
   "cell_type": "markdown",
   "metadata": {},
   "source": [
    "The ref file should be in ExoJAX repo."
   ]
  },
  {
   "cell_type": "code",
   "execution_count": 3,
   "metadata": {
    "execution": {
     "iopub.execute_input": "2024-01-16T23:33:40.130422Z",
     "iopub.status.busy": "2024-01-16T23:33:40.130178Z",
     "iopub.status.idle": "2024-01-16T23:33:40.133030Z",
     "shell.execute_reply": "2024-01-16T23:33:40.132562Z"
    }
   },
   "outputs": [],
   "source": [
    "filename = \"/home/kawahara/exojax/tests/integration/comparison/transmission/spectrum/CO100percent_500K.dat\""
   ]
  },
  {
   "attachments": {},
   "cell_type": "markdown",
   "metadata": {},
   "source": [
    "Here is the core code. We define `art` using `ArtTransPure`. \n",
    "`art.constant_mmr_profile` sets the mass mixing ratio layer profile to a constant value. Here we assume 100% CO everywhere.\n",
    "For a transmission spectrum, the constant gravity assumption is not good approximation. So, we need to compute the gravity profile. \n",
    "`art.gravity_profile` does it. After computing opacity, we can use `art.run` to generate the transmission spectrum."
   ]
  },
  {
   "cell_type": "code",
   "execution_count": 4,
   "metadata": {
    "execution": {
     "iopub.execute_input": "2024-01-16T23:33:40.135581Z",
     "iopub.status.busy": "2024-01-16T23:33:40.135228Z",
     "iopub.status.idle": "2024-01-16T23:33:40.139240Z",
     "shell.execute_reply": "2024-01-16T23:33:40.138807Z"
    }
   },
   "outputs": [],
   "source": [
    "def compare_with_kawashima_code():\n",
    "    mu_fid = 28.00863 #mean molecular weight\n",
    "    T_fid = 500.\n",
    "\n",
    "    Nx = 300000\n",
    "    nu_grid, wav, res = wavenumber_grid(22900.0,\n",
    "                                        26000.0,\n",
    "                                        Nx,\n",
    "                                        unit=\"AA\",\n",
    "                                        xsmode=\"modit\")\n",
    "\n",
    "    art = ArtTransPure(pressure_top=1.e-15, pressure_btm=1.e1, nlayer=100)\n",
    "    art.change_temperature_range(490.0, 510.0)\n",
    "    Tarr = T_fid * np.ones_like(art.pressure)\n",
    "    mmr_arr = art.constant_mmr_profile(1.0)\n",
    "    gravity_btm = gravity_jupiter(1.0, 1.0)\n",
    "    radius_btm = RJ\n",
    "\n",
    "    mdb = MdbHitran('CO', nu_grid, gpu_transfer=True)\n",
    "    mmw = mu_fid * np.ones_like(art.pressure)\n",
    "    gravity = art.gravity_profile(Tarr, mmw, radius_btm, gravity_btm)\n",
    "\n",
    "    #HITRAN CO has not so many lines. So we use MODIT here instead of PreMODIT\n",
    "    opa = OpaModit(mdb=mdb, nu_grid=nu_grid, Tarr_list=Tarr, Parr=art.pressure)\n",
    "    xsmatrix = opa.xsmatrix(Tarr, art.pressure)\n",
    "    dtau = art.opacity_profile_xs(xsmatrix, mmr_arr, opa.mdb.molmass,\n",
    "                                     gravity)\n",
    "\n",
    "    Rp2 = art.run(dtau, Tarr, mmw, radius_btm, gravity_btm)\n",
    "    return nu_grid, np.sqrt(Rp2) * radius_btm / Rs\n"
   ]
  },
  {
   "attachments": {},
   "cell_type": "markdown",
   "metadata": {},
   "source": [
    "Compares the results. Not so bad. Note that the Kawashima-san's reference includes the Rayleigh scattering, but we do not. That makes this small difference."
   ]
  },
  {
   "cell_type": "code",
   "execution_count": 5,
   "metadata": {
    "execution": {
     "iopub.execute_input": "2024-01-16T23:33:40.140931Z",
     "iopub.status.busy": "2024-01-16T23:33:40.140605Z",
     "iopub.status.idle": "2024-01-16T23:33:46.858165Z",
     "shell.execute_reply": "2024-01-16T23:33:46.857752Z"
    }
   },
   "outputs": [
    {
     "name": "stderr",
     "output_type": "stream",
     "text": [
      "/tmp/ipykernel_32698/4154571916.py:2: ParserWarning: Falling back to the 'python' engine because the 'c' engine does not support regex separators (separators > 1 char and different from '\\s+' are interpreted as regex); you can avoid this warning by specifying engine='python'.\n",
      "  dat = pd.read_csv(filename, delimiter=\"   \")\n"
     ]
    },
    {
     "name": "stdout",
     "output_type": "stream",
     "text": [
      "xsmode =  modit\n",
      "xsmode assumes ESLOG in wavenumber space: mode=modit\n",
      "======================================================================\n",
      "We changed the policy of the order of wavenumber/wavelength grids\n",
      "wavenumber grid should be in ascending order and now \n",
      "users can specify the order of the wavelength grid by themselves.\n",
      "Your wavelength grid is in ***  descending  *** order\n",
      "This might causes the bug if you update ExoJAX. \n",
      "Note that the older ExoJAX assumes ascending order as wavelength grid.\n",
      "======================================================================\n"
     ]
    },
    {
     "name": "stderr",
     "output_type": "stream",
     "text": [
      "/home/kawahara/exojax/src/exojax/spec/atmrt.py:49: UserWarning: nu_grid is not given. specify nu_grid when using 'run' \n",
      "  warnings.warn(\n"
     ]
    },
    {
     "name": "stdout",
     "output_type": "stream",
     "text": [
      "integration:  simpson\n",
      "Simpson integration, uses the chord optical depth at the lower boundary and midppoint of the layers.\n",
      "pressure decrease rate k= 0.6892612104349697\n",
      "pressure decrease rate k= 0.6892612104349697\n"
     ]
    },
    {
     "data": {
      "image/png": "[encoded data removed]",
      "text/plain": [
       "<Figure size 640x480 with 1 Axes>"
      ]
     },
     "metadata": {},
     "output_type": "display_data"
    }
   ],
   "source": [
    "import matplotlib.pyplot as plt\n",
    "\n",
    "wav, rprs = read_kawashima_data(filename)\n",
    "diffmode = 1\n",
    "nus_hitran, Rp_hitran = compare_with_kawashima_code()\n",
    "from exojax.spec.unitconvert import nu2wav\n",
    "wav_exojax = nu2wav(nus_hitran, unit=\"um\", wavelength_order=\"ascending\")\n",
    "fig = plt.figure()\n",
    "ax = fig.add_subplot(111)\n",
    "ax.plot(wav, rprs * Rs / RJ, label=\"Kawashima\")\n",
    "#plt.yscale(\"log\")\n",
    "ax.plot(wav_exojax[::-1], Rp_hitran * Rs / RJ, label=\"ExoJAX\")\n",
    "plt.legend()\n",
    "\n",
    "plt.xlabel(\"wavenumber cm-1\")\n",
    "#plt.ylim(-0.07, 0.07)\n",
    "plt.legend()\n",
    "plt.ylabel(\"Rp (RJ)\")\n",
    "\n",
    "plt.savefig(\"comparison.png\")\n",
    "plt.show()\n"
   ]
  },
  {
   "cell_type": "code",
   "execution_count": null,
   "metadata": {},
   "outputs": [],
   "source": []
  }
 ],
 "metadata": {
  "kernelspec": {
   "display_name": "base",
   "language": "python",
   "name": "python3"
  },
  "language_info": {
   "codemirror_mode": {
    "name": "ipython",
    "version": 3
   },
   "file_extension": ".py",
   "mimetype": "text/x-python",
   "name": "python",
   "nbconvert_exporter": "python",
   "pygments_lexer": "ipython3",
   "version": "3.10.9"
  }
 },
 "nbformat": 4,
 "nbformat_minor": 2
}
