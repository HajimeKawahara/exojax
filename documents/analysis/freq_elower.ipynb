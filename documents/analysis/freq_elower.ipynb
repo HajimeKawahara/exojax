{
 "cells": [
  {
   "cell_type": "markdown",
   "metadata": {},
   "source": [
    "## Elower distriibution of Recent databases"
   ]
  },
  {
   "cell_type": "code",
   "execution_count": 1,
   "metadata": {},
   "outputs": [
    {
     "name": "stdout",
     "output_type": "stream",
     "text": [
      "xsmode assumes ESLOG in wavenumber space: mode=lpf\n"
     ]
    }
   ],
   "source": [
    "from exojax.spec.api import MdbExomol\n",
    "from exojax.utils.grids import wavenumber_grid\n",
    "\n",
    "\n",
    "nus, wav, r = wavenumber_grid(16370, 16380, 20000, unit=\"AA\")\n",
    "mdbCH4 = MdbExomol(\"/home/kawahara/.database/CH4/12C-1H4/YT34to10/\",nus)\n"
   ]
  },
  {
   "cell_type": "code",
   "execution_count": null,
   "metadata": {},
   "outputs": [],
   "source": []
  }
 ],
 "metadata": {
  "kernelspec": {
   "display_name": "Python 3.8.8 ('base')",
   "language": "python",
   "name": "python3"
  },
  "language_info": {
   "codemirror_mode": {
    "name": "ipython",
    "version": 3
   },
   "file_extension": ".py",
   "mimetype": "text/x-python",
   "name": "python",
   "nbconvert_exporter": "python",
   "pygments_lexer": "ipython3",
   "version": "3.8.8"
  },
  "orig_nbformat": 4,
  "vscode": {
   "interpreter": {
    "hash": "72bc7f8b1808a6f5ada3c6a20601509b8b1843160436d276d47f2ba819b3753b"
   }
  }
 },
 "nbformat": 4,
 "nbformat_minor": 2
}
