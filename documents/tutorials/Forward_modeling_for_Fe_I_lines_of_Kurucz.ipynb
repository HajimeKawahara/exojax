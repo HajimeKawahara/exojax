{
 "cells": [
  {
   "cell_type": "markdown",
   "id": "9f84762f",
   "metadata": {},
   "source": [
    "# Forward modeling of the emission spectrum using Fe I line list from Kurucz"
   ]
  },
  {
   "cell_type": "markdown",
   "id": "919b8f40",
   "metadata": {},
   "source": [
    "Tako Ishikawa  \n",
    "last update: 2022/04/25   \n",
    "created: : 2022/04/22  "
   ]
  },
  {
   "cell_type": "code",
   "execution_count": 1,
   "id": "816059e4",
   "metadata": {
    "execution": {
     "iopub.execute_input": "2023-03-14T12:03:44.723390Z",
     "iopub.status.busy": "2023-03-14T12:03:44.721830Z",
     "iopub.status.idle": "2023-03-14T12:03:47.159482Z",
     "shell.execute_reply": "2023-03-14T12:03:47.159139Z"
    }
   },
   "outputs": [],
   "source": [
    "from exojax.utils.grids import wavenumber_grid\n",
    "from exojax.spec.rtransfer import pressure_layer\n",
    "from exojax.spec import moldb, molinfo, contdb\n",
    "from exojax.spec import atomll\n",
    "from exojax.spec.exomol import gamma_exomol\n",
    "from exojax.spec import SijT, doppler_sigma\n",
    "from exojax.spec import planck\n",
    "import matplotlib.pyplot as plt\n",
    "import jax.numpy as jnp\n",
    "from jax import vmap, jit\n",
    "import numpy as np\n",
    "from exojax.spec.initspec import init_lpf\n",
    "from exojax.spec.rtransfer import dtauCIA, dtauHminus\n",
    "from exojax.spec.lpf import xsmatrix\n",
    "from exojax.spec.rtransfer import dtauM"
   ]
  },
  {
   "cell_type": "markdown",
   "id": "4f426536",
   "metadata": {},
   "source": [
    "T-P profile "
   ]
  },
  {
   "cell_type": "code",
   "execution_count": 2,
   "id": "1e0809e3",
   "metadata": {
    "execution": {
     "iopub.execute_input": "2023-03-14T12:03:47.173672Z",
     "iopub.status.busy": "2023-03-14T12:03:47.173232Z",
     "iopub.status.idle": "2023-03-14T12:03:47.842601Z",
     "shell.execute_reply": "2023-03-14T12:03:47.842309Z"
    }
   },
   "outputs": [
    {
     "data": {
      "image/png": "[encoded data removed]",
      "text/plain": [
       "<Figure size 432x288 with 1 Axes>"
      ]
     },
     "metadata": {
      "needs_background": "light"
     },
     "output_type": "display_data"
    }
   ],
   "source": [
    "#Assume ATMOSPHERE\n",
    "NP=100\n",
    "T0=3000. #10000. #3000. #1295.0 #K\n",
    "Parr, dParr, k=pressure_layer(NP=NP)\n",
    "H_He_HH_VMR = [0.0, 0.16, 0.84] #typical quasi-\"solar-fraction\"\n",
    "Tarr = T0*(Parr)**0.1\n",
    "\n",
    "mmw=2.33 #mean molecular weight\n",
    "\n",
    "PH = Parr* H_He_HH_VMR[0]\n",
    "PHe = Parr* H_He_HH_VMR[1]\n",
    "PHH = Parr* H_He_HH_VMR[2]\n",
    "\n",
    "fig=plt.figure(figsize=(6,4))\n",
    "plt.plot(Tarr,Parr)\n",
    "plt.plot(Tarr, PH, '--'); plt.plot(Tarr, PHH, '--'); plt.plot(Tarr, PHe, '--')\n",
    "plt.plot(Tarr[80],Parr[80], marker='*', markersize=15)\n",
    "plt.yscale(\"log\")\n",
    "plt.xlabel(\"temperature (K)\")\n",
    "plt.ylabel(\"pressure (bar)\")\n",
    "plt.gca().invert_yaxis()\n",
    "plt.show()\n"
   ]
  },
  {
   "cell_type": "markdown",
   "id": "aea1c5cb",
   "metadata": {},
   "source": [
    "Wavenumber"
   ]
  },
  {
   "cell_type": "code",
   "execution_count": 3,
   "id": "ebeb0daa",
   "metadata": {
    "execution": {
     "iopub.execute_input": "2023-03-14T12:03:47.845203Z",
     "iopub.status.busy": "2023-03-14T12:03:47.844915Z",
     "iopub.status.idle": "2023-03-14T12:03:47.847074Z",
     "shell.execute_reply": "2023-03-14T12:03:47.846831Z"
    }
   },
   "outputs": [
    {
     "name": "stdout",
     "output_type": "stream",
     "text": [
      "xsmode =  lpf\n",
      "xsmode assumes ESLOG in wavenumber space: mode=lpf\n"
     ]
    }
   ],
   "source": [
    "wls,wll = 10350, 10450\n",
    "nugrid_res = 0.01\n",
    "nus, wav, reso = wavenumber_grid(wls, wll, int((wll-wls)/nugrid_res), unit=\"AA\", xsmode=\"lpf\")"
   ]
  },
  {
   "cell_type": "markdown",
   "id": "e9d2a3f4",
   "metadata": {},
   "source": [
    "Load a Kurucz line list for neutral iron (Fe I)  \n",
    "(Downloaded from [Index of /linelists/gfall](http://kurucz.harvard.edu/linelists/gfall/))"
   ]
  },
  {
   "cell_type": "code",
   "execution_count": 4,
   "id": "b8c660c5",
   "metadata": {
    "execution": {
     "iopub.execute_input": "2023-03-14T12:03:47.849450Z",
     "iopub.status.busy": "2023-03-14T12:03:47.849168Z",
     "iopub.status.idle": "2023-03-14T12:03:52.806163Z",
     "shell.execute_reply": "2023-03-14T12:03:52.805834Z"
    }
   },
   "outputs": [
    {
     "name": "stdout",
     "output_type": "stream",
     "text": [
      "Reading Kurucz file\n"
     ]
    }
   ],
   "source": [
    "\"\"\"\n",
    "    kuruczlines:  fullpath to the input line list obtained from Kurucz linelists (http://kurucz.harvard.edu/linelists/):\n",
    "        For a example in this notebook, gf2600.all downloaded from (http://kurucz.harvard.edu/linelists/gfall/) is used.\n",
    "\"\"\"\n",
    "\n",
    "kuruczlines = '.database/gf2600.all'\n",
    "adbK = moldb.AdbKurucz(kuruczlines, nus)"
   ]
  },
  {
   "cell_type": "markdown",
   "id": "f15107f8",
   "metadata": {},
   "source": [
    "Relative partition function"
   ]
  },
  {
   "cell_type": "code",
   "execution_count": 5,
   "id": "38848b1b",
   "metadata": {
    "execution": {
     "iopub.execute_input": "2023-03-14T12:03:52.810196Z",
     "iopub.status.busy": "2023-03-14T12:03:52.807406Z",
     "iopub.status.idle": "2023-03-14T12:03:53.559679Z",
     "shell.execute_reply": "2023-03-14T12:03:53.559925Z"
    }
   },
   "outputs": [],
   "source": [
    "#Computing the relative partition function,\n",
    "\n",
    "qt_284=vmap(adbK.QT_interp_284)(Tarr)\n",
    "\n",
    "qt_K = np.zeros([len(adbK.QTmask), len(Tarr)])\n",
    "for i, mask in enumerate(adbK.QTmask):\n",
    "    qt_K[i] = qt_284[:,mask]  #e.g., qt_284[:,76] #Fe I\n",
    "qt_K = jnp.array(qt_K)"
   ]
  },
  {
   "cell_type": "markdown",
   "id": "14d93cde",
   "metadata": {},
   "source": [
    "Lorentzian width, Doppler width, and Line strength"
   ]
  },
  {
   "cell_type": "code",
   "execution_count": 6,
   "id": "22a89200",
   "metadata": {
    "execution": {
     "iopub.execute_input": "2023-03-14T12:03:53.648100Z",
     "iopub.status.busy": "2023-03-14T12:03:53.597831Z",
     "iopub.status.idle": "2023-03-14T12:03:53.960502Z",
     "shell.execute_reply": "2023-03-14T12:03:53.960195Z"
    }
   },
   "outputs": [],
   "source": [
    "gammaLM_K = jit(vmap(atomll.gamma_vald3,(0,0,0,0,None,None,None,None,None,None,None,None,None,None,None)))\\\n",
    "        (Tarr, PH, PHH, PHe, adbK.ielem, adbK.iion, \\\n",
    "                adbK.dev_nu_lines, adbK.elower, adbK.eupper, adbK.atomicmass, adbK.ionE, \\\n",
    "                adbK.gamRad, adbK.gamSta, adbK.vdWdamp, 1.0)\n",
    "\n",
    "sigmaDM_K = jit(vmap(doppler_sigma,(None,0,None)))\\\n",
    "    (adbK.nu_lines, Tarr, adbK.atomicmass)\n",
    "\n",
    "SijM_K = jit(vmap(SijT,(0,None,None,None,0)))\\\n",
    "    (Tarr, adbK.logsij0, adbK.nu_lines, adbK.elower, qt_K.T)"
   ]
  },
  {
   "cell_type": "markdown",
   "id": "c16accb5",
   "metadata": {},
   "source": [
    "Initialization of LPF."
   ]
  },
  {
   "cell_type": "code",
   "execution_count": 7,
   "id": "7e7a6b1b",
   "metadata": {
    "execution": {
     "iopub.execute_input": "2023-03-14T12:03:53.963058Z",
     "iopub.status.busy": "2023-03-14T12:03:53.962658Z",
     "iopub.status.idle": "2023-03-14T12:03:53.969466Z",
     "shell.execute_reply": "2023-03-14T12:03:53.969168Z"
    }
   },
   "outputs": [],
   "source": [
    "numatrix_K = init_lpf(adbK.nu_lines, nus)"
   ]
  },
  {
   "cell_type": "markdown",
   "id": "29e0f41d",
   "metadata": {},
   "source": [
    "Stellar parameters"
   ]
  },
  {
   "cell_type": "code",
   "execution_count": 8,
   "id": "9c88daf5",
   "metadata": {
    "execution": {
     "iopub.execute_input": "2023-03-14T12:03:53.971881Z",
     "iopub.status.busy": "2023-03-14T12:03:53.970789Z",
     "iopub.status.idle": "2023-03-14T12:03:53.973482Z",
     "shell.execute_reply": "2023-03-14T12:03:53.973243Z"
    }
   },
   "outputs": [
    {
     "name": "stdout",
     "output_type": "stream",
     "text": [
      "logg: 4.849799190511717\n"
     ]
    }
   ],
   "source": [
    "#Parameters of Objects\n",
    "Rp = 0.36*10 #R_sun*10\n",
    "Mp = 0.37*1e3 #M_sun*1e3\n",
    "g = 2478.57730044555*Mp/Rp**2\n",
    "print('logg: '+str(np.log10(g)))"
   ]
  },
  {
   "cell_type": "markdown",
   "id": "a0b300d5",
   "metadata": {},
   "source": [
    "Volume mixing ratio of Fe (applying the Solar value)"
   ]
  },
  {
   "cell_type": "code",
   "execution_count": 9,
   "id": "f6ec440c",
   "metadata": {
    "execution": {
     "iopub.execute_input": "2023-03-14T12:03:53.975693Z",
     "iopub.status.busy": "2023-03-14T12:03:53.975417Z",
     "iopub.status.idle": "2023-03-14T12:03:54.185747Z",
     "shell.execute_reply": "2023-03-14T12:03:54.185449Z"
    }
   },
   "outputs": [],
   "source": [
    "VMR_Fe = atomll.get_VMR_uspecies(np.array([[26,1]]))"
   ]
  },
  {
   "cell_type": "markdown",
   "id": "90791bf7",
   "metadata": {},
   "source": [
    "Cross section and delta tau"
   ]
  },
  {
   "cell_type": "code",
   "execution_count": 10,
   "id": "c2516180",
   "metadata": {
    "execution": {
     "iopub.execute_input": "2023-03-14T12:03:54.222888Z",
     "iopub.status.busy": "2023-03-14T12:03:54.212663Z",
     "iopub.status.idle": "2023-03-14T12:03:54.637093Z",
     "shell.execute_reply": "2023-03-14T12:03:54.635945Z"
    }
   },
   "outputs": [],
   "source": [
    "xsm_K = xsmatrix(numatrix_K, sigmaDM_K, gammaLM_K, SijM_K)\n",
    "dtaua_K = dtauM(dParr, xsm_K, VMR_Fe*np.ones_like(Tarr), mmw, g)"
   ]
  },
  {
   "cell_type": "markdown",
   "id": "22b823c3",
   "metadata": {},
   "source": [
    "Delta tau for CIA and Hminus"
   ]
  },
  {
   "cell_type": "code",
   "execution_count": 11,
   "id": "d0fa6469",
   "metadata": {
    "execution": {
     "iopub.execute_input": "2023-03-14T12:03:54.644898Z",
     "iopub.status.busy": "2023-03-14T12:03:54.644037Z",
     "iopub.status.idle": "2023-03-14T12:04:00.863770Z",
     "shell.execute_reply": "2023-03-14T12:04:00.864023Z"
    }
   },
   "outputs": [
    {
     "name": "stdout",
     "output_type": "stream",
     "text": [
      "H2-H2\n"
     ]
    }
   ],
   "source": [
    "cdbH2H2=contdb.CdbCIA('.database/H2-H2_2011.cia', nus)\n",
    "\n",
    "vmrh=H_He_HH_VMR[0]\n",
    "vmre=vmrh*1e-5\n",
    "vmrH2=H_He_HH_VMR[2] #(0.74*mmw/molinfo.molmass(\"H2\")) #VMR\n",
    "\n",
    "dtau_Hm = dtauHminus(nus, Tarr, Parr, dParr, vmre, vmrh, mmw, g)\n",
    "dtaucH2H2=dtauCIA(nus,Tarr,Parr,dParr,vmrH2,vmrH2,\\\n",
    "            mmw,g,cdbH2H2.nucia,cdbH2H2.tcia,cdbH2H2.logac)\n"
   ]
  },
  {
   "cell_type": "markdown",
   "id": "5d536a83",
   "metadata": {},
   "source": [
    "Total dtau"
   ]
  },
  {
   "cell_type": "code",
   "execution_count": 12,
   "id": "272be220",
   "metadata": {
    "execution": {
     "iopub.execute_input": "2023-03-14T12:04:00.869147Z",
     "iopub.status.busy": "2023-03-14T12:04:00.868836Z",
     "iopub.status.idle": "2023-03-14T12:04:00.881899Z",
     "shell.execute_reply": "2023-03-14T12:04:00.881561Z"
    }
   },
   "outputs": [],
   "source": [
    "dtau_K = dtaua_K + dtau_Hm + dtaucH2H2"
   ]
  },
  {
   "cell_type": "markdown",
   "id": "6ad1f56c",
   "metadata": {},
   "source": [
    "Contribution function using exojax.plot.atmplot "
   ]
  },
  {
   "cell_type": "code",
   "execution_count": 13,
   "id": "1fe063a6",
   "metadata": {
    "execution": {
     "iopub.execute_input": "2023-03-14T12:04:00.884388Z",
     "iopub.status.busy": "2023-03-14T12:04:00.884084Z",
     "iopub.status.idle": "2023-03-14T12:04:01.794145Z",
     "shell.execute_reply": "2023-03-14T12:04:01.793854Z"
    }
   },
   "outputs": [
    {
     "data": {
      "image/png": "[encoded data removed]",
      "text/plain": [
       "<Figure size 1440x216 with 3 Axes>"
      ]
     },
     "metadata": {
      "needs_background": "light"
     },
     "output_type": "display_data"
    }
   ],
   "source": [
    "from exojax.plot.atmplot import plotcf\n",
    "plotcf(nus, dtau_K, Tarr, Parr, dParr)\n",
    "#plt.savefig(path_fig + 'dtau_K.pdf')\n",
    "plt.show()"
   ]
  },
  {
   "cell_type": "markdown",
   "id": "1fc84d6b",
   "metadata": {},
   "source": [
    "Perform a radiative transfer. Here, the source function is the Planck function (multiplied by pi)."
   ]
  },
  {
   "cell_type": "code",
   "execution_count": 14,
   "id": "e21ae092",
   "metadata": {
    "execution": {
     "iopub.execute_input": "2023-03-14T12:04:01.796685Z",
     "iopub.status.busy": "2023-03-14T12:04:01.796264Z",
     "iopub.status.idle": "2023-03-14T12:04:02.108465Z",
     "shell.execute_reply": "2023-03-14T12:04:02.109467Z"
    }
   },
   "outputs": [],
   "source": [
    "from exojax.spec import planck\n",
    "from exojax.spec.rtransfer import rtrun\n",
    "sourcef = planck.piBarr(Tarr, nus)\n",
    "\n",
    "F0_K = rtrun(dtau_K, sourcef)"
   ]
  },
  {
   "cell_type": "code",
   "execution_count": 15,
   "id": "1ae2a2db",
   "metadata": {
    "execution": {
     "iopub.execute_input": "2023-03-14T12:04:02.142542Z",
     "iopub.status.busy": "2023-03-14T12:04:02.134326Z",
     "iopub.status.idle": "2023-03-14T12:04:02.248763Z",
     "shell.execute_reply": "2023-03-14T12:04:02.248440Z"
    }
   },
   "outputs": [
    {
     "data": {
      "text/plain": [
       "(200000.0, 1500000.0)"
      ]
     },
     "execution_count": 15,
     "metadata": {},
     "output_type": "execute_result"
    },
    {
     "data": {
      "image/png": "[encoded data removed]",
      "text/plain": [
       "<Figure size 432x288 with 1 Axes>"
      ]
     },
     "metadata": {
      "needs_background": "light"
     },
     "output_type": "display_data"
    }
   ],
   "source": [
    "plt.plot(wav[::-1], F0_K)\n",
    "plt.ylim(0.2e6, 1.5e6)"
   ]
  },
  {
   "cell_type": "markdown",
   "id": "e4d59866",
   "metadata": {},
   "source": [
    "# Comparison with Fe I lines of VALD3\n",
    "(c.f. [Forward modeling of the emission spectrum using VALD3](http://secondearths.sakura.ne.jp/exojax/tutorials/metals.html))"
   ]
  },
  {
   "cell_type": "code",
   "execution_count": 16,
   "id": "9399c9ac",
   "metadata": {
    "execution": {
     "iopub.execute_input": "2023-03-14T12:04:02.251260Z",
     "iopub.status.busy": "2023-03-14T12:04:02.250915Z",
     "iopub.status.idle": "2023-03-14T12:04:11.160449Z",
     "shell.execute_reply": "2023-03-14T12:04:11.160747Z"
    }
   },
   "outputs": [
    {
     "name": "stdout",
     "output_type": "stream",
     "text": [
      "Reading VALD file\n"
     ]
    }
   ],
   "source": [
    "\"\"\"\n",
    "    valdlines:  fullpath to the input line list obtained from VALD3 (http://vald.astro.uu.se/):\n",
    "        For a example in this notebook, the VALD3 request form of \"Extract Element\" mode was used filling the form \"Element [ + ionization ] :\" with \"Fe 1\".\n",
    "        For more details of VALD data access, please see \"Forward modeling for metal line.ipynb\" (https://github.com/HajimeKawahara/exojax/blob/master/examples/tutorial/Forward%20modeling%20for%20metal%20line.ipynb)\n",
    "\"\"\"\n",
    "\n",
    "valdlines = '.database/vald2600.gz'\n",
    "adbV = moldb.AdbVald(valdlines, nus)"
   ]
  },
  {
   "cell_type": "code",
   "execution_count": 17,
   "id": "79da55bf",
   "metadata": {
    "execution": {
     "iopub.execute_input": "2023-03-14T12:04:11.164610Z",
     "iopub.status.busy": "2023-03-14T12:04:11.161950Z",
     "iopub.status.idle": "2023-03-14T12:04:12.164707Z",
     "shell.execute_reply": "2023-03-14T12:04:12.164443Z"
    }
   },
   "outputs": [],
   "source": [
    "qt_V = np.zeros([len(adbV.QTmask), len(Tarr)])\n",
    "\n",
    "for i, mask in enumerate(adbV.QTmask):\n",
    "    qt_V[i] = qt_284[:,mask]\n",
    "qt_V = jnp.array(qt_V)\n",
    "\n",
    "gammaLM_V = jit(vmap(atomll.gamma_vald3,(0,0,0,0,None,None,None,None,None,None,None,None,None,None,None)))\\\n",
    "        (Tarr, PH, PHH, PHe, adbV.ielem, adbV.iion, \\\n",
    "                adbV.dev_nu_lines, adbV.elower, adbV.eupper, adbV.atomicmass, adbV.ionE, \\\n",
    "                adbV.gamRad, adbV.gamSta, adbV.vdWdamp, 1.0)\n",
    "sigmaDM_V = jit(vmap(doppler_sigma,(None,0,None)))\\\n",
    "    (adbV.nu_lines, Tarr, adbV.atomicmass)\n",
    "SijM_V = jit(vmap(SijT,(0,None,None,None,0)))\\\n",
    "    (Tarr, adbV.logsij0, adbV.nu_lines, adbV.elower, qt_V.T)\n",
    "\n",
    "numatrix_V = init_lpf(adbV.nu_lines, nus)\n",
    "\n",
    "xsm_V = xsmatrix(numatrix_V, sigmaDM_V, gammaLM_V, SijM_V)\n",
    "dtaua_V = dtauM(dParr, xsm_V, VMR_Fe*np.ones_like(Tarr), mmw, g)\n",
    "dtau_V = dtaua_V + dtau_Hm + dtaucH2H2\n"
   ]
  },
  {
   "cell_type": "code",
   "execution_count": 18,
   "id": "9fb41a59",
   "metadata": {
    "execution": {
     "iopub.execute_input": "2023-03-14T12:04:12.166915Z",
     "iopub.status.busy": "2023-03-14T12:04:12.166632Z",
     "iopub.status.idle": "2023-03-14T12:04:12.705350Z",
     "shell.execute_reply": "2023-03-14T12:04:12.705053Z"
    }
   },
   "outputs": [
    {
     "data": {
      "image/png": "[encoded data removed]",
      "text/plain": [
       "<Figure size 1440x216 with 3 Axes>"
      ]
     },
     "metadata": {
      "needs_background": "light"
     },
     "output_type": "display_data"
    }
   ],
   "source": [
    "from exojax.plot.atmplot import plotcf\n",
    "plotcf(nus, dtau_V, Tarr, Parr, dParr)\n",
    "#plt.savefig(path_fig + 'dtau_V.pdf')\n",
    "plt.show()"
   ]
  },
  {
   "cell_type": "code",
   "execution_count": 19,
   "id": "e74a034e",
   "metadata": {
    "execution": {
     "iopub.execute_input": "2023-03-14T12:04:12.707940Z",
     "iopub.status.busy": "2023-03-14T12:04:12.707656Z",
     "iopub.status.idle": "2023-03-14T12:04:12.809486Z",
     "shell.execute_reply": "2023-03-14T12:04:12.809167Z"
    }
   },
   "outputs": [
    {
     "data": {
      "image/png": "[encoded data removed]",
      "text/plain": [
       "<Figure size 432x288 with 1 Axes>"
      ]
     },
     "metadata": {
      "needs_background": "light"
     },
     "output_type": "display_data"
    }
   ],
   "source": [
    "F0_V = rtrun(dtau_V, sourcef)\n",
    "\n",
    "plt.plot(wav[::-1], F0_K, label='Kurucz')\n",
    "plt.plot(wav[::-1], F0_V, '--', label='VALD', lw=2., alpha=.8)\n",
    "plt.ylim(0.2e6, 1.5e6)\n",
    "plt.legend()\n",
    "#plt.savefig(path_fig + 'comp_F0_KV.pdf')\n",
    "plt.show()"
   ]
  },
  {
   "cell_type": "code",
   "execution_count": 20,
   "id": "3d174472",
   "metadata": {
    "execution": {
     "iopub.execute_input": "2023-03-14T12:04:12.819689Z",
     "iopub.status.busy": "2023-03-14T12:04:12.819249Z",
     "iopub.status.idle": "2023-03-14T12:04:13.019222Z",
     "shell.execute_reply": "2023-03-14T12:04:13.019486Z"
    }
   },
   "outputs": [
    {
     "name": "stdout",
     "output_type": "stream",
     "text": [
      "10398.644993873695 10398.6434\n",
      "17550.18 17549.809\n",
      "-122.76289 -123.187065\n",
      "4245.6694 2772.9773\n",
      "-7.76 -7.8\n"
     ]
    }
   ],
   "source": [
    "#Comparison of values\n",
    "print(1e8/adbK.nu_lines[np.argmax(adbK.logsij0)],  1e8/adbV.nu_lines[np.argmax(adbV.logsij0[20:])+20])\n",
    "print(adbK.elower[np.argmax(adbK.logsij0)],  adbV.elower[np.argmax(adbV.logsij0[20:])+20])\n",
    "print(adbK.logsij0[np.argmax(adbK.logsij0)],  adbV.logsij0[np.argmax(adbV.logsij0[20:])+20])\n",
    "print(adbK.A[np.argmax(adbK.logsij0)],  adbV.A[np.argmax(adbV.logsij0[20:])+20])\n",
    "print(adbK.vdWdamp[np.argmax(adbK.logsij0)],  adbV.vdWdamp[np.argmax(adbV.logsij0[20:])+20])"
   ]
  },
  {
   "cell_type": "code",
   "execution_count": null,
   "id": "0b7c4d1f",
   "metadata": {},
   "outputs": [],
   "source": []
  }
 ],
 "metadata": {
  "kernelspec": {
   "display_name": "Python 3 (ipykernel)",
   "language": "python",
   "name": "python3"
  },
  "language_info": {
   "codemirror_mode": {
    "name": "ipython",
    "version": 3
   },
   "file_extension": ".py",
   "mimetype": "text/x-python",
   "name": "python",
   "nbconvert_exporter": "python",
   "pygments_lexer": "ipython3",
   "version": "3.8.8"
  }
 },
 "nbformat": 4,
 "nbformat_minor": 5
}
