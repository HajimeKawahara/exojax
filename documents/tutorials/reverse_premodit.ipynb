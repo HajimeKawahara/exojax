{
 "cells": [
  {
   "cell_type": "code",
   "execution_count": null,
   "id": "d20c3006",
   "metadata": {},
   "outputs": [],
   "source": [
    "\"\"\" Reverse modeling of Methane emission spectrum using MODIT\n",
    "\"\"\"\n",
    "!/usr/bin/env python\n",
    "# coding: utf-8\n",
    "import numpy as np\n",
    "import matplotlib.pyplot as plt"
   ]
  },
  {
   "cell_type": "code",
   "execution_count": null,
   "id": "72eb2beb",
   "metadata": {},
   "outputs": [],
   "source": [
    "from jax import random\n",
    "import jax.numpy as jnp"
   ]
  },
  {
   "cell_type": "code",
   "execution_count": null,
   "id": "d22c49c4",
   "metadata": {},
   "outputs": [],
   "source": [
    "import pandas as pd\n",
    "import pkg_resources"
   ]
  },
  {
   "cell_type": "code",
   "execution_count": null,
   "id": "b5e136f0",
   "metadata": {},
   "outputs": [],
   "source": [
    "from exojax.spec.atmrt import ArtEmisPure\n",
    "from exojax.spec.api import MdbExomol\n",
    "from exojax.spec.opacalc import OpaPremodit\n",
    "from exojax.spec.contdb import CdbCIA\n",
    "from exojax.spec.opacont import OpaCIA\n",
    "from exojax.spec.response import ipgauss_sampling\n",
    "from exojax.spec.spin_rotation import convolve_rigid_rotation\n",
    "from exojax.spec import molinfo\n",
    "from exojax.spec.unitconvert import nu2wav\n",
    "from exojax.utils.grids import wavenumber_grid\n",
    "from exojax.utils.grids import velocity_grid\n",
    "from exojax.utils.astrofunc import gravity_jupiter\n",
    "from exojax.utils.instfunc import resolution_to_gaussian_std\n",
    "from exojax.test.data import SAMPLE_SPECTRA_CH4_NEW"
   ]
  },
  {
   "cell_type": "code",
   "execution_count": null,
   "id": "afee072d",
   "metadata": {},
   "outputs": [],
   "source": [
    "from jax.config import config"
   ]
  },
  {
   "cell_type": "code",
   "execution_count": null,
   "id": "73f5ed1a",
   "metadata": {},
   "outputs": [],
   "source": [
    "config.update(\"jax_enable_x64\", True)"
   ]
  },
  {
   "cell_type": "code",
   "execution_count": null,
   "id": "668320d4",
   "metadata": {},
   "outputs": [],
   "source": [
    "# PPL\n",
    "import arviz\n",
    "from numpyro.diagnostics import hpdi\n",
    "from numpyro.infer import Predictive\n",
    "from numpyro.infer import MCMC, NUTS\n",
    "import numpyro\n",
    "import numpyro.distributions as dist"
   ]
  },
  {
   "cell_type": "code",
   "execution_count": null,
   "id": "ff932886",
   "metadata": {},
   "outputs": [],
   "source": [
    "# loading the data\n",
    "filename = pkg_resources.resource_filename(\n",
    "    'exojax', 'data/testdata/' + SAMPLE_SPECTRA_CH4_NEW)\n",
    "dat = pd.read_csv(filename, delimiter=\",\", names=(\"wavenumber\", \"flux\"))\n",
    "nusd = dat['wavenumber'].values\n",
    "flux = dat['flux'].values\n",
    "wavd = nu2wav(nusd, wavelength_order=\"ascending\")"
   ]
  },
  {
   "cell_type": "code",
   "execution_count": null,
   "id": "2254244b",
   "metadata": {},
   "outputs": [],
   "source": [
    "sigmain = 0.05\n",
    "norm = 20000\n",
    "nflux = flux / norm + np.random.normal(0, sigmain, len(wavd))"
   ]
  },
  {
   "cell_type": "code",
   "execution_count": null,
   "id": "9c630426",
   "metadata": {},
   "outputs": [],
   "source": [
    "Nx = 7500\n",
    "nu_grid, wav, res = wavenumber_grid(np.min(wavd) - 10.0,\n",
    "                                    np.max(wavd) + 10.0,\n",
    "                                    Nx,\n",
    "                                    unit='AA',\n",
    "                                    xsmode='premodit', wavelength_order=\"ascending\")"
   ]
  },
  {
   "cell_type": "code",
   "execution_count": null,
   "id": "8a328f2c",
   "metadata": {},
   "outputs": [],
   "source": [
    "Tlow = 400.0\n",
    "Thigh = 1500.0\n",
    "art = ArtEmisPure(nu_grid, pressure_top=1.e-8, pressure_btm=1.e2, nlayer=100)\n",
    "art.change_temperature_range(Tlow, Thigh)\n",
    "Mp = 33.2"
   ]
  },
  {
   "cell_type": "code",
   "execution_count": null,
   "id": "6f07955a",
   "metadata": {},
   "outputs": [],
   "source": [
    "Rinst = 100000.\n",
    "beta_inst = resolution_to_gaussian_std(Rinst)"
   ]
  },
  {
   "cell_type": "code",
   "execution_count": null,
   "id": "8ba99c30",
   "metadata": {},
   "outputs": [],
   "source": [
    "### CH4 setting (PREMODIT)\n",
    "mdb = MdbExomol('.database/CH4/12C-1H4/YT10to10/',\n",
    "                nurange=nu_grid,\n",
    "                gpu_transfer=False)\n",
    "print('N=', len(mdb.nu_lines))\n",
    "diffmode = 0\n",
    "opa = OpaPremodit(mdb=mdb,\n",
    "                  nu_grid=nu_grid,\n",
    "                  diffmode=diffmode,\n",
    "                  auto_trange=[Tlow, Thigh],\n",
    "                  dit_grid_resolution=0.2)"
   ]
  },
  {
   "cell_type": "code",
   "execution_count": null,
   "id": "0f4c79f7",
   "metadata": {},
   "outputs": [],
   "source": [
    "## CIA setting\n",
    "cdbH2H2 = CdbCIA('.database/H2-H2_2011.cia', nu_grid)\n",
    "opcia = OpaCIA(cdb=cdbH2H2, nu_grid=nu_grid)\n",
    "mmw = 2.33  # mean molecular weight\n",
    "mmrH2 = 0.74\n",
    "molmassH2 = molinfo.molmass_isotope('H2')\n",
    "vmrH2 = (mmrH2 * mmw / molmassH2)  # VMR"
   ]
  },
  {
   "cell_type": "code",
   "execution_count": null,
   "id": "cb2158c9",
   "metadata": {},
   "outputs": [],
   "source": [
    "#settings before HMC\n",
    "vsini_max = 100.0\n",
    "vr_array = velocity_grid(res, vsini_max)"
   ]
  },
  {
   "cell_type": "code",
   "execution_count": null,
   "id": "ec165de1",
   "metadata": {},
   "outputs": [],
   "source": [
    "print(\"ready\")"
   ]
  },
  {
   "cell_type": "code",
   "execution_count": null,
   "id": "9e08d0cc",
   "metadata": {},
   "outputs": [],
   "source": [
    "def frun(Tarr, MMR_CH4, Mp, Rp, u1, u2, RV, vsini):\n",
    "    g = gravity_jupiter(Rp=Rp, Mp=Mp)  # gravity in the unit of Jupiter\n",
    "    #molecule\n",
    "    xsmatrix = opa.xsmatrix(Tarr, art.pressure)\n",
    "    mmr_arr = art.constant_mmr_profile(MMR_CH4)\n",
    "    dtaumCH4 = art.opacity_profile_xs(xsmatrix, mmr_arr, opa.mdb.molmass, g)\n",
    "    #continuum\n",
    "    logacia_matrix = opcia.logacia_matrix(Tarr)\n",
    "    dtaucH2H2 = art.opacity_profile_cia(logacia_matrix, Tarr, vmrH2, vmrH2,\n",
    "                                        mmw, g)\n",
    "    #total tau\n",
    "    dtau = dtaumCH4 + dtaucH2H2\n",
    "    F0 = art.run(dtau, Tarr) / norm\n",
    "    Frot = convolve_rigid_rotation(F0, vr_array, vsini, u1, u2)\n",
    "    mu = ipgauss_sampling(nusd, nu_grid, Frot, beta_inst, RV, vr_array)\n",
    "    return mu"
   ]
  },
  {
   "cell_type": "code",
   "execution_count": null,
   "id": "632c2a89",
   "metadata": {},
   "outputs": [],
   "source": [
    "import matplotlib.pyplot as plt\n",
    "#g = gravity_jupiter(0.88, 33.2)\n",
    "Rp = 0.88\n",
    "Mp = 33.2\n",
    "alpha = 0.1\n",
    "MMR_CH4 = 0.0059\n",
    "vsini = 20.0\n",
    "RV = 10.0\n",
    "T0 = 1200.0\n",
    "u1 = 0.0\n",
    "u2 = 0.0\n",
    "Tarr = art.powerlaw_temperature(T0, alpha)\n",
    "Ftest = frun(Tarr, MMR_CH4, Mp, Rp, u1, u2, RV, vsini)"
   ]
  },
  {
   "cell_type": "code",
   "execution_count": null,
   "id": "7567df65",
   "metadata": {},
   "outputs": [],
   "source": [
    "Tarr = art.powerlaw_temperature(1500.0, alpha)\n",
    "Ftest2 = frun(Tarr, MMR_CH4, Mp, Rp, u1, u2, RV, vsini)"
   ]
  },
  {
   "cell_type": "code",
   "execution_count": null,
   "id": "984a8a68",
   "metadata": {},
   "outputs": [],
   "source": [
    "plt.plot(nusd, nflux)\n",
    "plt.plot(nusd, Ftest, ls=\"dashed\")\n",
    "plt.plot(nusd, Ftest2, ls=\"dotted\")\n",
    "plt.yscale(\"log\")\n",
    "plt.show()"
   ]
  },
  {
   "cell_type": "code",
   "execution_count": null,
   "id": "5226a149",
   "metadata": {},
   "outputs": [],
   "source": [
    "def model_c(y1):\n",
    "    Rp = numpyro.sample('Rp', dist.Uniform(0.4, 1.2))\n",
    "    RV = numpyro.sample('RV', dist.Uniform(5.0, 15.0))\n",
    "    MMR_CH4 = numpyro.sample('MMR_CH4', dist.Uniform(0.0, 0.015))\n",
    "    T0 = numpyro.sample('T0', dist.Uniform(1000.0, 1500.0))\n",
    "    alpha = numpyro.sample('alpha', dist.Uniform(0.05, 0.2))\n",
    "    vsini = numpyro.sample('vsini', dist.Uniform(15.0, 25.0))\n",
    "    u1 = 0.0\n",
    "    u2 = 0.0\n",
    "    Tarr = art.powerlaw_temperature(T0, alpha)\n",
    "    mu = frun(Tarr, MMR_CH4, Mp, Rp, u1, u2, RV, vsini)\n",
    "    numpyro.sample('y1', dist.Normal(mu, sigmain), obs=y1)"
   ]
  },
  {
   "cell_type": "code",
   "execution_count": null,
   "id": "e6ee16b0",
   "metadata": {},
   "outputs": [],
   "source": [
    "rng_key = random.PRNGKey(0)\n",
    "rng_key, rng_key_ = random.split(rng_key)\n",
    "num_warmup, num_samples = 500, 1000\n",
    "#kernel = NUTS(model_c, forward_mode_differentiation=True)\n",
    "kernel = NUTS(model_c, forward_mode_differentiation=False)"
   ]
  },
  {
   "cell_type": "code",
   "execution_count": null,
   "id": "5299d581",
   "metadata": {},
   "outputs": [],
   "source": [
    "mcmc = MCMC(kernel, num_warmup=num_warmup, num_samples=num_samples)\n",
    "mcmc.run(rng_key_, y1=nflux)\n",
    "mcmc.print_summary()"
   ]
  },
  {
   "cell_type": "code",
   "execution_count": null,
   "id": "2a9bb55d",
   "metadata": {},
   "outputs": [],
   "source": [
    "# SAMPLING\n",
    "posterior_sample = mcmc.get_samples()\n",
    "pred = Predictive(model_c, posterior_sample, return_sites=['y1'])\n",
    "predictions = pred(rng_key_, y1=None)\n",
    "median_mu1 = jnp.median(predictions['y1'], axis=0)\n",
    "hpdi_mu1 = hpdi(predictions['y1'], 0.9)"
   ]
  },
  {
   "cell_type": "code",
   "execution_count": null,
   "id": "86091bcf",
   "metadata": {},
   "outputs": [],
   "source": [
    "# PLOT\n",
    "fig, ax = plt.subplots(nrows=1, ncols=1, figsize=(20, 6.0))\n",
    "ax.plot(wavd[::-1], median_mu1, color='C0')\n",
    "ax.plot(wavd[::-1], nflux, '+', color='black', label='data')\n",
    "ax.fill_between(wavd[::-1],\n",
    "                hpdi_mu1[0],\n",
    "                hpdi_mu1[1],\n",
    "                alpha=0.3,\n",
    "                interpolate=True,\n",
    "                color='C0',\n",
    "                label='90% area')\n",
    "plt.xlabel('wavelength ($\\AA$)', fontsize=16)\n",
    "plt.legend(fontsize=16)\n",
    "plt.tick_params(labelsize=16)\n",
    "plt.savefig(\"pred_diffmode\" + str(diffmode) + \".png\")\n",
    "plt.close()"
   ]
  },
  {
   "cell_type": "code",
   "execution_count": null,
   "id": "714cb631",
   "metadata": {},
   "outputs": [],
   "source": [
    "pararr = ['Rp', 'T0', 'alpha', 'MMR_CH4', 'vsini', 'RV']\n",
    "arviz.plot_pair(arviz.from_numpyro(mcmc),\n",
    "                kind='kde',\n",
    "                divergences=False,\n",
    "                marginals=True)\n",
    "plt.savefig(\"corner_diffmode\" + str(diffmode) + \".png\")\n",
    "#plt.show()"
   ]
  }
 ],
 "metadata": {
  "jupytext": {
   "cell_metadata_filter": "-all",
   "main_language": "python",
   "notebook_metadata_filter": "-all"
  }
 },
 "nbformat": 4,
 "nbformat_minor": 5
}
