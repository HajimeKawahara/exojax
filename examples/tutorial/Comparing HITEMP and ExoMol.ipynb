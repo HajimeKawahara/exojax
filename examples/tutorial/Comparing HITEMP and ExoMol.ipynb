{
 "cells": [
  {
   "cell_type": "markdown",
   "metadata": {},
   "source": [
    "## Comparing HITEMP and ExoMol"
   ]
  },
  {
   "cell_type": "code",
   "execution_count": 1,
   "metadata": {},
   "outputs": [],
   "source": [
    "from exojax.spec import xsection\n",
    "from exojax.spec.hitran import SijT, doppler_sigma, gamma_hitran, gamma_natural\n",
    "from exojax.spec.exomol import gamma_exomol\n",
    "from exojax.spec import moldb\n",
    "import numpy as np\n",
    "import seaborn as sns\n",
    "import matplotlib.pyplot as plt\n",
    "plt.style.use('bmh')"
   ]
  },
  {
   "cell_type": "markdown",
   "metadata": {},
   "source": [
    "First of all, set a wavenumber bin in the unit of wavenumber (cm-1).\n",
    "Here we set the wavenumber range as $1000 \\le \\nu \\le 10000$ (1/cm) with the resolution of 0.01 (1/cm). \n",
    "\n",
    "We call moldb instance with the path of par file.\n",
    "If the par file does not exist, moldb will try to download it from HITRAN website."
   ]
  },
  {
   "cell_type": "code",
   "execution_count": 2,
   "metadata": {},
   "outputs": [],
   "source": [
    "# Setting wavenumber bins and loading HITEMP database\n",
    "wav=np.linspace(22930.0,23000.0,4000,dtype=np.float64) #AA\n",
    "nus=1.e8/wav[::-1] #cm-1"
   ]
  },
  {
   "cell_type": "code",
   "execution_count": 2,
   "metadata": {},
   "outputs": [
    {
     "name": "stdout",
     "output_type": "stream",
     "text": [
      "bunziping\n"
     ]
    }
   ],
   "source": [
    "mdbCO_HITEMP=moldb.MdbHit('/home/kawahara/exojax/data/CO/05_HITEMP2019.par.bz2',nus)"
   ]
  },
  {
   "cell_type": "code",
   "execution_count": 3,
   "metadata": {},
   "outputs": [
    {
     "name": "stdout",
     "output_type": "stream",
     "text": [
      "Background atmosphere:  H2\n",
      "Reading transition file\n",
      "Broadening code level= a0\n",
      "default broadening parameters are used for  71  J lower states in  152  states\n"
     ]
    }
   ],
   "source": [
    "emf='/home/kawahara/exojax/data/CO/12C-16O/Li2015'\n",
    "mdbCO_Li2015=moldb.MdbExomol(emf,nus)"
   ]
  },
  {
   "cell_type": "markdown",
   "metadata": {},
   "source": [
    "Define molecular weight of CO ($\\sim 12+16=28$), temperature (K), and pressure (bar).\n",
    "Also, we here assume the 100 % CO atmosphere, i.e. the partial pressure = pressure.  "
   ]
  },
  {
   "cell_type": "code",
   "execution_count": 4,
   "metadata": {},
   "outputs": [],
   "source": [
    "from exojax.spec import molinfo\n",
    "Mmol=molinfo.molmass(\"CO\") # molecular weight\n",
    "Tfix=1300.0 # we assume T=1300K\n",
    "Pfix=0.99 # we compute P=1 bar=0.99+0.1\n",
    "Ppart=0.01 #partial pressure of CO. here we assume a 1% CO atmosphere (very few). "
   ]
  },
  {
   "cell_type": "markdown",
   "metadata": {},
   "source": [
    "partition function ratio $q(T)$ is defined by \n",
    "\n",
    "$q(T) = Q(T)/Q(T_{ref})$; $T_{ref}$=296 K\n",
    "\n",
    "Here, we use the partition function from HAPI"
   ]
  },
  {
   "cell_type": "code",
   "execution_count": 5,
   "metadata": {},
   "outputs": [],
   "source": [
    "mdbCO_HITEMP.ExomolQT(emf) #use Q(T) from Exomol/Li2015\n",
    "qt_HITEMP=mdbCO_HITEMP.qr_interp(Tfix)\n",
    "qt_Li2015=mdbCO_Li2015.qr_interp(Tfix)"
   ]
  },
  {
   "cell_type": "markdown",
   "metadata": {},
   "source": [
    "Let us compute the line strength S(T) at temperature of Tfix.\n",
    "\n",
    "$S (T;s_0,\\nu_0,E_l,q(T)) = S_0 \\frac{Q(T_{ref})}{Q(T)} \\frac{e^{- h c E_l /k_B T}}{e^{- h c E_l /k_B T_{ref}}} \\frac{1- e^{- h c \\nu /k_B T}}{1-e^{- h c \\nu /k_B T_{ref}}}= q_r(T)^{-1} e^{ s_0 - c_2 E_l (T^{-1} - T_{ref}^{-1})}  \\frac{1- e^{- c_2 \\nu_0/ T}}{1-e^{- c_2 \\nu_0/T_{ref}}}$\n",
    "\n",
    "$s_0=\\log_{e} S_0$ : logsij0\n",
    "\n",
    "$\\nu_0$: nu_lines\n",
    "\n",
    "$E_l$ : elower\n",
    "\n",
    "Why the input is $s_0 = \\log_{e} S_0$ instead of $S_0$ in SijT? This is because the direct value of $S_0$ is quite small and we need to use float32 for jax.  "
   ]
  },
  {
   "cell_type": "code",
   "execution_count": 6,
   "metadata": {},
   "outputs": [],
   "source": [
    "Sij_HITEMP=SijT(Tfix,mdbCO_HITEMP.logsij0,mdbCO_HITEMP.nu_lines,\\\n",
    "         mdbCO_HITEMP.elower,qt_HITEMP)\n",
    "Sij_Li2015=SijT(Tfix,mdbCO_Li2015.logsij0,mdbCO_Li2015.nu_lines,\\\n",
    "                mdbCO_Li2015.elower,qt_Li2015)"
   ]
  },
  {
   "cell_type": "markdown",
   "metadata": {},
   "source": [
    "Then, compute the Lorentz gamma factor (pressure+natural broadening)\n",
    "\n",
    "$\\gamma_L = \\gamma^p_L + \\gamma^n_L$\n",
    "\n",
    "where the pressure broadning (HITEMP)\n",
    "\n",
    "$\\gamma^p_L = (T/296K)^{-n_{air}} [ \\alpha_{air} ( P - P_{part})/P_{atm} + \\alpha_{self} P_{part}/P_{atm}]$\n",
    "\n",
    "$P_{atm}$: 1 atm in the unit of bar (i.e. = 1.01325)\n",
    "\n",
    "or \n",
    "\n",
    "the pressure broadning (ExoMol)\n",
    "\n",
    "$\\gamma^p_L = \\alpha_{ref}  ( T/T_{ref} )^{-n_{texp}} ( P/P_{ref}), $\n",
    "\n",
    "\n",
    "and the natural broadening\n",
    "\n",
    "$\\gamma^n_L = \\frac{A}{4 \\pi c}$"
   ]
  },
  {
   "cell_type": "code",
   "execution_count": 7,
   "metadata": {},
   "outputs": [],
   "source": [
    "gammaL_HITEMP = gamma_hitran(Pfix,Tfix, Ppart, mdbCO_HITEMP.n_air, \\\n",
    "                      mdbCO_HITEMP.gamma_air, mdbCO_HITEMP.gamma_self) \\\n",
    "+ gamma_natural(mdbCO_HITEMP.A) \n",
    "\n",
    "gammaL_Li2015 = gamma_exomol(Pfix,Tfix,mdbCO_Li2015.n_Texp,mdbCO_Li2015.alpha_ref)\\\n",
    "+ gamma_natural(mdbCO_Li2015.A) "
   ]
  },
  {
   "cell_type": "markdown",
   "metadata": {},
   "source": [
    "Thermal broadening\n",
    "\n",
    "$\\sigma_D^{t} = \\sqrt{\\frac{k_B T}{M m_u}} \\frac{\\nu_0}{c}$"
   ]
  },
  {
   "cell_type": "code",
   "execution_count": 8,
   "metadata": {},
   "outputs": [],
   "source": [
    "# thermal doppler sigma\n",
    "sigmaD_HITEMP=doppler_sigma(mdbCO_HITEMP.nu_lines,Tfix,Mmol)\n",
    "sigmaD_Li2015=doppler_sigma(mdbCO_Li2015.nu_lines,Tfix,Mmol)"
   ]
  },
  {
   "cell_type": "markdown",
   "metadata": {},
   "source": [
    "Then, the line center...\n",
    "\n",
    "In HITRAN database, a slight pressure shift can be included using $\\delta_{air}$:\n",
    "$\\nu_0(P) = \\nu_0 + \\delta_{air} P$. But this shift is quite a bit. "
   ]
  },
  {
   "cell_type": "code",
   "execution_count": 9,
   "metadata": {},
   "outputs": [],
   "source": [
    "#line center\n",
    "nu0_HITEMP=mdbCO_HITEMP.nu_lines\n",
    "nu0_Li2015=mdbCO_Li2015.nu_lines"
   ]
  },
  {
   "cell_type": "markdown",
   "metadata": {},
   "source": [
    "Although it depends on your GPU, you might need to devide the computation into multiple loops because of the limitation of the GPU memory. Here we assume 30MB for GPU memory (not exactly, memory size for numatrix). "
   ]
  },
  {
   "cell_type": "code",
   "execution_count": 10,
   "metadata": {},
   "outputs": [
    {
     "name": "stderr",
     "output_type": "stream",
     "text": [
      "100%|██████████| 12/12 [00:02<00:00,  1.26it/s]\n",
      "100%|██████████| 1/1 [00:01<00:00,  1.17s/it]\n"
     ]
    }
   ],
   "source": [
    "xsv_HITEMP=xsection(nus,nu0_HITEMP,sigmaD_HITEMP,gammaL_HITEMP\\\n",
    "                     ,Sij_HITEMP,memory_size=30) #use 30MB GPU MEMORY for numax\n",
    "xsv_Li2015=xsection(nus,nu0_Li2015,sigmaD_Li2015,gammaL_Li2015\\\n",
    "                     ,Sij_Li2015,memory_size=30) #use 30MB GPU MEMORY for numax"
   ]
  },
  {
   "cell_type": "code",
   "execution_count": 12,
   "metadata": {},
   "outputs": [
    {
     "data": {
      "image/png": "[encoded data removed]",
      "text/plain": [
       "<Figure size 720x288 with 1 Axes>"
      ]
     },
     "metadata": {
      "needs_background": "light"
     },
     "output_type": "display_data"
    }
   ],
   "source": [
    "fig=plt.figure(figsize=(10,4))\n",
    "ax=fig.add_subplot(111)\n",
    "plt.plot(wav[::-1],xsv_HITEMP,lw=2,label=\"HITEMP2019\")\n",
    "plt.plot(wav[::-1],xsv_Li2015,lw=2,ls=\"dashed\",label=\"Exomol w/ .broad\")\n",
    "plt.xlim(22970,22976)\n",
    "plt.xlabel(\"wavelength ($\\AA$)\",fontsize=14)\n",
    "plt.ylabel(\"cross section ($cm^{2}$)\",fontsize=14)\n",
    "plt.legend(loc=\"upper left\",fontsize=14)\n",
    "plt.tick_params(labelsize=12)\n",
    "plt.savefig(\"co_comparison.pdf\", bbox_inches=\"tight\", pad_inches=0.0)\n",
    "plt.savefig(\"co_comparison.png\", bbox_inches=\"tight\", pad_inches=0.0)\n",
    "plt.title(\"T=1300K,P=1bar\")\n",
    "plt.show()"
   ]
  },
  {
   "cell_type": "markdown",
   "metadata": {},
   "source": [
    "Here, we test to use the default broadening parameters in def file of exomol"
   ]
  },
  {
   "cell_type": "code",
   "execution_count": 13,
   "metadata": {},
   "outputs": [
    {
     "name": "stderr",
     "output_type": "stream",
     "text": [
      "100%|██████████| 1/1 [00:00<00:00, 232.87it/s]"
     ]
    },
    {
     "name": "stdout",
     "output_type": "stream",
     "text": [
      "No .broad file is given.\n"
     ]
    },
    {
     "name": "stderr",
     "output_type": "stream",
     "text": [
      "\n"
     ]
    }
   ],
   "source": [
    "mdbCO_Li2015.set_broadening(broadf=False) #use default broadning\n",
    "gammaL_Li2015_def = gamma_exomol(Pfix,Tfix,mdbCO_Li2015.n_Texp,mdbCO_Li2015.alpha_ref)\\\n",
    "+ gamma_natural(mdbCO_Li2015.A) \n",
    "xsv_Li2015_def=xsection(nus,nu0_Li2015,sigmaD_Li2015,gammaL_Li2015_def\\\n",
    "                     ,Sij_Li2015,memory_size=30) #use 30MB GPU MEMORY for numax"
   ]
  },
  {
   "cell_type": "markdown",
   "metadata": {},
   "source": [
    "Plot it!"
   ]
  },
  {
   "cell_type": "code",
   "execution_count": 24,
   "metadata": {
    "scrolled": false
   },
   "outputs": [
    {
     "data": {
      "image/png": "[encoded data removed]",
      "text/plain": [
       "<Figure size 504x216 with 1 Axes>"
      ]
     },
     "metadata": {
      "needs_background": "light"
     },
     "output_type": "display_data"
    }
   ],
   "source": [
    "from matplotlib.ticker import  FormatStrFormatter\n",
    "fig=plt.figure(figsize=(7,3))\n",
    "ax=fig.add_subplot(111)\n",
    "plt.plot(wav[::-1],xsv_HITEMP*1.e20,lw=1,ls=\"dashed\",label=\"HITEMP2019\")\n",
    "plt.plot(wav[::-1],xsv_Li2015_def*1.e20,color=\"C3\",lw=2,alpha=0.75,label=\"Exomol (default)\")\n",
    "plt.plot(wav[::-1],xsv_Li2015*1.e20,lw=1,label=\"Exomol .broad\")\n",
    "\n",
    "plt.xlim(22970,22976)\n",
    "plt.xlabel(\"wavelength ($\\AA$)\",fontsize=14)\n",
    "plt.ylabel(\"cross section ($10^{-20} cm^{2}$)\",fontsize=14)\n",
    "plt.legend(loc=\"upper left\",fontsize=12)\n",
    "plt.tick_params(labelsize=12)\n",
    "ax.xaxis.set_major_formatter(FormatStrFormatter(\"%i\"))\n",
    "plt.savefig(\"co_comparison.pdf\", bbox_inches=\"tight\", pad_inches=0.0)\n",
    "plt.savefig(\"co_comparison.png\", bbox_inches=\"tight\", pad_inches=0.0)\n",
    "plt.title(\"T=1300K,P=1bar\")\n",
    "\n",
    "plt.show()"
   ]
  },
  {
   "cell_type": "code",
   "execution_count": 15,
   "metadata": {},
   "outputs": [
    {
     "data": {
      "text/plain": [
       "(DeviceArray(0.01456154, dtype=float32),\n",
       " DeviceArray(0.02531094, dtype=float32))"
      ]
     },
     "execution_count": 15,
     "metadata": {},
     "output_type": "execute_result"
    }
   ],
   "source": [
    "np.min(gammaL_HITEMP),np.max(gammaL_HITEMP)"
   ]
  },
  {
   "cell_type": "code",
   "execution_count": 16,
   "metadata": {},
   "outputs": [
    {
     "data": {
      "text/plain": [
       "(DeviceArray(0.02603155, dtype=float32),\n",
       " DeviceArray(0.03306796, dtype=float32))"
      ]
     },
     "execution_count": 16,
     "metadata": {},
     "output_type": "execute_result"
    }
   ],
   "source": [
    "np.min(gammaL_Li2015),np.max(gammaL_Li2015)"
   ]
  },
  {
   "cell_type": "code",
   "execution_count": 17,
   "metadata": {},
   "outputs": [
    {
     "data": {
      "text/plain": [
       "(DeviceArray(0.03306796, dtype=float32),\n",
       " DeviceArray(0.03306796, dtype=float32))"
      ]
     },
     "execution_count": 17,
     "metadata": {},
     "output_type": "execute_result"
    }
   ],
   "source": [
    "np.min(gammaL_Li2015_def),np.max(gammaL_Li2015_def)"
   ]
  }
 ],
 "metadata": {
  "kernelspec": {
   "display_name": "Python 3 (ipykernel)",
   "language": "python",
   "name": "python3"
  },
  "language_info": {
   "codemirror_mode": {
    "name": "ipython",
    "version": 3
   },
   "file_extension": ".py",
   "mimetype": "text/x-python",
   "name": "python",
   "nbconvert_exporter": "python",
   "pygments_lexer": "ipython3",
   "version": "3.8.8"
  }
 },
 "nbformat": 4,
 "nbformat_minor": 2
}
