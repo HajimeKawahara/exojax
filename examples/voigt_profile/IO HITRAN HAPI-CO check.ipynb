{
 "cells": [
  {
   "cell_type": "code",
   "execution_count": 1,
   "metadata": {},
   "outputs": [
    {
     "name": "stderr",
     "output_type": "stream",
     "text": [
      "/home/kawahara/anaconda3/lib/python3.7/site-packages/statsmodels/tools/_testing.py:19: FutureWarning: pandas.util.testing is deprecated. Use the functions in the public API at pandas.testing instead.\n",
      "  import pandas.util.testing as tm\n"
     ]
    }
   ],
   "source": [
    "%load_ext autoreload\n",
    "%autoreload 2\n",
    "from exojax.spec import make_numatrix,voigt,lorentz\n",
    "from exojax.spec import rtransfer as rt\n",
    "from exojax.spec import planck\n",
    "import numpy as np\n",
    "import jax.numpy as jnp\n",
    "from jax import random\n",
    "from jax.lax import map, scan\n",
    "from jax import vmap, jit\n",
    "import seaborn as sns\n",
    "import matplotlib.pyplot as plt\n",
    "plt.style.use('bmh')"
   ]
  },
  {
   "cell_type": "code",
   "execution_count": 2,
   "metadata": {},
   "outputs": [
    {
     "name": "stdout",
     "output_type": "stream",
     "text": [
      "HAPI version: 1.1.2.0\n",
      "To get the most up-to-date version please check http://hitran.org/hapi\n",
      "ATTENTION: Python versions of partition sums from TIPS-2017 are now available in HAPI code\n",
      "\n",
      "           It is free to use HAPI. If you use HAPI in your research or software development,\n",
      "           please cite it using the following reference:\n",
      "           R.V. Kochanov, I.E. Gordon, L.S. Rothman, P. Wcislo, C. Hill, J.S. Wilzewski,\n",
      "           HITRAN Application Programming Interface (HAPI): A comprehensive approach\n",
      "           to working with spectroscopic data, J. Quant. Spectrosc. Radiat. Transfer 177, 15-30 (2016)\n",
      "           DOI: 10.1016/j.jqsrt.2016.03.005\n",
      "Using /home/kawahara/exojax/data/CO\n",
      "\n",
      "05_hit12\n",
      "                     Lines parsed: 4606\n"
     ]
    }
   ],
   "source": [
    "import hapi\n",
    "hapi.db_begin('/home/kawahara/exojax/data/CO')"
   ]
  },
  {
   "cell_type": "code",
   "execution_count": 3,
   "metadata": {},
   "outputs": [],
   "source": [
    "#hapi.describeTable('05_HITEMP2019')"
   ]
  },
  {
   "cell_type": "code",
   "execution_count": 4,
   "metadata": {},
   "outputs": [],
   "source": [
    "import pandas as pd\n",
    "dat=pd.read_csv(\"/home/kawahara/exojax/data/CO/05-1.0E-03bar_1.0E+00.dat\",delimiter=\",\")"
   ]
  },
  {
   "cell_type": "code",
   "execution_count": 5,
   "metadata": {},
   "outputs": [],
   "source": [
    "w=np.array(dat[\"wav\"])*1.e4 #angstrom\n",
    "absco=dat[\"absco\"]"
   ]
  },
  {
   "cell_type": "code",
   "execution_count": 135,
   "metadata": {},
   "outputs": [
    {
     "data": {
      "text/plain": [
       "-0.0999927984922204"
      ]
     },
     "execution_count": 135,
     "metadata": {},
     "output_type": "execute_result"
    }
   ],
   "source": [
    "1.e8*(1/w[2]-1/w[1])*10"
   ]
  },
  {
   "cell_type": "code",
   "execution_count": 6,
   "metadata": {},
   "outputs": [],
   "source": [
    "#wls = w[::-1]* u.Angstrom\n",
    "#wls[380000:420000]"
   ]
  },
  {
   "cell_type": "code",
   "execution_count": 53,
   "metadata": {},
   "outputs": [],
   "source": [
    "import numpy as np\n",
    "import astropy.units as u\n",
    "#nm\n",
    "llow=2290.0\n",
    "lhigh=2450.0\n",
    "#cm-1\n",
    "wlow=1.e7/lhigh\n",
    "whigh=1.e7/llow\n",
    "\n",
    "\n",
    "wls = w[::-1]\n",
    "nus = 100000000/wls\n",
    "nu_lo, nu_hi = nus.min().astype(np.int), nus.max().astype(np.int)"
   ]
  },
  {
   "cell_type": "code",
   "execution_count": 8,
   "metadata": {},
   "outputs": [
    {
     "data": {
      "text/plain": [
       "(4081.6326530612246, 4366.812227074236)"
      ]
     },
     "execution_count": 8,
     "metadata": {},
     "output_type": "execute_result"
    }
   ],
   "source": [
    "wlow,whigh\n"
   ]
  },
  {
   "cell_type": "code",
   "execution_count": 9,
   "metadata": {},
   "outputs": [],
   "source": [
    "nus, wls = jnp.array(nus), jnp.array(wls)"
   ]
  },
  {
   "cell_type": "code",
   "execution_count": 10,
   "metadata": {},
   "outputs": [],
   "source": [
    "molec='05_hit12'\n",
    "A_all = hapi.getColumn(molec, 'a')\n",
    "n_air_all = hapi.getColumn(molec, 'n_air')\n",
    "gamma_air_all = hapi.getColumn(molec, 'gamma_air')\n",
    "gamma_self_all = hapi.getColumn(molec, 'gamma_self')\n",
    "nu_lines_all = hapi.getColumn(molec, 'nu')\n",
    "delta_air_all = hapi.getColumn(molec, 'delta_air')\n",
    "S_ij_all = hapi.getColumn(molec, 'sw')\n",
    "elower_all = hapi.getColumn(molec, 'elower')\n",
    "gpp_all = hapi.getColumn(molec, 'gpp')"
   ]
  },
  {
   "cell_type": "code",
   "execution_count": 11,
   "metadata": {},
   "outputs": [
    {
     "data": {
      "text/plain": [
       "array([1.599e-33, 5.554e-29, 1.281e-31, ..., 7.869e-28, 1.844e-27,\n",
       "       1.217e-27])"
      ]
     },
     "execution_count": 11,
     "metadata": {},
     "output_type": "execute_result"
    }
   ],
   "source": [
    "S_ij_all"
   ]
  },
  {
   "cell_type": "code",
   "execution_count": 12,
   "metadata": {},
   "outputs": [
    {
     "data": {
      "text/plain": [
       "(3.462498, 8464.881965)"
      ]
     },
     "execution_count": 12,
     "metadata": {},
     "output_type": "execute_result"
    }
   ],
   "source": [
    "np.min(nu_lines_all),np.max(nu_lines_all)"
   ]
  },
  {
   "cell_type": "code",
   "execution_count": 13,
   "metadata": {},
   "outputs": [],
   "source": [
    "margin=np.inf\n",
    "#crit=1.e-98\n",
    "crit=0.0\n",
    "#mask=(S_ij_all>crit)\n",
    "mask=(nu_lines_all>nus[0]-margin)*(nu_lines_all<nus[-1]+margin)*(S_ij_all>crit)\n",
    "#mask=(nu_lines_all>nus[0]-margin)*(nu_lines_all<nus[-1]+margin)#*(S_ij_all>crit)\n",
    "\n",
    "A=A_all[mask]\n",
    "n_air=n_air_all[mask]\n",
    "gamma_air=gamma_air_all[mask]\n",
    "gamma_self=gamma_self_all[mask] \n",
    "nu_lines=nu_lines_all[mask] \n",
    "delta_air=delta_air_all[mask]\n",
    "S_ij0=S_ij_all[mask]\n",
    "elower=elower_all[mask]\n",
    "gpp=gpp_all[mask]\n",
    "\n",
    "sij0=np.log(S_ij0) #use numpy not jnp"
   ]
  },
  {
   "cell_type": "code",
   "execution_count": 14,
   "metadata": {},
   "outputs": [
    {
     "data": {
      "text/plain": [
       "(4606, 4606)"
      ]
     },
     "execution_count": 14,
     "metadata": {},
     "output_type": "execute_result"
    }
   ],
   "source": [
    "len(gpp), len(gpp_all)"
   ]
  },
  {
   "cell_type": "code",
   "execution_count": 15,
   "metadata": {},
   "outputs": [],
   "source": [
    "Tfix=1000.0"
   ]
  },
  {
   "cell_type": "code",
   "execution_count": 16,
   "metadata": {},
   "outputs": [],
   "source": [
    "@jit\n",
    "def QT(T, g_k, E_k):\n",
    "    '''Total Internal Partition Sum'''\n",
    "    c_2 = 1.4387770 #cm K\n",
    "    return jnp.sum( g_k * jnp.exp(- c_2 * E_k / T) )"
   ]
  },
  {
   "cell_type": "code",
   "execution_count": 17,
   "metadata": {},
   "outputs": [],
   "source": [
    "\n",
    "\n",
    "@jit\n",
    "def SijT(T,sij0,nu_ij,glower,elower,qT):\n",
    "    \"\"\"\n",
    "    qT=Q(Tref)/Q(T)\n",
    "    \"\"\"\n",
    "    c_2 = 1.4387770 \n",
    "    expow=sij0-c_2*(elower/T-elower/Tref)\n",
    "    fac=(1.0-jnp.exp(-c_2*nu_ij/T) )/(1.0-jnp.exp(-c_2*nu_ij/Tref))\n",
    "    return jnp.exp(expow)*qT*fac"
   ]
  },
  {
   "cell_type": "code",
   "execution_count": 19,
   "metadata": {},
   "outputs": [
    {
     "name": "stdout",
     "output_type": "stream",
     "text": [
      "3.540287620202548\n",
      "3.550836\n"
     ]
    }
   ],
   "source": [
    "Tref=296.\n",
    "Qr=hapi.partitionSum(5,1, [Tref,Tfix])\n",
    "print(Qr[1]/Qr[0])\n",
    "print(QT(Tfix, gpp_all, elower_all)/QT(Tref, gpp_all, elower_all))"
   ]
  },
  {
   "cell_type": "code",
   "execution_count": 20,
   "metadata": {},
   "outputs": [],
   "source": [
    "@jit\n",
    "def gamma_hitran(P, T, Pself, n_air, gamma_air_ref, gamma_self_ref):\n",
    "    return (Tref/T)**n_air *(gamma_air_ref*(P-Pself) + gamma_self_ref*(Pself))\n"
   ]
  },
  {
   "cell_type": "code",
   "execution_count": 96,
   "metadata": {},
   "outputs": [],
   "source": [
    "from scipy.constants import Boltzmann, proton_mass, speed_of_light, m_u"
   ]
  },
  {
   "cell_type": "code",
   "execution_count": 97,
   "metadata": {},
   "outputs": [
    {
     "data": {
      "text/plain": [
       "(1.672621898e-27, 1.66053904e-27)"
      ]
     },
     "execution_count": 97,
     "metadata": {},
     "output_type": "execute_result"
    }
   ],
   "source": [
    "proton_mass, m_u"
   ]
  },
  {
   "cell_type": "code",
   "execution_count": 98,
   "metadata": {},
   "outputs": [
    {
     "data": {
      "text/plain": [
       "3.0415595067787366e-07"
      ]
     },
     "execution_count": 98,
     "metadata": {},
     "output_type": "execute_result"
    }
   ],
   "source": [
    "np.sqrt(Boltzmann/m_u)/speed_of_light # if T is given"
   ]
  },
  {
   "cell_type": "code",
   "execution_count": 23,
   "metadata": {},
   "outputs": [
    {
     "data": {
      "text/plain": [
       "2.6544187294380728e-12"
      ]
     },
     "execution_count": 23,
     "metadata": {},
     "output_type": "execute_result"
    }
   ],
   "source": [
    "1.e-2/speed_of_light/(4.0*np.pi)"
   ]
  },
  {
   "cell_type": "code",
   "execution_count": 153,
   "metadata": {},
   "outputs": [
    {
     "data": {
      "text/plain": [
       "1.1774100225154747"
      ]
     },
     "execution_count": 153,
     "metadata": {},
     "output_type": "execute_result"
    }
   ],
   "source": [
    "np.sqrt(2*np.log(2.0))"
   ]
  },
  {
   "cell_type": "code",
   "execution_count": 24,
   "metadata": {},
   "outputs": [],
   "source": [
    "def gamma_natural(A):\n",
    "    return 2.6544187294380728e-12*A"
   ]
  },
  {
   "cell_type": "code",
   "execution_count": 99,
   "metadata": {},
   "outputs": [],
   "source": [
    "def Doppler_sigma(nu,T,M):\n",
    "    c3=3.0415595067787366e-07\n",
    "    return c3*jnp.sqrt(T/M)*nu"
   ]
  },
  {
   "cell_type": "code",
   "execution_count": 100,
   "metadata": {},
   "outputs": [],
   "source": [
    "@jit\n",
    "def cross(numatrix,sigmaD,gammas,Sij):\n",
    "    return jnp.dot((vvoigt(numatrix,sigmaD,gammas)).T,Sij)"
   ]
  },
  {
   "cell_type": "code",
   "execution_count": 101,
   "metadata": {},
   "outputs": [],
   "source": [
    "def checkga(numatrix,sigmaD,gammaL): \n",
    "    minnu=np.min(np.abs(numatrix),axis=1)\n",
    "    sfac=1.0/(np.sqrt(2)*sigmaD)\n",
    "    x=sfac*minnu\n",
    "    a=sfac*gammaL\n",
    "    return x,a"
   ]
  },
  {
   "cell_type": "code",
   "execution_count": 102,
   "metadata": {},
   "outputs": [
    {
     "data": {
      "text/plain": [
       "2299.999"
      ]
     },
     "execution_count": 102,
     "metadata": {},
     "output_type": "execute_result"
    }
   ],
   "source": [
    "import numpy as np\n",
    "float(2300.0-0.0002)\n",
    "np.float32(2300.-0.001)"
   ]
  },
  {
   "cell_type": "code",
   "execution_count": 158,
   "metadata": {},
   "outputs": [
    {
     "data": {
      "text/plain": [
       "11500000.0"
      ]
     },
     "execution_count": 158,
     "metadata": {},
     "output_type": "execute_result"
    }
   ],
   "source": [
    "2300/0.0002"
   ]
  },
  {
   "cell_type": "code",
   "execution_count": 103,
   "metadata": {},
   "outputs": [
    {
     "data": {
      "text/plain": [
       "(dtype('float32'), dtype('float64'), dtype('float64'), dtype('float64'))"
      ]
     },
     "execution_count": 103,
     "metadata": {},
     "output_type": "execute_result"
    }
   ],
   "source": [
    "#numatrix=nus[None,s:e]-nu_lines[:,None]-nu0fix\n",
    "numatrix.dtype,nus[s:e].dtype,nu_lines.dtype,nu0fix.dtype\n"
   ]
  },
  {
   "cell_type": "code",
   "execution_count": null,
   "metadata": {},
   "outputs": [],
   "source": [
    "def mnumatrix(nu,hatnu,nu0):\n",
    "    numatrix=nu[None,:]-hatnu[:,None]-nu0\n",
    "    return numatrix\n"
   ]
  },
  {
   "cell_type": "code",
   "execution_count": 157,
   "metadata": {},
   "outputs": [
    {
     "name": "stderr",
     "output_type": "stream",
     "text": [
      "100%|██████████| 83/83 [00:24<00:00,  3.77it/s]\n"
     ]
    }
   ],
   "source": [
    "Mmol=28.010446441149536\n",
    "Tref=296.0\n",
    "Tfix=1000.0\n",
    "bar2atm=1.0/1.01325\n",
    "Pfix=1.e-3*bar2atm#atm\n",
    "\n",
    "nu0fix = np.array([0.0000],dtype=np.float64)\n",
    "#-0.0002\n",
    "\n",
    "Q0=QT(Tref, gpp_all, elower_all)\n",
    "QTc=QT(Tfix, gpp_all, elower_all)\n",
    "Sij=SijT(Tfix,sij0,nu_lines,gpp,elower,Q0/QTc)\n",
    "\n",
    "gammas = vmap(gamma_hitran, in_axes=(None, None, None, 0, 0, 0)) \\\n",
    "(Pfix,Tfix,Pfix, n_air, gamma_air, gamma_self) \\\n",
    "#+ gamma_natural(A)\n",
    "\n",
    "vvoigt=jit(vmap(voigt,(0,0,0),0)) #we assume all of the input is vmaped.\n",
    "#vlorentz=jit(vmap(lorentz,(0,0),0))\n",
    "sigmaD=Doppler_sigma(nu_lines,Tfix,Mmol)*1.1\n",
    "\n",
    "\n",
    "\n",
    "import tqdm\n",
    "d=40000\n",
    "Ni=int(len(nus)/d)\n",
    "xsv=[]\n",
    "xha=[]\n",
    "aha=[]\n",
    "for i in tqdm.tqdm(range(0,Ni+1)):\n",
    "    s=int(i*d)\n",
    "    e=int((i+1)*d)\n",
    "    e=min(e,len(nus))\n",
    "    #numatrix=make_numatrix(nus[s:e],nu_lines,nu0fix)\n",
    "    numatrix=nus[None,s:e]-nu_lines[:,None]-nu0fix #require double\n",
    "    \n",
    "    #xh,ah=checkga(numatrix,sigmaD,gammas)\n",
    "    #xha=np.concatenate([xha,xh])\n",
    "    #aha=np.concatenate([aha,xh])\n",
    "    xsv = np.concatenate([xsv,cross(numatrix,sigmaD,gammas,Sij)])\n"
   ]
  },
  {
   "cell_type": "code",
   "execution_count": 93,
   "metadata": {},
   "outputs": [
    {
     "data": {
      "image/png": "[encoded data removed]",
      "text/plain": [
       "<Figure size 432x288 with 1 Axes>"
      ]
     },
     "metadata": {
      "needs_background": "light"
     },
     "output_type": "display_data"
    }
   ],
   "source": [
    "plt.plot(xha,aha,\".\",alpha=0.1)\n",
    "plt.yscale(\"log\")\n",
    "plt.xscale(\"log\")\n"
   ]
  },
  {
   "cell_type": "code",
   "execution_count": 58,
   "metadata": {},
   "outputs": [
    {
     "name": "stdout",
     "output_type": "stream",
     "text": [
      "float64\n",
      "float64\n"
     ]
    },
    {
     "data": {
      "text/plain": [
       "(None, None, numpy.ndarray)"
      ]
     },
     "execution_count": 58,
     "metadata": {},
     "output_type": "execute_result"
    }
   ],
   "source": [
    "print(nus.dtype),print(nu_lines.dtype),type(nu0fix)"
   ]
  },
  {
   "cell_type": "code",
   "execution_count": 138,
   "metadata": {},
   "outputs": [
    {
     "data": {
      "text/plain": [
       "DeviceArray([-0.2522414 , -0.24247578, -0.23222187, -0.22245625,\n",
       "             -0.21220234, -0.20243672, -0.19218281, -0.18241718,\n",
       "             -0.17216328, -0.16239765, -0.15214375, -0.14237812,\n",
       "             -0.13212422, -0.12235859, -0.11210468, -0.10233906,\n",
       "             -0.09208515, -0.08231953, -0.07206562, -0.0623    ,\n",
       "             -0.05204609, -0.04228047, -0.03202656, -0.02226094,\n",
       "             -0.01200703, -0.00224141,  0.00752422,  0.01777812,\n",
       "              0.02754375,  0.03779766,  0.04756328,  0.05781719,\n",
       "              0.06758282,  0.07783672,  0.08760235,  0.09785625,\n",
       "              0.10762188,  0.11787578,  0.12764141,  0.13789532,\n",
       "              0.14766094,  0.15791485,  0.16768047,  0.17793438,\n",
       "              0.1877    ,  0.19795391,  0.20771953,  0.21797344,\n",
       "              0.22773907,  0.23799297], dtype=float32)"
      ]
     },
     "execution_count": 138,
     "metadata": {},
     "output_type": "execute_result"
    }
   ],
   "source": [
    "nm=make_numatrix(nus[380000:420000],nu_lines,nu0fix)\n",
    "#plt.plot(nm[3000,:])\n",
    "nm[3000,15850:15900]"
   ]
  },
  {
   "cell_type": "code",
   "execution_count": 28,
   "metadata": {},
   "outputs": [],
   "source": [
    "llow=2359.4\n",
    "lhigh=2359.6\n",
    "llow=2250\n",
    "lhigh=2400"
   ]
  },
  {
   "cell_type": "code",
   "execution_count": 29,
   "metadata": {},
   "outputs": [],
   "source": [
    "wm=w[::-1]\n",
    "wmm=wm[380000:420000]\n",
    "abscom=absco[::-1]\n",
    "abscomm=abscom[380000:420000]"
   ]
  },
  {
   "cell_type": "code",
   "execution_count": 76,
   "metadata": {},
   "outputs": [
    {
     "data": {
      "image/png": "[encoded data removed]",
      "text/plain": [
       "<Figure size 864x360 with 1 Axes>"
      ]
     },
     "metadata": {
      "needs_background": "light"
     },
     "output_type": "display_data"
    }
   ],
   "source": [
    "fig=plt.figure(figsize=(12,5))\n",
    "ax=fig.add_subplot(211)\n",
    "plt.plot(wls,xsv,lw=0.5,label=\"exojax\")\n",
    "plt.plot(w,absco,lw=0.5,label=\"Kawashima\")\n",
    "plt.yscale(\"log\")\n",
    "plt.xscale(\"log\")\n",
    "plt.legend(loc=\"upper left\")\n",
    "plt.savefig(\"co_hitran.png\")\n",
    "plt.show()"
   ]
  },
  {
   "cell_type": "code",
   "execution_count": 46,
   "metadata": {},
   "outputs": [],
   "source": []
  },
  {
   "cell_type": "code",
   "execution_count": 47,
   "metadata": {},
   "outputs": [
    {
     "data": {
      "text/plain": [
       "dtype('float64')"
      ]
     },
     "execution_count": 47,
     "metadata": {},
     "output_type": "execute_result"
    }
   ],
   "source": [
    "wline=100000000/nu_lines\n",
    "wline.dtype"
   ]
  },
  {
   "cell_type": "code",
   "execution_count": 185,
   "metadata": {},
   "outputs": [
    {
     "data": {
      "text/plain": [
       "4606"
      ]
     },
     "execution_count": 185,
     "metadata": {},
     "output_type": "execute_result"
    }
   ],
   "source": [
    "len(wline)"
   ]
  },
  {
   "cell_type": "code",
   "execution_count": 138,
   "metadata": {},
   "outputs": [
    {
     "name": "stderr",
     "output_type": "stream",
     "text": [
      "100%|██████████| 4606/4606 [00:01<00:00, 2245.71it/s]\n"
     ]
    }
   ],
   "source": [
    "#Checking mass center +- 0.1 cm-1\n",
    "wline=100000000/nu_lines\n",
    "xsvc=xsv[::-1]\n",
    "lw=len(w)\n",
    "wid=10\n",
    "xe=[]#center for exojax\n",
    "xk=[]#center for kawashima\n",
    "wca=[]\n",
    "for wc in tqdm.tqdm(wline):\n",
    "    i=np.searchsorted(w,wc)\n",
    "    iq=i+wid\n",
    "    ip=i-wid\n",
    "    if iq<lw and ip>-1:\n",
    "        xc_e=np.sum((1.e8/w[ip:iq])*xsvc[ip:iq])/np.sum(xsvc[ip:iq])\n",
    "        xc_k=np.sum((1.e8/w[ip:iq])*absco[ip:iq])/np.sum(absco[ip:iq])\n",
    "        xe.append((xc_e-1.e8/wc))\n",
    "        xk.append((xc_k-1.e8/wc))\n",
    "        wca.append(wc)\n",
    "xe=np.array(xe)\n",
    "xk=np.array(xk)\n",
    "wca=np.array(wca)"
   ]
  },
  {
   "cell_type": "code",
   "execution_count": 213,
   "metadata": {},
   "outputs": [
    {
     "data": {
      "text/plain": [
       "(4006,)"
      ]
     },
     "execution_count": 213,
     "metadata": {},
     "output_type": "execute_result"
    }
   ],
   "source": [
    "np.shape(xe)"
   ]
  },
  {
   "cell_type": "code",
   "execution_count": 148,
   "metadata": {},
   "outputs": [
    {
     "data": {
      "image/png": "[encoded data removed]",
      "text/plain": [
       "<Figure size 432x288 with 2 Axes>"
      ]
     },
     "metadata": {
      "needs_background": "light"
     },
     "output_type": "display_data"
    }
   ],
   "source": [
    "#+- 0.1 cm-1\n",
    "fig=plt.figure()\n",
    "ax=fig.add_subplot(211)\n",
    "plt.plot(1.e8/wca,xk,\".\",alpha=0.1,color=\"C1\",label=\"Kawashima\")\n",
    "plt.ylim(-0.00001,0.00001)\n",
    "plt.xlim(1.e3,1.e4)\n",
    "#plt.xlim(1.e4,3.e4)\n",
    "plt.axhline(0.0,color=\"black\",lw=0.3)\n",
    "plt.ylabel(\"$\\Delta \\, \\, (\\mathrm{cm^{-1}})$\")\n",
    "plt.axhline(0.0002,lw=0.5)\n",
    "plt.xscale(\"log\")\n",
    "plt.legend(loc=\"upper left\")\n",
    "ax=fig.add_subplot(212)\n",
    "plt.plot(1.e8/wca,xe,\".\",alpha=0.1,color=\"C2\",label=\"exojax\")\n",
    "#plt.plot(wca,xk,\".\")\n",
    "plt.xscale(\"log\")\n",
    "plt.ylim(-0.00001,0.00001)\n",
    "plt.xlim(1.e3,1.e4)\n",
    "plt.axhline(0.0,color=\"black\",lw=0.3)\n",
    "plt.ylabel(\"$\\Delta \\, \\, (\\mathrm{cm^{-1}})$\")\n",
    "plt.axhline(0.0002,lw=0.5)\n",
    "plt.legend(loc=\"upper left\")\n",
    "plt.xlabel(\"wave number $(\\mathrm{cm}^{-1})$\")\n",
    "plt.savefig(\"center.pdf\", bbox_inches=\"tight\", pad_inches=0.0)\n",
    "plt.show()"
   ]
  },
  {
   "cell_type": "code",
   "execution_count": 111,
   "metadata": {},
   "outputs": [],
   "source": [
    "llow=2300.4\n",
    "lhigh=2300.7"
   ]
  },
  {
   "cell_type": "code",
   "execution_count": 156,
   "metadata": {},
   "outputs": [
    {
     "data": {
      "image/png": "[encoded data removed]",
      "text/plain": [
       "<Figure size 1728x360 with 2 Axes>"
      ]
     },
     "metadata": {
      "needs_background": "light"
     },
     "output_type": "display_data"
    }
   ],
   "source": [
    "import matplotlib.pyplot as plt\n",
    "#plt.plot(wls,xsv_l,lw=0.5,label=\"Lorentz\")\n",
    "fig=plt.figure(figsize=(24,5))\n",
    "ax=fig.add_subplot(211)\n",
    "plt.plot(wls,xsv,\".\",lw=0.5,label=\"exojax\")\n",
    "plt.plot(w,absco,\"+\",lw=0.5,label=\"Kawashima\")\n",
    "plt.plot(w[i],absco[i],\"*\")\n",
    "plt.ylim(1.e-30,1.e-17)\n",
    "plt.yscale(\"log\")\n",
    "plt.xlabel('wavelenght [$\\AA$]')\n",
    "tip=10.0\n",
    "plt.xlim(llow*10.0-tip,lhigh*10.0+tip)\n",
    "plt.legend(loc=\"upper left\")\n",
    "ax=fig.add_subplot(212)\n",
    "plt.plot(w,(absco-xsvc)/absco,\".\",alpha=0.6)\n",
    "plt.ylabel(\"difference\")\n",
    "#for iline in wline:\n",
    "#    plt.axvline(iline,lw=0.3)\n",
    "plt.xlim(llow*10.0-tip,lhigh*10.0+tip)\n",
    "plt.ylim(-0.01,0.00)\n",
    "plt.xscale(\"log\")\n",
    "#plt.legend()\n",
    "plt.savefig(\"co_hitran.png\")\n",
    "plt.show()"
   ]
  },
  {
   "cell_type": "code",
   "execution_count": null,
   "metadata": {},
   "outputs": [],
   "source": [
    "wmm[::-1]"
   ]
  },
  {
   "cell_type": "code",
   "execution_count": 99,
   "metadata": {},
   "outputs": [
    {
     "name": "stdout",
     "output_type": "stream",
     "text": [
      "736.96 MB\n"
     ]
    }
   ],
   "source": [
    "print(numatrix.nbytes/1000/1000,\"MB\")"
   ]
  },
  {
   "cell_type": "code",
   "execution_count": null,
   "metadata": {},
   "outputs": [],
   "source": []
  }
 ],
 "metadata": {
  "kernelspec": {
   "display_name": "Python 3",
   "language": "python",
   "name": "python3"
  },
  "language_info": {
   "codemirror_mode": {
    "name": "ipython",
    "version": 3
   },
   "file_extension": ".py",
   "mimetype": "text/x-python",
   "name": "python",
   "nbconvert_exporter": "python",
   "pygments_lexer": "ipython3",
   "version": "3.7.3"
  }
 },
 "nbformat": 4,
 "nbformat_minor": 2
}
