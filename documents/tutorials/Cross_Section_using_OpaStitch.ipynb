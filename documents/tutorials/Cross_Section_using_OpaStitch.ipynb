{
 "cells": [
  {
   "cell_type": "markdown",
   "metadata": {},
   "source": [
    "# Reduces Device Memory Usage by Dividing and Stitching the Wavenumber Grid ($\\nu$ - stitching)\n",
    "\n",
    "Here, we explain the method of reducing GPU device memory usage by dividing the wavenumber grid ($\\nu$ - stitching). \n",
    "This approach is particularly effective for transmission spectroscopy, \n",
    "where [opart](get_started_opart.html) cannot be used. \n",
    "When applying this method, [forward-mode differentiation](get_started_opart.html#optimization-of-opart-using-forward-differentiation) should be used for derivatives. While $\\nu$ - stitching [can be performed manually](Open_Close_Cross_Section.html), we describe the procedure using `opastitch` in this section."
   ]
  },
  {
   "cell_type": "markdown",
   "metadata": {},
   "source": [
    "Currently, the only opacity calculator that supports `opastitch` is PreMODIT (v2.0), which can be used with `OpaPremoditStitch`."
   ]
  },
  {
   "cell_type": "code",
   "execution_count": 1,
   "metadata": {},
   "outputs": [
    {
     "name": "stderr",
     "output_type": "stream",
     "text": [
      "/home/kawahara/exojax/src/exojax/spec/dtau_mmwl.py:13: FutureWarning: dtau_mmwl might be removed in future.\n",
      "  warnings.warn(\"dtau_mmwl might be removed in future.\", FutureWarning)\n"
     ]
    }
   ],
   "source": [
    "from exojax.spec.opastitch import OpaPremoditStitch\n",
    "from exojax.utils.grids import wavenumber_grid\n",
    "from exojax.spec.api import MdbExomol\n",
    "from exojax.spec.atmrt import ArtTransPure\n",
    "import numpy as np\n",
    "import jax.numpy as jnp\n",
    "\n",
    "\n",
    "from jax import config \n",
    "config.update(\"jax_enable_x64\", True)\n"
   ]
  },
  {
   "cell_type": "markdown",
   "metadata": {},
   "source": [
    "In this example, the OH molecule is used to compute opacity over the 1.7–2.3 micron range, divided into 300,000 segments, with 200 atmospheric layers. At the time of creating this notebook, the computation was performed on a gaming laptop with 8GB of device memory."
   ]
  },
  {
   "cell_type": "code",
   "execution_count": 2,
   "metadata": {},
   "outputs": [
    {
     "name": "stderr",
     "output_type": "stream",
     "text": [
      "/home/kawahara/exojax/src/exojax/spec/unitconvert.py:63: UserWarning: Both input wavelength and output wavenumber are in ascending order.\n",
      "  warnings.warn(\n",
      "/home/kawahara/exojax/src/exojax/utils/molname.py:197: FutureWarning: e2s will be replaced to exact_molname_exomol_to_simple_molname.\n",
      "  warnings.warn(\n",
      "/home/kawahara/exojax/src/exojax/utils/molname.py:91: FutureWarning: exojax.utils.molname.exact_molname_exomol_to_simple_molname will be replaced to radis.api.exomolapi.exact_molname_exomol_to_simple_molname.\n",
      "  warnings.warn(\n",
      "/home/kawahara/exojax/src/exojax/utils/molname.py:91: FutureWarning: exojax.utils.molname.exact_molname_exomol_to_simple_molname will be replaced to radis.api.exomolapi.exact_molname_exomol_to_simple_molname.\n",
      "  warnings.warn(\n"
     ]
    },
    {
     "name": "stdout",
     "output_type": "stream",
     "text": [
      "xsmode =  premodit\n",
      "xsmode assumes ESLOG in wavenumber space: xsmode=premodit\n",
      "Your wavelength grid is in ***  descending  *** order\n",
      "The wavenumber grid is in ascending order by definition.\n",
      "Please be careful when you use the wavelength grid.\n",
      "resolution= 992451.1535950146\n",
      "HITRAN exact name= (16O)H\n",
      "radis engine =  vaex\n",
      "Molecule:  OH\n",
      "Isotopologue:  16O-1H\n",
      "ExoMol database:  None\n",
      "Local folder:  .database/OH/16O-1H/MoLLIST\n",
      "Transition files: \n",
      "\t => File 16O-1H__MoLLIST.trans\n",
      "Broadener:  H2\n",
      "The default broadening parameters are used.\n"
     ]
    },
    {
     "name": "stderr",
     "output_type": "stream",
     "text": [
      "/home/kawahara/anaconda3/envs/myenv39/lib/python3.9/site-packages/radis-0.16-py3.9.egg/radis/api/exomolapi.py:1527: UserWarning: Could not load `16O-1H__H2.broad`. The default broadening parameters are used.\n",
      "\n",
      "  warnings.warn(\n"
     ]
    }
   ],
   "source": [
    "N=300000\n",
    "nus, wav, res = wavenumber_grid(17000.0, 23000.0, N, unit=\"AA\", xsmode=\"premodit\")\n",
    "print(\"resolution=\",res)\n",
    "mdb = MdbExomol(\".database/OH/16O-1H/MoLLIST/\", nus)\n"
   ]
  },
  {
   "cell_type": "code",
   "execution_count": 3,
   "metadata": {},
   "outputs": [
    {
     "name": "stdout",
     "output_type": "stream",
     "text": [
      "integration:  simpson\n",
      "Simpson integration, uses the chord optical depth at the lower boundary and midppoint of the layers.\n"
     ]
    },
    {
     "name": "stderr",
     "output_type": "stream",
     "text": [
      "/home/kawahara/exojax/src/exojax/spec/atmrt.py:53: UserWarning: nu_grid is not given. specify nu_grid when using 'run' \n",
      "  warnings.warn(\n"
     ]
    }
   ],
   "source": [
    "art = ArtTransPure(pressure_top=1.e-8, pressure_btm=1.e1, nlayer=200)\n",
    "Tarr = jnp.ones_like(art.pressure)*3000.0\n",
    "Parr = art.pressure"
   ]
  },
  {
   "cell_type": "markdown",
   "metadata": {},
   "source": []
  },
  {
   "cell_type": "code",
   "execution_count": 4,
   "metadata": {},
   "outputs": [
    {
     "name": "stdout",
     "output_type": "stream",
     "text": [
      "OpaPremodit: params automatically set.\n",
      "default elower grid trange (degt) file version: 2\n",
      "Robust range: 485.7803992045456 - 1334.4906506037173 K\n",
      "OpaPremodit: Tref_broadening is set to  806.2257748298548 K\n"
     ]
    },
    {
     "name": "stderr",
     "output_type": "stream",
     "text": [
      "/home/kawahara/exojax/src/exojax/spec/initspec.py:299: UserWarning: Some of the line centers are outside of the wavenumber grid.\n",
      "  warnings.warn(\"Some of the line centers are outside of the wavenumber grid.\")\n",
      "/home/kawahara/exojax/src/exojax/spec/initspec.py:300: UserWarning: All of the line center should be within wavenumber grid for PreMODIT/MODIT/DIT.\n",
      "  warnings.warn(\n"
     ]
    },
    {
     "name": "stdout",
     "output_type": "stream",
     "text": [
      "# of reference width grid :  4\n",
      "# of temperature exponent grid : 2\n"
     ]
    },
    {
     "name": "stderr",
     "output_type": "stream",
     "text": [
      "uniqidx: 0it [00:00, ?it/s]"
     ]
    },
    {
     "name": "stdout",
     "output_type": "stream",
     "text": [
      "Premodit: Twt= 1049.0651485510987 K Tref= 539.7840596059918 K\n",
      "Making LSD:|--------------------| 0%"
     ]
    },
    {
     "name": "stderr",
     "output_type": "stream",
     "text": [
      "\n"
     ]
    },
    {
     "name": "stdout",
     "output_type": "stream",
     "text": [
      "Making LSD:|####################| 100%\n",
      "cross section (xsvector/xsmatrix) is calculated in the open mode. The aliasing part can be used.\n",
      "wing cut width =  [65.21934487543786, 67.2208391470449] cm-1\n",
      "OpaPremodit: params automatically set.\n",
      "default elower grid trange (degt) file version: 2\n",
      "Robust range: 485.7803992045456 - 1334.4906506037173 K\n",
      "OpaPremodit: Tref_broadening is set to  806.2257748298548 K\n",
      "# of reference width grid :  4\n",
      "# of temperature exponent grid : 2\n"
     ]
    },
    {
     "name": "stderr",
     "output_type": "stream",
     "text": [
      "/home/kawahara/exojax/src/exojax/spec/initspec.py:299: UserWarning: Some of the line centers are outside of the wavenumber grid.\n",
      "  warnings.warn(\"Some of the line centers are outside of the wavenumber grid.\")\n",
      "/home/kawahara/exojax/src/exojax/spec/initspec.py:300: UserWarning: All of the line center should be within wavenumber grid for PreMODIT/MODIT/DIT.\n",
      "  warnings.warn(\n",
      "uniqidx: 0it [00:00, ?it/s]"
     ]
    },
    {
     "name": "stdout",
     "output_type": "stream",
     "text": [
      "Premodit: Twt= 1049.0651485510987 K Tref= 539.7840596059918 K\n",
      "Making LSD:|--------------------| 0%"
     ]
    },
    {
     "name": "stderr",
     "output_type": "stream",
     "text": [
      "\n",
      "/home/kawahara/exojax/src/exojax/spec/initspec.py:299: UserWarning: Some of the line centers are outside of the wavenumber grid.\n",
      "  warnings.warn(\"Some of the line centers are outside of the wavenumber grid.\")\n",
      "/home/kawahara/exojax/src/exojax/spec/initspec.py:300: UserWarning: All of the line center should be within wavenumber grid for PreMODIT/MODIT/DIT.\n",
      "  warnings.warn(\n"
     ]
    },
    {
     "name": "stdout",
     "output_type": "stream",
     "text": [
      "Making LSD:|####################| 100%\n",
      "cross section (xsvector/xsmatrix) is calculated in the open mode. The aliasing part can be used.\n",
      "wing cut width =  [66.2125630722403, 68.24453787895618] cm-1\n",
      "OpaPremodit: params automatically set.\n",
      "default elower grid trange (degt) file version: 2\n",
      "Robust range: 485.7803992045456 - 1334.4906506037173 K\n",
      "OpaPremodit: Tref_broadening is set to  806.2257748298548 K\n",
      "# of reference width grid :  4\n",
      "# of temperature exponent grid : 2\n"
     ]
    },
    {
     "name": "stderr",
     "output_type": "stream",
     "text": [
      "uniqidx: 0it [00:00, ?it/s]\n",
      "/home/kawahara/exojax/src/exojax/spec/initspec.py:299: UserWarning: Some of the line centers are outside of the wavenumber grid.\n",
      "  warnings.warn(\"Some of the line centers are outside of the wavenumber grid.\")\n",
      "/home/kawahara/exojax/src/exojax/spec/initspec.py:300: UserWarning: All of the line center should be within wavenumber grid for PreMODIT/MODIT/DIT.\n",
      "  warnings.warn(\n"
     ]
    },
    {
     "name": "stdout",
     "output_type": "stream",
     "text": [
      "Premodit: Twt= 1049.0651485510987 K Tref= 539.7840596059918 K\n",
      "Making LSD:|####################| 100%\n",
      "cross section (xsvector/xsmatrix) is calculated in the open mode. The aliasing part can be used.\n",
      "wing cut width =  [67.22090687921718, 69.28382640574546] cm-1\n",
      "OpaPremodit: params automatically set.\n",
      "default elower grid trange (degt) file version: 2\n",
      "Robust range: 485.7803992045456 - 1334.4906506037173 K\n",
      "OpaPremodit: Tref_broadening is set to  806.2257748298548 K\n",
      "# of reference width grid :  4\n",
      "# of temperature exponent grid : 2\n"
     ]
    },
    {
     "name": "stderr",
     "output_type": "stream",
     "text": [
      "uniqidx: 0it [00:00, ?it/s]\n",
      "/home/kawahara/exojax/src/exojax/spec/initspec.py:299: UserWarning: Some of the line centers are outside of the wavenumber grid.\n",
      "  warnings.warn(\"Some of the line centers are outside of the wavenumber grid.\")\n",
      "/home/kawahara/exojax/src/exojax/spec/initspec.py:300: UserWarning: All of the line center should be within wavenumber grid for PreMODIT/MODIT/DIT.\n",
      "  warnings.warn(\n"
     ]
    },
    {
     "name": "stdout",
     "output_type": "stream",
     "text": [
      "Premodit: Twt= 1049.0651485510987 K Tref= 539.7840596059918 K\n",
      "Making LSD:|####################| 100%\n",
      "cross section (xsvector/xsmatrix) is calculated in the open mode. The aliasing part can be used.\n",
      "wing cut width =  [68.2446066426055, 70.33894214266456] cm-1\n",
      "OpaPremodit: params automatically set.\n",
      "default elower grid trange (degt) file version: 2\n",
      "Robust range: 485.7803992045456 - 1334.4906506037173 K\n",
      "OpaPremodit: Tref_broadening is set to  806.2257748298548 K\n",
      "# of reference width grid :  4\n",
      "# of temperature exponent grid : 2\n"
     ]
    },
    {
     "name": "stderr",
     "output_type": "stream",
     "text": [
      "uniqidx: 0it [00:00, ?it/s]\n",
      "/home/kawahara/exojax/src/exojax/spec/initspec.py:299: UserWarning: Some of the line centers are outside of the wavenumber grid.\n",
      "  warnings.warn(\"Some of the line centers are outside of the wavenumber grid.\")\n",
      "/home/kawahara/exojax/src/exojax/spec/initspec.py:300: UserWarning: All of the line center should be within wavenumber grid for PreMODIT/MODIT/DIT.\n",
      "  warnings.warn(\n"
     ]
    },
    {
     "name": "stdout",
     "output_type": "stream",
     "text": [
      "Premodit: Twt= 1049.0651485510987 K Tref= 539.7840596059918 K\n",
      "Making LSD:|####################| 100%\n",
      "cross section (xsvector/xsmatrix) is calculated in the open mode. The aliasing part can be used.\n",
      "wing cut width =  [69.28389621658789, 71.41012612056693] cm-1\n",
      "OpaPremodit: params automatically set.\n",
      "default elower grid trange (degt) file version: 2\n",
      "Robust range: 485.7803992045456 - 1334.4906506037173 K\n",
      "OpaPremodit: Tref_broadening is set to  806.2257748298548 K\n",
      "# of reference width grid :  4\n",
      "# of temperature exponent grid : 2\n"
     ]
    },
    {
     "name": "stderr",
     "output_type": "stream",
     "text": [
      "uniqidx: 0it [00:00, ?it/s]\n",
      "/home/kawahara/exojax/src/exojax/spec/initspec.py:299: UserWarning: Some of the line centers are outside of the wavenumber grid.\n",
      "  warnings.warn(\"Some of the line centers are outside of the wavenumber grid.\")\n",
      "/home/kawahara/exojax/src/exojax/spec/initspec.py:300: UserWarning: All of the line center should be within wavenumber grid for PreMODIT/MODIT/DIT.\n",
      "  warnings.warn(\n"
     ]
    },
    {
     "name": "stdout",
     "output_type": "stream",
     "text": [
      "Premodit: Twt= 1049.0651485510987 K Tref= 539.7840596059918 K\n",
      "Making LSD:|####################| 100%\n",
      "cross section (xsvector/xsmatrix) is calculated in the open mode. The aliasing part can be used.\n",
      "wing cut width =  [70.33901301665901, 72.49762304091018] cm-1\n",
      "OpaPremodit: params automatically set.\n",
      "default elower grid trange (degt) file version: 2\n",
      "Robust range: 485.7803992045456 - 1334.4906506037173 K\n",
      "OpaPremodit: Tref_broadening is set to  806.2257748298548 K\n",
      "# of reference width grid :  4\n",
      "# of temperature exponent grid : 2\n"
     ]
    },
    {
     "name": "stderr",
     "output_type": "stream",
     "text": [
      "uniqidx: 100%|██████████| 1/1 [00:00<00:00, 14122.24it/s]\n",
      "/home/kawahara/exojax/src/exojax/spec/initspec.py:299: UserWarning: Some of the line centers are outside of the wavenumber grid.\n",
      "  warnings.warn(\"Some of the line centers are outside of the wavenumber grid.\")\n",
      "/home/kawahara/exojax/src/exojax/spec/initspec.py:300: UserWarning: All of the line center should be within wavenumber grid for PreMODIT/MODIT/DIT.\n",
      "  warnings.warn(\n"
     ]
    },
    {
     "name": "stdout",
     "output_type": "stream",
     "text": [
      "Premodit: Twt= 1049.0651485510987 K Tref= 539.7840596059918 K\n",
      "Making LSD:|####################| 100%\n",
      "cross section (xsvector/xsmatrix) is calculated in the open mode. The aliasing part can be used.\n",
      "wing cut width =  [71.4101980739033, 73.60168133170282] cm-1\n",
      "OpaPremodit: params automatically set.\n",
      "default elower grid trange (degt) file version: 2\n",
      "Robust range: 485.7803992045456 - 1334.4906506037173 K\n",
      "OpaPremodit: Tref_broadening is set to  806.2257748298548 K\n",
      "# of reference width grid :  4\n",
      "# of temperature exponent grid : 2\n"
     ]
    },
    {
     "name": "stderr",
     "output_type": "stream",
     "text": [
      "uniqidx: 0it [00:00, ?it/s]\n",
      "/home/kawahara/exojax/src/exojax/spec/initspec.py:299: UserWarning: Some of the line centers are outside of the wavenumber grid.\n",
      "  warnings.warn(\"Some of the line centers are outside of the wavenumber grid.\")\n",
      "/home/kawahara/exojax/src/exojax/spec/initspec.py:300: UserWarning: All of the line center should be within wavenumber grid for PreMODIT/MODIT/DIT.\n",
      "  warnings.warn(\n"
     ]
    },
    {
     "name": "stdout",
     "output_type": "stream",
     "text": [
      "Premodit: Twt= 1049.0651485510987 K Tref= 539.7840596059918 K\n",
      "Making LSD:|####################| 100%\n",
      "cross section (xsvector/xsmatrix) is calculated in the open mode. The aliasing part can be used.\n",
      "wing cut width =  [72.49769609001669, 74.7225532042039] cm-1\n",
      "OpaPremodit: params automatically set.\n",
      "default elower grid trange (degt) file version: 2\n",
      "Robust range: 485.7803992045456 - 1334.4906506037173 K\n",
      "OpaPremodit: Tref_broadening is set to  806.2257748298548 K\n",
      "# of reference width grid :  4\n",
      "# of temperature exponent grid : 2\n"
     ]
    },
    {
     "name": "stderr",
     "output_type": "stream",
     "text": [
      "uniqidx: 0it [00:00, ?it/s]\n",
      "/home/kawahara/exojax/src/exojax/spec/initspec.py:299: UserWarning: Some of the line centers are outside of the wavenumber grid.\n",
      "  warnings.warn(\"Some of the line centers are outside of the wavenumber grid.\")\n",
      "/home/kawahara/exojax/src/exojax/spec/initspec.py:300: UserWarning: All of the line center should be within wavenumber grid for PreMODIT/MODIT/DIT.\n",
      "  warnings.warn(\n"
     ]
    },
    {
     "name": "stdout",
     "output_type": "stream",
     "text": [
      "Premodit: Twt= 1049.0651485510987 K Tref= 539.7840596059918 K\n",
      "Making LSD:|####################| 100%\n",
      "cross section (xsvector/xsmatrix) is calculated in the open mode. The aliasing part can be used.\n",
      "wing cut width =  [73.60175549325959, 75.86049471060778] cm-1\n",
      "OpaPremodit: params automatically set.\n",
      "default elower grid trange (degt) file version: 2\n",
      "Robust range: 485.7803992045456 - 1334.4906506037173 K\n",
      "OpaPremodit: Tref_broadening is set to  806.2257748298548 K\n",
      "# of reference width grid :  4\n",
      "# of temperature exponent grid : 2\n"
     ]
    },
    {
     "name": "stderr",
     "output_type": "stream",
     "text": [
      "uniqidx: 0it [00:00, ?it/s]\n",
      "/home/kawahara/exojax/src/exojax/spec/initspec.py:299: UserWarning: Some of the line centers are outside of the wavenumber grid.\n",
      "  warnings.warn(\"Some of the line centers are outside of the wavenumber grid.\")\n",
      "/home/kawahara/exojax/src/exojax/spec/initspec.py:300: UserWarning: All of the line center should be within wavenumber grid for PreMODIT/MODIT/DIT.\n",
      "  warnings.warn(\n"
     ]
    },
    {
     "name": "stdout",
     "output_type": "stream",
     "text": [
      "Premodit: Twt= 1049.0651485510987 K Tref= 539.7840596059918 K\n",
      "Making LSD:|####################| 100%\n",
      "cross section (xsvector/xsmatrix) is calculated in the open mode. The aliasing part can be used.\n",
      "wing cut width =  [74.72262849515482, 77.01576580246729] cm-1\n",
      "OpaPremodit: params automatically set.\n",
      "default elower grid trange (degt) file version: 2\n",
      "Robust range: 485.7803992045456 - 1334.4906506037173 K\n",
      "OpaPremodit: Tref_broadening is set to  806.2257748298548 K\n",
      "# of reference width grid :  4\n",
      "# of temperature exponent grid : 2\n"
     ]
    },
    {
     "name": "stderr",
     "output_type": "stream",
     "text": [
      "uniqidx: 0it [00:00, ?it/s]\n",
      "/home/kawahara/exojax/src/exojax/spec/initspec.py:299: UserWarning: Some of the line centers are outside of the wavenumber grid.\n",
      "  warnings.warn(\"Some of the line centers are outside of the wavenumber grid.\")\n",
      "/home/kawahara/exojax/src/exojax/spec/initspec.py:300: UserWarning: All of the line center should be within wavenumber grid for PreMODIT/MODIT/DIT.\n",
      "  warnings.warn(\n"
     ]
    },
    {
     "name": "stdout",
     "output_type": "stream",
     "text": [
      "Premodit: Twt= 1049.0651485510987 K Tref= 539.7840596059918 K\n",
      "Making LSD:|####################| 100%\n",
      "cross section (xsvector/xsmatrix) is calculated in the open mode. The aliasing part can be used.\n",
      "wing cut width =  [75.8605711481514, 78.18863039014104] cm-1\n",
      "OpaPremodit: params automatically set.\n",
      "default elower grid trange (degt) file version: 2\n",
      "Robust range: 485.7803992045456 - 1334.4906506037173 K\n",
      "OpaPremodit: Tref_broadening is set to  806.2257748298548 K\n",
      "# of reference width grid :  4\n",
      "# of temperature exponent grid : 2\n"
     ]
    },
    {
     "name": "stderr",
     "output_type": "stream",
     "text": [
      "uniqidx: 0it [00:00, ?it/s]\n",
      "/home/kawahara/exojax/src/exojax/spec/initspec.py:299: UserWarning: Some of the line centers are outside of the wavenumber grid.\n",
      "  warnings.warn(\"Some of the line centers are outside of the wavenumber grid.\")\n",
      "/home/kawahara/exojax/src/exojax/spec/initspec.py:300: UserWarning: All of the line center should be within wavenumber grid for PreMODIT/MODIT/DIT.\n",
      "  warnings.warn(\n"
     ]
    },
    {
     "name": "stdout",
     "output_type": "stream",
     "text": [
      "Premodit: Twt= 1049.0651485510987 K Tref= 539.7840596059918 K\n",
      "Making LSD:|####################| 100%\n",
      "cross section (xsvector/xsmatrix) is calculated in the open mode. The aliasing part can be used.\n",
      "wing cut width =  [77.0158434040759, 79.37935640302658] cm-1\n",
      "OpaPremodit: params automatically set.\n",
      "default elower grid trange (degt) file version: 2\n",
      "Robust range: 485.7803992045456 - 1334.4906506037173 K\n",
      "OpaPremodit: Tref_broadening is set to  806.2257748298548 K\n",
      "# of reference width grid :  4\n",
      "# of temperature exponent grid : 2\n"
     ]
    },
    {
     "name": "stderr",
     "output_type": "stream",
     "text": [
      "uniqidx: 0it [00:00, ?it/s]\n",
      "/home/kawahara/exojax/src/exojax/spec/initspec.py:299: UserWarning: Some of the line centers are outside of the wavenumber grid.\n",
      "  warnings.warn(\"Some of the line centers are outside of the wavenumber grid.\")\n",
      "/home/kawahara/exojax/src/exojax/spec/initspec.py:300: UserWarning: All of the line center should be within wavenumber grid for PreMODIT/MODIT/DIT.\n",
      "  warnings.warn(\n"
     ]
    },
    {
     "name": "stdout",
     "output_type": "stream",
     "text": [
      "Premodit: Twt= 1049.0651485510987 K Tref= 539.7840596059918 K\n",
      "Making LSD:|####################| 100%\n",
      "cross section (xsvector/xsmatrix) is calculated in the open mode. The aliasing part can be used.\n",
      "wing cut width =  [78.18870917353524, 80.58821585079386] cm-1\n",
      "OpaPremodit: params automatically set.\n",
      "default elower grid trange (degt) file version: 2\n",
      "Robust range: 485.7803992045456 - 1334.4906506037173 K\n",
      "OpaPremodit: Tref_broadening is set to  806.2257748298548 K\n",
      "# of reference width grid :  4\n",
      "# of temperature exponent grid : 2\n"
     ]
    },
    {
     "name": "stderr",
     "output_type": "stream",
     "text": [
      "uniqidx: 100%|██████████| 1/1 [00:00<00:00, 11683.30it/s]\n",
      "/home/kawahara/exojax/src/exojax/spec/initspec.py:299: UserWarning: Some of the line centers are outside of the wavenumber grid.\n",
      "  warnings.warn(\"Some of the line centers are outside of the wavenumber grid.\")\n",
      "/home/kawahara/exojax/src/exojax/spec/initspec.py:300: UserWarning: All of the line center should be within wavenumber grid for PreMODIT/MODIT/DIT.\n",
      "  warnings.warn(\n"
     ]
    },
    {
     "name": "stdout",
     "output_type": "stream",
     "text": [
      "Premodit: Twt= 1049.0651485510987 K Tref= 539.7840596059918 K\n",
      "Making LSD:|####################| 100%\n",
      "cross section (xsvector/xsmatrix) is calculated in the open mode. The aliasing part can be used.\n",
      "wing cut width =  [79.37943638620436, 81.81548488552198] cm-1\n",
      "OpaPremodit: params automatically set.\n",
      "default elower grid trange (degt) file version: 2\n",
      "Robust range: 485.7803992045456 - 1334.4906506037173 K\n",
      "OpaPremodit: Tref_broadening is set to  806.2257748298548 K\n",
      "# of reference width grid :  4\n",
      "# of temperature exponent grid : 2\n"
     ]
    },
    {
     "name": "stderr",
     "output_type": "stream",
     "text": [
      "uniqidx: 0it [00:00, ?it/s]\n",
      "/home/kawahara/exojax/src/exojax/spec/initspec.py:299: UserWarning: Some of the line centers are outside of the wavenumber grid.\n",
      "  warnings.warn(\"Some of the line centers are outside of the wavenumber grid.\")\n",
      "/home/kawahara/exojax/src/exojax/spec/initspec.py:300: UserWarning: All of the line center should be within wavenumber grid for PreMODIT/MODIT/DIT.\n",
      "  warnings.warn(\n"
     ]
    },
    {
     "name": "stdout",
     "output_type": "stream",
     "text": [
      "Premodit: Twt= 1049.0651485510987 K Tref= 539.7840596059918 K\n",
      "Making LSD:|####################| 100%\n",
      "cross section (xsvector/xsmatrix) is calculated in the open mode. The aliasing part can be used.\n",
      "wing cut width =  [80.58829705201606, 83.0614438647608] cm-1\n",
      "OpaPremodit: params automatically set.\n",
      "default elower grid trange (degt) file version: 2\n",
      "Robust range: 485.7803992045456 - 1334.4906506037173 K\n",
      "OpaPremodit: Tref_broadening is set to  806.2257748298548 K\n",
      "# of reference width grid :  4\n",
      "# of temperature exponent grid : 2\n"
     ]
    },
    {
     "name": "stderr",
     "output_type": "stream",
     "text": [
      "uniqidx: 0it [00:00, ?it/s]\n",
      "/home/kawahara/exojax/src/exojax/spec/initspec.py:299: UserWarning: Some of the line centers are outside of the wavenumber grid.\n",
      "  warnings.warn(\"Some of the line centers are outside of the wavenumber grid.\")\n",
      "/home/kawahara/exojax/src/exojax/spec/initspec.py:300: UserWarning: All of the line center should be within wavenumber grid for PreMODIT/MODIT/DIT.\n",
      "  warnings.warn(\n"
     ]
    },
    {
     "name": "stdout",
     "output_type": "stream",
     "text": [
      "Premodit: Twt= 1049.0651485510987 K Tref= 539.7840596059918 K\n",
      "Making LSD:|####################| 100%\n",
      "cross section (xsvector/xsmatrix) is calculated in the open mode. The aliasing part can be used.\n",
      "wing cut width =  [81.81556732334775, 84.32637741563849] cm-1\n",
      "OpaPremodit: params automatically set.\n",
      "default elower grid trange (degt) file version: 2\n",
      "Robust range: 485.7803992045456 - 1334.4906506037173 K\n",
      "OpaPremodit: Tref_broadening is set to  806.2257748298548 K\n",
      "# of reference width grid :  4\n",
      "# of temperature exponent grid : 2\n"
     ]
    },
    {
     "name": "stderr",
     "output_type": "stream",
     "text": [
      "uniqidx: 0it [00:00, ?it/s]\n",
      "/home/kawahara/exojax/src/exojax/spec/initspec.py:299: UserWarning: Some of the line centers are outside of the wavenumber grid.\n",
      "  warnings.warn(\"Some of the line centers are outside of the wavenumber grid.\")\n",
      "/home/kawahara/exojax/src/exojax/spec/initspec.py:300: UserWarning: All of the line center should be within wavenumber grid for PreMODIT/MODIT/DIT.\n",
      "  warnings.warn(\n"
     ]
    },
    {
     "name": "stdout",
     "output_type": "stream",
     "text": [
      "Premodit: Twt= 1049.0651485510987 K Tref= 539.7840596059918 K\n",
      "Making LSD:|####################| 100%\n",
      "cross section (xsvector/xsmatrix) is calculated in the open mode. The aliasing part can be used.\n",
      "wing cut width =  [83.06152755803578, 85.61057449979398] cm-1\n",
      "OpaPremodit: params automatically set.\n",
      "default elower grid trange (degt) file version: 2\n",
      "Robust range: 485.7803992045456 - 1334.4906506037173 K\n",
      "OpaPremodit: Tref_broadening is set to  806.2257748298548 K\n",
      "# of reference width grid :  4\n",
      "# of temperature exponent grid : 2\n"
     ]
    },
    {
     "name": "stderr",
     "output_type": "stream",
     "text": [
      "uniqidx: 0it [00:00, ?it/s]\n",
      "/home/kawahara/exojax/src/exojax/spec/initspec.py:299: UserWarning: Some of the line centers are outside of the wavenumber grid.\n",
      "  warnings.warn(\"Some of the line centers are outside of the wavenumber grid.\")\n",
      "/home/kawahara/exojax/src/exojax/spec/initspec.py:300: UserWarning: All of the line center should be within wavenumber grid for PreMODIT/MODIT/DIT.\n",
      "  warnings.warn(\n"
     ]
    },
    {
     "name": "stdout",
     "output_type": "stream",
     "text": [
      "Premodit: Twt= 1049.0651485510987 K Tref= 539.7840596059918 K\n",
      "Making LSD:|####################| 100%\n",
      "cross section (xsvector/xsmatrix) is calculated in the open mode. The aliasing part can be used.\n",
      "wing cut width =  [84.32646238347934, 86.9143284794618] cm-1\n",
      "OpaPremodit: params automatically set.\n",
      "default elower grid trange (degt) file version: 2\n",
      "Robust range: 485.7803992045456 - 1334.4906506037173 K\n",
      "OpaPremodit: Tref_broadening is set to  806.2257748298548 K\n",
      "# of reference width grid :  4\n",
      "# of temperature exponent grid : 2\n"
     ]
    },
    {
     "name": "stderr",
     "output_type": "stream",
     "text": [
      "uniqidx: 0it [00:00, ?it/s]\n",
      "/home/kawahara/exojax/src/exojax/spec/initspec.py:299: UserWarning: Some of the line centers are outside of the wavenumber grid.\n",
      "  warnings.warn(\"Some of the line centers are outside of the wavenumber grid.\")\n",
      "/home/kawahara/exojax/src/exojax/spec/initspec.py:300: UserWarning: All of the line center should be within wavenumber grid for PreMODIT/MODIT/DIT.\n",
      "  warnings.warn(\n"
     ]
    },
    {
     "name": "stdout",
     "output_type": "stream",
     "text": [
      "Premodit: Twt= 1049.0651485510987 K Tref= 539.7840596059918 K\n",
      "Making LSD:|####################| 100%\n",
      "cross section (xsvector/xsmatrix) is calculated in the open mode. The aliasing part can be used.\n",
      "wing cut width =  [85.61066076160114, 88.2379371844163] cm-1\n",
      "OpaPremodit: params automatically set.\n",
      "default elower grid trange (degt) file version: 2\n",
      "Robust range: 485.7803992045456 - 1334.4906506037173 K\n",
      "OpaPremodit: Tref_broadening is set to  806.2257748298548 K\n",
      "# of reference width grid :  4\n",
      "# of temperature exponent grid : 2\n"
     ]
    },
    {
     "name": "stderr",
     "output_type": "stream",
     "text": [
      "uniqidx: 0it [00:00, ?it/s]\n"
     ]
    },
    {
     "name": "stdout",
     "output_type": "stream",
     "text": [
      "Premodit: Twt= 1049.0651485510987 K Tref= 539.7840596059918 K\n",
      "Making LSD:|####################| 100%\n",
      "cross section (xsvector/xsmatrix) is calculated in the open mode. The aliasing part can be used.\n",
      "wing cut width =  [86.91441605492764, 89.58170298008918] cm-1\n",
      "(1, 15000, 6, 77)\n",
      "+++++++++++++++++++++++++++++++++++++++++++\n"
     ]
    },
    {
     "ename": "TypeError",
     "evalue": "mul got incompatible shapes for broadcasting: (6,), (15000,).",
     "output_type": "error",
     "traceback": [
      "\u001b[0;31m---------------------------------------------------------------------------\u001b[0m",
      "\u001b[0;31mTypeError\u001b[0m                                 Traceback (most recent call last)",
      "Input \u001b[0;32mIn [4]\u001b[0m, in \u001b[0;36m<cell line: 3>\u001b[0;34m()\u001b[0m\n\u001b[1;32m      1\u001b[0m ndiv\u001b[38;5;241m=\u001b[39m\u001b[38;5;241m20\u001b[39m\n\u001b[1;32m      2\u001b[0m opas \u001b[38;5;241m=\u001b[39m OpaPremoditStitch(mdb, nus, ndiv, auto_trange\u001b[38;5;241m=\u001b[39m[\u001b[38;5;241m500\u001b[39m,\u001b[38;5;241m1300\u001b[39m], cutwing \u001b[38;5;241m=\u001b[39m \u001b[38;5;241m1.0\u001b[39m)\n\u001b[0;32m----> 3\u001b[0m xsm_s \u001b[38;5;241m=\u001b[39m \u001b[43mopas\u001b[49m\u001b[38;5;241;43m.\u001b[39;49m\u001b[43mxsmatrix\u001b[49m\u001b[43m(\u001b[49m\u001b[43mTarr\u001b[49m\u001b[43m,\u001b[49m\u001b[43m \u001b[49m\u001b[43mParr\u001b[49m\u001b[43m)\u001b[49m\n",
      "File \u001b[0;32m~/exojax/src/exojax/spec/opastitch.py:303\u001b[0m, in \u001b[0;36mOpaPremoditStitch.xsmatrix\u001b[0;34m(self, Tarr, Parr)\u001b[0m\n\u001b[1;32m    283\u001b[0m     xsm_nu \u001b[38;5;241m=\u001b[39m xsmatrix_nu_func(\n\u001b[1;32m    284\u001b[0m         Tarr,\n\u001b[1;32m    285\u001b[0m         Parr,\n\u001b[0;32m   (...)\u001b[0m\n\u001b[1;32m    298\u001b[0m         Twt\u001b[38;5;241m=\u001b[39m\u001b[38;5;28;01mNone\u001b[39;00m,\n\u001b[1;32m    299\u001b[0m     )\n\u001b[1;32m    301\u001b[0m     \u001b[38;5;28;01mreturn\u001b[39;00m icarry \u001b[38;5;241m+\u001b[39m \u001b[38;5;28mself\u001b[39m\u001b[38;5;241m.\u001b[39mdiv_length, xsm_nu\n\u001b[0;32m--> 303\u001b[0m _, xsm_matrix \u001b[38;5;241m=\u001b[39m \u001b[43mscan\u001b[49m\u001b[43m(\u001b[49m\u001b[43mfloop\u001b[49m\u001b[43m,\u001b[49m\u001b[43m \u001b[49m\u001b[38;5;241;43m0\u001b[39;49m\u001b[43m,\u001b[49m\u001b[43m \u001b[49m\u001b[38;5;28;43mself\u001b[39;49m\u001b[38;5;241;43m.\u001b[39;49m\u001b[43mlbd_coeff_jnp_array\u001b[49m\u001b[43m)\u001b[49m\n\u001b[1;32m    305\u001b[0m xsm_matrix \u001b[38;5;241m=\u001b[39m xsm_matrix \u001b[38;5;241m/\u001b[39m \u001b[38;5;28mself\u001b[39m\u001b[38;5;241m.\u001b[39mnu_grid_extended_jnp_array[:, jnp\u001b[38;5;241m.\u001b[39mnewaxis, :]\n\u001b[1;32m    306\u001b[0m xsmatrix_ola_stitch \u001b[38;5;241m=\u001b[39m overlap_and_add_matrix(\n\u001b[1;32m    307\u001b[0m     xsm_matrix, output_length, \u001b[38;5;28mself\u001b[39m\u001b[38;5;241m.\u001b[39mdiv_length\n\u001b[1;32m    308\u001b[0m )\n",
      "    \u001b[0;31m[... skipping hidden 9 frame]\u001b[0m\n",
      "File \u001b[0;32m~/exojax/src/exojax/spec/opastitch.py:283\u001b[0m, in \u001b[0;36mOpaPremoditStitch.xsmatrix.<locals>.floop\u001b[0;34m(icarry, lbd_coeff)\u001b[0m\n\u001b[1;32m    280\u001b[0m \u001b[38;5;28;01mdef\u001b[39;00m \u001b[38;5;21mfloop\u001b[39m(icarry, lbd_coeff):\n\u001b[1;32m    281\u001b[0m     nu_grid_each \u001b[38;5;241m=\u001b[39m dynamic_slice(\u001b[38;5;28mself\u001b[39m\u001b[38;5;241m.\u001b[39mnu_grid, (icarry,), (\u001b[38;5;28mself\u001b[39m\u001b[38;5;241m.\u001b[39mdiv_length,))\n\u001b[0;32m--> 283\u001b[0m     xsm_nu \u001b[38;5;241m=\u001b[39m \u001b[43mxsmatrix_nu_func\u001b[49m\u001b[43m(\u001b[49m\n\u001b[1;32m    284\u001b[0m \u001b[43m        \u001b[49m\u001b[43mTarr\u001b[49m\u001b[43m,\u001b[49m\n\u001b[1;32m    285\u001b[0m \u001b[43m        \u001b[49m\u001b[43mParr\u001b[49m\u001b[43m,\u001b[49m\n\u001b[1;32m    286\u001b[0m \u001b[43m        \u001b[49m\u001b[38;5;28;43mself\u001b[39;49m\u001b[38;5;241;43m.\u001b[39;49m\u001b[43mTref\u001b[49m\u001b[43m,\u001b[49m\n\u001b[1;32m    287\u001b[0m \u001b[43m        \u001b[49m\u001b[38;5;28;43mself\u001b[39;49m\u001b[38;5;241;43m.\u001b[39;49m\u001b[43mR\u001b[49m\u001b[43m,\u001b[49m\n\u001b[1;32m    288\u001b[0m \u001b[43m        \u001b[49m\u001b[43mlbd_coeff\u001b[49m\u001b[43m,\u001b[49m\n\u001b[1;32m    289\u001b[0m \u001b[43m        \u001b[49m\u001b[43mnu_grid_each\u001b[49m\u001b[43m,\u001b[49m\n\u001b[1;32m    290\u001b[0m \u001b[43m        \u001b[49m\u001b[38;5;28;43mself\u001b[39;49m\u001b[38;5;241;43m.\u001b[39;49m\u001b[43mngamma_ref_grid\u001b[49m\u001b[43m,\u001b[49m\n\u001b[1;32m    291\u001b[0m \u001b[43m        \u001b[49m\u001b[38;5;28;43mself\u001b[39;49m\u001b[38;5;241;43m.\u001b[39;49m\u001b[43mn_Texp_grid\u001b[49m\u001b[43m,\u001b[49m\n\u001b[1;32m    292\u001b[0m \u001b[43m        \u001b[49m\u001b[38;5;28;43mself\u001b[39;49m\u001b[38;5;241;43m.\u001b[39;49m\u001b[43mmulti_index_uniqgrid\u001b[49m\u001b[43m,\u001b[49m\n\u001b[1;32m    293\u001b[0m \u001b[43m        \u001b[49m\u001b[38;5;28;43mself\u001b[39;49m\u001b[38;5;241;43m.\u001b[39;49m\u001b[43melower_grid\u001b[49m\u001b[43m,\u001b[49m\n\u001b[1;32m    294\u001b[0m \u001b[43m        \u001b[49m\u001b[38;5;28;43mself\u001b[39;49m\u001b[38;5;241;43m.\u001b[39;49m\u001b[43mmdb\u001b[49m\u001b[38;5;241;43m.\u001b[39;49m\u001b[43mmolmass\u001b[49m\u001b[43m,\u001b[49m\n\u001b[1;32m    295\u001b[0m \u001b[43m        \u001b[49m\u001b[43mqtarr\u001b[49m\u001b[43m,\u001b[49m\n\u001b[1;32m    296\u001b[0m \u001b[43m        \u001b[49m\u001b[38;5;28;43mself\u001b[39;49m\u001b[38;5;241;43m.\u001b[39;49m\u001b[43mTref_broadening\u001b[49m\u001b[43m,\u001b[49m\n\u001b[1;32m    297\u001b[0m \u001b[43m        \u001b[49m\u001b[38;5;28;43mself\u001b[39;49m\u001b[38;5;241;43m.\u001b[39;49m\u001b[43mfilter_length_oneside\u001b[49m\u001b[43m,\u001b[49m\n\u001b[1;32m    298\u001b[0m \u001b[43m        \u001b[49m\u001b[43mTwt\u001b[49m\u001b[38;5;241;43m=\u001b[39;49m\u001b[38;5;28;43;01mNone\u001b[39;49;00m\u001b[43m,\u001b[49m\n\u001b[1;32m    299\u001b[0m \u001b[43m    \u001b[49m\u001b[43m)\u001b[49m\n\u001b[1;32m    301\u001b[0m     \u001b[38;5;28;01mreturn\u001b[39;00m icarry \u001b[38;5;241m+\u001b[39m \u001b[38;5;28mself\u001b[39m\u001b[38;5;241m.\u001b[39mdiv_length, xsm_nu\n",
      "File \u001b[0;32m~/exojax/src/exojax/spec/premodit.py:468\u001b[0m, in \u001b[0;36mxsmatrix_nu_open_zeroth\u001b[0;34m(Tarr, Parr, Tref, R, lbd_coeff, nu_grid, ngamma_ref_grid, n_Texp_grid, multi_index_uniqgrid, elower_grid, Mmol, qtarr, Tref_broadening, filter_length_oneside, Twt)\u001b[0m\n\u001b[1;32m    443\u001b[0m \u001b[38;5;250m\u001b[39m\u001b[38;5;124;03m\"\"\"compute nu sigma (wavenumber x cross section)  matrix, with scan+fft, using the zero-th Taylor expansion\u001b[39;00m\n\u001b[1;32m    444\u001b[0m \n\u001b[1;32m    445\u001b[0m \u001b[38;5;124;03mArgs:\u001b[39;00m\n\u001b[0;32m   (...)\u001b[0m\n\u001b[1;32m    464\u001b[0m \u001b[38;5;124;03m    jnp.array: nu sigma (nu_grid_extended x cross section) in cgs matrix\u001b[39;00m\n\u001b[1;32m    465\u001b[0m \u001b[38;5;124;03m\"\"\"\u001b[39;00m\n\u001b[1;32m    467\u001b[0m nsigmaD \u001b[38;5;241m=\u001b[39m vmap(normalized_doppler_sigma, (\u001b[38;5;241m0\u001b[39m, \u001b[38;5;28;01mNone\u001b[39;00m, \u001b[38;5;28;01mNone\u001b[39;00m), \u001b[38;5;241m0\u001b[39m)(Tarr, Mmol, R)\n\u001b[0;32m--> 468\u001b[0m Slsd \u001b[38;5;241m=\u001b[39m \u001b[43mvmap\u001b[49m\u001b[43m(\u001b[49m\u001b[43munbiased_lsd_zeroth\u001b[49m\u001b[43m,\u001b[49m\u001b[43m \u001b[49m\u001b[43m(\u001b[49m\u001b[38;5;28;43;01mNone\u001b[39;49;00m\u001b[43m,\u001b[49m\u001b[43m \u001b[49m\u001b[38;5;241;43m0\u001b[39;49m\u001b[43m,\u001b[49m\u001b[43m \u001b[49m\u001b[38;5;28;43;01mNone\u001b[39;49;00m\u001b[43m,\u001b[49m\u001b[43m \u001b[49m\u001b[38;5;28;43;01mNone\u001b[39;49;00m\u001b[43m,\u001b[49m\u001b[43m \u001b[49m\u001b[38;5;28;43;01mNone\u001b[39;49;00m\u001b[43m,\u001b[49m\u001b[43m \u001b[49m\u001b[38;5;241;43m0\u001b[39;49m\u001b[43m)\u001b[49m\u001b[43m,\u001b[49m\u001b[43m \u001b[49m\u001b[38;5;241;43m0\u001b[39;49m\u001b[43m)\u001b[49m\u001b[43m(\u001b[49m\n\u001b[1;32m    469\u001b[0m \u001b[43m    \u001b[49m\u001b[43mlbd_coeff\u001b[49m\u001b[43m[\u001b[49m\u001b[38;5;241;43m0\u001b[39;49m\u001b[43m]\u001b[49m\u001b[43m,\u001b[49m\u001b[43m \u001b[49m\u001b[43mTarr\u001b[49m\u001b[43m,\u001b[49m\u001b[43m \u001b[49m\u001b[43mTref\u001b[49m\u001b[43m,\u001b[49m\u001b[43m \u001b[49m\u001b[43mnu_grid\u001b[49m\u001b[43m,\u001b[49m\u001b[43m \u001b[49m\u001b[43melower_grid\u001b[49m\u001b[43m,\u001b[49m\u001b[43m \u001b[49m\u001b[43mqtarr\u001b[49m\n\u001b[1;32m    470\u001b[0m \u001b[43m\u001b[49m\u001b[43m)\u001b[49m\n\u001b[1;32m    471\u001b[0m ngamma_grid \u001b[38;5;241m=\u001b[39m vmap(unbiased_ngamma_grid, (\u001b[38;5;241m0\u001b[39m, \u001b[38;5;241m0\u001b[39m, \u001b[38;5;28;01mNone\u001b[39;00m, \u001b[38;5;28;01mNone\u001b[39;00m, \u001b[38;5;28;01mNone\u001b[39;00m, \u001b[38;5;28;01mNone\u001b[39;00m), \u001b[38;5;241m0\u001b[39m)(\n\u001b[1;32m    472\u001b[0m     Tarr, Parr, ngamma_ref_grid, n_Texp_grid, multi_index_uniqgrid, Tref_broadening\n\u001b[1;32m    473\u001b[0m )\n\u001b[1;32m    474\u001b[0m log_ngammaL_grid \u001b[38;5;241m=\u001b[39m jnp\u001b[38;5;241m.\u001b[39mlog(ngamma_grid)\n",
      "    \u001b[0;31m[... skipping hidden 3 frame]\u001b[0m\n",
      "File \u001b[0;32m~/exojax/src/exojax/spec/premodit.py:1411\u001b[0m, in \u001b[0;36munbiased_lsd_zeroth\u001b[0;34m(lbd_zeroth, T, Tref, nu_grid, elower_grid, qt)\u001b[0m\n\u001b[1;32m   1396\u001b[0m \u001b[38;5;250m\u001b[39m\u001b[38;5;124;03m\"\"\"unbias the biased LSD\u001b[39;00m\n\u001b[1;32m   1397\u001b[0m \n\u001b[1;32m   1398\u001b[0m \u001b[38;5;124;03mArgs:\u001b[39;00m\n\u001b[0;32m   (...)\u001b[0m\n\u001b[1;32m   1408\u001b[0m \n\u001b[1;32m   1409\u001b[0m \u001b[38;5;124;03m\"\"\"\u001b[39;00m\n\u001b[1;32m   1410\u001b[0m Slsd \u001b[38;5;241m=\u001b[39m jnp\u001b[38;5;241m.\u001b[39msum(jnp\u001b[38;5;241m.\u001b[39mexp(logf_bias(elower_grid, T, Tref) \u001b[38;5;241m+\u001b[39m lbd_zeroth), axis\u001b[38;5;241m=\u001b[39m\u001b[38;5;241m-\u001b[39m\u001b[38;5;241m1\u001b[39m)\n\u001b[0;32m-> 1411\u001b[0m \u001b[38;5;28;01mreturn\u001b[39;00m (\u001b[43mSlsd\u001b[49m\u001b[38;5;241;43m.\u001b[39;49m\u001b[43mT\u001b[49m\u001b[43m \u001b[49m\u001b[38;5;241;43m*\u001b[39;49m\u001b[43m \u001b[49m\u001b[43mg_bias\u001b[49m\u001b[43m(\u001b[49m\u001b[43mnu_grid\u001b[49m\u001b[43m,\u001b[49m\u001b[43m \u001b[49m\u001b[43mT\u001b[49m\u001b[43m,\u001b[49m\u001b[43m \u001b[49m\u001b[43mTref\u001b[49m\u001b[43m)\u001b[49m \u001b[38;5;241m/\u001b[39m qt)\u001b[38;5;241m.\u001b[39mT\n",
      "File \u001b[0;32m~/anaconda3/envs/myenv39/lib/python3.9/site-packages/jax/_src/numpy/array_methods.py:739\u001b[0m, in \u001b[0;36m_forward_operator_to_aval.<locals>.op\u001b[0;34m(self, *args)\u001b[0m\n\u001b[1;32m    738\u001b[0m \u001b[38;5;28;01mdef\u001b[39;00m \u001b[38;5;21mop\u001b[39m(\u001b[38;5;28mself\u001b[39m, \u001b[38;5;241m*\u001b[39margs):\n\u001b[0;32m--> 739\u001b[0m   \u001b[38;5;28;01mreturn\u001b[39;00m \u001b[38;5;28;43mgetattr\u001b[39;49m\u001b[43m(\u001b[49m\u001b[38;5;28;43mself\u001b[39;49m\u001b[38;5;241;43m.\u001b[39;49m\u001b[43maval\u001b[49m\u001b[43m,\u001b[49m\u001b[43m \u001b[49m\u001b[38;5;124;43mf\u001b[39;49m\u001b[38;5;124;43m\"\u001b[39;49m\u001b[38;5;124;43m_\u001b[39;49m\u001b[38;5;132;43;01m{\u001b[39;49;00m\u001b[43mname\u001b[49m\u001b[38;5;132;43;01m}\u001b[39;49;00m\u001b[38;5;124;43m\"\u001b[39;49m\u001b[43m)\u001b[49m\u001b[43m(\u001b[49m\u001b[38;5;28;43mself\u001b[39;49m\u001b[43m,\u001b[49m\u001b[43m \u001b[49m\u001b[38;5;241;43m*\u001b[39;49m\u001b[43margs\u001b[49m\u001b[43m)\u001b[49m\n",
      "File \u001b[0;32m~/anaconda3/envs/myenv39/lib/python3.9/site-packages/jax/_src/numpy/array_methods.py:265\u001b[0m, in \u001b[0;36m_defer_to_unrecognized_arg.<locals>.deferring_binary_op\u001b[0;34m(self, other)\u001b[0m\n\u001b[1;32m    263\u001b[0m args \u001b[38;5;241m=\u001b[39m (other, \u001b[38;5;28mself\u001b[39m) \u001b[38;5;28;01mif\u001b[39;00m swap \u001b[38;5;28;01melse\u001b[39;00m (\u001b[38;5;28mself\u001b[39m, other)\n\u001b[1;32m    264\u001b[0m \u001b[38;5;28;01mif\u001b[39;00m \u001b[38;5;28misinstance\u001b[39m(other, _accepted_binop_types):\n\u001b[0;32m--> 265\u001b[0m   \u001b[38;5;28;01mreturn\u001b[39;00m \u001b[43mbinary_op\u001b[49m\u001b[43m(\u001b[49m\u001b[38;5;241;43m*\u001b[39;49m\u001b[43margs\u001b[49m\u001b[43m)\u001b[49m\n\u001b[1;32m    266\u001b[0m \u001b[38;5;66;03m# Note: don't use isinstance here, because we don't want to raise for\u001b[39;00m\n\u001b[1;32m    267\u001b[0m \u001b[38;5;66;03m# subclasses, e.g. NamedTuple objects that may override operators.\u001b[39;00m\n\u001b[1;32m    268\u001b[0m \u001b[38;5;28;01mif\u001b[39;00m \u001b[38;5;28mtype\u001b[39m(other) \u001b[38;5;129;01min\u001b[39;00m _rejected_binop_types:\n",
      "    \u001b[0;31m[... skipping hidden 11 frame]\u001b[0m\n",
      "File \u001b[0;32m~/anaconda3/envs/myenv39/lib/python3.9/site-packages/jax/_src/numpy/ufuncs.py:102\u001b[0m, in \u001b[0;36m_maybe_bool_binop.<locals>.fn\u001b[0;34m(x1, x2)\u001b[0m\n\u001b[1;32m    100\u001b[0m \u001b[38;5;28;01mdef\u001b[39;00m \u001b[38;5;21mfn\u001b[39m(x1, x2, \u001b[38;5;241m/\u001b[39m):\n\u001b[1;32m    101\u001b[0m   x1, x2 \u001b[38;5;241m=\u001b[39m promote_args(numpy_fn\u001b[38;5;241m.\u001b[39m\u001b[38;5;18m__name__\u001b[39m, x1, x2)\n\u001b[0;32m--> 102\u001b[0m   \u001b[38;5;28;01mreturn\u001b[39;00m \u001b[43mlax_fn\u001b[49m\u001b[43m(\u001b[49m\u001b[43mx1\u001b[49m\u001b[43m,\u001b[49m\u001b[43m \u001b[49m\u001b[43mx2\u001b[49m\u001b[43m)\u001b[49m \u001b[38;5;28;01mif\u001b[39;00m x1\u001b[38;5;241m.\u001b[39mdtype \u001b[38;5;241m!=\u001b[39m np\u001b[38;5;241m.\u001b[39mbool_ \u001b[38;5;28;01melse\u001b[39;00m bool_lax_fn(x1, x2)\n",
      "    \u001b[0;31m[... skipping hidden 7 frame]\u001b[0m\n",
      "File \u001b[0;32m~/anaconda3/envs/myenv39/lib/python3.9/site-packages/jax/_src/lax/lax.py:1705\u001b[0m, in \u001b[0;36mbroadcasting_shape_rule\u001b[0;34m(name, *avals)\u001b[0m\n\u001b[1;32m   1703\u001b[0m       result_shape\u001b[38;5;241m.\u001b[39mappend(non_1s[\u001b[38;5;241m0\u001b[39m])\n\u001b[1;32m   1704\u001b[0m     \u001b[38;5;28;01melse\u001b[39;00m:\n\u001b[0;32m-> 1705\u001b[0m       \u001b[38;5;28;01mraise\u001b[39;00m \u001b[38;5;167;01mTypeError\u001b[39;00m(\u001b[38;5;124mf\u001b[39m\u001b[38;5;124m'\u001b[39m\u001b[38;5;132;01m{\u001b[39;00mname\u001b[38;5;132;01m}\u001b[39;00m\u001b[38;5;124m got incompatible shapes for broadcasting: \u001b[39m\u001b[38;5;124m'\u001b[39m\n\u001b[1;32m   1706\u001b[0m                       \u001b[38;5;124mf\u001b[39m\u001b[38;5;124m'\u001b[39m\u001b[38;5;132;01m{\u001b[39;00m\u001b[38;5;124m\"\u001b[39m\u001b[38;5;124m, \u001b[39m\u001b[38;5;124m\"\u001b[39m\u001b[38;5;241m.\u001b[39mjoin(\u001b[38;5;28mmap\u001b[39m(\u001b[38;5;28mstr\u001b[39m,\u001b[38;5;250m \u001b[39m\u001b[38;5;28mmap\u001b[39m(\u001b[38;5;28mtuple\u001b[39m,\u001b[38;5;250m \u001b[39mshapes)))\u001b[38;5;132;01m}\u001b[39;00m\u001b[38;5;124m.\u001b[39m\u001b[38;5;124m'\u001b[39m)\n\u001b[1;32m   1708\u001b[0m \u001b[38;5;28;01mreturn\u001b[39;00m \u001b[38;5;28mtuple\u001b[39m(result_shape)\n",
      "\u001b[0;31mTypeError\u001b[0m: mul got incompatible shapes for broadcasting: (6,), (15000,)."
     ]
    }
   ],
   "source": [
    "ndiv=20\n",
    "opas = OpaPremoditStitch(mdb, nus, ndiv, auto_trange=[500,1300], cutwing = 1.0)\n",
    "xsm_s = opas.xsmatrix(Tarr, Parr)\n"
   ]
  },
  {
   "cell_type": "code",
   "execution_count": 14,
   "metadata": {},
   "outputs": [
    {
     "name": "stdout",
     "output_type": "stream",
     "text": [
      "(200, 300000)\n"
     ]
    },
    {
     "data": {
      "text/plain": [
       "(None, 17.00274)"
      ]
     },
     "execution_count": 14,
     "metadata": {},
     "output_type": "execute_result"
    }
   ],
   "source": [
    "print(xsm_s.shape), mdb.molmass"
   ]
  },
  {
   "cell_type": "code",
   "execution_count": 28,
   "metadata": {},
   "outputs": [],
   "source": [
    "from exojax.utils.astrofunc import gravity_jupiter\n",
    "mmr = jnp.ones_like(Parr)*0.01\n",
    "g = gravity_jupiter(1.0,1.0)\n",
    "dtau = art.opacity_profile_xs(xsm_s,mmr,mdb.molmass,g)"
   ]
  },
  {
   "cell_type": "code",
   "execution_count": 32,
   "metadata": {},
   "outputs": [
    {
     "data": {
      "text/plain": [
       "Array([[1.97650795e-19, 1.97676809e-19, 1.97695833e-19, ...,\n",
       "        5.91997093e-10, 6.14140209e-10, 6.00202669e-10],\n",
       "       [2.43423092e-19, 2.43449301e-19, 2.43480598e-19, ...,\n",
       "        6.56970251e-10, 6.81543629e-10, 6.66076409e-10],\n",
       "       [2.99799342e-19, 2.99831899e-19, 2.99854835e-19, ...,\n",
       "        7.29074375e-10, 7.56344742e-10, 7.39179957e-10],\n",
       "       ...,\n",
       "       [1.22700111e-01, 1.22696862e-01, 1.22693597e-01, ...,\n",
       "        2.72327805e-02, 2.67659134e-02, 2.71003107e-02],\n",
       "       [1.49024274e-01, 1.49015197e-01, 1.49006080e-01, ...,\n",
       "        2.41963976e-02, 2.37929635e-02, 2.41064741e-02],\n",
       "       [1.80416719e-01, 1.80398098e-01, 1.80379395e-01, ...,\n",
       "        2.04440504e-02, 2.01167876e-02, 2.03986421e-02]], dtype=float64)"
      ]
     },
     "execution_count": 32,
     "metadata": {},
     "output_type": "execute_result"
    },
    {
     "data": {
      "image/png": "[encoded data removed]",
      "text/plain": [
       "<Figure size 2000x300 with 3 Axes>"
      ]
     },
     "metadata": {},
     "output_type": "display_data"
    }
   ],
   "source": [
    "from exojax.plot.atmplot import plotcf\n",
    "plotcf(nus, dtau, Tarr, Parr, art.dParr)"
   ]
  },
  {
   "cell_type": "code",
   "execution_count": 30,
   "metadata": {},
   "outputs": [],
   "source": [
    "from exojax.utils.constants import RJ\n",
    "mmw = jnp.ones_like(Parr)*2.0\n",
    "r2 = art.run(dtau, Tarr, mmw, RJ, g)"
   ]
  },
  {
   "cell_type": "code",
   "execution_count": 31,
   "metadata": {},
   "outputs": [
    {
     "data": {
      "text/plain": [
       "[<matplotlib.lines.Line2D at 0x78963dfe6710>]"
      ]
     },
     "execution_count": 31,
     "metadata": {},
     "output_type": "execute_result"
    },
    {
     "data": {
      "image/png": "[encoded data removed]",
      "text/plain": [
       "<Figure size 640x480 with 1 Axes>"
      ]
     },
     "metadata": {},
     "output_type": "display_data"
    }
   ],
   "source": [
    "import matplotlib.pyplot as plt\n",
    "plt.plot(nus, r2)"
   ]
  },
  {
   "cell_type": "code",
   "execution_count": null,
   "metadata": {},
   "outputs": [],
   "source": []
  }
 ],
 "metadata": {
  "kernelspec": {
   "display_name": "myenv39",
   "language": "python",
   "name": "python3"
  },
  "language_info": {
   "codemirror_mode": {
    "name": "ipython",
    "version": 3
   },
   "file_extension": ".py",
   "mimetype": "text/x-python",
   "name": "python",
   "nbconvert_exporter": "python",
   "pygments_lexer": "ipython3",
   "version": "3.9.19"
  }
 },
 "nbformat": 4,
 "nbformat_minor": 4
}
