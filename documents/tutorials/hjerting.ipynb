{
 "cells": [
  {
   "cell_type": "markdown",
   "metadata": {},
   "source": [
    "The Voigt-Hjerting is defined as\n",
    "\n",
    "$ H(x,a) = \\frac{a}{\\pi} \\int_{-\\infty}^{\\infty} \\frac{e^{-y^2}}{(x-y)^2 + a^2} dy.$\n",
    "\n",
    "In exojax, hjert is the Voigt-Hjerting function."
   ]
  },
  {
   "cell_type": "code",
   "execution_count": 1,
   "metadata": {
    "execution": {
     "iopub.execute_input": "2022-10-20T05:42:57.577258Z",
     "iopub.status.busy": "2022-10-20T05:42:57.574234Z",
     "iopub.status.idle": "2022-10-20T05:42:59.875528Z",
     "shell.execute_reply": "2022-10-20T05:42:59.875180Z"
    }
   },
   "outputs": [
    {
     "data": {
      "text/plain": [
       "DeviceArray(0.3047442, dtype=float32)"
      ]
     },
     "execution_count": 1,
     "metadata": {},
     "output_type": "execute_result"
    }
   ],
   "source": [
    "from exojax.spec import hjert\n",
    "hjert(1.0,1.0)"
   ]
  },
  {
   "cell_type": "markdown",
   "metadata": {},
   "source": [
    "We can differentiate the Voigt-Hjerting function by $x$. $\\partial_x H(x,a)$ is given by"
   ]
  },
  {
   "cell_type": "code",
   "execution_count": 2,
   "metadata": {
    "execution": {
     "iopub.execute_input": "2022-10-20T05:42:59.880735Z",
     "iopub.status.busy": "2022-10-20T05:42:59.880452Z",
     "iopub.status.idle": "2022-10-20T05:43:00.263095Z",
     "shell.execute_reply": "2022-10-20T05:43:00.262853Z"
    }
   },
   "outputs": [
    {
     "data": {
      "text/plain": [
       "DeviceArray(-0.19305044, dtype=float32, weak_type=True)"
      ]
     },
     "execution_count": 2,
     "metadata": {},
     "output_type": "execute_result"
    }
   ],
   "source": [
    "from jax import grad\n",
    "dhjert_dx=grad(hjert,argnums=0)\n",
    "dhjert_dx(1.0,1.0)"
   ]
  },
  {
   "cell_type": "markdown",
   "metadata": {},
   "source": [
    "hjert is compatible to JAX. So, when you want to use array as input, you need to wrap it by jax.vmap. "
   ]
  },
  {
   "cell_type": "code",
   "execution_count": 3,
   "metadata": {
    "execution": {
     "iopub.execute_input": "2022-10-20T05:43:00.274767Z",
     "iopub.status.busy": "2022-10-20T05:43:00.274474Z",
     "iopub.status.idle": "2022-10-20T05:43:01.504986Z",
     "shell.execute_reply": "2022-10-20T05:43:01.504659Z"
    },
    "scrolled": true
   },
   "outputs": [
    {
     "data": {
      "text/plain": [
       "<matplotlib.legend.Legend at 0x7ff774685370>"
      ]
     },
     "execution_count": 3,
     "metadata": {},
     "output_type": "execute_result"
    },
    {
     "data": {
      "image/png": "[encoded data removed]",
      "text/plain": [
       "<Figure size 432x288 with 1 Axes>"
      ]
     },
     "metadata": {
      "needs_background": "light"
     },
     "output_type": "display_data"
    }
   ],
   "source": [
    "import jax.numpy as jnp\n",
    "from jax import vmap\n",
    "import matplotlib.pyplot as plt\n",
    "\n",
    "#input vector\n",
    "x=jnp.linspace(-5,5,100)\n",
    "\n",
    "#vectorized hjert H(x,a)\n",
    "vhjert=vmap(hjert,(0,None),0)\n",
    "\n",
    "#vectroized dH(x,a)/dx\n",
    "vdhjert_dx=vmap(dhjert_dx,(0,None),0)\n",
    "\n",
    "plt.plot(x, vhjert(x,1.0),label=\"$H(x,a)$\")\n",
    "plt.plot(x, vdhjert_dx(x,1.0),label=\"$\\\\partial_x H(x,a)$\")\n",
    "plt.legend()"
   ]
  }
 ],
 "metadata": {
  "kernelspec": {
   "display_name": "Python 3 (ipykernel)",
   "language": "python",
   "name": "python3"
  },
  "language_info": {
   "codemirror_mode": {
    "name": "ipython",
    "version": 3
   },
   "file_extension": ".py",
   "mimetype": "text/x-python",
   "name": "python",
   "nbconvert_exporter": "python",
   "pygments_lexer": "ipython3",
   "version": "3.8.8"
  }
 },
 "nbformat": 4,
 "nbformat_minor": 2
}
