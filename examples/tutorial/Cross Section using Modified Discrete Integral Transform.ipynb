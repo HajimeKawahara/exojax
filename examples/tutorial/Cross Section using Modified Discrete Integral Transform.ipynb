{
 "cells": [
  {
   "cell_type": "markdown",
   "id": "8c215975",
   "metadata": {},
   "source": [
    "# Cross Section for Many Lines using MODIT\n",
    "\n",
    "Update: August 13/2021, Hajime Kawahara\n",
    "\n",
    "We demonstarte the Modified Discrete Integral Transform (MODIT), which is the modified version of DIT for exojax. MODIT uses the evenly-spaced logarithm grid (ESLOG) as a wavenumber dimension. MODIT takes advantage especially for the case that the number of the molecular line is large (typically > 10,000). We here compare the results by MODIT with the direct computation (LPF)."
   ]
  },
  {
   "cell_type": "code",
   "execution_count": 1,
   "id": "47fb745e",
   "metadata": {},
   "outputs": [],
   "source": [
    "import numpy as np\n",
    "import seaborn as sns\n",
    "import matplotlib.pyplot as plt\n",
    "import jax.numpy as jnp\n",
    "plt.style.use('bmh')"
   ]
  },
  {
   "cell_type": "code",
   "execution_count": 2,
   "id": "f2619bbb",
   "metadata": {},
   "outputs": [
    {
     "name": "stdout",
     "output_type": "stream",
     "text": [
      "HAPI initializes all the par files in  .\n",
      "HAPI detected: Forward modeling using the DIT Cross Section for methane.ipynb\n",
      "HAPI detected: Terminal Velocity of Cloud Particles.ipynb\n",
      "HAPI detected: 05_hit12.par\n",
      "HAPI detected: Forward modeling.ipynb\n",
      "HAPI detected: Forward modeling using the MODIT Cross Section for methane.ipynb\n",
      "HAPI detected: Rigid Rotation.ipynb\n",
      "HAPI detected: Forward modeling using DIT.ipynb\n",
      "HAPI detected: .ipynb_checkpoints\n",
      "HAPI detected: vaex-convert-1f7de26ff5e46c6cd6f456775faddfd5.lock\n",
      "HAPI detected: vaex-convert-656477ba679eac5ad568c11eb73db957.lock\n",
      "HAPI detected: Cross Section using Discrete Integral Transform.ipynb\n",
      "HAPI detected: Untitled.ipynb\n",
      "HAPI detected: Reducing memory for HITEMP.ipynb\n",
      "HAPI detected: plg_ch4_tutorial.ipynb\n",
      "HAPI detected: fine_grid.png\n",
      "HAPI detected: 05_hit12.header\n",
      "HAPI detected: H2-H2_2011\n",
      "HAPI detected: optimize_voigt.ipynb\n",
      "HAPI detected: Reverse modeling for methane using MODIT.ipynb\n",
      "HAPI detected: Comparing HITEMP and ExoMol.ipynb\n",
      "HAPI detected: vaex-convert-e3ba488096ea67d2c04434e23d9480e5.lock\n",
      "HAPI detected: Reverse modeling with VALD using MODIT.ipynb\n",
      "HAPI detected: plg_h2o_tutorial.ipynb\n",
      "HAPI detected: voigt function.ipynb\n",
      "HAPI detected: vaex-convert-2660e7b5cc3ec656c8bca9dc53764caf.lock\n",
      "HAPI detected: Forward modeling for metal line.ipynb\n",
      "HAPI detected: CIA opacity.ipynb\n",
      "HAPI detected: Forward modeling using MODIT.ipynb\n",
      "HAPI detected: hjerting.ipynb\n",
      "HAPI detected: .database\n",
      "HAPI detected: Ackerman and Marley cloud model.ipynb\n",
      "HAPI detected: opacity.ipynb\n",
      "HAPI detected: Reverse modeling.ipynb\n",
      "HAPI detected: optimize_spectrum_JAXopt.ipynb\n",
      "HAPI detected: simple usage.ipynb\n",
      "HAPI detected: opacity_exomol.ipynb\n",
      "HAPI detected: Cross Section using Modified Discrete Integral Transform.ipynb\n",
      "HAPI detected: Using FastChem2 to calculate the chemical abundances.ipynb\n",
      "HAPI detected: pure absorption rt.ipynb\n",
      "HAPI detected: Forward modeling for Fe I lines of Kurucz.ipynb\n",
      "HAPI detected: optimize_voigt_JAXopt.ipynb\n"
     ]
    }
   ],
   "source": [
    "from exojax.spec.hitran import SijT, doppler_sigma, gamma_hitran, gamma_natural\n",
    "from exojax.spec import moldb\n",
    "\n",
    "# Setting wavenumber bins and loading HITRAN database\n",
    "nus=np.logspace(np.log10(1900.0),np.log10(2300.0),350000,dtype=np.float64)\n",
    "R=(len(nus)-1)/np.log(nus[-1]/nus[0]) #resolution\n",
    "\n",
    "mdbCO=moldb.MdbHit('05_hit12.par',nus)\n",
    "# set T, P and partition function\n",
    "Mmol=28.01 # molecular weight\n",
    "Tfix=1000.0 # we assume T=1000K\n",
    "Pfix=1.e-3 # we compute P=1.e-3 bar\n",
    "Ppart=Pfix #partial pressure of CO. here we assume a 100% CO atmosphere.\n",
    "qt=mdbCO.qr_interp_lines(Tfix)\n",
    "\n",
    "# compute Sij, gamma_L, sigmaD\n",
    "Sij=SijT(Tfix,mdbCO.logsij0,mdbCO.nu_lines,mdbCO.elower,qt)\n",
    "gammaL = gamma_hitran(Pfix,Tfix, Ppart, mdbCO.n_air, \\\n",
    "                      mdbCO.gamma_air, mdbCO.gamma_self) \\\n",
    "+ gamma_natural(mdbCO.A)"
   ]
  },
  {
   "cell_type": "markdown",
   "id": "d637df5c",
   "metadata": {},
   "source": [
    "MODIT uses the normalized quantities by wavenumber/R, where R is the spectral resolution. In this case, the normalized Doppler width (nsigmaD) is common for the same isotope. Then, we use a 2D DIT grid with the normalized gammaL and q = R log(nu)."
   ]
  },
  {
   "cell_type": "code",
   "execution_count": 3,
   "id": "777f9ffa",
   "metadata": {},
   "outputs": [],
   "source": [
    "from exojax.spec.hitran import normalized_doppler_sigma\n",
    "dv_lines=mdbCO.nu_lines/R\n",
    "nsigmaD=normalized_doppler_sigma(Tfix,Mmol,R)\n",
    "ngammaL=gammaL/dv_lines"
   ]
  },
  {
   "cell_type": "markdown",
   "id": "a5697b02",
   "metadata": {},
   "source": [
    "MODIT uses a grid of ngammaL, and wavenumber.  \n",
    "ditgrid_log_interval makes a 1D grid for ngamma."
   ]
  },
  {
   "cell_type": "code",
   "execution_count": null,
   "id": "fa0390c9",
   "metadata": {},
   "outputs": [],
   "source": [
    "from exojax.spec.set_ditgrid import ditgrid_log_interval\n",
    "ngammaL_grid=ditgrid_log_interval(ngammaL)\n",
    "\n",
    "# we can change the resolution using res option\n",
    "#ngammaL_grid=ditgrid_log_interval(ngammaL,dit_grid_resolution=0.1)"
   ]
  },
  {
   "cell_type": "code",
   "execution_count": null,
   "id": "2be8e7ff",
   "metadata": {},
   "outputs": [],
   "source": [
    "#show the grids\n",
    "plt.plot(mdbCO.nu_lines,ngammaL,\".\")\n",
    "for i in ngammaL_grid:\n",
    "    plt.axhline(i,lw=1,alpha=0.5,color=\"C1\")\n",
    "plt.xlabel(\"wavenumber\")\n",
    "plt.ylabel(\"normalized gammaL\")"
   ]
  },
  {
   "cell_type": "markdown",
   "id": "d8a9c52a",
   "metadata": {},
   "source": [
    "We need to precompute the contribution for wavenumber and pmarray. These can be computed using init_dit. "
   ]
  },
  {
   "cell_type": "code",
   "execution_count": null,
   "id": "87f63886",
   "metadata": {},
   "outputs": [],
   "source": [
    "from exojax.spec import initspec \n",
    "cnu,indexnu,R,pmarray=initspec.init_modit(mdbCO.nu_lines,nus)"
   ]
  },
  {
   "cell_type": "markdown",
   "id": "e60eb1cb",
   "metadata": {},
   "source": [
    "Let's compute the cross section!"
   ]
  },
  {
   "cell_type": "code",
   "execution_count": null,
   "id": "48675923",
   "metadata": {},
   "outputs": [],
   "source": [
    "from exojax.spec.modit import xsvector\n",
    "xs=xsvector(cnu,indexnu,R,pmarray,nsigmaD,ngammaL,Sij,nus,ngammaL_grid)"
   ]
  },
  {
   "cell_type": "markdown",
   "id": "4f794479",
   "metadata": {},
   "source": [
    "Also, we here try the direct computation using LPF for the comparison purpose"
   ]
  },
  {
   "cell_type": "code",
   "execution_count": null,
   "id": "683b3ab5",
   "metadata": {},
   "outputs": [],
   "source": [
    "from exojax.spec import xsection\n",
    "sigmaD=doppler_sigma(mdbCO.nu_lines,Tfix,Mmol)\n",
    "xsv=xsection(nus,mdbCO.nu_lines,sigmaD,gammaL,Sij,memory_size=30)"
   ]
  },
  {
   "cell_type": "code",
   "execution_count": null,
   "id": "8169def7",
   "metadata": {},
   "outputs": [],
   "source": [
    "fig=plt.figure(figsize=(10,5))\n",
    "ax=fig.add_subplot(211)\n",
    "plt.plot(nus,xs,lw=1,alpha=0.5,label=\"MODIT\")\n",
    "plt.plot(nus,xsv,lw=1,alpha=0.5,label=\"Direct LPF\")\n",
    "plt.legend(loc=\"upper right\")\n",
    "plt.ylabel(\"Cross Section (cm2)\")\n",
    "ax=fig.add_subplot(212)\n",
    "plt.plot(nus,xsv-xs,lw=2,alpha=0.5,label=\"MODIT\")\n",
    "plt.ylabel(\"LPF - DIT (cm2)\")\n",
    "plt.legend(loc=\"upper left\")\n",
    "plt.show()"
   ]
  },
  {
   "cell_type": "markdown",
   "id": "ed500624",
   "metadata": {},
   "source": [
    "There is about 1 % deviation between LPF and MODIT. "
   ]
  },
  {
   "cell_type": "code",
   "execution_count": null,
   "id": "9f86a45b",
   "metadata": {},
   "outputs": [],
   "source": [
    "fig=plt.figure(figsize=(10,5))\n",
    "ax=fig.add_subplot(211)\n",
    "plt.plot(nus,xs,lw=2,alpha=0.5,label=\"DIT\")\n",
    "plt.plot(nus,xsv,lw=1,alpha=0.5,label=\"Direct\")\n",
    "plt.legend(loc=\"upper right\")\n",
    "plt.xlim(2050.8,2050.9)\n",
    "plt.ylabel(\"Cross Section (cm2)\")\n",
    "ax=fig.add_subplot(212)\n",
    "plt.plot(nus,xsv-xs,lw=2,alpha=0.6,label=\"MODIT\")\n",
    "plt.legend(loc=\"upper left\")\n",
    "plt.ylabel(\"Difference (cm2)\")\n",
    "plt.xlim(2050.8,2050.9)\n",
    "#plt.yscale(\"log\")\n",
    "plt.savefig(\"fine_grid.png\")"
   ]
  },
  {
   "cell_type": "code",
   "execution_count": null,
   "id": "785f3acf",
   "metadata": {},
   "outputs": [],
   "source": []
  }
 ],
 "metadata": {
  "kernelspec": {
   "display_name": "Python 3 (ipykernel)",
   "language": "python",
   "name": "python3"
  },
  "language_info": {
   "codemirror_mode": {
    "name": "ipython",
    "version": 3
   },
   "file_extension": ".py",
   "mimetype": "text/x-python",
   "name": "python",
   "nbconvert_exporter": "python",
   "pygments_lexer": "ipython3",
   "version": "3.9.5"
  }
 },
 "nbformat": 4,
 "nbformat_minor": 5
}
