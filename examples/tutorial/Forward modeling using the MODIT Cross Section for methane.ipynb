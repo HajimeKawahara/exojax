{
 "cells": [
  {
   "cell_type": "markdown",
   "metadata": {},
   "source": [
    "# Forward Modeling of an Emission Spectrum using the MODIT Cross Section"
   ]
  },
  {
   "cell_type": "markdown",
   "metadata": {},
   "source": [
    "Septempber 3rd (2021) Hajime Kawahara\n",
    "\n",
    "We try to compute an emission spectrum in which many methane lines exist. This situation mocks a T-type brown dwarf."
   ]
  },
  {
   "cell_type": "code",
   "execution_count": null,
   "metadata": {},
   "outputs": [],
   "source": [
    "from exojax.spec import rtransfer as rt\n",
    "from exojax.spec import dit, modit"
   ]
  },
  {
   "cell_type": "code",
   "execution_count": null,
   "metadata": {},
   "outputs": [],
   "source": [
    "#ATMOSPHERE                                                                     \n",
    "NP=100\n",
    "T0=1295.0 #K\n",
    "Parr, dParr, k=rt.pressure_layer(NP=NP)\n",
    "Tarr = T0*(Parr)**0.1"
   ]
  },
  {
   "cell_type": "markdown",
   "metadata": {},
   "source": [
    "A T-P profile we assume is here."
   ]
  },
  {
   "cell_type": "code",
   "execution_count": null,
   "metadata": {},
   "outputs": [],
   "source": [
    "import matplotlib.pyplot as plt\n",
    "plt.style.use('bmh')\n",
    "plt.plot(Tarr,Parr)\n",
    "plt.yscale(\"log\")\n",
    "plt.gca().invert_yaxis()\n",
    "plt.show()"
   ]
  },
  {
   "cell_type": "markdown",
   "metadata": {},
   "source": [
    "We set a wavenumber grid using nugrid. Specify xsmode=\"modit\" though it is not mandatory.\n",
    "MODIT uses FFT, so the (internal) wavenumber grid should be evenly spaced in log. "
   ]
  },
  {
   "cell_type": "code",
   "execution_count": null,
   "metadata": {},
   "outputs": [],
   "source": [
    "from exojax.spec.rtransfer import nugrid\n",
    "nus,wav,R=nugrid(16360,16560,10000,unit=\"AA\",xsmode=\"modit\")"
   ]
  },
  {
   "cell_type": "markdown",
   "metadata": {},
   "source": [
    "Loading a molecular database of CH4 and CIA (H2-H2)... "
   ]
  },
  {
   "cell_type": "code",
   "execution_count": null,
   "metadata": {},
   "outputs": [],
   "source": [
    "from exojax.spec import moldb, contdb\n",
    "mdbCH4=moldb.MdbExomol('.database/CH4/12C-1H4/YT10to10/',nus,crit=1.e-30)\n",
    "cdbH2H2=contdb.CdbCIA('.database/H2-H2_2011.cia',nus)"
   ]
  },
  {
   "cell_type": "markdown",
   "metadata": {},
   "source": [
    "We have 140031 lines"
   ]
  },
  {
   "cell_type": "code",
   "execution_count": null,
   "metadata": {},
   "outputs": [],
   "source": [
    "len(mdbCH4.A)"
   ]
  },
  {
   "cell_type": "code",
   "execution_count": null,
   "metadata": {},
   "outputs": [],
   "source": [
    "from exojax.spec import molinfo\n",
    "molmassCH4=molinfo.molmass(\"CH4\")"
   ]
  },
  {
   "cell_type": "markdown",
   "metadata": {},
   "source": [
    "Computing the relative partition function, "
   ]
  },
  {
   "cell_type": "code",
   "execution_count": null,
   "metadata": {},
   "outputs": [],
   "source": [
    "from jax import vmap\n",
    "qt=vmap(mdbCH4.qr_interp)(Tarr)"
   ]
  },
  {
   "cell_type": "markdown",
   "metadata": {},
   "source": [
    "Pressure and Natural broadenings "
   ]
  },
  {
   "cell_type": "code",
   "execution_count": null,
   "metadata": {},
   "outputs": [],
   "source": [
    "from jax import jit\n",
    "from exojax.spec.exomol import gamma_exomol\n",
    "from exojax.spec import gamma_natural\n",
    "\n",
    "gammaLMP = jit(vmap(gamma_exomol,(0,0,None,None)))\\\n",
    "        (Parr,Tarr,mdbCH4.n_Texp,mdbCH4.alpha_ref)\n",
    "gammaLMN=gamma_natural(mdbCH4.A)\n",
    "gammaLM=gammaLMP+gammaLMN[None,:]"
   ]
  },
  {
   "cell_type": "markdown",
   "metadata": {},
   "source": [
    "And line strength"
   ]
  },
  {
   "cell_type": "code",
   "execution_count": null,
   "metadata": {},
   "outputs": [],
   "source": [
    "from exojax.spec import SijT\n",
    "SijM=jit(vmap(SijT,(0,None,None,None,0)))\\\n",
    "    (Tarr,mdbCH4.logsij0,mdbCH4.nu_lines,mdbCH4.elower,qt)"
   ]
  },
  {
   "cell_type": "markdown",
   "metadata": {},
   "source": [
    "MODIT uses the normalized quantities by wavenumber/R, where R is the spectral resolution. In this case, the normalized Doppler width (nsigmaD) is common for the same isotope. Then, we use a 2D DIT grid with the normalized gammaL and q = R log(nu)."
   ]
  },
  {
   "cell_type": "code",
   "execution_count": null,
   "metadata": {},
   "outputs": [],
   "source": [
    "from exojax.spec import normalized_doppler_sigma\n",
    "import numpy as np\n",
    "nsigmaDl=normalized_doppler_sigma(Tarr,molmassCH4,R)[:,np.newaxis]"
   ]
  },
  {
   "cell_type": "code",
   "execution_count": null,
   "metadata": {},
   "outputs": [],
   "source": [
    "dv_lines=mdbCH4.nu_lines/R\n",
    "ngammaLM=gammaLM/dv_lines"
   ]
  },
  {
   "cell_type": "markdown",
   "metadata": {},
   "source": [
    "MODIT uses a grid of ngammaL and wavenumber. dgmatrix makes a 1D grid for ngamma for n-th layers."
   ]
  },
  {
   "cell_type": "code",
   "execution_count": null,
   "metadata": {},
   "outputs": [],
   "source": [
    "dgm_ngammaL=modit.dgmatrix(ngammaLM,0.2)"
   ]
  },
  {
   "cell_type": "code",
   "execution_count": null,
   "metadata": {},
   "outputs": [],
   "source": [
    "#show the DIT grids \n",
    "from exojax.plot.ditplot import plot_dgmn\n",
    "plot_dgmn(Parr,dgm_ngammaL,ngammaLM,0,6)"
   ]
  },
  {
   "cell_type": "markdown",
   "metadata": {},
   "source": [
    "We need to precompute the contribution for wavenumber and pmarray. These can be computed using init_dit. "
   ]
  },
  {
   "cell_type": "code",
   "execution_count": null,
   "metadata": {},
   "outputs": [],
   "source": [
    "from exojax.spec import initspec \n",
    "cnu,indexnu,R,pmarray=initspec.init_modit(mdbCH4.nu_lines,nus)"
   ]
  },
  {
   "cell_type": "markdown",
   "metadata": {},
   "source": [
    "Let's compute a cross section matrix using modit.xsmatrix."
   ]
  },
  {
   "cell_type": "code",
   "execution_count": null,
   "metadata": {},
   "outputs": [],
   "source": [
    "xsm=modit.xsmatrix(cnu,indexnu,R,pmarray,nsigmaDl,ngammaLM,SijM,nus,dgm_ngammaL)"
   ]
  },
  {
   "cell_type": "code",
   "execution_count": null,
   "metadata": {},
   "outputs": [],
   "source": [
    "import numpy as np\n",
    "fig=plt.figure(figsize=(20,4))\n",
    "ax=fig.add_subplot(111)\n",
    "c=plt.imshow(np.log10(xsm),cmap=\"bone_r\",vmin=-23,vmax=-19)\n",
    "plt.colorbar(c,shrink=0.8)\n",
    "plt.text(50,30,\"MODIT\")\n",
    "ax.set_aspect(0.2/ax.get_data_ratio())\n",
    "plt.show()"
   ]
  },
  {
   "cell_type": "markdown",
   "metadata": {},
   "source": [
    "Sometimes, xsm includes negative elements due to error. Check it."
   ]
  },
  {
   "cell_type": "code",
   "execution_count": null,
   "metadata": {},
   "outputs": [],
   "source": [
    "len(xsm[xsm<0.0]), np.min(xsm)"
   ]
  },
  {
   "cell_type": "markdown",
   "metadata": {},
   "source": [
    "This negative value is very small. For instance, jnp.abs can remove it."
   ]
  },
  {
   "cell_type": "code",
   "execution_count": null,
   "metadata": {},
   "outputs": [],
   "source": [
    "import jax.numpy as jnp\n",
    "xsm=jnp.abs(xsm)"
   ]
  },
  {
   "cell_type": "markdown",
   "metadata": {},
   "source": [
    "computing delta tau for CH4"
   ]
  },
  {
   "cell_type": "code",
   "execution_count": null,
   "metadata": {},
   "outputs": [],
   "source": [
    "from exojax.spec.rtransfer import dtauM\n",
    "import jax.numpy as jnp\n",
    "Rp=0.88\n",
    "Mp=33.2\n",
    "g=2478.57730044555*Mp/Rp**2 #gravity cm/s2\n",
    "MMR=0.0059 #mass mixing ratio\n",
    "dtaum=dtauM(dParr,xsm,MMR*np.ones_like(Tarr),molmassCH4,g)"
   ]
  },
  {
   "cell_type": "markdown",
   "metadata": {},
   "source": [
    "computing delta tau for CIA"
   ]
  },
  {
   "cell_type": "code",
   "execution_count": null,
   "metadata": {},
   "outputs": [],
   "source": [
    "from exojax.spec.rtransfer import dtauCIA\n",
    "mmw=2.33 #mean molecular weight\n",
    "mmrH2=0.74\n",
    "molmassH2=molinfo.molmass(\"H2\")\n",
    "vmrH2=(mmrH2*mmw/molmassH2) #VMR\n",
    "dtaucH2H2=dtauCIA(nus,Tarr,Parr,dParr,vmrH2,vmrH2,\\\n",
    "            mmw,g,cdbH2H2.nucia,cdbH2H2.tcia,cdbH2H2.logac)"
   ]
  },
  {
   "cell_type": "markdown",
   "metadata": {},
   "source": [
    "The total delta tau is a summation of them"
   ]
  },
  {
   "cell_type": "code",
   "execution_count": null,
   "metadata": {
    "scrolled": true
   },
   "outputs": [],
   "source": [
    "dtau=dtaum+dtaucH2H2"
   ]
  },
  {
   "cell_type": "markdown",
   "metadata": {},
   "source": [
    "you can plot a contribution function using exojax.plot.atmplot "
   ]
  },
  {
   "cell_type": "code",
   "execution_count": null,
   "metadata": {},
   "outputs": [],
   "source": [
    "from exojax.plot.atmplot import plotcf\n",
    "plotcf(nus,dtau,Tarr,Parr,dParr)\n",
    "plt.show()"
   ]
  },
  {
   "cell_type": "markdown",
   "metadata": {},
   "source": [
    "radiative transfering..."
   ]
  },
  {
   "cell_type": "code",
   "execution_count": null,
   "metadata": {},
   "outputs": [],
   "source": [
    "from exojax.spec import planck\n",
    "from exojax.spec.rtransfer import rtrun\n",
    "sourcef = planck.piBarr(Tarr,nus)\n",
    "F0=rtrun(dtau,sourcef)"
   ]
  },
  {
   "cell_type": "code",
   "execution_count": null,
   "metadata": {},
   "outputs": [],
   "source": [
    "fig=plt.figure(figsize=(20,4))\n",
    "ax=fig.add_subplot(211)\n",
    "plt.plot(wav[::-1],F0,lw=1,label=\"DIT\")\n",
    "plt.legend()\n",
    "plt.xlabel(\"wavelength ($\\AA$)\")\n",
    "plt.savefig(\"ch4.png\")"
   ]
  },
  {
   "cell_type": "markdown",
   "metadata": {},
   "source": [
    "MODIT uses ESLOG as the wavenunmber grid. We can directly apply the response to the raw spectrum."
   ]
  },
  {
   "cell_type": "code",
   "execution_count": null,
   "metadata": {},
   "outputs": [],
   "source": [
    "from exojax.spec import response\n",
    "from exojax.utils.constants import c\n",
    "import jax.numpy as jnp\n",
    "\n",
    "wavd=jnp.linspace(16360,16560,1500) #observational wavelength grid\n",
    "nusd = 1.e8/wavd[::-1]\n",
    "\n",
    "RV=10.0 #RV km/s\n",
    "vsini=20.0 #Vsini km/s\n",
    "u1=0.0 #limb darkening u1\n",
    "u2=0.0 #limb darkening u2\n",
    "\n",
    "Rinst=100000. #spectral resolution of the spectrograph\n",
    "beta=c/(2.0*np.sqrt(2.0*np.log(2.0))*Rinst) #IP sigma (STD of Gaussian)\n",
    "\n",
    "Frot=response.rigidrot(nus,F0,vsini,u1,u2)\n",
    "F=response.ipgauss_sampling(nusd,nus,Frot,beta,RV)"
   ]
  },
  {
   "cell_type": "code",
   "execution_count": null,
   "metadata": {},
   "outputs": [],
   "source": [
    "fig=plt.figure(figsize=(20,4))\n",
    "plt.plot(wav[::-1],F0,alpha=0.5)\n",
    "plt.plot(wavd[::-1],F)\n",
    "plt.xlabel(\"wavelength ($\\AA$)\")\n",
    "plt.savefig(\"moditCH4.png\")"
   ]
  },
  {
   "cell_type": "markdown",
   "metadata": {},
   "source": [
    "Let's save the spectrum for the retrieval."
   ]
  },
  {
   "cell_type": "code",
   "execution_count": null,
   "metadata": {},
   "outputs": [],
   "source": [
    "np.savetxt(\"spectrum_ch4.txt\",np.array([wavd,F]).T,delimiter=\",\")"
   ]
  },
  {
   "cell_type": "code",
   "execution_count": null,
   "metadata": {},
   "outputs": [],
   "source": []
  }
 ],
 "metadata": {
  "kernelspec": {
   "display_name": "Python 3 (ipykernel)",
   "language": "python",
   "name": "python3"
  },
  "language_info": {
   "codemirror_mode": {
    "name": "ipython",
    "version": 3
   },
   "file_extension": ".py",
   "mimetype": "text/x-python",
   "name": "python",
   "nbconvert_exporter": "python",
   "pygments_lexer": "ipython3",
   "version": "3.8.8"
  }
 },
 "nbformat": 4,
 "nbformat_minor": 2
}
