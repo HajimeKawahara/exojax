{
 "cells": [
  {
   "cell_type": "code",
   "execution_count": 2,
   "metadata": {},
   "outputs": [],
   "source": [
    "import numpy as np\n",
    "import pandas as pd\n",
    "import matplotlib.pyplot as plt"
   ]
  },
  {
   "cell_type": "code",
   "execution_count": 3,
   "metadata": {},
   "outputs": [],
   "source": [
    "data = pd.read_csv(\"/home/kawahara/exojax/data/clouds/drag_force.txt\",comment=\"#\",delimiter=\",\")"
   ]
  },
  {
   "cell_type": "code",
   "execution_count": 6,
   "metadata": {},
   "outputs": [],
   "source": [
    "Nre=data[\"Nre\"].values\n",
    "logNre=np.log(Nre) #Reynolds number\n",
    "Cd=(data[\"Cd_rigid\"].values)\n",
    "logNd=np.log(Nre**2*Cd)\n",
    "\n",
    "Cdinf=0.45\n",
    "Nreinf=np.logspace(3,5,30)\n",
    "logNreinf=np.log(Nreinf)\n",
    "logNdinf=np.log(Nreinf**2*Cdinf)"
   ]
  },
  {
   "cell_type": "code",
   "execution_count": 28,
   "metadata": {},
   "outputs": [],
   "source": [
    "#Cd Nre^2 = 24 Nre\n",
    "#y = x + np.log(24.)\n",
    "\n",
    "#Cd =0.45\n",
    "# y = log(0.45 Ne^2) = log(0.45) + 2 x "
   ]
  },
  {
   "cell_type": "code",
   "execution_count": 29,
   "metadata": {},
   "outputs": [
    {
     "data": {
      "text/plain": [
       "array([0.02637421, 1.22747426, 3.08970939])"
      ]
     },
     "execution_count": 29,
     "metadata": {},
     "output_type": "execute_result"
    }
   ],
   "source": [
    "coeff=np.polyfit(logNre,logNd,2)\n",
    "coeff"
   ]
  },
  {
   "cell_type": "code",
   "execution_count": 65,
   "metadata": {},
   "outputs": [
    {
     "data": {
      "image/png": "[encoded data removed]",
      "text/plain": [
       "<Figure size 432x288 with 1 Axes>"
      ]
     },
     "metadata": {
      "needs_background": "light"
     },
     "output_type": "display_data"
    }
   ],
   "source": [
    "plt.plot(logNre,logNd,\".\",label=\"Table 10.1 in Pruppacher and Klett\")\n",
    "\n",
    "xarr=np.linspace(np.log(0.001),np.log(1),100) #logNre\n",
    "plt.plot(xarr,xarr + np.log(24.),alpha=0.5,label=\"Stokes flow\")\n",
    "xarr=np.linspace(np.log(1),np.log(600),100) #logNre\n",
    "#plt.plot(coeff[0]*yarr**2+coeff[1]*yarr+coeff[2],yarr)\n",
    "plt.plot(xarr,0.026*xarr**2+1.23*xarr+3.1,alpha=0.5,ls=\"dashed\",label=\"$y=0.026 x^2+1.23 x+3.1$\")\n",
    "#xarr=np.linspace(5,12,100)\n",
    "#plt.plot(0.8*xarr-0.01*xarr**2,xarr,label=\"$y=0.8x-0.01x^2$ (AM01)\")\n",
    "#plt.plot(xarr,-0.00883374*xarr**2+0.84514511*xarr-2.49105354,alpha=0.5,label=\"our fit\")\n",
    "\n",
    "xarr=np.linspace(np.log(600),np.log(10000),100)\n",
    "plt.plot(xarr,np.log(0.45) + 2*xarr,alpha=0.5,ls=\"dotted\",label=\"$y=2x+\\\\log{C_d}$ (assuming $C_d=0.45$) \")\n",
    "plt.ylabel(\"$\\\\log{N_d}$\")\n",
    "plt.xlabel(\"$\\\\log{N_{re}}$\")\n",
    "plt.legend()\n",
    "plt.savefig(\"davies_reynolds.png\")"
   ]
  },
  {
   "cell_type": "code",
   "execution_count": 20,
   "metadata": {},
   "outputs": [
    {
     "data": {
      "text/plain": [
       "601.8450378720822"
      ]
     },
     "execution_count": 20,
     "metadata": {},
     "output_type": "execute_result"
    }
   ],
   "source": [
    "np.exp(0.5*12+0.4)"
   ]
  },
  {
   "cell_type": "code",
   "execution_count": null,
   "metadata": {},
   "outputs": [],
   "source": []
  }
 ],
 "metadata": {
  "kernelspec": {
   "display_name": "Python 3",
   "language": "python",
   "name": "python3"
  },
  "language_info": {
   "codemirror_mode": {
    "name": "ipython",
    "version": 3
   },
   "file_extension": ".py",
   "mimetype": "text/x-python",
   "name": "python",
   "nbconvert_exporter": "python",
   "pygments_lexer": "ipython3",
   "version": "3.7.3"
  }
 },
 "nbformat": 4,
 "nbformat_minor": 2
}
