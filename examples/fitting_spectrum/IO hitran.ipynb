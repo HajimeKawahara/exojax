{
 "cells": [
  {
   "cell_type": "code",
   "execution_count": 21,
   "metadata": {
    "scrolled": true
   },
   "outputs": [
    {
     "name": "stdout",
     "output_type": "stream",
     "text": [
      "The autoreload extension is already loaded. To reload it, use:\n",
      "  %reload_ext autoreload\n"
     ]
    }
   ],
   "source": [
    "%load_ext autoreload\n",
    "%autoreload 2\n",
    "import exojax.aux\n",
    "from exojax.aux.hitran import extline \n",
    "from exojax.aux.hitran.pairTypes import Interval"
   ]
  },
  {
   "cell_type": "code",
   "execution_count": 22,
   "metadata": {},
   "outputs": [],
   "source": [
    "#nm\n",
    "llow=2290.0\n",
    "lhigh=2350.0"
   ]
  },
  {
   "cell_type": "code",
   "execution_count": 24,
   "metadata": {},
   "outputs": [],
   "source": [
    "#cm-1\n",
    "wlow=1.e7/lhigh\n",
    "whigh=1.e7/llow"
   ]
  },
  {
   "cell_type": "code",
   "execution_count": 28,
   "metadata": {},
   "outputs": [],
   "source": [
    "options={'format': 'vSEan', 'isotope': 0, 'molecule': 'CO', 'strMin': 0.0, 'xLimits': Interval(wlow,whigh), \n",
    "         'xUnit': 'cm-1', 'verbose': False}\n",
    "linefile=\"/home/kawahara/exojax/data/hitemp/CO/05_HITEMP2019.par\""
   ]
  },
  {
   "cell_type": "code",
   "execution_count": 26,
   "metadata": {},
   "outputs": [
    {
     "name": "stdout",
     "output_type": "stream",
     "text": [
      "# first line in spectral range at record number 220654 found in 13.208509 sec\n",
      " b' 55 4255.3724681.233E-116 8.164E-01.04200.04143745.02500.67-.008358'\n",
      "# last  line     accepted \n",
      " b' 53 4366.8106667.014E-130 3.644E+01.04200.04151630.71490.67-.008248'\n",
      "# first line not accepted \n",
      " b' 52 4366.8133394.692E-126 3.582E+01.04200.04150122.81340.67-.008248'\n",
      "\n",
      " 4462 lines of  1  molecule(s) extracted from  /home/kawahara/exojax/data/hitemp/CO/05_HITEMP2019.par\n",
      "returning a lineArray for  CO\n"
     ]
    }
   ],
   "source": [
    "dictOfLineLists = extline.higstract (linefile, **options)"
   ]
  },
  {
   "cell_type": "code",
   "execution_count": 27,
   "metadata": {},
   "outputs": [
    {
     "data": {
      "text/plain": [
       "lineArray([(4255.372468, 1.233e-116, 43745.025 , 0.042 , 0.67, 0.041, 5., -0.008358),\n",
       "           (4255.38915 , 8.685e-036,  6200.8127, 0.042 , 0.67, 0.041, 3., -0.00548 ),\n",
       "           (4255.389714, 9.199e-140, 55437.7966, 0.042 , 0.67, 0.041, 5., -0.008248),\n",
       "           ...,\n",
       "           (4366.792832, 7.602e-119, 44528.9632, 0.0612, 0.75, 0.069, 6., -0.006038),\n",
       "           (4366.793101, 9.850e-139, 57206.0774, 0.042 , 0.67, 0.041, 1., -0.008248),\n",
       "           (4366.810666, 7.014e-130, 51630.7149, 0.042 , 0.67, 0.041, 3., -0.008248)],\n",
       "          dtype=[('v', '<f8'), ('S', '<f8'), ('E', '<f8'), ('a', '<f8'), ('n', '<f8'), ('s', '<f8'), ('i', '<f8'), ('d', '<f8')])"
      ]
     },
     "execution_count": 27,
     "metadata": {},
     "output_type": "execute_result"
    }
   ],
   "source": [
    "#   position    strength      energy airWidth    Tdep\n",
    "#       cm-1   cm-1/cm-2        cm-1     cm-1        \n",
    "#\n",
    "dictOfLineLists"
   ]
  },
  {
   "cell_type": "code",
   "execution_count": null,
   "metadata": {},
   "outputs": [],
   "source": []
  }
 ],
 "metadata": {
  "kernelspec": {
   "display_name": "Python 3",
   "language": "python",
   "name": "python3"
  },
  "language_info": {
   "codemirror_mode": {
    "name": "ipython",
    "version": 3
   },
   "file_extension": ".py",
   "mimetype": "text/x-python",
   "name": "python",
   "nbconvert_exporter": "python",
   "pygments_lexer": "ipython3",
   "version": "3.7.3"
  }
 },
 "nbformat": 4,
 "nbformat_minor": 2
}
