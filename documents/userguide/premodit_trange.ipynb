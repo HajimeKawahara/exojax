{
 "cells": [
  {
   "cell_type": "markdown",
   "metadata": {},
   "source": [
    "# PreMODIT: The robust range of temperature as a function of dE  "
   ]
  },
  {
   "cell_type": "code",
   "execution_count": 3,
   "metadata": {},
   "outputs": [
    {
     "name": "stdout",
     "output_type": "stream",
     "text": [
      "(2, 50, 50, 29, 3)\n",
      "(2, 50, 50, 29, 3)\n"
     ]
    }
   ],
   "source": [
    "from exojax.spec.lbderror import default_elower_grid_trange_file\n",
    "import numpy as np\n",
    "\n",
    "filename = default_elower_grid_trange_file()\n",
    "dat = np.load(filename)\n",
    "arr = dat[\"arr_0\"]\n",
    "Tarr = dat[\"arr_1\"] # np.logspace(np.log10(100),np.log10(5000),120)\n",
    "Twtarr = dat[\"arr_2\"] #np.logspace(np.log10(100.1),np.log10(2000.1),50)\n",
    "Trefarr = dat[\"arr_3\"] #Trefarr - np.logspace(np.log10(100),np.log10(2000),50)\n",
    "dEarr = dat[\"arr_4\"]\n",
    "\n",
    "print(np.shape(arr)) # (tl/th, len(Tarr), len(Twtarr), len(Trefarr), len(dEarr), diffmode0,1,2)\n",
    "print((2, len(Twtarr), len(Trefarr), len(dEarr),3))"
   ]
  },
  {
   "cell_type": "code",
   "execution_count": 11,
   "metadata": {},
   "outputs": [
    {
     "name": "stdout",
     "output_type": "stream",
     "text": [
      "[0. 0. 0. 0. 0. 0. 0. 0. 0. 0. 0. 0. 0. 0. 0. 0. 0. 0. 0. 0. 0. 0. 0. 0.\n",
      " 0. 0. 0. 0. 0. 0. 0. 0. 0. 0. 0. 0. 0. 0. 0. 0. 0. 0. 0. 0. 0. 0. 0. 0.\n",
      " 0. 0.]\n"
     ]
    }
   ],
   "source": [
    "#print(Tarr - np.logspace(np.log10(100),np.log10(5000),120))\n",
    "#print(Twtarr - np.logspace(np.log10(100.1),np.log10(2000.1),50))\n",
    "print(Trefarr - np.logspace(np.log10(100),np.log10(2000),50))"
   ]
  },
  {
   "cell_type": "code",
   "execution_count": 10,
   "metadata": {},
   "outputs": [
    {
     "data": {
      "text/plain": [
       "array([ 100.        ,  106.30449594,  113.00645858,  120.13094618,\n",
       "        127.70459681,  135.75572794,  144.3144423 ,  153.41274046,\n",
       "        163.08464046,  173.36630501,  184.29617668,  195.91512166,\n",
       "        208.26658257,  221.39674082,  235.35468937,  250.19261621,\n",
       "        265.96599956,  282.73381521,  300.55875713,  319.50747178,\n",
       "        339.65080739,  361.06407876,  383.82734897,  408.02572862,\n",
       "        433.74969413,  461.09542601,  490.16516845,  521.06761162,\n",
       "        553.91829806,  588.8400547 ,  625.96345207,  665.42729252,\n",
       "        707.3791292 ,  751.97581771,  799.38410265,  849.78124098,\n",
       "        903.35566486,  960.30768612, 1020.85024525, 1085.20970757,\n",
       "       1153.62670958, 1226.3570587 , 1303.67268974, 1385.8626816 ,\n",
       "       1473.23433816, 1566.11433727, 1664.84995216, 1769.81034988,\n",
       "       1881.38797162, 2000.        ])"
      ]
     },
     "execution_count": 10,
     "metadata": {},
     "output_type": "execute_result"
    }
   ],
   "source": [
    "Trefarr"
   ]
  },
  {
   "cell_type": "code",
   "execution_count": null,
   "metadata": {},
   "outputs": [],
   "source": []
  }
 ],
 "metadata": {
  "kernelspec": {
   "display_name": "base",
   "language": "python",
   "name": "python3"
  },
  "language_info": {
   "codemirror_mode": {
    "name": "ipython",
    "version": 3
   },
   "file_extension": ".py",
   "mimetype": "text/x-python",
   "name": "python",
   "nbconvert_exporter": "python",
   "pygments_lexer": "ipython3",
   "version": "3.10.9"
  }
 },
 "nbformat": 4,
 "nbformat_minor": 2
}
