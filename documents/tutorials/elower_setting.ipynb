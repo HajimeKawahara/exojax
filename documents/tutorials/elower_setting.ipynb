{
 "cells": [
  {
   "cell_type": "markdown",
   "metadata": {},
   "source": [
    "# Reducing Device Memory Use by Setting the Optimal Elower Maximum"
   ]
  },
  {
   "cell_type": "markdown",
   "metadata": {},
   "source": [
    "PreMODIT make a grid of Elower. When the maximum value of Elower in the database is large, \n",
    "the use of the device memory becomes too large for your GPU CUDA memory.\n",
    "We can use the lines whose Elower are below user-defined value, by using elower_max option in mdb. \n",
    "But, before that, we need to know the optimal value of the max Elower. This tutorial explains how to do that.\n",
    "First use FP64 as usual.  "
   ]
  },
  {
   "cell_type": "code",
   "execution_count": 1,
   "metadata": {},
   "outputs": [],
   "source": [
    "from jax import config\n",
    "config.update(\"jax_enable_x64\", True)"
   ]
  },
  {
   "cell_type": "markdown",
   "metadata": {},
   "source": [
    "Make \"mdb\"."
   ]
  },
  {
   "cell_type": "code",
   "execution_count": 2,
   "metadata": {},
   "outputs": [
    {
     "name": "stdout",
     "output_type": "stream",
     "text": [
      "xsmode =  premodit\n",
      "xsmode assumes ESLOG in wavenumber space: mode=premodit\n",
      "HITRAN exact name= (12C)(16O)\n",
      "Background atmosphere:  H2\n"
     ]
    },
    {
     "name": "stderr",
     "output_type": "stream",
     "text": [
      "/home/kawahara/exojax/src/exojax/utils/grids.py:126: UserWarning: Resolution may be too small. R=224940.4617885842\n",
      "  warnings.warn('Resolution may be too small. R=' + str(resolution),\n"
     ]
    },
    {
     "name": "stdout",
     "output_type": "stream",
     "text": [
      "Reading .database/CO/12C-16O/Li2015/12C-16O__Li2015.trans.bz2\n",
      ".broad is used.\n",
      "Broadening code level= a0\n",
      "default broadening parameters are used for  71  J lower states in  152  states\n"
     ]
    }
   ],
   "source": [
    "from exojax.utils.grids import wavenumber_grid\n",
    "from exojax.spec.api import MdbExomol\n",
    "\n",
    "nu_grid, wav, resolution = wavenumber_grid(2200.,\n",
    "                                           2300.,\n",
    "                                           10000,\n",
    "                                           unit=\"cm-1\",\n",
    "                                           xsmode=\"premodit\")\n",
    "mdb = MdbExomol(\".database/CO/12C-16O/Li2015\", nurange=nu_grid)\n"
   ]
  },
  {
   "cell_type": "markdown",
   "metadata": {},
   "source": [
    "Because the device memory use (and computational cost) is proportional to the maximum of Elower,\n",
    "we should check what the maximum value of Elower is."
   ]
  },
  {
   "cell_type": "code",
   "execution_count": 3,
   "metadata": {},
   "outputs": [
    {
     "name": "stdout",
     "output_type": "stream",
     "text": [
      "522.4751 - 84862.9693 cm-1\n"
     ]
    }
   ],
   "source": [
    "import numpy as np\n",
    "print(np.min(mdb.elower),\"-\",np.max(mdb.elower),\"cm-1\")"
   ]
  },
  {
   "cell_type": "markdown",
   "metadata": {},
   "source": [
    "We assume we will use < 700K. Then, ~85000 cm-1 is enough high. \n",
    "spec.optgrid.optelower can recommend the optimal value of Elower that does not change the cross section within 1 %."
   ]
  },
  {
   "cell_type": "code",
   "execution_count": 4,
   "metadata": {},
   "outputs": [
    {
     "name": "stdout",
     "output_type": "stream",
     "text": [
      "Maximum Elower =  84862.9693\n",
      "OpaPremodit: init w/o params setting\n",
      "Call self.apply_params() to complete the setting.\n",
      "OpaPremodit: params manually set.\n",
      "Tref changed: 296.0K->296.0K\n"
     ]
    },
    {
     "name": "stderr",
     "output_type": "stream",
     "text": [
      "uniqidx: 0it [00:00, ?it/s]\n"
     ]
    },
    {
     "name": "stdout",
     "output_type": "stream",
     "text": [
      "Premodit: Twt= 700.0 K Tref= 296.0 K\n"
     ]
    },
    {
     "name": "stderr",
     "output_type": "stream",
     "text": [
      "opt Emax:  84%|████████▍ | 711/845 [03:56<00:44,  3.01it/s]"
     ]
    },
    {
     "name": "stdout",
     "output_type": "stream",
     "text": [
      "optimal elower_max= 13922.4751\n"
     ]
    },
    {
     "name": "stderr",
     "output_type": "stream",
     "text": [
      "\n"
     ]
    }
   ],
   "source": [
    "from exojax.spec.optgrid import optelower\n",
    "\n",
    "Tmax = 700.0 #K\n",
    "Pmin = 1.e-8 #bar\n",
    "\n",
    "Eopt = optelower(mdb, nu_grid, Tmax, Pmin)\n",
    "print(\"optimal elower_max=\",Eopt)\n"
   ]
  },
  {
   "cell_type": "markdown",
   "metadata": {},
   "source": [
    "The optimal value of the maximum Elower is just 13923 cm-1. We can use elower_max option to set the user-defined Elower max value."
   ]
  },
  {
   "cell_type": "code",
   "execution_count": 5,
   "metadata": {},
   "outputs": [
    {
     "name": "stdout",
     "output_type": "stream",
     "text": [
      "HITRAN exact name= (12C)(16O)\n",
      "Background atmosphere:  H2\n",
      "Reading .database/CO/12C-16O/Li2015/12C-16O__Li2015.trans.bz2\n",
      ".broad is used.\n",
      "Broadening code level= a0\n"
     ]
    }
   ],
   "source": [
    "mdb = MdbExomol(\".database/CO/12C-16O/Li2015\", nurange=nu_grid, elower_max=13923.)\n"
   ]
  },
  {
   "cell_type": "code",
   "execution_count": 6,
   "metadata": {},
   "outputs": [
    {
     "name": "stdout",
     "output_type": "stream",
     "text": [
      "522.4751 - 13791.2151 cm-1\n"
     ]
    }
   ],
   "source": [
    "print(np.min(mdb.elower),\"-\",np.max(mdb.elower),\"cm-1\")"
   ]
  }
 ],
 "metadata": {
  "kernelspec": {
   "display_name": "Python 3.8.8 ('base')",
   "language": "python",
   "name": "python3"
  },
  "language_info": {
   "codemirror_mode": {
    "name": "ipython",
    "version": 3
   },
   "file_extension": ".py",
   "mimetype": "text/x-python",
   "name": "python",
   "nbconvert_exporter": "python",
   "pygments_lexer": "ipython3",
   "version": "3.8.8"
  },
  "orig_nbformat": 4,
  "vscode": {
   "interpreter": {
    "hash": "72bc7f8b1808a6f5ada3c6a20601509b8b1843160436d276d47f2ba819b3753b"
   }
  }
 },
 "nbformat": 4,
 "nbformat_minor": 2
}
