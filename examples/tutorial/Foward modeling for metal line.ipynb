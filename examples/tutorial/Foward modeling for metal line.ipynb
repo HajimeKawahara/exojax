{
 "cells": [
  {
   "cell_type": "markdown",
   "id": "ed0286c4",
   "metadata": {},
   "source": [
    "<div id=\"toc\"></div>"
   ]
  },
  {
   "cell_type": "code",
   "execution_count": 1,
   "id": "82e0f171",
   "metadata": {},
   "outputs": [
    {
     "data": {
      "application/javascript": [
       "$.getScript('https://kmahelona.github.io/ipython_notebook_goodies/ipython_notebook_toc.js')\n"
      ],
      "text/plain": [
       "<IPython.core.display.Javascript object>"
      ]
     },
     "metadata": {},
     "output_type": "display_data"
    }
   ],
   "source": [
    "%%javascript\n",
    "$.getScript('https://kmahelona.github.io/ipython_notebook_goodies/ipython_notebook_toc.js')"
   ]
  },
  {
   "cell_type": "markdown",
   "id": "d74a46bd",
   "metadata": {},
   "source": [
    "last update: 2021/12/02   \n",
    "created: : 2021/07/20\n",
    "\n",
    "<!-- \n",
    "written with reference to :  \n",
    "\"exojax/examples/tutorial/Forward\\ modeling.ipynb\"  \n",
    "\"ghR/exojax_0/examples/testlines/line_strength_CO.py\"  \n",
    "\n",
    "cd ~/work\n",
    "\n",
    "-->"
   ]
  },
  {
   "cell_type": "code",
   "execution_count": 3,
   "id": "d0df12a8",
   "metadata": {},
   "outputs": [],
   "source": [
    "%load_ext autoreload\n",
    "%autoreload 2\n",
    "#↑Reload the imported module each time running\n",
    "from exojax.spec.rtransfer import nugrid\n",
    "from exojax.spec.rtransfer import pressure_layer \n",
    "from exojax.spec import moldb, molinfo, contdb\n",
    "from exojax.spec import atomll\n",
    "from exojax.spec.exomol import gamma_exomol\n",
    "from exojax.spec import SijT, doppler_sigma\n",
    "from exojax.spec import planck\n",
    "import jax.numpy as jnp\n",
    "from jax import vmap, jit\n",
    "import numpy as np"
   ]
  },
  {
   "cell_type": "markdown",
   "id": "7df9ff52",
   "metadata": {},
   "source": [
    "Set the path to save figures (optional)"
   ]
  },
  {
   "cell_type": "code",
   "execution_count": 4,
   "id": "fc73b487",
   "metadata": {},
   "outputs": [],
   "source": [
    "import pathlib\n",
    "path_fig = pathlib.Path('~/Dropbox/tmpfig')  #('/home/tako/work/fig')"
   ]
  },
  {
   "cell_type": "markdown",
   "id": "1e3bcbcc",
   "metadata": {},
   "source": [
    "## T-P profile "
   ]
  },
  {
   "cell_type": "code",
   "execution_count": 5,
   "id": "9f42554a",
   "metadata": {
    "scrolled": false
   },
   "outputs": [
    {
     "data": {
      "image/png": "[encoded data removed]",
      "text/plain": [
       "<Figure size 432x288 with 1 Axes>"
      ]
     },
     "metadata": {
      "needs_background": "light"
     },
     "output_type": "display_data"
    }
   ],
   "source": [
    "#Assume ATMOSPHERE                                                                     \n",
    "NP=100\n",
    "T0=3000. #10000. #3000. #1295.0 #K\n",
    "Parr, dParr, k=pressure_layer(NP=NP)\n",
    "H_He_HH_VMR = [0.0, 0.16, 0.84] #typical quasi-\"solar-fraction\"\n",
    "Tarr = T0*(Parr)**0.1\n",
    "\n",
    "PH = Parr* H_He_HH_VMR[0]\n",
    "PHe = Parr* H_He_HH_VMR[1]\n",
    "PHH = Parr* H_He_HH_VMR[2]\n",
    "\n",
    "#roughly based on \"p3200_g+5.0_m0.0_t01_st_z+0.00_a+0.00_c+0.00_n+0.00_o+0.00_r+0.00_s+0.00.mod\" of MARCS model atmosphere  \n",
    "#PH = 0.3 * Parr #H I\n",
    "#PHH = 0.6 * Parr #H2\n",
    "#PHe = 0.078 * Parr #He\n",
    "\n",
    "import matplotlib.pyplot as plt\n",
    "\n",
    "fig=plt.figure(figsize=(6,4))\n",
    "plt.plot(Tarr,Parr)\n",
    "plt.plot(Tarr, PH, '--'); plt.plot(Tarr, PHH, '--'); plt.plot(Tarr, PHe, '--')\n",
    "plt.plot(Tarr[80],Parr[80], marker='*', markersize=15)\n",
    "plt.yscale(\"log\")\n",
    "plt.gca().invert_yaxis()\n",
    "plt.show()"
   ]
  },
  {
   "cell_type": "markdown",
   "id": "fb345533",
   "metadata": {},
   "source": [
    "## Wavenumber"
   ]
  },
  {
   "cell_type": "code",
   "execution_count": 6,
   "id": "b94a6baa",
   "metadata": {},
   "outputs": [
    {
     "name": "stdout",
     "output_type": "stream",
     "text": [
      "xsmode assumes ESLOG: mode= lpf\n",
      "WARNING: resolution may be too small. R= 207891.49995130455\n"
     ]
    }
   ],
   "source": [
    "#We set a wavenumber grid using nugrid.\n",
    "\n",
    "nus,wav,res = nugrid(10380, 10430, 1000, unit=\"AA\") \n",
    "#nus,wav,res = nugrid(10380, 10750, 5000, unit=\"AA\")\n",
    "#nus,wav,res=nugrid(22920,23000,1000,unit=\"AA\")"
   ]
  },
  {
   "cell_type": "markdown",
   "id": "1f3be0d9",
   "metadata": {},
   "source": [
    "## Load a database of atomic lines from VALD3"
   ]
  },
  {
   "cell_type": "code",
   "execution_count": 7,
   "id": "91c057e3",
   "metadata": {},
   "outputs": [
    {
     "name": "stdout",
     "output_type": "stream",
     "text": [
      "Reading VALD file\n"
     ]
    },
    {
     "name": "stderr",
     "output_type": "stream",
     "text": [
      "/home/tako/miniconda3/lib/python3.9/site-packages/exojax-0.8.1-py3.9.egg/exojax/spec/moldb.py:824: RuntimeWarning: divide by zero encountered in log\n",
      "  self.logsij0=jnp.array(np.log(self.Sij0))\n"
     ]
    }
   ],
   "source": [
    "#Loading a database of a few atomic lines from VALD3  #BU: CO and CIA (H2-H2)... \n",
    "\"\"\"\n",
    "    valdlines:  fullpath to the input line list obtained from VALD3 (http://vald.astro.uu.se/):\n",
    "            VALD data access is free but requires registration through the Contact form (http://vald.astro.uu.se/~vald/php/vald.php?docpage=contact.html). After the registration, you can login and choose the \"Extract Element\" mode.\n",
    "        For a example in this notebook, the request form of \"Extract All\" mode was filled as:\n",
    "          Extract All\n",
    "            Starting wavelength :    10380\n",
    "            Ending wavelength :    10430\n",
    "            Extraction format :    Long format\n",
    "            Retrieve data via :    FTP\n",
    "            (Hyperfine structure:    N/A)\n",
    "            (Require lines to have a known value of :    N/A)\n",
    "            Linelist configuration :    Default\n",
    "            Unit selection:    Energy unit: eV - Medium: vacuum - Wavelength unit: angstrom - VdW syntax: default\n",
    "        Please assign the fullpath of the output file sent by VALD ([user_name_at_VALD].[request_number_at_VALD].gz;  \"vald2600.gz\" in the code below) to the variable \"valdlines\".\n",
    "        Note that the number of spectral lines that can be extracted in a single request is limited to 1000 in VALD (https://www.astro.uu.se/valdwiki/Restrictions%20on%20extraction%20size).\n",
    "\"\"\"\n",
    "\n",
    "valdlines = '/home/tako/work/VALD3/HiroyukiIshikawa.4214450.gz'\n",
    "#valdlines = '/home/tako/work/VALD3/HiroyukiIshikawa.4203812_test0724.ip'\n",
    "#valdlinesAllFe = '/home/tako/work/VALD3/vald2600.gz'\n",
    "\n",
    "adbFe = moldb.AdbVald(valdlines, nus)\n",
    "#nus4LL = 1e8/np.array([1e5, 1500.])\n",
    "#adbFe = moldb.AdbVald(valdlinesAllFe, nus4LL, crit=1.e-65)\n",
    "#adbFe=moldb.AdbVald('/home/tako/work/VALD3/HiroyukiIshikawa.4203812_test0724.ip', nus4LL, crit=1.e-100) #, crit=1.e-46)"
   ]
  },
  {
   "cell_type": "code",
   "execution_count": 8,
   "id": "28a2ac22",
   "metadata": {},
   "outputs": [
    {
     "data": {
      "text/plain": [
       "(954,)"
      ]
     },
     "execution_count": 8,
     "metadata": {},
     "output_type": "execute_result"
    }
   ],
   "source": [
    "adbFe.A.shape"
   ]
  },
  {
   "cell_type": "code",
   "execution_count": 9,
   "id": "ba4cc53f",
   "metadata": {},
   "outputs": [
    {
     "name": "stdout",
     "output_type": "stream",
     "text": [
      "(954,)\n"
     ]
    }
   ],
   "source": [
    "#check\n",
    "print(adbFe.nu_lines.shape)\n",
    "\n",
    "#Fe I lines: \n",
    "#    crit=1.e-40→2842\n",
    "#    crit=1.e-46→3731\n",
    "#    crit=1.e-50→3938\n",
    "#    crit=1.e-60→6633\n",
    "#    crit=1.e-65→9237→RuntimeError; total allocation:   17.29GiB\n",
    "#    crit=1.e-70→12268→RuntimeError; total allocation:   22.95GiB\n",
    "#    crit=1.e-80→17603→RuntimeError; total allocation:   32.92GiB\n",
    "#    crit=1.e-100→26862→RuntimeError; total allocation:   50.23GiB\n",
    "\n",
    "#check\n",
    "#print(adbFe.ielem)\n",
    "#print(adbFe.atomicmass) #mass of each species\n",
    "#print(1.e8/adbFe.nu_lines)"
   ]
  },
  {
   "cell_type": "markdown",
   "id": "d19c40e3",
   "metadata": {},
   "source": [
    "## Relative partition function"
   ]
  },
  {
   "cell_type": "code",
   "execution_count": 10,
   "id": "8cfac58a",
   "metadata": {},
   "outputs": [
    {
     "name": "stdout",
     "output_type": "stream",
     "text": [
      "(954, 100)\n"
     ]
    }
   ],
   "source": [
    "#Computing the relative partition function,\n",
    "\n",
    "qt_284=vmap(adbFe.QT_interp_284)(Tarr)\n",
    "qt = np.zeros([len(adbFe.QTmask), len(Tarr)])\n",
    "#qt = np.empty_like(adbFe.QTmask, dtype='object')\n",
    "for i, mask in enumerate(adbFe.QTmask):\n",
    "    qt[i] = qt_284[:,mask]  #e.g., qt_284[:,76] #Fe I\n",
    "qt = jnp.array(qt)\n",
    "\n",
    "print(qt.shape) #check"
   ]
  },
  {
   "cell_type": "markdown",
   "id": "03211469",
   "metadata": {},
   "source": [
    "## Pressure and Natural broadenings (Lorentzian width)  \n"
   ]
  },
  {
   "cell_type": "code",
   "execution_count": 11,
   "id": "86b06243",
   "metadata": {},
   "outputs": [
    {
     "name": "stdout",
     "output_type": "stream",
     "text": [
      "(100, 954)\n"
     ]
    }
   ],
   "source": [
    "gammaLMP = jit(vmap(atomll.gamma_vald3,(0,0,0,0,None,None,None,None,None,None,None,None,None,None,None)))\\\n",
    "        (Tarr, PH, PHH, PHe, adbFe.ielem, adbFe.iion, \\\n",
    "                adbFe.dev_nu_lines, adbFe.elower, adbFe.eupper, adbFe.atomicmass, adbFe.ionE, \\\n",
    "                adbFe.gamRad, adbFe.gamSta, adbFe.vdWdamp, 1.0)  \n",
    "\n",
    "print(gammaLMP.shape) #check"
   ]
  },
  {
   "cell_type": "markdown",
   "id": "92d2a9f9",
   "metadata": {},
   "source": [
    "## Doppler broadening"
   ]
  },
  {
   "cell_type": "code",
   "execution_count": 12,
   "id": "cdb9a41f",
   "metadata": {},
   "outputs": [
    {
     "name": "stdout",
     "output_type": "stream",
     "text": [
      "(954,) (100,) (954,)\n"
     ]
    }
   ],
   "source": [
    "from exojax.spec import doppler_sigma\n",
    "print(adbFe.nu_lines.shape, Tarr.shape, adbFe.atomicmass.shape)#check\n",
    "sigmaDM=jit(vmap(doppler_sigma,(None,0,None)))\\\n",
    "    (adbFe.nu_lines, Tarr, adbFe.atomicmass)"
   ]
  },
  {
   "cell_type": "markdown",
   "id": "040516c5",
   "metadata": {},
   "source": [
    "## Line strength"
   ]
  },
  {
   "cell_type": "code",
   "execution_count": 13,
   "id": "bd733b7d",
   "metadata": {},
   "outputs": [
    {
     "name": "stdout",
     "output_type": "stream",
     "text": [
      "(100,) (954,) (954,) (954,) (100, 954) (100, 954)\n"
     ]
    }
   ],
   "source": [
    "from exojax.spec import SijT\n",
    "SijM=jit(vmap(SijT,(0,None,None,None,0)))\\\n",
    "    (Tarr, adbFe.logsij0, adbFe.nu_lines, adbFe.elower, qt.T)\n",
    "\n",
    "print(Tarr.shape, adbFe.logsij0.shape, adbFe.nu_lines.shape, adbFe.elower.shape, qt.T.shape, SijM.shape) #check"
   ]
  },
  {
   "cell_type": "code",
   "execution_count": 14,
   "id": "c270f74c",
   "metadata": {},
   "outputs": [
    {
     "name": "stdout",
     "output_type": "stream",
     "text": [
      "(100, 954)\n"
     ]
    },
    {
     "data": {
      "text/plain": [
       "DeviceArray([[6.6548645e-27, 1.6749237e-32, 1.7946946e-33, ...,\n",
       "              9.0144515e-27, 3.6355877e-31, 4.3421699e-39],\n",
       "             [9.6413270e-27, 3.7056372e-32, 3.9706212e-33, ...,\n",
       "              1.3016313e-26, 8.0722664e-31, 1.0210567e-38],\n",
       "             [1.3839991e-26, 8.0449658e-32, 8.6202490e-33, ...,\n",
       "              1.8623943e-26, 1.7587207e-30, 2.3526843e-38],\n",
       "             [1.9689164e-26, 1.7145458e-31, 1.8371509e-32, ...,\n",
       "              2.6411581e-26, 3.7611663e-30, 5.3147748e-38],\n",
       "             [2.7765728e-26, 3.5886799e-31, 3.8453024e-32, ...,\n",
       "              3.7129674e-26, 7.8989511e-30, 1.1775266e-37]],            dtype=float32)"
      ]
     },
     "execution_count": 14,
     "metadata": {},
     "output_type": "execute_result"
    }
   ],
   "source": [
    "#check\n",
    "print(SijM.shape)\n",
    "SijM[-5:,:] #five deepest atmospheric layers"
   ]
  },
  {
   "cell_type": "markdown",
   "id": "641c7bcd",
   "metadata": {},
   "source": [
    "## nu matrix"
   ]
  },
  {
   "cell_type": "code",
   "execution_count": 15,
   "id": "be3d3cd3",
   "metadata": {},
   "outputs": [],
   "source": [
    "from exojax.spec import make_numatrix0\n",
    "numatrix=make_numatrix0(nus, adbFe.nu_lines)"
   ]
  },
  {
   "cell_type": "code",
   "execution_count": 16,
   "id": "c440a4ee",
   "metadata": {},
   "outputs": [
    {
     "data": {
      "text/plain": [
       "(954, 1000)"
      ]
     },
     "execution_count": 16,
     "metadata": {},
     "output_type": "execute_result"
    }
   ],
   "source": [
    "numatrix.shape"
   ]
  },
  {
   "cell_type": "markdown",
   "id": "ce3d1cff",
   "metadata": {},
   "source": [
    "## Compute dtau for each atomic species (or ion) in a SEPARATE array"
   ]
  },
  {
   "cell_type": "markdown",
   "id": "bd2ebe20",
   "metadata": {},
   "source": [
    "Separate species"
   ]
  },
  {
   "cell_type": "code",
   "execution_count": 17,
   "id": "5177f919",
   "metadata": {},
   "outputs": [],
   "source": [
    "def get_unique_list(seq):\n",
    "    seen = []\n",
    "    return [x for x in seq if x not in seen and not seen.append(x)]\n",
    "\n",
    "uspecies = get_unique_list(jnp.vstack([adbFe.ielem, adbFe.iion]).T.tolist())"
   ]
  },
  {
   "cell_type": "markdown",
   "id": "3b868ff6",
   "metadata": {},
   "source": [
    "Set the stellar/planetary parameters"
   ]
  },
  {
   "cell_type": "code",
   "execution_count": 18,
   "id": "be8acf41",
   "metadata": {},
   "outputs": [
    {
     "name": "stdout",
     "output_type": "stream",
     "text": [
      "logg: 4.849799190511717\n"
     ]
    }
   ],
   "source": [
    "#Parameters of Objects\n",
    "Rp = 0.36*10 #R_sun*10    #Rp=0.88 #[R_jup]\n",
    "Mp = 0.37*1e3 #M_sun*1e3    #Mp=33.2 #[M_jup]\n",
    "g = 2478.57730044555*Mp/Rp**2\n",
    "print('logg: '+str(np.log10(g))) #check\n",
    "#g=1.e5 #gravity cm/s2"
   ]
  },
  {
   "cell_type": "markdown",
   "id": "a1da54c7",
   "metadata": {},
   "source": [
    "Calculate delta tau"
   ]
  },
  {
   "cell_type": "code",
   "execution_count": 19,
   "id": "fce512a3",
   "metadata": {},
   "outputs": [
    {
     "data": {
      "image/png": "[encoded data removed]",
      "text/plain": [
       "<Figure size 432x72 with 1 Axes>"
      ]
     },
     "metadata": {
      "needs_background": "light"
     },
     "output_type": "display_data"
    },
    {
     "name": "stdout",
     "output_type": "stream",
     "text": [
      "(100,) (100, 1000) (100,)\n",
      "26 1 0.001291952 55.847\n"
     ]
    },
    {
     "data": {
      "image/png": "[encoded data removed]",
      "text/plain": [
       "<Figure size 432x72 with 1 Axes>"
      ]
     },
     "metadata": {
      "needs_background": "light"
     },
     "output_type": "display_data"
    },
    {
     "name": "stdout",
     "output_type": "stream",
     "text": [
      "(100,) (100, 1000) (100,)\n",
      "24 1 1.6604145e-05 51.996\n"
     ]
    },
    {
     "data": {
      "image/png": "[encoded data removed]",
      "text/plain": [
       "<Figure size 432x72 with 1 Axes>"
      ]
     },
     "metadata": {
      "needs_background": "light"
     },
     "output_type": "display_data"
    },
    {
     "name": "stdout",
     "output_type": "stream",
     "text": [
      "(100,) (100, 1000) (100,)\n",
      "14 1 0.00066486956 28.086\n"
     ]
    },
    {
     "data": {
      "image/png": "[encoded data removed]",
      "text/plain": [
       "<Figure size 432x72 with 1 Axes>"
      ]
     },
     "metadata": {
      "needs_background": "light"
     },
     "output_type": "display_data"
    },
    {
     "name": "stdout",
     "output_type": "stream",
     "text": [
      "(100,) (100, 1000) (100,)\n",
      "20 1 6.414669e-05 40.08\n"
     ]
    },
    {
     "data": {
      "image/png": "[encoded data removed]",
      "text/plain": [
       "<Figure size 432x72 with 1 Axes>"
      ]
     },
     "metadata": {
      "needs_background": "light"
     },
     "output_type": "display_data"
    },
    {
     "name": "stdout",
     "output_type": "stream",
     "text": [
      "(100,) (100, 1000) (100,)\n",
      "22 1 3.1230716e-06 47.89999\n"
     ]
    },
    {
     "data": {
      "image/png": "[encoded data removed]",
      "text/plain": [
       "<Figure size 432x72 with 1 Axes>"
      ]
     },
     "metadata": {
      "needs_background": "light"
     },
     "output_type": "display_data"
    },
    {
     "name": "stdout",
     "output_type": "stream",
     "text": [
      "(100,) (100, 1000) (100,)\n",
      "25 1 1.0817312e-05 54.938\n"
     ]
    },
    {
     "data": {
      "image/png": "[encoded data removed]",
      "text/plain": [
       "<Figure size 432x72 with 1 Axes>"
      ]
     },
     "metadata": {
      "needs_background": "light"
     },
     "output_type": "display_data"
    },
    {
     "name": "stdout",
     "output_type": "stream",
     "text": [
      "(100,) (100, 1000) (100,)\n",
      "18 1 7.34077e-05 39.948\n"
     ]
    },
    {
     "data": {
      "image/png": "[encoded data removed]",
      "text/plain": [
       "<Figure size 432x72 with 1 Axes>"
      ]
     },
     "metadata": {
      "needs_background": "light"
     },
     "output_type": "display_data"
    },
    {
     "name": "stdout",
     "output_type": "stream",
     "text": [
      "(100,) (100, 1000) (100,)\n",
      "29 1 7.200038e-07 63.54601\n"
     ]
    },
    {
     "data": {
      "image/png": "[encoded data removed]",
      "text/plain": [
       "<Figure size 432x72 with 1 Axes>"
      ]
     },
     "metadata": {
      "needs_background": "light"
     },
     "output_type": "display_data"
    },
    {
     "name": "stdout",
     "output_type": "stream",
     "text": [
      "(100,) (100, 1000) (100,)\n",
      "21 1 4.6455085e-08 44.9559\n"
     ]
    },
    {
     "data": {
      "image/png": "[encoded data removed]",
      "text/plain": [
       "<Figure size 432x72 with 1 Axes>"
      ]
     },
     "metadata": {
      "needs_background": "light"
     },
     "output_type": "display_data"
    },
    {
     "name": "stdout",
     "output_type": "stream",
     "text": [
      "(100,) (100, 1000) (100,)\n",
      "27 1 4.2131464e-06 58.9332\n"
     ]
    },
    {
     "data": {
      "image/png": "[encoded data removed]",
      "text/plain": [
       "<Figure size 432x72 with 1 Axes>"
      ]
     },
     "metadata": {
      "needs_background": "light"
     },
     "output_type": "display_data"
    },
    {
     "name": "stdout",
     "output_type": "stream",
     "text": [
      "(100,) (100, 1000) (100,)\n",
      "17 1 8.201618e-06 35.453\n"
     ]
    },
    {
     "data": {
      "image/png": "[encoded data removed]",
      "text/plain": [
       "<Figure size 432x72 with 1 Axes>"
      ]
     },
     "metadata": {
      "needs_background": "light"
     },
     "output_type": "display_data"
    },
    {
     "name": "stdout",
     "output_type": "stream",
     "text": [
      "(100,) (100, 1000) (100,)\n",
      "28 1 7.127852e-05 58.71001\n"
     ]
    },
    {
     "data": {
      "image/png": "[encoded data removed]",
      "text/plain": [
       "<Figure size 432x72 with 1 Axes>"
      ]
     },
     "metadata": {
      "needs_background": "light"
     },
     "output_type": "display_data"
    },
    {
     "name": "stdout",
     "output_type": "stream",
     "text": [
      "(100,) (100, 1000) (100,)\n",
      "10 1 0.0012564964 20.1797\n"
     ]
    },
    {
     "data": {
      "image/png": "[encoded data removed]",
      "text/plain": [
       "<Figure size 432x72 with 1 Axes>"
      ]
     },
     "metadata": {
      "needs_background": "light"
     },
     "output_type": "display_data"
    },
    {
     "name": "stdout",
     "output_type": "stream",
     "text": [
      "(100,) (100, 1000) (100,)\n",
      "32 1 2.3727009e-07 72.61\n"
     ]
    }
   ],
   "source": [
    "#For now, ASSUME all atoms exist as neutral atoms. \n",
    "#In fact, we can't ignore the effect of molecular formation e.g. TiO (」゜□゜)」\n",
    "\n",
    "from exojax.spec.lpf import xsmatrix\n",
    "from exojax.spec.rtransfer import dtauM\n",
    "\n",
    "ieleml = jnp.array(adbFe.ipccd['ielem'])\n",
    "Narr = jnp.array(10**(12+adbFe.ipccd['solarA'])) #number density\n",
    "massarr = jnp.array(adbFe.ipccd['mass']) #mass of each neutral atom\n",
    "Nmassarr = Narr * massarr #mass of each neutral species\n",
    "\n",
    "dtaual = np.zeros([len(uspecies), len(Tarr), len(nus)])\n",
    "maskl = np.zeros(len(uspecies)).tolist()\n",
    "for i, sp in enumerate(uspecies):\n",
    "    maskl[i] = (adbFe.ielem==sp[0])\\\n",
    "                    *(adbFe.iion==sp[1])\n",
    "    \n",
    "    #Currently not dealing with ionized species yet... (#tako %\\\\\\\\20210814)\n",
    "    if sp[1] > 1:\n",
    "        continue\n",
    "     \n",
    "    #Providing numatrix, thermal broadening, gamma, and line strength, we can compute cross section.  \n",
    "    xsm=xsmatrix(numatrix[maskl[i]], sigmaDM.T[maskl[i]].T, gammaLMP.T[maskl[i]].T, SijM.T[maskl[i]].T)\n",
    "        #xsmatrix has the shape of (# of layers, # of nu grid)\n",
    "    ntmpf = 'tmp' + str(i) + '.pdf'\n",
    "    fig=plt.figure(figsize=(6,1))\n",
    "    plt.imshow(xsm, cmap=\"afmhot\")#, aspect=5.)\n",
    "    #plt.savefig(path_fig/ntmpf)\n",
    "    plt.show() \n",
    "    \n",
    "    #Computing delta tau for atomic absorption\n",
    "    MMR_X_I = Nmassarr[ jnp.where(ieleml==sp[0])[0][0] ] / jnp.sum(Nmassarr)\n",
    "    mass_X_I = massarr[ jnp.where(ieleml==sp[0])[0][0] ]\n",
    "    #    ↑MMR and mass of neutral atom X (if all elemental species are neutral)\n",
    "    dtaual[i] = dtauM(dParr, xsm, MMR_X_I*np.ones_like(Tarr), mass_X_I, g)\n",
    "\n",
    "    #check\n",
    "    print(dParr.shape, xsm.shape, (MMR_X_I*np.ones_like(Tarr)).shape)\n",
    "    print(sp[0], sp[1], MMR_X_I, mass_X_I)"
   ]
  },
  {
   "cell_type": "markdown",
   "id": "7490e3bf",
   "metadata": {},
   "source": [
    "compute delta tau for CIA"
   ]
  },
  {
   "cell_type": "code",
   "execution_count": 20,
   "id": "7dbcf408",
   "metadata": {},
   "outputs": [
    {
     "name": "stdout",
     "output_type": "stream",
     "text": [
      "H2-H2\n"
     ]
    }
   ],
   "source": [
    "cdbH2H2=contdb.CdbCIA('.database/H2-H2_2011.cia', nus)\n",
    "\n",
    "from exojax.spec.rtransfer import dtauCIA\n",
    "mmw=2.33 #mean molecular weight\n",
    "mmrH2=0.74\n",
    "molmassH2=molinfo.molmass(\"H2\")\n",
    "vmrH2=(mmrH2*mmw/molmassH2) #VMR\n",
    "dtaucH2H2=dtauCIA(nus,Tarr,Parr,dParr,vmrH2,vmrH2,\\\n",
    "            mmw,g,cdbH2H2.nucia,cdbH2H2.tcia,cdbH2H2.logac)"
   ]
  },
  {
   "cell_type": "markdown",
   "id": "f92626f5",
   "metadata": {},
   "source": [
    "## Total delta tau"
   ]
  },
  {
   "cell_type": "code",
   "execution_count": 21,
   "id": "3a2a5ae0",
   "metadata": {},
   "outputs": [],
   "source": [
    "dtau = np.sum(dtaual, axis=0) + dtaucH2H2"
   ]
  },
  {
   "cell_type": "markdown",
   "id": "db3cb7c7",
   "metadata": {},
   "source": [
    "## Plot contribution function"
   ]
  },
  {
   "cell_type": "code",
   "execution_count": 22,
   "id": "b91e4c66",
   "metadata": {},
   "outputs": [
    {
     "data": {
      "image/png": "[encoded data removed]",
      "text/plain": [
       "<Figure size 1440x216 with 3 Axes>"
      ]
     },
     "metadata": {
      "needs_background": "light"
     },
     "output_type": "display_data"
    }
   ],
   "source": [
    "from exojax.plot.atmplot import plotcf\n",
    "#fig=plt.figure(figsize=(3, 2))\n",
    "plotcf(nus,dtau,Tarr,Parr,dParr)\n",
    "plt.show()\n",
    "#plt.savefig(path_fig/'contributionf_210814_test1.pdf') #tako"
   ]
  },
  {
   "cell_type": "markdown",
   "id": "125f5be0",
   "metadata": {},
   "source": [
    "## Radiative transfer"
   ]
  },
  {
   "cell_type": "code",
   "execution_count": 23,
   "id": "d8b374d5",
   "metadata": {},
   "outputs": [],
   "source": [
    "from exojax.spec import planck\n",
    "from exojax.spec.rtransfer import rtrun\n",
    "sourcef = planck.piBarr(Tarr, nus)\n",
    "F0=rtrun(dtau, sourcef)"
   ]
  },
  {
   "cell_type": "code",
   "execution_count": 24,
   "id": "c99e5b61",
   "metadata": {},
   "outputs": [
    {
     "data": {
      "image/png": "[encoded data removed]",
      "text/plain": [
       "<Figure size 360x216 with 1 Axes>"
      ]
     },
     "metadata": {
      "needs_background": "light"
     },
     "output_type": "display_data"
    }
   ],
   "source": [
    "fig=plt.figure(figsize=(5, 3))\n",
    "plt.plot(wav[::-1],F0)\n",
    "plt.show()\n",
    "#plt.savefig(path_fig/'flux_210814_test2.pdf') #tako"
   ]
  },
  {
   "cell_type": "code",
   "execution_count": 25,
   "id": "a7550008",
   "metadata": {
    "scrolled": false
   },
   "outputs": [
    {
     "name": "stdout",
     "output_type": "stream",
     "text": [
      "[10 12 13 14 17 18 20 21 22 24 25 26 27 28 29 32 38 59 64 65 66 70 90]\n"
     ]
    }
   ],
   "source": [
    "#Check line wavelength and species\n",
    "print(np.unique(adbFe.ielem))\n",
    "#print(1.e8/adbFe.nu_lines)"
   ]
  },
  {
   "cell_type": "markdown",
   "id": "0978b630",
   "metadata": {},
   "source": [
    "## Rotational & instrumental broadening"
   ]
  },
  {
   "cell_type": "code",
   "execution_count": 26,
   "id": "ca7cc545",
   "metadata": {},
   "outputs": [],
   "source": [
    "from exojax.spec import response\n",
    "from exojax.utils.constants import c #[km/s]\n",
    "import jax.numpy as jnp\n",
    "\n",
    "wavd=jnp.linspace(10380, 10450,500) #observational wavelength grid\n",
    "nusd = 1.e8/wavd[::-1]\n",
    "\n",
    "RV=10.0 #RV km/s\n",
    "vsini=20.0 #Vsini km/s\n",
    "u1=0.0 #limb darkening u1\n",
    "u2=0.0 #limb darkening u2\n",
    "\n",
    "R=100000.\n",
    "beta=c/(2.0*np.sqrt(2.0*np.log(2.0))*R) #IP sigma need check \n",
    "\n",
    "Frot=response.rigidrot(nus,F0,vsini,u1,u2)\n",
    "F=response.ipgauss_sampling(nusd,nus,Frot,beta,RV)"
   ]
  },
  {
   "cell_type": "code",
   "execution_count": 27,
   "id": "35aa7c0e",
   "metadata": {},
   "outputs": [
    {
     "data": {
      "image/png": "[encoded data removed]",
      "text/plain": [
       "<Figure size 360x216 with 1 Axes>"
      ]
     },
     "metadata": {
      "needs_background": "light"
     },
     "output_type": "display_data"
    }
   ],
   "source": [
    "fig=plt.figure(figsize=(5, 3))\n",
    "plt.plot(wav[::-1],F0, label='F0')\n",
    "plt.plot(wavd[::-1],F, label='F')\n",
    "plt.legend()\n",
    "plt.show()\n",
    "#plt.savefig(path_fig/'flux+rot_210814_test3_dtaual.pdf') #tako"
   ]
  }
 ],
 "metadata": {
  "kernelspec": {
   "display_name": "Python 3 (ipykernel)",
   "language": "python",
   "name": "python3"
  },
  "language_info": {
   "codemirror_mode": {
    "name": "ipython",
    "version": 3
   },
   "file_extension": ".py",
   "mimetype": "text/x-python",
   "name": "python",
   "nbconvert_exporter": "python",
   "pygments_lexer": "ipython3",
   "version": "3.9.5"
  }
 },
 "nbformat": 4,
 "nbformat_minor": 5
}
