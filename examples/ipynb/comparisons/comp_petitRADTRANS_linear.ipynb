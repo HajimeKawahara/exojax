{
 "cells": [
  {
   "cell_type": "markdown",
   "metadata": {},
   "source": [
    "# an emission spectrum  check CO/CIA\n",
    "\n"
   ]
  },
  {
   "cell_type": "markdown",
   "metadata": {},
   "source": [
    "This code compares a CO emission spectrum (HITEMP) + CIA (HITRAN) between exojax and petitRadtran\n",
    "\n",
    "author: Hajime Kawahara\n",
    "\n",
    "last update: April 15th (2021)"
   ]
  },
  {
   "cell_type": "code",
   "execution_count": 1,
   "metadata": {},
   "outputs": [
    {
     "name": "stderr",
     "output_type": "stream",
     "text": [
      "/home/kawahara/anaconda3/lib/python3.7/site-packages/statsmodels/tools/_testing.py:19: FutureWarning: pandas.util.testing is deprecated. Use the functions in the public API at pandas.testing instead.\n",
      "  import pandas.util.testing as tm\n"
     ]
    }
   ],
   "source": [
    "%load_ext autoreload\n",
    "%autoreload 2\n",
    "from exojax.spec import rtransfer as rt\n",
    "from exojax.spec import planck\n",
    "from exojax.spec import moldb\n",
    "from exojax.spec import make_numatrix0\n",
    "from exojax.spec.lpf import xsmatrix\n",
    "from exojax.spec.hitran import SijT, doppler_sigma, gamma_hitran, gamma_natural\n",
    "from exojax.plot.atmplot import plottau, plotcf\n",
    "from exojax.spec.rtransfer import rtrun, rtrun_direct, dtaux \n",
    "from exojax.spec.hitrancia import read_cia, logacia \n",
    "\n",
    "import numpy as np\n",
    "import tqdm\n",
    "import seaborn as sns\n",
    "import matplotlib.pyplot as plt\n",
    "import pandas as pd"
   ]
  },
  {
   "cell_type": "code",
   "execution_count": 2,
   "metadata": {},
   "outputs": [],
   "source": [
    "import jax.numpy as jnp\n",
    "from jax import random\n",
    "from jax import vmap, jit\n",
    "plt.style.use('bmh')"
   ]
  },
  {
   "cell_type": "code",
   "execution_count": 3,
   "metadata": {},
   "outputs": [],
   "source": [
    "dat=pd.read_csv(\"co_exojax/Gl229/Gl229B_spectrum_CO_CIA_Linear.dat\",delimiter=\" \",names=(\"WAV\",\"VAL\"))\n"
   ]
  },
  {
   "cell_type": "markdown",
   "metadata": {},
   "source": [
    "## INPUT MODEL"
   ]
  },
  {
   "cell_type": "code",
   "execution_count": 4,
   "metadata": {},
   "outputs": [],
   "source": [
    "N=20000\n",
    "wav=np.array(dat[\"WAV\"].values*10000,dtype=np.float64)\n",
    "#np.linspace(23000.0,24000.0,N,dtype=np.float64)#AA\n",
    "nus=1.e8/wav[::-1]\n",
    "\n",
    "#loading molecular database\n",
    "mdbCO=moldb.MdbHit('/home/kawahara/exojax/data/hitemp/CO/05_HITEMP2019.par',nus)"
   ]
  },
  {
   "cell_type": "code",
   "execution_count": 5,
   "metadata": {},
   "outputs": [],
   "source": [
    "#petitRadtran\n",
    "\n",
    "NP=130\n",
    "Nspecies=160\n",
    "Parr=np.ones(NP)\n",
    "Tarr=np.ones(NP)\n",
    "\n",
    "### read header\n",
    "data = open('co_exojax/Gl229/MMR/eq.dat', 'r')\n",
    "line = data.read().split()\n",
    "data.close()\n",
    "molname = {}\n",
    "for a in range(0,160):\n",
    "    molname[a] = line[a+6]\n",
    "\n",
    "data = open('co_exojax/Gl229/MMR/eq.dat', 'r')\n",
    "a = 0\n",
    "for line in data:\n",
    "    if line[0]=='#':\n",
    "        continue\n",
    "    lines = line.rstrip('\\n').split()\n",
    "    Parr[a] = lines[0]\n",
    "    Tarr[a] = lines[1]\n",
    "    a = a + 1\n",
    "data.close()\n",
    "\n",
    "Tarr=jnp.array(Tarr)\n",
    "Parr=jnp.array(Parr)\n",
    "Tarr=jnp.linspace(500,1000,len(Tarr))"
   ]
  },
  {
   "cell_type": "code",
   "execution_count": 6,
   "metadata": {},
   "outputs": [],
   "source": [
    "from exojax.utils.chopstacks import buildwall \n",
    "wParr=buildwall(Parr)\n",
    "dParr=wParr[1:]-wParr[0:-1]"
   ]
  },
  {
   "cell_type": "code",
   "execution_count": 7,
   "metadata": {
    "scrolled": true
   },
   "outputs": [],
   "source": [
    "#partition function ratio\n",
    "#mdbCO_HITRAN=moldb.MdbHit('/home/kawahara/exojax/data/CO','05_hit12',nus)\n",
    "mdbCO_hitran=moldb.MdbHit('/home/kawahara/exojax/data/CO/05_hit12.par',nus)\n",
    "qr=mdbCO_hitran.Qr(Tarr)"
   ]
  },
  {
   "cell_type": "code",
   "execution_count": 8,
   "metadata": {},
   "outputs": [],
   "source": [
    "#partitioning Q(T) for each line\n",
    "qt=np.zeros((NP,len(mdbCO.isoid)))\n",
    "for idx,iso in enumerate(mdbCO.uniqiso):\n",
    "    mask=mdbCO.isoid==iso\n",
    "    for ilayer in range(NP):\n",
    "        qt[ilayer,mask]=qr[ilayer,idx]"
   ]
  },
  {
   "cell_type": "code",
   "execution_count": 9,
   "metadata": {},
   "outputs": [],
   "source": [
    "molmass=28.01 #molecular mass\n",
    "mmr=0.01 #mass mixing ratio\n",
    "g=1.e5 # gravity cm/s2\n",
    "\n",
    "#vmr=mmr*mmw/molmass \n",
    "#mmw=2.33 #mean molecular weight"
   ]
  },
  {
   "cell_type": "code",
   "execution_count": 10,
   "metadata": {},
   "outputs": [],
   "source": [
    "SijM=vmap(SijT,(0,None,None,None,0))(Tarr,mdbCO.logsij0,mdbCO.nu_lines\\\n",
    "                                          ,mdbCO.elower,qt)\n",
    "gammaLM = vmap(gamma_hitran,(0,0,0,None,None,None))\\\n",
    "(Parr,Tarr,Parr, mdbCO.n_air, mdbCO.gamma_air, mdbCO.gamma_self)\n",
    "+ gamma_natural(mdbCO.A) #uncomment if you inclide a natural width\n",
    "sigmaDM=vmap(doppler_sigma,(None,0,None))(mdbCO.nu_lines,Tarr,molmass)"
   ]
  },
  {
   "cell_type": "code",
   "execution_count": 11,
   "metadata": {},
   "outputs": [
    {
     "name": "stderr",
     "output_type": "stream",
     "text": [
      "100%|██████████| 158/158 [02:09<00:00,  1.23s/it]\n"
     ]
    }
   ],
   "source": [
    "nu0=mdbCO.nu_lines\n",
    "memory_size=15.0\n",
    "\n",
    "d=int(memory_size/(len(nu0)*4/1024./1024.))\n",
    "Ni=int(len(nus)/d)\n",
    "\n",
    "d2=100\n",
    "Nlayer=np.shape(SijM)[0]\n",
    "Nline=np.shape(SijM)[1]\n",
    "Nj=int(Nline/d2)\n",
    "xsm=[]\n",
    "for i in tqdm.tqdm(range(0,Ni+1)):\n",
    "    s=int(i*d);e=int((i+1)*d);e=min(e,len(nus))\n",
    "    xsmtmp=np.zeros((Nlayer,e-s))\n",
    "    #line \n",
    "    for j in range(0,Nj+1):\n",
    "        s2=int(j*d2);e2=int((j+1)*d2);e2=min(e2,Nline)\n",
    "        numatrix=make_numatrix0(nus[s:e],nu0[s2:e2])\n",
    "        xsmtmp=xsmtmp+\\\n",
    "        xsmatrix(numatrix,sigmaDM[:,s2:e2],gammaLM[:,s2:e2],SijM[:,s2:e2])\n",
    "    if i==0:\n",
    "        xsm=np.copy(xsmtmp.T)\n",
    "    else:\n",
    "        xsm = np.concatenate([xsm,xsmtmp.T])\n",
    "xsm=xsm.T\n",
    "\n"
   ]
  },
  {
   "cell_type": "code",
   "execution_count": 12,
   "metadata": {},
   "outputs": [
    {
     "name": "stdout",
     "output_type": "stream",
     "text": [
      "H2-H2\n"
     ]
    }
   ],
   "source": [
    "from scipy.constants import  m_u\n",
    "\n",
    "nucia,tcia,ac=read_cia(\"/home/kawahara/exojax/data/CIA/H2-H2_2011.cia\"\\\n",
    "                       ,nus[0]-10.0,nus[-1]+10.0)\n",
    "\n",
    "logac=jnp.array(np.log10(ac))\n",
    "kB=1.380649e-16\n",
    "lognarr=jnp.log10((Parr*1.e6)/(kB*Tarr))#log number density cgs\n",
    "\n",
    "m_ucgs=m_u*1.e3 #g\n",
    "logm_ucgs=np.log10(m_ucgs)\n",
    "logkb=np.log10(kB)\n",
    "logg=np.log10(g)\n",
    "ddParr=dParr/Parr\n",
    "\n",
    "mmw=2.33 #mean molecular weight\n",
    "mmrh2=0.75\n",
    "molmassH2=2.0\n",
    "vmrh2=(mmrh2*mmw/molmassH2)\n",
    "dtaucia=(10**(logacia(Tarr,nus,nucia,tcia,logac)\\\n",
    "              +2*lognarr[:,None]+logkb-logg-logm_ucgs)\\\n",
    "         *Tarr[:,None]/mmw*ddParr[:,None]*vmrh2)"
   ]
  },
  {
   "cell_type": "code",
   "execution_count": 13,
   "metadata": {},
   "outputs": [],
   "source": [
    "dtauM=dtaux(dParr,xsm,mmr*np.ones_like(Parr),molmass,g)+dtaucia"
   ]
  },
  {
   "cell_type": "markdown",
   "metadata": {},
   "source": [
    "## cheking d tau and contribution function"
   ]
  },
  {
   "cell_type": "code",
   "execution_count": 16,
   "metadata": {},
   "outputs": [],
   "source": [
    "#plottau(nus,dtauM,Tarr,Parr,unit=\"AA\") #tau\n",
    "#from exojax.plot.atmplot import plottau, plotcf\n",
    "#plotcf(nus,dtauM,Tarr,Parr,dParr,unit=\"nm\",rasterized=True) \n",
    "#plt.savefig(\"cf.pdf\", bbox_inches=\"tight\", pad_inches=0.0)"
   ]
  },
  {
   "cell_type": "code",
   "execution_count": 17,
   "metadata": {},
   "outputs": [],
   "source": [
    "sourcef=planck.piBarr(Tarr,nus)\n",
    "Fx0=rtrun(dtauM,sourcef)\n",
    "#Fx0_direct=rtrun_direct(dtauM,sourcef) #mu=1\n",
    "#Fx0_direct=rtrun_direct(dtauM/0.5,sourcef) #mu=0.5"
   ]
  },
  {
   "cell_type": "code",
   "execution_count": 18,
   "metadata": {},
   "outputs": [
    {
     "data": {
      "text/plain": [
       "DeviceArray([1.4187064e-07, 1.4187854e-07, 1.4188628e-07, ...,\n",
       "             1.2130070e-07, 1.2123216e-07, 1.2117351e-07], dtype=float32)"
      ]
     },
     "execution_count": 18,
     "metadata": {},
     "output_type": "execute_result"
    }
   ],
   "source": [
    "Fx0"
   ]
  },
  {
   "cell_type": "code",
   "execution_count": 20,
   "metadata": {
    "scrolled": true
   },
   "outputs": [
    {
     "data": {
      "image/png": "[encoded data removed]",
      "text/plain": [
       "<Figure size 1080x360 with 2 Axes>"
      ]
     },
     "metadata": {
      "needs_background": "light"
     },
     "output_type": "display_data"
    }
   ],
   "source": [
    "dat=pd.read_csv(\"co_exojax/Gl229/Gl229B_spectrum_CO_CIA_Linear.dat\",delimiter=\" \",names=(\"WAV\",\"VAL\"))\n",
    "\n",
    "fig=plt.figure(figsize=(15,5))\n",
    "ax=fig.add_subplot(211)\n",
    "plt.plot(1.e7/nus,Fx0,lw=1,alpha=1.0,label=\"exojax\",color=\"gray\")\n",
    "#plt.plot(1.e4/nus,Fx0_direct,lw=1,alpha=1.0,label=\"exojax direct $\\mu=1$\",color=\"C2\")\n",
    "#plt.plot(dat[\"WAV\"],dat[\"VAL\"],lw=1,alpha=0.9,label=\"petitRadtran\")\n",
    "\n",
    "### ISO LINE\n",
    "if False:\n",
    "    Smax=(np.max(SijM,axis=0))\n",
    "    crit=-24\n",
    "    for iso in mdbCO.uniqiso:\n",
    "        mask=(mdbCO.isoid==iso)*(np.log10(Smax)>crit)\n",
    "        wiso=1.e4/nu0[mask]\n",
    "        for w in wiso:\n",
    "            plt.axvline(w,color=\"C\"+str(iso),alpha=0.1)\n",
    "\n",
    "    #iso just for label\n",
    "    for iso in mdbCO.uniqiso:\n",
    "        plt.axvline([1.0],color=\"C\"+str(iso),alpha=0.3,label=\"iso=\"+str(iso))\n",
    "###\n",
    "\n",
    "plt.xlim(2300,2400)\n",
    "#plt.yscale(\"log\")\n",
    "plt.ylim(0.0,2.e-7)\n",
    "plt.ylabel(\"Flux (erg/cm2/s/Hz)\")\n",
    "plt.title(\"HITEMP2019 CO+H2 CIA\")\n",
    "plt.legend()\n",
    "\n",
    "ax=fig.add_subplot(212)\n",
    "plt.plot(1.e7/nus,Fx0-dat[\"VAL\"][::-1],lw=1,alpha=1.0,label=\"exojax\",color=\"gray\")\n",
    "plt.ylim(-1.e-7,1.e-7)\n",
    "plt.xlim(2300,2400)\n",
    "plt.ylabel(\"exojax - petitRADTRANS\")\n",
    "plt.xlabel(\"wavelength (nm)\")\n",
    "plt.savefig(\"comp_petit_linear.png\", bbox_inches=\"tight\", pad_inches=0.0)\n",
    "plt.savefig(\"comp_petit_linear.pdf\", bbox_inches=\"tight\", pad_inches=0.0)"
   ]
  },
  {
   "cell_type": "code",
   "execution_count": null,
   "metadata": {},
   "outputs": [],
   "source": []
  }
 ],
 "metadata": {
  "kernelspec": {
   "display_name": "Python 3",
   "language": "python",
   "name": "python3"
  },
  "language_info": {
   "codemirror_mode": {
    "name": "ipython",
    "version": 3
   },
   "file_extension": ".py",
   "mimetype": "text/x-python",
   "name": "python",
   "nbconvert_exporter": "python",
   "pygments_lexer": "ipython3",
   "version": "3.7.3"
  }
 },
 "nbformat": 4,
 "nbformat_minor": 2
}
