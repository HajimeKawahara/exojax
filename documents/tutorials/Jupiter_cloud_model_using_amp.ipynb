{
 "cells": [
  {
   "cell_type": "markdown",
   "metadata": {},
   "source": [
    "# Jupiter-like Cloud Model and Reflection Spectrum "
   ]
  },
  {
   "cell_type": "code",
   "execution_count": 1,
   "metadata": {},
   "outputs": [],
   "source": [
    "import jax.numpy as jnp\n",
    "import matplotlib.pyplot as plt\n",
    "import numpy as np"
   ]
  },
  {
   "cell_type": "code",
   "execution_count": 2,
   "metadata": {},
   "outputs": [],
   "source": [
    "from exojax.utils.constants import kB, m_u\n",
    "from exojax.atm.atmprof import pressure_layer_logspace\n",
    "\n",
    "Parr, dParr, k = pressure_layer_logspace(log_pressure_top=-5., log_pressure_btm=4.0, nlayer=100)\n",
    "alpha = 0.097\n",
    "T0 = 200.\n",
    "Tarr = T0 * (Parr)**alpha\n",
    "\n",
    "mu = 2.0  # mean molecular weight\n",
    "R = kB / (mu * m_u)\n",
    "rho = Parr / (R * Tarr)\n"
   ]
  },
  {
   "cell_type": "code",
   "execution_count": 3,
   "metadata": {},
   "outputs": [],
   "source": [
    "from exojax.spec.pardb import PdbCloud\n",
    "from exojax.atm.atmphys import AmpAmcloud"
   ]
  },
  {
   "cell_type": "code",
   "execution_count": 4,
   "metadata": {},
   "outputs": [
    {
     "name": "stdout",
     "output_type": "stream",
     "text": [
      ".database/particulates/virga/virga.zip  exists. Remove it if you wanna re-download and unzip.\n",
      "Refractive index file found:  .database/particulates/virga/NH3.refrind\n"
     ]
    }
   ],
   "source": [
    "pdb_nh3 = PdbCloud(\"NH3\",bkgatm=\"H2\")\n",
    "ampcld_nh3 = AmpAmcloud(pdb_nh3)"
   ]
  },
  {
   "cell_type": "code",
   "execution_count": null,
   "metadata": {},
   "outputs": [],
   "source": [
    "ampcld_nh3"
   ]
  }
 ],
 "metadata": {
  "kernelspec": {
   "display_name": "base",
   "language": "python",
   "name": "python3"
  },
  "language_info": {
   "codemirror_mode": {
    "name": "ipython",
    "version": 3
   },
   "file_extension": ".py",
   "mimetype": "text/x-python",
   "name": "python",
   "nbconvert_exporter": "python",
   "pygments_lexer": "ipython3",
   "version": "3.10.9"
  }
 },
 "nbformat": 4,
 "nbformat_minor": 2
}
