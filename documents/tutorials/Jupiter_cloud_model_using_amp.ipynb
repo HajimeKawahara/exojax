{
 "cells": [
  {
   "cell_type": "markdown",
   "metadata": {},
   "source": [
    "# Jupiter-like Cloud Model and Reflection Spectrum "
   ]
  },
  {
   "cell_type": "code",
   "execution_count": 1,
   "metadata": {},
   "outputs": [],
   "source": [
    "import jax.numpy as jnp\n",
    "import matplotlib.pyplot as plt\n",
    "import numpy as np"
   ]
  },
  {
   "cell_type": "code",
   "execution_count": 6,
   "metadata": {},
   "outputs": [],
   "source": [
    "from exojax.utils.constants import kB, m_u\n",
    "from exojax.atm.atmprof import pressure_layer_logspace\n",
    "\n",
    "Parr, dParr, k = pressure_layer_logspace(log_pressure_top=-5., log_pressure_btm=4.0, nlayer=100)\n",
    "alpha = 0.097\n",
    "T0 = 200.\n",
    "Tarr = T0 * (Parr)**alpha\n",
    "\n",
    "mu = 2.0  # mean molecular weight\n",
    "R = kB / (mu * m_u)\n",
    "rho = Parr / (R * Tarr)\n",
    "\n",
    "g=1.e5\n"
   ]
  },
  {
   "cell_type": "code",
   "execution_count": 3,
   "metadata": {},
   "outputs": [],
   "source": [
    "from exojax.spec.pardb import PdbCloud\n",
    "from exojax.atm.atmphys import AmpAmcloud"
   ]
  },
  {
   "cell_type": "code",
   "execution_count": 4,
   "metadata": {},
   "outputs": [
    {
     "name": "stdout",
     "output_type": "stream",
     "text": [
      ".database/particulates/virga/virga.zip  exists. Remove it if you wanna re-download and unzip.\n",
      "Refractive index file found:  .database/particulates/virga/NH3.refrind\n"
     ]
    },
    {
     "name": "stderr",
     "output_type": "stream",
     "text": [
      "/home/kawahara/exojax/src/exojax/atm/atmphys.py:50: UserWarning: min temperature 65.4681396484375 K is smaller than min(vfactor t range) 179.10000610351562 K\n",
      "  warnings.warn(\n"
     ]
    }
   ],
   "source": [
    "pdb_nh3 = PdbCloud(\"NH3\")\n",
    "amp_nh3 = AmpAmcloud(pdb_nh3,bkgatm=\"H2\")\n",
    "amp_nh3.check_temperature_range(Tarr)"
   ]
  },
  {
   "cell_type": "code",
   "execution_count": 8,
   "metadata": {},
   "outputs": [
    {
     "ename": "AttributeError",
     "evalue": "'PdbCloud' object has no attribute 'rhoc'",
     "output_type": "error",
     "traceback": [
      "\u001b[0;31m---------------------------------------------------------------------------\u001b[0m",
      "\u001b[0;31mAttributeError\u001b[0m                            Traceback (most recent call last)",
      "\u001b[1;32m/home/kawahara/exojax/documents/tutorials/Jupiter_cloud_model_using_amp.ipynb Cell 6\u001b[0m line \u001b[0;36m1\n\u001b[0;32m----> <a href='vscode-notebook-cell:/home/kawahara/exojax/documents/tutorials/Jupiter_cloud_model_using_amp.ipynb#W5sZmlsZQ%3D%3D?line=0'>1</a>\u001b[0m amp_nh3\u001b[39m.\u001b[39;49mcalc_ammodel(Parr, Tarr, mu, g, fsed\u001b[39m=\u001b[39;49m\u001b[39m3.0\u001b[39;49m, sigmag\u001b[39m=\u001b[39;49m\u001b[39m2.0\u001b[39;49m, Kzz\u001b[39m=\u001b[39;49m\u001b[39m1.0e5\u001b[39;49m, VMR\u001b[39m=\u001b[39;49m\u001b[39m0.01\u001b[39;49m)\n",
      "File \u001b[0;32m~/exojax/src/exojax/atm/atmphys.py:83\u001b[0m, in \u001b[0;36mAmpAmcloud.calc_ammodel\u001b[0;34m(self, pressures, temperatures, mean_molecular_weight, gravity, fsed, sigmag, Kzz, VMR, alphav)\u001b[0m\n\u001b[1;32m     69\u001b[0m \u001b[39mdef\u001b[39;00m \u001b[39mcalc_ammodel\u001b[39m(\n\u001b[1;32m     70\u001b[0m     \u001b[39mself\u001b[39m,\n\u001b[1;32m     71\u001b[0m     pressures,\n\u001b[0;32m   (...)\u001b[0m\n\u001b[1;32m     80\u001b[0m ):\n\u001b[1;32m     81\u001b[0m     \u001b[39m# density difference\u001b[39;00m\n\u001b[1;32m     82\u001b[0m     rho \u001b[39m=\u001b[39m mean_molecular_weight \u001b[39m*\u001b[39m m_u \u001b[39m*\u001b[39m pressures \u001b[39m/\u001b[39m (kB \u001b[39m*\u001b[39m temperatures)\n\u001b[0;32m---> 83\u001b[0m     drho \u001b[39m=\u001b[39m \u001b[39mself\u001b[39;49m\u001b[39m.\u001b[39;49mpdb\u001b[39m.\u001b[39;49mrhoc \u001b[39m-\u001b[39m rho\n\u001b[1;32m     85\u001b[0m     \u001b[39m# saturation pressure\u001b[39;00m\n\u001b[1;32m     86\u001b[0m     psat \u001b[39m=\u001b[39m \u001b[39mself\u001b[39m\u001b[39m.\u001b[39mpdb\u001b[39m.\u001b[39msaturation_pressure(temperatures)\n",
      "\u001b[0;31mAttributeError\u001b[0m: 'PdbCloud' object has no attribute 'rhoc'"
     ]
    }
   ],
   "source": [
    "amp_nh3.calc_ammodel(Parr, Tarr, mu, g, fsed=3.0, sigmag=2.0, Kzz=1.0e5, VMR=0.01)"
   ]
  },
  {
   "cell_type": "code",
   "execution_count": null,
   "metadata": {},
   "outputs": [],
   "source": []
  }
 ],
 "metadata": {
  "kernelspec": {
   "display_name": "base",
   "language": "python",
   "name": "python3"
  },
  "language_info": {
   "codemirror_mode": {
    "name": "ipython",
    "version": 3
   },
   "file_extension": ".py",
   "mimetype": "text/x-python",
   "name": "python",
   "nbconvert_exporter": "python",
   "pygments_lexer": "ipython3",
   "version": "3.10.9"
  }
 },
 "nbformat": 4,
 "nbformat_minor": 2
}
