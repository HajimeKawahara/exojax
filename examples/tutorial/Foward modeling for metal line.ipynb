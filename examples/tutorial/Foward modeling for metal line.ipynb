{
 "cells": [
  {
   "cell_type": "markdown",
   "id": "ed0286c4",
   "metadata": {},
   "source": [
    "<div id=\"toc\"></div>"
   ]
  },
  {
   "cell_type": "code",
   "execution_count": 97,
   "id": "82e0f171",
   "metadata": {},
   "outputs": [
    {
     "data": {
      "application/javascript": [
       "$.getScript('https://kmahelona.github.io/ipython_notebook_goodies/ipython_notebook_toc.js')\n"
      ],
      "text/plain": [
       "<IPython.core.display.Javascript object>"
      ]
     },
     "metadata": {},
     "output_type": "display_data"
    }
   ],
   "source": [
    "%%javascript\n",
    "$.getScript('https://kmahelona.github.io/ipython_notebook_goodies/ipython_notebook_toc.js')"
   ]
  },
  {
   "cell_type": "markdown",
   "id": "d74a46bd",
   "metadata": {},
   "source": [
    "last update: 2021/12/02   \n",
    "created: : 2021/07/20\n",
    "\n",
    "<!-- \n",
    "written with reference to :  \n",
    "\"exojax/examples/tutorial/Forward\\ modeling.ipynb\"  \n",
    "\"ghR/exojax_0/examples/testlines/line_strength_CO.py\"  \n",
    "-->"
   ]
  },
  {
   "cell_type": "code",
   "execution_count": 98,
   "id": "8f4a6799",
   "metadata": {},
   "outputs": [
    {
     "name": "stdout",
     "output_type": "stream",
     "text": [
      "/home/tako/work\n"
     ]
    }
   ],
   "source": [
    "cd ~/work"
   ]
  },
  {
   "cell_type": "code",
   "execution_count": 99,
   "id": "d0df12a8",
   "metadata": {},
   "outputs": [
    {
     "name": "stdout",
     "output_type": "stream",
     "text": [
      "The autoreload extension is already loaded. To reload it, use:\n",
      "  %reload_ext autoreload\n"
     ]
    }
   ],
   "source": [
    "%load_ext autoreload\n",
    "%autoreload 2\n",
    "#↑Reload the imported module each time running\n",
    "from exojax.spec.rtransfer import nugrid\n",
    "from exojax.spec.rtransfer import pressure_layer \n",
    "from exojax.spec import moldb, molinfo, contdb\n",
    "from exojax.spec import atomll\n",
    "from exojax.spec.exomol import gamma_exomol\n",
    "from exojax.spec import SijT, doppler_sigma\n",
    "from exojax.spec import planck\n",
    "import jax.numpy as jnp\n",
    "from jax import vmap, jit\n",
    "import numpy as np"
   ]
  },
  {
   "cell_type": "markdown",
   "id": "7df9ff52",
   "metadata": {},
   "source": [
    "Set the path to save figures (optional)"
   ]
  },
  {
   "cell_type": "code",
   "execution_count": 100,
   "id": "fc73b487",
   "metadata": {},
   "outputs": [],
   "source": [
    "#import pathlib\n",
    "#path_fig = pathlib.Path('~/Dropbox/tmpfig')  #('/home/tako/work/fig')"
   ]
  },
  {
   "cell_type": "markdown",
   "id": "1e3bcbcc",
   "metadata": {},
   "source": [
    "## T-P profile "
   ]
  },
  {
   "cell_type": "code",
   "execution_count": 101,
   "id": "9f42554a",
   "metadata": {
    "scrolled": false
   },
   "outputs": [
    {
     "data": {
      "image/png": "[encoded data removed]",
      "text/plain": [
       "<Figure size 432x288 with 1 Axes>"
      ]
     },
     "metadata": {
      "needs_background": "light"
     },
     "output_type": "display_data"
    }
   ],
   "source": [
    "#Assume ATMOSPHERE                                                                     \n",
    "NP=100\n",
    "T0=3000. #10000. #3000. #1295.0 #K\n",
    "Parr, dParr, k=pressure_layer(NP=NP)\n",
    "H_He_HH_VMR = [0.0, 0.16, 0.84] #typical quasi-\"solar-fraction\"\n",
    "Tarr = T0*(Parr)**0.1\n",
    "\n",
    "PH = Parr* H_He_HH_VMR[0]\n",
    "PHe = Parr* H_He_HH_VMR[1]\n",
    "PHH = Parr* H_He_HH_VMR[2]\n",
    "\n",
    "#roughly based on \"p3200_g+5.0_m0.0_t01_st_z+0.00_a+0.00_c+0.00_n+0.00_o+0.00_r+0.00_s+0.00.mod\" of MARCS model atmosphere  \n",
    "#PH = 0.3 * Parr #H I\n",
    "#PHH = 0.6 * Parr #H2\n",
    "#PHe = 0.078 * Parr #He\n",
    "\n",
    "import matplotlib.pyplot as plt\n",
    "\n",
    "fig=plt.figure(figsize=(6,4))\n",
    "plt.plot(Tarr,Parr)\n",
    "plt.plot(Tarr, PH, '--'); plt.plot(Tarr, PHH, '--'); plt.plot(Tarr, PHe, '--')\n",
    "plt.plot(Tarr[80],Parr[80], marker='*', markersize=15)\n",
    "plt.yscale(\"log\")\n",
    "plt.gca().invert_yaxis()\n",
    "plt.show()"
   ]
  },
  {
   "cell_type": "markdown",
   "id": "fb345533",
   "metadata": {},
   "source": [
    "## Wavenumber"
   ]
  },
  {
   "cell_type": "code",
   "execution_count": 102,
   "id": "b94a6baa",
   "metadata": {},
   "outputs": [
    {
     "name": "stdout",
     "output_type": "stream",
     "text": [
      "xsmode assumes ESLOG: mode= lpf\n",
      "WARNING: resolution may be too small. R= 148636.36904020526\n"
     ]
    }
   ],
   "source": [
    "#We set a wavenumber grid using nugrid.\n",
    "\n",
    "nus,wav,res = nugrid(10380, 10450, 1000, unit=\"AA\") \n",
    "#nus,wav,res = nugrid(10380, 10750, 5000, unit=\"AA\")\n",
    "#nus,wav,res=nugrid(22920,23000,1000,unit=\"AA\")"
   ]
  },
  {
   "cell_type": "markdown",
   "id": "1f3be0d9",
   "metadata": {},
   "source": [
    "## Load a database of atomic lines from VALD3"
   ]
  },
  {
   "cell_type": "code",
   "execution_count": 103,
   "id": "91c057e3",
   "metadata": {},
   "outputs": [
    {
     "name": "stdout",
     "output_type": "stream",
     "text": [
      "Reading VALD file\n"
     ]
    }
   ],
   "source": [
    "#Loading a database of a few atomic lines from VALD3  #BU: CO and CIA (H2-H2)... \n",
    "\n",
    "nus4LL = 1e8/np.array([1e5, 1500.])\n",
    "valdlines = '/home/tako/work/VALD3/vald2600.gz'\n",
    "\n",
    "#adbFe=moldb.AdbVald('/home/tako/work/VALD3/HiroyukiIshikawa.4203812_test0724.ip', nus4LL, crit=1.e-100) #, crit=1.e-46)\n",
    "#adbFe = moldb.AdbVald(valdlines, nus4LL, crit=1.e-65)\n",
    "adbFe = moldb.AdbVald(valdlines, nus)"
   ]
  },
  {
   "cell_type": "code",
   "execution_count": 104,
   "id": "ba4cc53f",
   "metadata": {},
   "outputs": [
    {
     "name": "stdout",
     "output_type": "stream",
     "text": [
      "(227,)\n",
      "[26 26 26 26 26 26 26 26 26 26 26 26 26 26 26 26 26 26 26 26 26 26 26 26\n",
      " 26 26 26 26 26 26 26 26 26 26 26 26 26 26 26 26 26 26 26 26 26 26 26 26\n",
      " 26 26 26 26 26 26 26 26 26 26 26 26 26 26 26 26 26 26 26 26 26 26 26 26\n",
      " 26 26 26 26 26 26 26 26 26 26 26 26 26 26 26 26 26 26 26 26 26 26 26 26\n",
      " 26 26 26 26 26 26 26 26 26 26 26 26 26 26 26 26 26 26 26 26 26 26 26 26\n",
      " 26 26 26 26 26 26 26 26 26 26 26 26 26 26 26 26 26 26 26 26 26 26 26 26\n",
      " 26 26 26 26 26 26 26 26 26 26 26 26 26 26 26 26 26 26 26 26 26 26 26 26\n",
      " 26 26 26 26 26 26 26 26 26 26 26 26 26 26 26 26 26 26 26 26 26 26 26 26\n",
      " 26 26 26 26 26 26 26 26 26 26 26 26 26 26 26 26 26 26 26 26 26 26 26 26\n",
      " 26 26 26 26 26 26 26 26 26 26 26]\n",
      "[55.847 55.847 55.847 55.847 55.847 55.847 55.847 55.847 55.847 55.847\n",
      " 55.847 55.847 55.847 55.847 55.847 55.847 55.847 55.847 55.847 55.847\n",
      " 55.847 55.847 55.847 55.847 55.847 55.847 55.847 55.847 55.847 55.847\n",
      " 55.847 55.847 55.847 55.847 55.847 55.847 55.847 55.847 55.847 55.847\n",
      " 55.847 55.847 55.847 55.847 55.847 55.847 55.847 55.847 55.847 55.847\n",
      " 55.847 55.847 55.847 55.847 55.847 55.847 55.847 55.847 55.847 55.847\n",
      " 55.847 55.847 55.847 55.847 55.847 55.847 55.847 55.847 55.847 55.847\n",
      " 55.847 55.847 55.847 55.847 55.847 55.847 55.847 55.847 55.847 55.847\n",
      " 55.847 55.847 55.847 55.847 55.847 55.847 55.847 55.847 55.847 55.847\n",
      " 55.847 55.847 55.847 55.847 55.847 55.847 55.847 55.847 55.847 55.847\n",
      " 55.847 55.847 55.847 55.847 55.847 55.847 55.847 55.847 55.847 55.847\n",
      " 55.847 55.847 55.847 55.847 55.847 55.847 55.847 55.847 55.847 55.847\n",
      " 55.847 55.847 55.847 55.847 55.847 55.847 55.847 55.847 55.847 55.847\n",
      " 55.847 55.847 55.847 55.847 55.847 55.847 55.847 55.847 55.847 55.847\n",
      " 55.847 55.847 55.847 55.847 55.847 55.847 55.847 55.847 55.847 55.847\n",
      " 55.847 55.847 55.847 55.847 55.847 55.847 55.847 55.847 55.847 55.847\n",
      " 55.847 55.847 55.847 55.847 55.847 55.847 55.847 55.847 55.847 55.847\n",
      " 55.847 55.847 55.847 55.847 55.847 55.847 55.847 55.847 55.847 55.847\n",
      " 55.847 55.847 55.847 55.847 55.847 55.847 55.847 55.847 55.847 55.847\n",
      " 55.847 55.847 55.847 55.847 55.847 55.847 55.847 55.847 55.847 55.847\n",
      " 55.847 55.847 55.847 55.847 55.847 55.847 55.847 55.847 55.847 55.847\n",
      " 55.847 55.847 55.847 55.847 55.847 55.847 55.847 55.847 55.847 55.847\n",
      " 55.847 55.847 55.847 55.847 55.847 55.847 55.847]\n",
      "[10450.9665 10450.9174 10450.5078 10450.4925 10450.4281 10449.8264\n",
      " 10449.7914 10449.6516 10449.6014 10449.2182 10448.6013 10448.5107\n",
      " 10448.4648 10448.0882 10448.0172 10447.6789 10447.6756 10447.4071\n",
      " 10447.406  10447.1582 10446.8384 10446.8384 10446.2229 10446.1837\n",
      " 10445.9021 10445.8847 10445.6686 10445.5999 10445.5813 10445.5017\n",
      " 10445.4144 10445.4144 10444.3387 10444.3125 10443.9995 10443.958\n",
      " 10443.8381 10443.7606 10443.4116 10442.393  10442.1728 10442.1433\n",
      " 10440.9953 10440.2736 10438.8002 10438.3197 10438.2151 10438.0473\n",
      " 10437.9416 10437.7139 10437.6845 10437.4361 10437.3424 10437.2117\n",
      " 10437.0134 10437.0036 10436.2793 10436.0898 10436.0168 10435.9906\n",
      " 10435.8774 10435.7979 10435.702  10435.702  10435.6095 10435.2011\n",
      " 10435.2011 10435.1477 10435.0933 10434.9223 10434.6284 10434.5804\n",
      " 10434.5347 10434.5347 10434.5108 10434.2048 10434.0187 10433.7029\n",
      " 10433.519  10433.519  10433.3252 10432.6591 10432.5034 10431.3956\n",
      " 10431.1225 10430.5774 10430.0791 10429.9137 10429.3873 10429.3296\n",
      " 10429.0414 10428.8141 10428.54   10428.2681 10427.3841 10426.8644\n",
      " 10426.8187 10426.6502 10426.5991 10426.5002 10425.8838 10425.7729\n",
      " 10425.2099 10424.0395 10423.8037 10423.5614 10422.7325 10422.7227\n",
      " 10421.6104 10421.6104 10421.0294 10420.5657 10419.9935 10419.0001\n",
      " 10418.9502 10418.8383 10417.9385 10417.6715 10416.9792 10416.8772\n",
      " 10416.25   10416.071  10415.4179 10415.368  10415.3181 10414.4807\n",
      " 10414.4352 10414.4352 10413.8126 10413.6586 10413.522  10413.5155\n",
      " 10413.1717 10413.1717 10412.6502 10412.2783 10412.0019 10411.9726\n",
      " 10411.9325 10411.8707 10411.4208 10410.7922 10410.4746 10408.9532\n",
      " 10408.431  10407.8135 10407.1831 10407.0001 10406.8972 10406.7445\n",
      " 10406.6589 10406.5506 10406.5506 10406.4228 10406.3091 10406.0395\n",
      " 10405.9063 10405.863  10405.771  10405.5371 10405.3032 10405.1755\n",
      " 10405.1755 10405.0564 10405.0564 10404.8723 10404.5638 10403.9435\n",
      " 10403.6318 10403.1101 10402.8212 10402.6513 10401.4102 10401.1722\n",
      " 10401.0683 10400.8887 10400.654  10400.4907 10399.7757 10399.7443\n",
      " 10399.7443 10399.4426 10399.0273 10398.8694 10398.8554 10398.6434\n",
      " 10397.546  10396.7904 10396.5094 10396.2554 10395.729  10395.5388\n",
      " 10394.6744 10394.5695 10394.2119 10392.3669 10392.3615 10392.3183\n",
      " 10391.5915 10391.2233 10391.1963 10390.7051 10390.3358 10390.3293\n",
      " 10389.5672 10389.1355 10388.3703 10387.9386 10387.37   10386.9848\n",
      " 10386.9524 10386.7    10386.5478 10386.5187 10385.5921 10385.5328\n",
      " 10383.5992 10382.671  10382.5298 10382.1234 10381.8432 10381.2773\n",
      " 10381.2051 10380.9228 10380.8376 10380.0877 10379.7106]\n"
     ]
    }
   ],
   "source": [
    "#check\n",
    "print(adbFe.nu_lines.shape)\n",
    "#Fe I lines: \n",
    "#    crit=1.e-40→2842\n",
    "#    crit=1.e-46→3731\n",
    "#    crit=1.e-50→3938\n",
    "#    crit=1.e-60→6633\n",
    "#    crit=1.e-65→9237→RuntimeError; total allocation:   17.29GiB\n",
    "#    crit=1.e-70→12268→RuntimeError; total allocation:   22.95GiB\n",
    "#    crit=1.e-80→17603→RuntimeError; total allocation:   32.92GiB\n",
    "#    crit=1.e-100→26862→RuntimeError; total allocation:   50.23GiB\n",
    "\n",
    "print(adbFe.ielem)\n",
    "print(adbFe.atomicmass) #mass of each species\n",
    "print(1.e8/adbFe.nu_lines)"
   ]
  },
  {
   "cell_type": "markdown",
   "id": "d19c40e3",
   "metadata": {},
   "source": [
    "## Relative partition function"
   ]
  },
  {
   "cell_type": "code",
   "execution_count": 105,
   "id": "8cfac58a",
   "metadata": {},
   "outputs": [
    {
     "name": "stdout",
     "output_type": "stream",
     "text": [
      "(227, 100)\n"
     ]
    }
   ],
   "source": [
    "#Computing the relative partition function,\n",
    "\n",
    "qt_284=vmap(adbFe.QT_interp_284)(Tarr)\n",
    "qt = np.zeros([len(adbFe.QTmask), len(Tarr)])\n",
    "#qt = np.empty_like(adbFe.QTmask, dtype='object')\n",
    "for i, mask in enumerate(adbFe.QTmask):\n",
    "    qt[i] = qt_284[:,mask]  #e.g., qt_284[:,76] #Fe I\n",
    "qt = jnp.array(qt)\n",
    "\n",
    "print(qt.shape) #check"
   ]
  },
  {
   "cell_type": "markdown",
   "id": "03211469",
   "metadata": {},
   "source": [
    "## Pressure and Natural broadenings (Lorentzian width)  \n"
   ]
  },
  {
   "cell_type": "code",
   "execution_count": 106,
   "id": "86b06243",
   "metadata": {},
   "outputs": [
    {
     "name": "stdout",
     "output_type": "stream",
     "text": [
      "(100, 227)\n"
     ]
    }
   ],
   "source": [
    "gammaLMP = jit(vmap(atomll.gamma_vald3,(0,0,0,0,None,None,None,None,None,None,None,None,None,None,None)))\\\n",
    "        (Tarr, PH, PHH, PHe, adbFe.ielem, adbFe.iion, \\\n",
    "                adbFe.dev_nu_lines, adbFe.elower, adbFe.eupper, adbFe.atomicmass, adbFe.ionE, \\\n",
    "                adbFe.gamRad, adbFe.gamSta, adbFe.vdWdamp, 1.0)  \n",
    "\n",
    "print(gammaLMP.shape) #check"
   ]
  },
  {
   "cell_type": "markdown",
   "id": "92d2a9f9",
   "metadata": {},
   "source": [
    "## Doppler broadening"
   ]
  },
  {
   "cell_type": "code",
   "execution_count": 107,
   "id": "cdb9a41f",
   "metadata": {},
   "outputs": [
    {
     "name": "stdout",
     "output_type": "stream",
     "text": [
      "(227,) (100,) (227,)\n"
     ]
    }
   ],
   "source": [
    "from exojax.spec import doppler_sigma\n",
    "print(adbFe.nu_lines.shape, Tarr.shape, adbFe.atomicmass.shape)#check\n",
    "sigmaDM=jit(vmap(doppler_sigma,(None,0,None)))\\\n",
    "    (adbFe.nu_lines, Tarr, adbFe.atomicmass)"
   ]
  },
  {
   "cell_type": "markdown",
   "id": "040516c5",
   "metadata": {},
   "source": [
    "## Line strength"
   ]
  },
  {
   "cell_type": "code",
   "execution_count": 108,
   "id": "bd733b7d",
   "metadata": {},
   "outputs": [
    {
     "name": "stdout",
     "output_type": "stream",
     "text": [
      "(100,) (227,) (227,) (227,) (100, 227) (100, 227)\n"
     ]
    }
   ],
   "source": [
    "from exojax.spec import SijT\n",
    "SijM=jit(vmap(SijT,(0,None,None,None,0)))\\\n",
    "    (Tarr, adbFe.logsij0, adbFe.nu_lines, adbFe.elower, qt.T)\n",
    "\n",
    "print(Tarr.shape, adbFe.logsij0.shape, adbFe.nu_lines.shape, adbFe.elower.shape, qt.T.shape, SijM.shape) #check"
   ]
  },
  {
   "cell_type": "code",
   "execution_count": 109,
   "id": "c270f74c",
   "metadata": {},
   "outputs": [
    {
     "name": "stdout",
     "output_type": "stream",
     "text": [
      "(100, 227)\n"
     ]
    },
    {
     "data": {
      "text/plain": [
       "DeviceArray([[4.1403353e-28, 8.7309319e-26, 2.0505430e-27, ...,\n",
       "              4.4334768e-24, 9.0144515e-27, 1.1147735e-26],\n",
       "             [4.7398893e-28, 1.2630159e-25, 2.9080088e-27, ...,\n",
       "              5.9608188e-24, 1.3016313e-26, 1.5720890e-26],\n",
       "             [5.4056939e-28, 1.8103877e-25, 4.0882986e-27, ...,\n",
       "              7.9545941e-24, 1.8623943e-26, 2.1980682e-26],\n",
       "             [6.1422345e-28, 2.5718157e-25, 5.6988487e-27, ...,\n",
       "              1.0538008e-23, 2.6411581e-26, 3.0476818e-26],\n",
       "             [6.9538431e-28, 3.6216925e-25, 7.8779656e-27, ...,\n",
       "              1.3860920e-23, 3.7129674e-26, 4.1910297e-26]],            dtype=float32)"
      ]
     },
     "execution_count": 109,
     "metadata": {},
     "output_type": "execute_result"
    }
   ],
   "source": [
    "#check\n",
    "print(SijM.shape)\n",
    "SijM[-5:,:] #five deepest atmospheric layers"
   ]
  },
  {
   "cell_type": "markdown",
   "id": "641c7bcd",
   "metadata": {},
   "source": [
    "## nu matrix"
   ]
  },
  {
   "cell_type": "code",
   "execution_count": 110,
   "id": "be3d3cd3",
   "metadata": {},
   "outputs": [],
   "source": [
    "from exojax.spec import make_numatrix0\n",
    "numatrix=make_numatrix0(nus, adbFe.nu_lines)"
   ]
  },
  {
   "cell_type": "code",
   "execution_count": 111,
   "id": "c440a4ee",
   "metadata": {},
   "outputs": [
    {
     "data": {
      "text/plain": [
       "(227, 1000)"
      ]
     },
     "execution_count": 111,
     "metadata": {},
     "output_type": "execute_result"
    }
   ],
   "source": [
    "numatrix.shape"
   ]
  },
  {
   "cell_type": "markdown",
   "id": "ce3d1cff",
   "metadata": {},
   "source": [
    "## Compute dtau for each atomic species (or ion) in a SEPARATE array"
   ]
  },
  {
   "cell_type": "markdown",
   "id": "bd2ebe20",
   "metadata": {},
   "source": [
    "Separate species"
   ]
  },
  {
   "cell_type": "code",
   "execution_count": 112,
   "id": "5177f919",
   "metadata": {},
   "outputs": [],
   "source": [
    "def get_unique_list(seq):\n",
    "    seen = []\n",
    "    return [x for x in seq if x not in seen and not seen.append(x)]\n",
    "\n",
    "uspecies = get_unique_list(jnp.vstack([adbFe.ielem, adbFe.iion]).T.tolist())"
   ]
  },
  {
   "cell_type": "markdown",
   "id": "3b868ff6",
   "metadata": {},
   "source": [
    "Set the stellar/planetary parameters"
   ]
  },
  {
   "cell_type": "code",
   "execution_count": 113,
   "id": "be8acf41",
   "metadata": {},
   "outputs": [
    {
     "name": "stdout",
     "output_type": "stream",
     "text": [
      "logg: 4.849799190511717\n"
     ]
    }
   ],
   "source": [
    "#Parameters of Objects\n",
    "Rp = 0.36*10 #R_sun*10    #Rp=0.88 #[R_jup]\n",
    "Mp = 0.37*1e3 #M_sun*1e3    #Mp=33.2 #[M_jup]\n",
    "g = 2478.57730044555*Mp/Rp**2\n",
    "print('logg: '+str(np.log10(g))) #check\n",
    "#g=1.e5 #gravity cm/s2"
   ]
  },
  {
   "cell_type": "markdown",
   "id": "a1da54c7",
   "metadata": {},
   "source": [
    "Calculate delta tau"
   ]
  },
  {
   "cell_type": "code",
   "execution_count": 114,
   "id": "fce512a3",
   "metadata": {},
   "outputs": [
    {
     "data": {
      "image/png": "[encoded data removed]",
      "text/plain": [
       "<Figure size 432x72 with 1 Axes>"
      ]
     },
     "metadata": {
      "needs_background": "light"
     },
     "output_type": "display_data"
    },
    {
     "name": "stdout",
     "output_type": "stream",
     "text": [
      "(100,) (100, 1000) (100,)\n",
      "26 1 0.0012936727 55.847\n"
     ]
    }
   ],
   "source": [
    "#For now, ASSUME all atoms exist as neutral atoms. \n",
    "#In fact, we can't ignore the effect of molecular formation e.g. TiO (」゜□゜)」\n",
    "\n",
    "from exojax.spec.lpf import xsmatrix\n",
    "from exojax.spec.rtransfer import dtauM\n",
    "\n",
    "ieleml = jnp.array(adbFe.ipccd['ielem'])\n",
    "Narr = jnp.array(10**(12+adbFe.ipccd['solarA'])) #number density\n",
    "massarr = jnp.array(adbFe.ipccd['mass']) #mass of each neutral atom\n",
    "Nmassarr = Narr * massarr #mass of each neutral species\n",
    "\n",
    "dtaual = np.zeros([len(uspecies), len(Tarr), len(nus)])\n",
    "maskl = np.zeros(len(uspecies)).tolist()\n",
    "for i, sp in enumerate(uspecies):\n",
    "    maskl[i] = (adbFe.ielem==sp[0])\\\n",
    "                    *(adbFe.iion==sp[1])\n",
    "    \n",
    "    #Currently not dealing with ionized species yet... (#tako %\\\\\\\\20210814)\n",
    "    if sp[1] > 1:\n",
    "        continue\n",
    "     \n",
    "    #Providing numatrix, thermal broadening, gamma, and line strength, we can compute cross section.  \n",
    "    xsm=xsmatrix(numatrix[maskl[i]], sigmaDM.T[maskl[i]].T, gammaLMP.T[maskl[i]].T, SijM.T[maskl[i]].T)\n",
    "        #xsmatrix has the shape of (# of layers, # of nu grid)\n",
    "    ntmpf = 'tmp' + str(i) + '.pdf'\n",
    "    fig=plt.figure(figsize=(6,1))\n",
    "    plt.imshow(xsm, cmap=\"afmhot\")#, aspect=5.)\n",
    "    #plt.savefig(path_fig/ntmpf)\n",
    "    plt.show() \n",
    "    \n",
    "    #Computing delta tau for atomic absorption\n",
    "    MMR_X_I = Nmassarr[ jnp.where(ieleml==sp[0])[0][0] ] / jnp.sum(Nmassarr)\n",
    "    mass_X_I = massarr[ jnp.where(ieleml==sp[0])[0][0] ]\n",
    "    #    ↑MMR and mass of neutral atom X (if all elemental species are neutral)\n",
    "    dtaual[i] = dtauM(dParr, xsm, MMR_X_I*np.ones_like(Tarr), mass_X_I, g)\n",
    "\n",
    "    #check\n",
    "    print(dParr.shape, xsm.shape, (MMR_X_I*np.ones_like(Tarr)).shape)\n",
    "    print(sp[0], sp[1], MMR_X_I, mass_X_I)"
   ]
  },
  {
   "cell_type": "markdown",
   "id": "7490e3bf",
   "metadata": {},
   "source": [
    "compute delta tau for CIA"
   ]
  },
  {
   "cell_type": "code",
   "execution_count": 115,
   "id": "7dbcf408",
   "metadata": {},
   "outputs": [
    {
     "name": "stdout",
     "output_type": "stream",
     "text": [
      "H2-H2\n"
     ]
    }
   ],
   "source": [
    "cdbH2H2=contdb.CdbCIA('.database/H2-H2_2011.cia', nus)\n",
    "\n",
    "from exojax.spec.rtransfer import dtauCIA\n",
    "mmw=2.33 #mean molecular weight\n",
    "mmrH2=0.74\n",
    "molmassH2=molinfo.molmass(\"H2\")\n",
    "vmrH2=(mmrH2*mmw/molmassH2) #VMR\n",
    "dtaucH2H2=dtauCIA(nus,Tarr,Parr,dParr,vmrH2,vmrH2,\\\n",
    "            mmw,g,cdbH2H2.nucia,cdbH2H2.tcia,cdbH2H2.logac)"
   ]
  },
  {
   "cell_type": "markdown",
   "id": "f92626f5",
   "metadata": {},
   "source": [
    "## Total delta tau"
   ]
  },
  {
   "cell_type": "code",
   "execution_count": 116,
   "id": "3a2a5ae0",
   "metadata": {},
   "outputs": [],
   "source": [
    "dtau = np.sum(dtaual, axis=0) + dtaucH2H2"
   ]
  },
  {
   "cell_type": "markdown",
   "id": "db3cb7c7",
   "metadata": {},
   "source": [
    "## Plot contribution function"
   ]
  },
  {
   "cell_type": "code",
   "execution_count": 117,
   "id": "b91e4c66",
   "metadata": {},
   "outputs": [
    {
     "data": {
      "image/png": "[encoded data removed]",
      "text/plain": [
       "<Figure size 1440x216 with 3 Axes>"
      ]
     },
     "metadata": {
      "needs_background": "light"
     },
     "output_type": "display_data"
    }
   ],
   "source": [
    "from exojax.plot.atmplot import plotcf\n",
    "#fig=plt.figure(figsize=(3, 2))\n",
    "plotcf(nus,dtau,Tarr,Parr,dParr)\n",
    "plt.show()\n",
    "#plt.savefig(path_fig/'contributionf_210814_test1.pdf') #tako"
   ]
  },
  {
   "cell_type": "markdown",
   "id": "125f5be0",
   "metadata": {},
   "source": [
    "## Radiative transfer"
   ]
  },
  {
   "cell_type": "code",
   "execution_count": 118,
   "id": "d8b374d5",
   "metadata": {},
   "outputs": [],
   "source": [
    "from exojax.spec import planck\n",
    "from exojax.spec.rtransfer import rtrun\n",
    "sourcef = planck.piBarr(Tarr, nus)\n",
    "F0=rtrun(dtau, sourcef)"
   ]
  },
  {
   "cell_type": "code",
   "execution_count": 119,
   "id": "c99e5b61",
   "metadata": {},
   "outputs": [
    {
     "data": {
      "image/png": "[encoded data removed]",
      "text/plain": [
       "<Figure size 360x216 with 1 Axes>"
      ]
     },
     "metadata": {
      "needs_background": "light"
     },
     "output_type": "display_data"
    }
   ],
   "source": [
    "fig=plt.figure(figsize=(5, 3))\n",
    "plt.plot(wav[::-1],F0)\n",
    "plt.show()\n",
    "#plt.savefig(path_fig/'flux_210814_test2.pdf') #tako"
   ]
  },
  {
   "cell_type": "code",
   "execution_count": 120,
   "id": "a7550008",
   "metadata": {},
   "outputs": [
    {
     "name": "stdout",
     "output_type": "stream",
     "text": [
      "[26 26 26 26 26 26 26 26 26 26 26 26 26 26 26 26 26 26 26 26 26 26 26 26\n",
      " 26 26 26 26 26 26 26 26 26 26 26 26 26 26 26 26 26 26 26 26 26 26 26 26\n",
      " 26 26 26 26 26 26 26 26 26 26 26 26 26 26 26 26 26 26 26 26 26 26 26 26\n",
      " 26 26 26 26 26 26 26 26 26 26 26 26 26 26 26 26 26 26 26 26 26 26 26 26\n",
      " 26 26 26 26 26 26 26 26 26 26 26 26 26 26 26 26 26 26 26 26 26 26 26 26\n",
      " 26 26 26 26 26 26 26 26 26 26 26 26 26 26 26 26 26 26 26 26 26 26 26 26\n",
      " 26 26 26 26 26 26 26 26 26 26 26 26 26 26 26 26 26 26 26 26 26 26 26 26\n",
      " 26 26 26 26 26 26 26 26 26 26 26 26 26 26 26 26 26 26 26 26 26 26 26 26\n",
      " 26 26 26 26 26 26 26 26 26 26 26 26 26 26 26 26 26 26 26 26 26 26 26 26\n",
      " 26 26 26 26 26 26 26 26 26 26 26]\n",
      "[10450.9665 10450.9174 10450.5078 10450.4925 10450.4281 10449.8264\n",
      " 10449.7914 10449.6516 10449.6014 10449.2182 10448.6013 10448.5107\n",
      " 10448.4648 10448.0882 10448.0172 10447.6789 10447.6756 10447.4071\n",
      " 10447.406  10447.1582 10446.8384 10446.8384 10446.2229 10446.1837\n",
      " 10445.9021 10445.8847 10445.6686 10445.5999 10445.5813 10445.5017\n",
      " 10445.4144 10445.4144 10444.3387 10444.3125 10443.9995 10443.958\n",
      " 10443.8381 10443.7606 10443.4116 10442.393  10442.1728 10442.1433\n",
      " 10440.9953 10440.2736 10438.8002 10438.3197 10438.2151 10438.0473\n",
      " 10437.9416 10437.7139 10437.6845 10437.4361 10437.3424 10437.2117\n",
      " 10437.0134 10437.0036 10436.2793 10436.0898 10436.0168 10435.9906\n",
      " 10435.8774 10435.7979 10435.702  10435.702  10435.6095 10435.2011\n",
      " 10435.2011 10435.1477 10435.0933 10434.9223 10434.6284 10434.5804\n",
      " 10434.5347 10434.5347 10434.5108 10434.2048 10434.0187 10433.7029\n",
      " 10433.519  10433.519  10433.3252 10432.6591 10432.5034 10431.3956\n",
      " 10431.1225 10430.5774 10430.0791 10429.9137 10429.3873 10429.3296\n",
      " 10429.0414 10428.8141 10428.54   10428.2681 10427.3841 10426.8644\n",
      " 10426.8187 10426.6502 10426.5991 10426.5002 10425.8838 10425.7729\n",
      " 10425.2099 10424.0395 10423.8037 10423.5614 10422.7325 10422.7227\n",
      " 10421.6104 10421.6104 10421.0294 10420.5657 10419.9935 10419.0001\n",
      " 10418.9502 10418.8383 10417.9385 10417.6715 10416.9792 10416.8772\n",
      " 10416.25   10416.071  10415.4179 10415.368  10415.3181 10414.4807\n",
      " 10414.4352 10414.4352 10413.8126 10413.6586 10413.522  10413.5155\n",
      " 10413.1717 10413.1717 10412.6502 10412.2783 10412.0019 10411.9726\n",
      " 10411.9325 10411.8707 10411.4208 10410.7922 10410.4746 10408.9532\n",
      " 10408.431  10407.8135 10407.1831 10407.0001 10406.8972 10406.7445\n",
      " 10406.6589 10406.5506 10406.5506 10406.4228 10406.3091 10406.0395\n",
      " 10405.9063 10405.863  10405.771  10405.5371 10405.3032 10405.1755\n",
      " 10405.1755 10405.0564 10405.0564 10404.8723 10404.5638 10403.9435\n",
      " 10403.6318 10403.1101 10402.8212 10402.6513 10401.4102 10401.1722\n",
      " 10401.0683 10400.8887 10400.654  10400.4907 10399.7757 10399.7443\n",
      " 10399.7443 10399.4426 10399.0273 10398.8694 10398.8554 10398.6434\n",
      " 10397.546  10396.7904 10396.5094 10396.2554 10395.729  10395.5388\n",
      " 10394.6744 10394.5695 10394.2119 10392.3669 10392.3615 10392.3183\n",
      " 10391.5915 10391.2233 10391.1963 10390.7051 10390.3358 10390.3293\n",
      " 10389.5672 10389.1355 10388.3703 10387.9386 10387.37   10386.9848\n",
      " 10386.9524 10386.7    10386.5478 10386.5187 10385.5921 10385.5328\n",
      " 10383.5992 10382.671  10382.5298 10382.1234 10381.8432 10381.2773\n",
      " 10381.2051 10380.9228 10380.8376 10380.0877 10379.7106]\n"
     ]
    }
   ],
   "source": [
    "#Check line wavelength\n",
    "print(adbFe.ielem)\n",
    "print(1.e8/adbFe.nu_lines)"
   ]
  },
  {
   "cell_type": "markdown",
   "id": "0978b630",
   "metadata": {},
   "source": [
    "## Rotational & instrumental broadening"
   ]
  },
  {
   "cell_type": "code",
   "execution_count": 121,
   "id": "ca7cc545",
   "metadata": {},
   "outputs": [],
   "source": [
    "from exojax.spec import response\n",
    "from exojax.utils.constants import c #[km/s]\n",
    "import jax.numpy as jnp\n",
    "\n",
    "wavd=jnp.linspace(10380, 10450,500) #observational wavelength grid\n",
    "nusd = 1.e8/wavd[::-1]\n",
    "\n",
    "RV=10.0 #RV km/s\n",
    "vsini=20.0 #Vsini km/s\n",
    "u1=0.0 #limb darkening u1\n",
    "u2=0.0 #limb darkening u2\n",
    "\n",
    "R=100000.\n",
    "beta=c/(2.0*np.sqrt(2.0*np.log(2.0))*R) #IP sigma need check \n",
    "\n",
    "Frot=response.rigidrot(nus,F0,vsini,u1,u2)\n",
    "F=response.ipgauss_sampling(nusd,nus,Frot,beta,RV)"
   ]
  },
  {
   "cell_type": "code",
   "execution_count": 122,
   "id": "35aa7c0e",
   "metadata": {},
   "outputs": [
    {
     "data": {
      "image/png": "[encoded data removed]",
      "text/plain": [
       "<Figure size 360x216 with 1 Axes>"
      ]
     },
     "metadata": {
      "needs_background": "light"
     },
     "output_type": "display_data"
    }
   ],
   "source": [
    "fig=plt.figure(figsize=(5, 3))\n",
    "plt.plot(wav[::-1],F0, label='F0')\n",
    "plt.plot(wavd[::-1],F, label='F')\n",
    "plt.legend()\n",
    "plt.show()\n",
    "#plt.savefig(path_fig/'flux+rot_210814_test3_dtaual.pdf') #tako"
   ]
  },
  {
   "cell_type": "code",
   "execution_count": 123,
   "id": "31a79ebf",
   "metadata": {},
   "outputs": [],
   "source": [
    "from takopack.tako_util import nslack\n",
    "nslack('211202')"
   ]
  }
 ],
 "metadata": {
  "kernelspec": {
   "display_name": "Python 3 (ipykernel)",
   "language": "python",
   "name": "python3"
  },
  "language_info": {
   "codemirror_mode": {
    "name": "ipython",
    "version": 3
   },
   "file_extension": ".py",
   "mimetype": "text/x-python",
   "name": "python",
   "nbconvert_exporter": "python",
   "pygments_lexer": "ipython3",
   "version": "3.9.5"
  }
 },
 "nbformat": 4,
 "nbformat_minor": 5
}
